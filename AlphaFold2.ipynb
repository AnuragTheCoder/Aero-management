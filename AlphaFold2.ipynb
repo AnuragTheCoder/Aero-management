{
  "nbformat": 4,
  "nbformat_minor": 0,
  "metadata": {
    "accelerator": "GPU",
    "colab": {
      "provenance": [],
      "gpuType": "T4",
      "include_colab_link": true
    },
    "kernelspec": {
      "display_name": "Python 3",
      "name": "python3"
    },
    "language_info": {
      "codemirror_mode": {
        "name": "ipython",
        "version": 3
      },
      "file_extension": ".py",
      "mimetype": "text/x-python",
      "name": "python",
      "nbconvert_exporter": "python",
      "pygments_lexer": "ipython3",
      "version": "3.8.10"
    }
  },
  "cells": [
    {
      "cell_type": "markdown",
      "metadata": {
        "id": "view-in-github",
        "colab_type": "text"
      },
      "source": [
        "<a href=\"https://colab.research.google.com/github/AnuragTheCoder/Aero-management/blob/main/AlphaFold2.ipynb\" target=\"_parent\"><img src=\"https://colab.research.google.com/assets/colab-badge.svg\" alt=\"Open In Colab\"/></a>"
      ]
    },
    {
      "cell_type": "markdown",
      "metadata": {
        "id": "G4yBrceuFbf3"
      },
      "source": [
        "<img src=\"https://raw.githubusercontent.com/sokrypton/ColabFold/main/.github/ColabFold_Marv_Logo_Small.png\" height=\"200\" align=\"right\" style=\"height:240px\">\n",
        "\n",
        "##ColabFold v1.5.5: AlphaFold2 using MMseqs2\n",
        "\n",
        "Easy to use protein structure and complex prediction using [AlphaFold2](https://www.nature.com/articles/s41586-021-03819-2) and [Alphafold2-multimer](https://www.biorxiv.org/content/10.1101/2021.10.04.463034v1). Sequence alignments/templates are generated through [MMseqs2](mmseqs.com) and [HHsearch](https://github.com/soedinglab/hh-suite). For more details, see <a href=\"#Instructions\">bottom</a> of the notebook, checkout the [ColabFold GitHub](https://github.com/sokrypton/ColabFold) and [Nature Protocols](https://www.nature.com/articles/s41596-024-01060-5).\n",
        "\n",
        "Old versions: [v1.4](https://colab.research.google.com/github/sokrypton/ColabFold/blob/v1.4.0/AlphaFold2.ipynb), [v1.5.1](https://colab.research.google.com/github/sokrypton/ColabFold/blob/v1.5.1/AlphaFold2.ipynb), [v1.5.2](https://colab.research.google.com/github/sokrypton/ColabFold/blob/v1.5.2/AlphaFold2.ipynb), [v1.5.3-patch](https://colab.research.google.com/github/sokrypton/ColabFold/blob/56c72044c7d51a311ca99b953a71e552fdc042e1/AlphaFold2.ipynb)\n",
        "\n",
        "[Mirdita M, Schütze K, Moriwaki Y, Heo L, Ovchinnikov S, Steinegger M. ColabFold: Making protein folding accessible to all.\n",
        "*Nature Methods*, 2022](https://www.nature.com/articles/s41592-022-01488-1)"
      ]
    },
    {
      "cell_type": "code",
      "metadata": {
        "id": "kOblAo-xetgx",
        "outputId": "99c2eb44-4d79-4960-bd1e-5556282c0a43",
        "colab": {
          "base_uri": "https://localhost:8080/"
        }
      },
      "source": [
        "# STEP 1: Load CSV & prepare queries\n",
        "# =========================\n",
        "import os\n",
        "import re\n",
        "import hashlib\n",
        "import pandas as pd\n",
        "\n",
        "df = pd.read_csv(\"Secretory.csv\")\n",
        "\n",
        "# Column with protein sequences (update if needed)\n",
        "seq_col = \"Protein sequence\"\n",
        "\n",
        "sequences = df[seq_col].dropna().tolist()\n",
        "\n",
        "def add_hash(x, y):\n",
        "    return x + \"_\" + hashlib.sha1(y.encode()).hexdigest()[:5]\n",
        "\n",
        "# Write all sequences to queries file\n",
        "queries_path = \"all_queries.csv\"\n",
        "with open(queries_path, \"w\") as text_file:\n",
        "    text_file.write(\"id,sequence\\n\")\n",
        "    for i, seq in enumerate(sequences):\n",
        "        seq_id = f\"seq_{i+1}\"\n",
        "        seq = \"\".join(str(seq).split())  # clean\n",
        "        jobname = add_hash(seq_id, seq)\n",
        "        text_file.write(f\"{jobname},{seq}\\n\")\n",
        "\n",
        "print(f\"✅ Loaded {len(sequences)} sequences from Secretory.csv\")\n",
        "print(\"All sequences written to:\", queries_path)\n",
        "\n",
        "# Template/amber settings\n",
        "num_relax = 0\n",
        "template_mode = \"none\"\n",
        "if template_mode == \"pdb100\":\n",
        "    use_templates = True\n",
        "    custom_template_path = None\n",
        "elif template_mode == \"custom\":\n",
        "    custom_template_path = os.path.join(\"custom_template\")\n",
        "    os.makedirs(custom_template_path, exist_ok=True)\n",
        "    from google.colab import files\n",
        "    uploaded = files.upload()\n",
        "    use_templates = True\n",
        "    for fn in uploaded.keys():\n",
        "        os.rename(fn, os.path.join(custom_template_path, fn))\n",
        "else:\n",
        "    custom_template_path = None\n",
        "    use_templates = False"
      ],
      "execution_count": 3,
      "outputs": [
        {
          "output_type": "stream",
          "name": "stdout",
          "text": [
            "✅ Loaded 200 sequences from Secretory.csv\n",
            "All sequences written to: all_queries.csv\n"
          ]
        }
      ]
    },
    {
      "cell_type": "code",
      "source": [
        "python_version = \"3.10\"\n"
      ],
      "metadata": {
        "id": "kXl2sy8Yql2z"
      },
      "execution_count": 6,
      "outputs": []
    },
    {
      "cell_type": "code",
      "source": [
        "# Define configuration flags\n",
        "use_amber = True         # set to False if you don't want AMBER relaxation\n",
        "use_templates = True     # set to False if you don't want template search\n",
        "python_version = \"3.10\"  # match the Python runtime version in Colab\n"
      ],
      "metadata": {
        "id": "eWy--7uFqww2"
      },
      "execution_count": 8,
      "outputs": []
    },
    {
      "cell_type": "code",
      "source": [
        "#@title Install dependencies\n",
        "%%time\n",
        "import os\n",
        "USE_AMBER = use_amber\n",
        "USE_TEMPLATES = use_templates\n",
        "PYTHON_VERSION = python_version\n",
        "\n",
        "if not os.path.isfile(\"COLABFOLD_READY\"):\n",
        "  print(\"installing colabfold...\")\n",
        "  os.system(\"pip install -q --no-warn-conflicts 'colabfold[alphafold-minus-jax] @ git+https://github.com/sokrypton/ColabFold'\")\n",
        "  if os.environ.get('TPU_NAME', False) != False:\n",
        "    os.system(\"pip uninstall -y jax jaxlib\")\n",
        "    os.system(\"pip install --no-warn-conflicts --upgrade dm-haiku==0.0.10 'jax[cuda12_pip]'==0.3.25 -f https://storage.googleapis.com/jax-releases/jax_cuda_releases.html\")\n",
        "  os.system(\"ln -s /usr/local/lib/python3.*/dist-packages/colabfold colabfold\")\n",
        "  os.system(\"ln -s /usr/local/lib/python3.*/dist-packages/alphafold alphafold\")\n",
        "  # hack to fix TF crash\n",
        "  os.system(\"rm -f /usr/local/lib/python3.*/dist-packages/tensorflow/core/kernels/libtfkernel_sobol_op.so\")\n",
        "  os.system(\"touch COLABFOLD_READY\")\n",
        "\n",
        "if USE_AMBER or USE_TEMPLATES:\n",
        "  if not os.path.isfile(\"CONDA_READY\"):\n",
        "    print(\"installing conda...\")\n",
        "    os.system(\"wget -qnc https://github.com/conda-forge/miniforge/releases/latest/download/Miniforge3-Linux-x86_64.sh\")\n",
        "    os.system(\"bash Miniforge3-Linux-x86_64.sh -bfp /usr/local\")\n",
        "    os.system(\"mamba config --set auto_update_conda false\")\n",
        "    os.system(\"touch CONDA_READY\")\n",
        "\n",
        "if USE_TEMPLATES and not os.path.isfile(\"HH_READY\") and USE_AMBER and not os.path.isfile(\"AMBER_READY\"):\n",
        "  print(\"installing hhsuite and amber...\")\n",
        "  os.system(f\"mamba install -y -c conda-forge -c bioconda kalign2=2.04 hhsuite=3.3.0 openmm=8.2.0 python='{PYTHON_VERSION}' pdbfixer\")\n",
        "  os.system(\"touch HH_READY\")\n",
        "  os.system(\"touch AMBER_READY\")\n",
        "else:\n",
        "  if USE_TEMPLATES and not os.path.isfile(\"HH_READY\"):\n",
        "    print(\"installing hhsuite...\")\n",
        "    os.system(f\"mamba install -y -c conda-forge -c bioconda kalign2=2.04 hhsuite=3.3.0 python='{PYTHON_VERSION}'\")\n",
        "    os.system(\"touch HH_READY\")\n",
        "  if USE_AMBER and not os.path.isfile(\"AMBER_READY\"):\n",
        "    print(\"installing amber...\")\n",
        "    os.system(f\"mamba install -y -c conda-forge openmm=8.2.0 python='{PYTHON_VERSION}' pdbfixer\")\n",
        "    os.system(\"touch AMBER_READY\")"
      ],
      "metadata": {
        "id": "AzIKiDiCaHAn",
        "outputId": "76802916-636c-4e49-c3cc-0cc89fe1f65f",
        "colab": {
          "base_uri": "https://localhost:8080/"
        }
      },
      "execution_count": 9,
      "outputs": [
        {
          "output_type": "stream",
          "name": "stdout",
          "text": [
            "installing colabfold...\n",
            "installing conda...\n",
            "installing hhsuite and amber...\n",
            "CPU times: user 8.48 ms, sys: 353 µs, total: 8.84 ms\n",
            "Wall time: 1min 39s\n"
          ]
        }
      ]
    },
    {
      "cell_type": "code",
      "source": [
        "# STEP 2: MSA & Advanced Settings\n",
        "# =========================\n",
        "msa_mode = \"mmseqs2_uniref_env\"\n",
        "pair_mode = \"unpaired_paired\"\n",
        "\n",
        "model_type = \"auto\"\n",
        "num_recycles = 3\n",
        "recycle_early_stop_tolerance = None\n",
        "relax_max_iterations = 200\n",
        "pairing_strategy = \"greedy\"\n",
        "calc_extra_ptm = False\n",
        "max_msa = None\n",
        "num_seeds = 1\n",
        "use_dropout = False\n",
        "\n",
        "save_all = False\n",
        "save_recycles = False\n",
        "save_to_google_drive = False\n",
        "dpi = 200\n"
      ],
      "metadata": {
        "id": "rJXaIFB4rN6k"
      },
      "execution_count": 10,
      "outputs": []
    },
    {
      "cell_type": "code",
      "source": [
        "# STEP 3: Run Predictions\n",
        "# =========================\n",
        "import sys, warnings\n",
        "warnings.simplefilter(action='ignore', category=FutureWarning)\n",
        "from Bio import BiopythonDeprecationWarning\n",
        "warnings.simplefilter(action='ignore', category=BiopythonDeprecationWarning)\n",
        "from pathlib import Path\n",
        "from colabfold.download import download_alphafold_params\n",
        "from colabfold.utils import setup_logging\n",
        "from colabfold.batch import get_queries, run, set_model_type\n",
        "from colabfold.plot import plot_msa_v2\n",
        "\n",
        "import matplotlib.pyplot as plt\n",
        "from colabfold.colabfold import plot_protein\n",
        "\n",
        "def input_features_callback(input_features):\n",
        "    return\n",
        "\n",
        "def prediction_callback(protein_obj, length, prediction_result, input_features, mode):\n",
        "    return\n",
        "\n",
        "result_dir = \"results\"\n",
        "os.makedirs(result_dir, exist_ok=True)\n",
        "log_filename = os.path.join(result_dir, \"log.txt\")\n",
        "setup_logging(Path(log_filename))\n",
        "\n",
        "queries, is_complex = get_queries(queries_path)\n",
        "model_type = set_model_type(is_complex, model_type)\n",
        "\n",
        "download_alphafold_params(model_type, Path(\".\"))\n",
        "\n",
        "results = run(\n",
        "    queries=queries,\n",
        "    result_dir=result_dir,\n",
        "    use_templates=use_templates,\n",
        "    custom_template_path=custom_template_path,\n",
        "    num_relax=num_relax,\n",
        "    msa_mode=msa_mode,\n",
        "    model_type=model_type,\n",
        "    num_models=5,\n",
        "    num_recycles=num_recycles,\n",
        "    relax_max_iterations=relax_max_iterations,\n",
        "    recycle_early_stop_tolerance=recycle_early_stop_tolerance,\n",
        "    num_seeds=num_seeds,\n",
        "    use_dropout=use_dropout,\n",
        "    model_order=[1,2,3,4,5],\n",
        "    is_complex=is_complex,\n",
        "    data_dir=Path(\".\"),\n",
        "    keep_existing_results=False,\n",
        "    rank_by=\"auto\",\n",
        "    pair_mode=pair_mode,\n",
        "    pairing_strategy=pairing_strategy,\n",
        "    stop_at_score=100.0,\n",
        "    prediction_callback=prediction_callback,\n",
        "    dpi=dpi,\n",
        "    zip_results=False,\n",
        "    save_all=save_all,\n",
        "    max_msa=max_msa,\n",
        "    use_cluster_profile=True,\n",
        "    input_features_callback=input_features_callback,\n",
        "    save_recycles=save_recycles,\n",
        "    user_agent=\"colabfold/google-colab-main\",\n",
        "    calc_extra_ptm=calc_extra_ptm,\n",
        ")\n"
      ],
      "metadata": {
        "id": "Mcjtith9rOLp",
        "outputId": "100bffb0-bfff-4023-ab47-a4ac527e5266",
        "colab": {
          "base_uri": "https://localhost:8080/"
        }
      },
      "execution_count": null,
      "outputs": [
        {
          "output_type": "stream",
          "name": "stderr",
          "text": [
            "Downloading alphafold2_ptm weights to .: 100%|██████████| 3.47G/3.47G [00:20<00:00, 185MB/s]\n"
          ]
        },
        {
          "output_type": "stream",
          "name": "stdout",
          "text": [
            "2025-10-05 18:41:54,364 Running on GPU\n",
            "2025-10-05 18:41:54,753 Found 8 citations for tools or databases\n",
            "2025-10-05 18:41:54,754 Query 1/200: seq_53_d76d9 (length 24)\n"
          ]
        },
        {
          "output_type": "stream",
          "name": "stderr",
          "text": [
            "COMPLETE: 100%|██████████| 150/150 [elapsed: 00:00 remaining: 00:00]\n"
          ]
        },
        {
          "output_type": "stream",
          "name": "stdout",
          "text": [
            "2025-10-05 18:41:55,294 Sequence 0 found no templates\n",
            "2025-10-05 18:42:10,292 Padding length to 34\n",
            "2025-10-05 18:42:46,843 alphafold2_ptm_model_1_seed_000 recycle=0 pLDDT=88.1 pTM=0.297\n",
            "2025-10-05 18:43:19,829 alphafold2_ptm_model_1_seed_000 recycle=1 pLDDT=87 pTM=0.293 tol=0.0995\n",
            "2025-10-05 18:43:23,488 alphafold2_ptm_model_1_seed_000 recycle=2 pLDDT=87.6 pTM=0.298 tol=0.0339\n",
            "2025-10-05 18:43:27,137 alphafold2_ptm_model_1_seed_000 recycle=3 pLDDT=87.4 pTM=0.297 tol=0.03\n",
            "2025-10-05 18:43:27,138 alphafold2_ptm_model_1_seed_000 took 76.8s (3 recycles)\n",
            "2025-10-05 18:43:30,812 alphafold2_ptm_model_2_seed_000 recycle=0 pLDDT=88.7 pTM=0.302\n",
            "2025-10-05 18:43:34,478 alphafold2_ptm_model_2_seed_000 recycle=1 pLDDT=86.4 pTM=0.293 tol=0.104\n",
            "2025-10-05 18:43:38,149 alphafold2_ptm_model_2_seed_000 recycle=2 pLDDT=86.8 pTM=0.295 tol=0.0336\n",
            "2025-10-05 18:43:41,835 alphafold2_ptm_model_2_seed_000 recycle=3 pLDDT=86.4 pTM=0.295 tol=0.0237\n",
            "2025-10-05 18:43:41,835 alphafold2_ptm_model_2_seed_000 took 14.7s (3 recycles)\n",
            "2025-10-05 18:44:06,268 alphafold2_ptm_model_3_seed_000 recycle=0 pLDDT=89 pTM=0.291\n",
            "2025-10-05 18:44:30,850 alphafold2_ptm_model_3_seed_000 recycle=1 pLDDT=88.5 pTM=0.291 tol=0.0667\n",
            "2025-10-05 18:44:34,504 alphafold2_ptm_model_3_seed_000 recycle=2 pLDDT=89 pTM=0.294 tol=0.0162\n",
            "2025-10-05 18:44:38,176 alphafold2_ptm_model_3_seed_000 recycle=3 pLDDT=88.9 pTM=0.297 tol=0.0416\n",
            "2025-10-05 18:44:38,177 alphafold2_ptm_model_3_seed_000 took 56.3s (3 recycles)\n",
            "2025-10-05 18:44:41,855 alphafold2_ptm_model_4_seed_000 recycle=0 pLDDT=88.4 pTM=0.292\n",
            "2025-10-05 18:44:45,534 alphafold2_ptm_model_4_seed_000 recycle=1 pLDDT=87.4 pTM=0.292 tol=0.0633\n",
            "2025-10-05 18:44:49,207 alphafold2_ptm_model_4_seed_000 recycle=2 pLDDT=87.7 pTM=0.294 tol=0.0347\n",
            "2025-10-05 18:44:52,893 alphafold2_ptm_model_4_seed_000 recycle=3 pLDDT=87.6 pTM=0.295 tol=0.0274\n",
            "2025-10-05 18:44:52,894 alphafold2_ptm_model_4_seed_000 took 14.7s (3 recycles)\n",
            "2025-10-05 18:44:56,582 alphafold2_ptm_model_5_seed_000 recycle=0 pLDDT=89.1 pTM=0.298\n",
            "2025-10-05 18:45:00,280 alphafold2_ptm_model_5_seed_000 recycle=1 pLDDT=88.1 pTM=0.299 tol=0.0571\n",
            "2025-10-05 18:45:03,974 alphafold2_ptm_model_5_seed_000 recycle=2 pLDDT=88.3 pTM=0.301 tol=0.0279\n",
            "2025-10-05 18:45:07,678 alphafold2_ptm_model_5_seed_000 recycle=3 pLDDT=88.4 pTM=0.302 tol=0.025\n",
            "2025-10-05 18:45:07,679 alphafold2_ptm_model_5_seed_000 took 14.8s (3 recycles)\n",
            "2025-10-05 18:45:07,682 reranking models by 'plddt' metric\n",
            "2025-10-05 18:45:07,682 rank_001_alphafold2_ptm_model_3_seed_000 pLDDT=88.9 pTM=0.297\n",
            "2025-10-05 18:45:07,682 rank_002_alphafold2_ptm_model_5_seed_000 pLDDT=88.4 pTM=0.302\n",
            "2025-10-05 18:45:07,683 rank_003_alphafold2_ptm_model_4_seed_000 pLDDT=87.6 pTM=0.295\n",
            "2025-10-05 18:45:07,683 rank_004_alphafold2_ptm_model_1_seed_000 pLDDT=87.4 pTM=0.297\n",
            "2025-10-05 18:45:07,683 rank_005_alphafold2_ptm_model_2_seed_000 pLDDT=86.4 pTM=0.295\n",
            "2025-10-05 18:45:09,156 Query 2/200: seq_190_3b684 (length 25)\n"
          ]
        },
        {
          "output_type": "stream",
          "name": "stderr",
          "text": [
            "COMPLETE: 100%|██████████| 150/150 [elapsed: 00:00 remaining: 00:00]\n"
          ]
        },
        {
          "output_type": "stream",
          "name": "stdout",
          "text": [
            "2025-10-05 18:45:09,711 Sequence 0 found no templates\n",
            "2025-10-05 18:45:11,937 Padding length to 34\n",
            "2025-10-05 18:45:15,815 alphafold2_ptm_model_1_seed_000 recycle=0 pLDDT=87.1 pTM=0.333\n",
            "2025-10-05 18:45:19,536 alphafold2_ptm_model_1_seed_000 recycle=1 pLDDT=87.8 pTM=0.337 tol=0.0468\n",
            "2025-10-05 18:45:23,253 alphafold2_ptm_model_1_seed_000 recycle=2 pLDDT=87.6 pTM=0.339 tol=0.0583\n",
            "2025-10-05 18:45:26,973 alphafold2_ptm_model_1_seed_000 recycle=3 pLDDT=88.2 pTM=0.343 tol=0.0234\n",
            "2025-10-05 18:45:26,973 alphafold2_ptm_model_1_seed_000 took 15.0s (3 recycles)\n",
            "2025-10-05 18:45:30,696 alphafold2_ptm_model_2_seed_000 recycle=0 pLDDT=83.6 pTM=0.319\n",
            "2025-10-05 18:45:34,433 alphafold2_ptm_model_2_seed_000 recycle=1 pLDDT=84.4 pTM=0.325 tol=0.127\n",
            "2025-10-05 18:45:38,176 alphafold2_ptm_model_2_seed_000 recycle=2 pLDDT=84.5 pTM=0.326 tol=0.024\n",
            "2025-10-05 18:45:41,924 alphafold2_ptm_model_2_seed_000 recycle=3 pLDDT=84.8 pTM=0.33 tol=0.0249\n",
            "2025-10-05 18:45:41,925 alphafold2_ptm_model_2_seed_000 took 14.9s (3 recycles)\n",
            "2025-10-05 18:45:45,652 alphafold2_ptm_model_3_seed_000 recycle=0 pLDDT=89.4 pTM=0.325\n",
            "2025-10-05 18:45:49,389 alphafold2_ptm_model_3_seed_000 recycle=1 pLDDT=89.3 pTM=0.326 tol=0.0951\n",
            "2025-10-05 18:45:53,113 alphafold2_ptm_model_3_seed_000 recycle=2 pLDDT=90.1 pTM=0.334 tol=0.0264\n",
            "2025-10-05 18:45:56,851 alphafold2_ptm_model_3_seed_000 recycle=3 pLDDT=90.3 pTM=0.334 tol=0.0343\n",
            "2025-10-05 18:45:56,852 alphafold2_ptm_model_3_seed_000 took 14.9s (3 recycles)\n",
            "2025-10-05 18:46:00,584 alphafold2_ptm_model_4_seed_000 recycle=0 pLDDT=89.8 pTM=0.331\n",
            "2025-10-05 18:46:04,310 alphafold2_ptm_model_4_seed_000 recycle=1 pLDDT=90.3 pTM=0.332 tol=0.123\n",
            "2025-10-05 18:46:08,020 alphafold2_ptm_model_4_seed_000 recycle=2 pLDDT=91 pTM=0.344 tol=0.0407\n",
            "2025-10-05 18:46:11,743 alphafold2_ptm_model_4_seed_000 recycle=3 pLDDT=91.2 pTM=0.342 tol=0.0205\n",
            "2025-10-05 18:46:11,744 alphafold2_ptm_model_4_seed_000 took 14.9s (3 recycles)\n",
            "2025-10-05 18:46:15,457 alphafold2_ptm_model_5_seed_000 recycle=0 pLDDT=90.2 pTM=0.337\n",
            "2025-10-05 18:46:19,173 alphafold2_ptm_model_5_seed_000 recycle=1 pLDDT=89.9 pTM=0.337 tol=0.0646\n",
            "2025-10-05 18:46:22,884 alphafold2_ptm_model_5_seed_000 recycle=2 pLDDT=90.2 pTM=0.343 tol=0.0328\n",
            "2025-10-05 18:46:26,600 alphafold2_ptm_model_5_seed_000 recycle=3 pLDDT=90.9 pTM=0.346 tol=0.0204\n",
            "2025-10-05 18:46:26,600 alphafold2_ptm_model_5_seed_000 took 14.9s (3 recycles)\n",
            "2025-10-05 18:46:26,604 reranking models by 'plddt' metric\n",
            "2025-10-05 18:46:26,604 rank_001_alphafold2_ptm_model_4_seed_000 pLDDT=91.2 pTM=0.342\n",
            "2025-10-05 18:46:26,604 rank_002_alphafold2_ptm_model_5_seed_000 pLDDT=90.9 pTM=0.346\n",
            "2025-10-05 18:46:26,604 rank_003_alphafold2_ptm_model_3_seed_000 pLDDT=90.3 pTM=0.334\n",
            "2025-10-05 18:46:26,605 rank_004_alphafold2_ptm_model_1_seed_000 pLDDT=88.2 pTM=0.343\n",
            "2025-10-05 18:46:26,605 rank_005_alphafold2_ptm_model_2_seed_000 pLDDT=84.8 pTM=0.33\n",
            "2025-10-05 18:46:27,645 Query 3/200: seq_161_756e9 (length 26)\n"
          ]
        },
        {
          "output_type": "stream",
          "name": "stderr",
          "text": [
            "COMPLETE: 100%|██████████| 150/150 [elapsed: 00:00 remaining: 00:00]\n"
          ]
        },
        {
          "output_type": "stream",
          "name": "stdout",
          "text": [
            "2025-10-05 18:46:28,184 Sequence 0 found no templates\n",
            "2025-10-05 18:46:30,293 Padding length to 34\n",
            "2025-10-05 18:46:34,178 alphafold2_ptm_model_1_seed_000 recycle=0 pLDDT=88.4 pTM=0.359\n",
            "2025-10-05 18:46:37,908 alphafold2_ptm_model_1_seed_000 recycle=1 pLDDT=85.7 pTM=0.347 tol=0.0931\n",
            "2025-10-05 18:46:41,634 alphafold2_ptm_model_1_seed_000 recycle=2 pLDDT=83.6 pTM=0.336 tol=0.068\n",
            "2025-10-05 18:46:45,369 alphafold2_ptm_model_1_seed_000 recycle=3 pLDDT=83.9 pTM=0.335 tol=0.045\n",
            "2025-10-05 18:46:45,370 alphafold2_ptm_model_1_seed_000 took 15.1s (3 recycles)\n",
            "2025-10-05 18:46:49,106 alphafold2_ptm_model_2_seed_000 recycle=0 pLDDT=84.8 pTM=0.355\n",
            "2025-10-05 18:46:52,847 alphafold2_ptm_model_2_seed_000 recycle=1 pLDDT=83.5 pTM=0.354 tol=0.0814\n",
            "2025-10-05 18:46:56,595 alphafold2_ptm_model_2_seed_000 recycle=2 pLDDT=82.1 pTM=0.35 tol=0.0449\n",
            "2025-10-05 18:47:00,346 alphafold2_ptm_model_2_seed_000 recycle=3 pLDDT=81.9 pTM=0.344 tol=0.0315\n",
            "2025-10-05 18:47:00,347 alphafold2_ptm_model_2_seed_000 took 15.0s (3 recycles)\n",
            "2025-10-05 18:47:04,078 alphafold2_ptm_model_3_seed_000 recycle=0 pLDDT=89.3 pTM=0.346\n",
            "2025-10-05 18:47:07,801 alphafold2_ptm_model_3_seed_000 recycle=1 pLDDT=87.3 pTM=0.34 tol=0.116\n",
            "2025-10-05 18:47:11,519 alphafold2_ptm_model_3_seed_000 recycle=2 pLDDT=86.2 pTM=0.333 tol=0.068\n",
            "2025-10-05 18:47:15,243 alphafold2_ptm_model_3_seed_000 recycle=3 pLDDT=86.6 pTM=0.333 tol=0.0325\n",
            "2025-10-05 18:47:15,244 alphafold2_ptm_model_3_seed_000 took 14.9s (3 recycles)\n",
            "2025-10-05 18:47:18,962 alphafold2_ptm_model_4_seed_000 recycle=0 pLDDT=92 pTM=0.366\n",
            "2025-10-05 18:47:22,683 alphafold2_ptm_model_4_seed_000 recycle=1 pLDDT=89.1 pTM=0.352 tol=0.045\n",
            "2025-10-05 18:47:26,398 alphafold2_ptm_model_4_seed_000 recycle=2 pLDDT=88.6 pTM=0.353 tol=0.0188\n",
            "2025-10-05 18:47:30,112 alphafold2_ptm_model_4_seed_000 recycle=3 pLDDT=88.2 pTM=0.35 tol=0.02\n",
            "2025-10-05 18:47:30,112 alphafold2_ptm_model_4_seed_000 took 14.9s (3 recycles)\n",
            "2025-10-05 18:47:33,822 alphafold2_ptm_model_5_seed_000 recycle=0 pLDDT=89.1 pTM=0.351\n",
            "2025-10-05 18:47:37,538 alphafold2_ptm_model_5_seed_000 recycle=1 pLDDT=86.9 pTM=0.345 tol=0.0416\n",
            "2025-10-05 18:47:41,246 alphafold2_ptm_model_5_seed_000 recycle=2 pLDDT=86.9 pTM=0.345 tol=0.0288\n",
            "2025-10-05 18:47:44,956 alphafold2_ptm_model_5_seed_000 recycle=3 pLDDT=86.6 pTM=0.344 tol=0.0213\n",
            "2025-10-05 18:47:44,957 alphafold2_ptm_model_5_seed_000 took 14.8s (3 recycles)\n",
            "2025-10-05 18:47:44,960 reranking models by 'plddt' metric\n",
            "2025-10-05 18:47:44,960 rank_001_alphafold2_ptm_model_4_seed_000 pLDDT=88.2 pTM=0.35\n",
            "2025-10-05 18:47:44,961 rank_002_alphafold2_ptm_model_5_seed_000 pLDDT=86.6 pTM=0.344\n",
            "2025-10-05 18:47:44,961 rank_003_alphafold2_ptm_model_3_seed_000 pLDDT=86.6 pTM=0.333\n",
            "2025-10-05 18:47:44,961 rank_004_alphafold2_ptm_model_1_seed_000 pLDDT=83.9 pTM=0.335\n",
            "2025-10-05 18:47:44,961 rank_005_alphafold2_ptm_model_2_seed_000 pLDDT=81.9 pTM=0.344\n",
            "2025-10-05 18:47:45,938 Query 4/200: seq_6_43dc4 (length 29)\n"
          ]
        },
        {
          "output_type": "stream",
          "name": "stderr",
          "text": [
            "COMPLETE: 100%|██████████| 150/150 [elapsed: 00:00 remaining: 00:00]\n"
          ]
        },
        {
          "output_type": "stream",
          "name": "stdout",
          "text": [
            "2025-10-05 18:47:46,469 Sequence 0 found no templates\n",
            "2025-10-05 18:47:48,959 Padding length to 34\n",
            "2025-10-05 18:47:52,818 alphafold2_ptm_model_1_seed_000 recycle=0 pLDDT=90.8 pTM=0.412\n",
            "2025-10-05 18:47:56,543 alphafold2_ptm_model_1_seed_000 recycle=1 pLDDT=92.5 pTM=0.431 tol=0.0607\n",
            "2025-10-05 18:48:00,280 alphafold2_ptm_model_1_seed_000 recycle=2 pLDDT=92.9 pTM=0.438 tol=0.0499\n",
            "2025-10-05 18:48:04,018 alphafold2_ptm_model_1_seed_000 recycle=3 pLDDT=94 pTM=0.454 tol=0.0734\n",
            "2025-10-05 18:48:04,019 alphafold2_ptm_model_1_seed_000 took 15.1s (3 recycles)\n",
            "2025-10-05 18:48:07,759 alphafold2_ptm_model_2_seed_000 recycle=0 pLDDT=87.9 pTM=0.409\n",
            "2025-10-05 18:48:11,509 alphafold2_ptm_model_2_seed_000 recycle=1 pLDDT=86.8 pTM=0.413 tol=0.0591\n",
            "2025-10-05 18:48:15,260 alphafold2_ptm_model_2_seed_000 recycle=2 pLDDT=86.8 pTM=0.412 tol=0.0343\n",
            "2025-10-05 18:48:19,019 alphafold2_ptm_model_2_seed_000 recycle=3 pLDDT=87.6 pTM=0.424 tol=0.0533\n",
            "2025-10-05 18:48:19,020 alphafold2_ptm_model_2_seed_000 took 15.0s (3 recycles)\n",
            "2025-10-05 18:48:22,753 alphafold2_ptm_model_3_seed_000 recycle=0 pLDDT=90 pTM=0.391\n",
            "2025-10-05 18:48:26,485 alphafold2_ptm_model_3_seed_000 recycle=1 pLDDT=90.4 pTM=0.396 tol=0.0568\n",
            "2025-10-05 18:48:30,200 alphafold2_ptm_model_3_seed_000 recycle=2 pLDDT=89.8 pTM=0.393 tol=0.09\n",
            "2025-10-05 18:48:33,923 alphafold2_ptm_model_3_seed_000 recycle=3 pLDDT=90.7 pTM=0.406 tol=0.0667\n",
            "2025-10-05 18:48:33,924 alphafold2_ptm_model_3_seed_000 took 14.9s (3 recycles)\n",
            "2025-10-05 18:48:37,643 alphafold2_ptm_model_4_seed_000 recycle=0 pLDDT=92.6 pTM=0.424\n",
            "2025-10-05 18:48:41,364 alphafold2_ptm_model_4_seed_000 recycle=1 pLDDT=93.8 pTM=0.438 tol=0.0881\n",
            "2025-10-05 18:48:45,067 alphafold2_ptm_model_4_seed_000 recycle=2 pLDDT=93.8 pTM=0.44 tol=0.0429\n",
            "2025-10-05 18:48:48,784 alphafold2_ptm_model_4_seed_000 recycle=3 pLDDT=94.9 pTM=0.455 tol=0.0727\n",
            "2025-10-05 18:48:48,785 alphafold2_ptm_model_4_seed_000 took 14.9s (3 recycles)\n",
            "2025-10-05 18:48:52,497 alphafold2_ptm_model_5_seed_000 recycle=0 pLDDT=92.4 pTM=0.414\n",
            "2025-10-05 18:48:56,206 alphafold2_ptm_model_5_seed_000 recycle=1 pLDDT=92.3 pTM=0.426 tol=0.0505\n",
            "2025-10-05 18:48:59,914 alphafold2_ptm_model_5_seed_000 recycle=2 pLDDT=91.9 pTM=0.424 tol=0.0372\n",
            "2025-10-05 18:49:03,624 alphafold2_ptm_model_5_seed_000 recycle=3 pLDDT=93.2 pTM=0.447 tol=0.0792\n",
            "2025-10-05 18:49:03,625 alphafold2_ptm_model_5_seed_000 took 14.8s (3 recycles)\n",
            "2025-10-05 18:49:03,629 reranking models by 'plddt' metric\n",
            "2025-10-05 18:49:03,629 rank_001_alphafold2_ptm_model_4_seed_000 pLDDT=94.9 pTM=0.455\n",
            "2025-10-05 18:49:03,629 rank_002_alphafold2_ptm_model_1_seed_000 pLDDT=94 pTM=0.454\n",
            "2025-10-05 18:49:03,629 rank_003_alphafold2_ptm_model_5_seed_000 pLDDT=93.2 pTM=0.447\n",
            "2025-10-05 18:49:03,629 rank_004_alphafold2_ptm_model_3_seed_000 pLDDT=90.7 pTM=0.406\n",
            "2025-10-05 18:49:03,629 rank_005_alphafold2_ptm_model_2_seed_000 pLDDT=87.6 pTM=0.424\n",
            "2025-10-05 18:49:04,564 Query 5/200: seq_40_2751a (length 29)\n"
          ]
        },
        {
          "output_type": "stream",
          "name": "stderr",
          "text": [
            "COMPLETE: 100%|██████████| 150/150 [elapsed: 00:00 remaining: 00:00]\n"
          ]
        },
        {
          "output_type": "stream",
          "name": "stdout",
          "text": [
            "2025-10-05 18:49:05,120 Sequence 0 found no templates\n",
            "2025-10-05 18:49:07,161 Padding length to 34\n",
            "2025-10-05 18:49:11,031 alphafold2_ptm_model_1_seed_000 recycle=0 pLDDT=80.1 pTM=0.377\n",
            "2025-10-05 18:49:14,763 alphafold2_ptm_model_1_seed_000 recycle=1 pLDDT=81.6 pTM=0.396 tol=0.0759\n",
            "2025-10-05 18:49:18,500 alphafold2_ptm_model_1_seed_000 recycle=2 pLDDT=81.3 pTM=0.394 tol=0.0277\n",
            "2025-10-05 18:49:22,242 alphafold2_ptm_model_1_seed_000 recycle=3 pLDDT=81.6 pTM=0.393 tol=0.049\n",
            "2025-10-05 18:49:22,243 alphafold2_ptm_model_1_seed_000 took 15.1s (3 recycles)\n",
            "2025-10-05 18:49:25,993 alphafold2_ptm_model_2_seed_000 recycle=0 pLDDT=77.1 pTM=0.352\n",
            "2025-10-05 18:49:29,747 alphafold2_ptm_model_2_seed_000 recycle=1 pLDDT=78.2 pTM=0.37 tol=0.102\n",
            "2025-10-05 18:49:33,509 alphafold2_ptm_model_2_seed_000 recycle=2 pLDDT=78.1 pTM=0.37 tol=0.0494\n",
            "2025-10-05 18:49:37,279 alphafold2_ptm_model_2_seed_000 recycle=3 pLDDT=78 pTM=0.366 tol=0.0671\n",
            "2025-10-05 18:49:37,280 alphafold2_ptm_model_2_seed_000 took 15.0s (3 recycles)\n",
            "2025-10-05 18:49:41,025 alphafold2_ptm_model_3_seed_000 recycle=0 pLDDT=85.3 pTM=0.357\n",
            "2025-10-05 18:49:44,763 alphafold2_ptm_model_3_seed_000 recycle=1 pLDDT=84.8 pTM=0.361 tol=0.108\n",
            "2025-10-05 18:49:48,489 alphafold2_ptm_model_3_seed_000 recycle=2 pLDDT=84.9 pTM=0.365 tol=0.0637\n",
            "2025-10-05 18:49:52,219 alphafold2_ptm_model_3_seed_000 recycle=3 pLDDT=84.4 pTM=0.359 tol=0.0438\n",
            "2025-10-05 18:49:52,220 alphafold2_ptm_model_3_seed_000 took 14.9s (3 recycles)\n",
            "2025-10-05 18:49:55,945 alphafold2_ptm_model_4_seed_000 recycle=0 pLDDT=82.1 pTM=0.369\n",
            "2025-10-05 18:49:59,665 alphafold2_ptm_model_4_seed_000 recycle=1 pLDDT=83.9 pTM=0.385 tol=0.105\n",
            "2025-10-05 18:50:03,380 alphafold2_ptm_model_4_seed_000 recycle=2 pLDDT=84.8 pTM=0.391 tol=0.0353\n",
            "2025-10-05 18:50:07,097 alphafold2_ptm_model_4_seed_000 recycle=3 pLDDT=85.4 pTM=0.393 tol=0.0379\n",
            "2025-10-05 18:50:07,097 alphafold2_ptm_model_4_seed_000 took 14.9s (3 recycles)\n",
            "2025-10-05 18:50:10,812 alphafold2_ptm_model_5_seed_000 recycle=0 pLDDT=80.1 pTM=0.349\n",
            "2025-10-05 18:50:14,531 alphafold2_ptm_model_5_seed_000 recycle=1 pLDDT=80.2 pTM=0.354 tol=0.112\n",
            "2025-10-05 18:50:18,243 alphafold2_ptm_model_5_seed_000 recycle=2 pLDDT=80.8 pTM=0.357 tol=0.0533\n",
            "2025-10-05 18:50:21,956 alphafold2_ptm_model_5_seed_000 recycle=3 pLDDT=80.9 pTM=0.357 tol=0.0402\n",
            "2025-10-05 18:50:21,956 alphafold2_ptm_model_5_seed_000 took 14.9s (3 recycles)\n",
            "2025-10-05 18:50:21,960 reranking models by 'plddt' metric\n",
            "2025-10-05 18:50:21,960 rank_001_alphafold2_ptm_model_4_seed_000 pLDDT=85.4 pTM=0.393\n",
            "2025-10-05 18:50:21,960 rank_002_alphafold2_ptm_model_3_seed_000 pLDDT=84.4 pTM=0.359\n",
            "2025-10-05 18:50:21,961 rank_003_alphafold2_ptm_model_1_seed_000 pLDDT=81.6 pTM=0.393\n",
            "2025-10-05 18:50:21,961 rank_004_alphafold2_ptm_model_5_seed_000 pLDDT=80.9 pTM=0.357\n",
            "2025-10-05 18:50:21,961 rank_005_alphafold2_ptm_model_2_seed_000 pLDDT=78 pTM=0.366\n",
            "2025-10-05 18:50:22,914 Query 6/200: seq_45_3a75b (length 29)\n"
          ]
        },
        {
          "output_type": "stream",
          "name": "stderr",
          "text": [
            "COMPLETE: 100%|██████████| 150/150 [elapsed: 00:00 remaining: 00:00]\n"
          ]
        },
        {
          "output_type": "stream",
          "name": "stdout",
          "text": [
            "2025-10-05 18:50:23,453 Sequence 0 found no templates\n",
            "2025-10-05 18:50:26,746 Padding length to 34\n",
            "2025-10-05 18:50:30,598 alphafold2_ptm_model_1_seed_000 recycle=0 pLDDT=85.2 pTM=0.403\n",
            "2025-10-05 18:50:34,321 alphafold2_ptm_model_1_seed_000 recycle=1 pLDDT=84.5 pTM=0.401 tol=0.14\n",
            "2025-10-05 18:50:38,049 alphafold2_ptm_model_1_seed_000 recycle=2 pLDDT=84.5 pTM=0.403 tol=0.0632\n",
            "2025-10-05 18:50:41,792 alphafold2_ptm_model_1_seed_000 recycle=3 pLDDT=84 pTM=0.401 tol=0.0303\n",
            "2025-10-05 18:50:41,793 alphafold2_ptm_model_1_seed_000 took 15.0s (3 recycles)\n",
            "2025-10-05 18:50:45,541 alphafold2_ptm_model_2_seed_000 recycle=0 pLDDT=79.1 pTM=0.388\n",
            "2025-10-05 18:50:49,305 alphafold2_ptm_model_2_seed_000 recycle=1 pLDDT=78.4 pTM=0.389 tol=0.115\n",
            "2025-10-05 18:50:53,067 alphafold2_ptm_model_2_seed_000 recycle=2 pLDDT=78 pTM=0.387 tol=0.0365\n",
            "2025-10-05 18:50:56,826 alphafold2_ptm_model_2_seed_000 recycle=3 pLDDT=77.9 pTM=0.387 tol=0.0279\n",
            "2025-10-05 18:50:56,827 alphafold2_ptm_model_2_seed_000 took 15.0s (3 recycles)\n",
            "2025-10-05 18:51:00,570 alphafold2_ptm_model_3_seed_000 recycle=0 pLDDT=81.7 pTM=0.347\n",
            "2025-10-05 18:51:04,304 alphafold2_ptm_model_3_seed_000 recycle=1 pLDDT=82.8 pTM=0.367 tol=0.162\n",
            "2025-10-05 18:51:08,018 alphafold2_ptm_model_3_seed_000 recycle=2 pLDDT=82.7 pTM=0.362 tol=0.0409\n",
            "2025-10-05 18:51:11,740 alphafold2_ptm_model_3_seed_000 recycle=3 pLDDT=81.7 pTM=0.359 tol=0.0908\n",
            "2025-10-05 18:51:11,741 alphafold2_ptm_model_3_seed_000 took 14.9s (3 recycles)\n",
            "2025-10-05 18:51:15,454 alphafold2_ptm_model_4_seed_000 recycle=0 pLDDT=86.6 pTM=0.402\n",
            "2025-10-05 18:51:19,174 alphafold2_ptm_model_4_seed_000 recycle=1 pLDDT=86.5 pTM=0.406 tol=0.133\n",
            "2025-10-05 18:51:22,879 alphafold2_ptm_model_4_seed_000 recycle=2 pLDDT=85.8 pTM=0.402 tol=0.0323\n",
            "2025-10-05 18:51:26,589 alphafold2_ptm_model_4_seed_000 recycle=3 pLDDT=86.1 pTM=0.404 tol=0.0209\n",
            "2025-10-05 18:51:26,590 alphafold2_ptm_model_4_seed_000 took 14.8s (3 recycles)\n",
            "2025-10-05 18:51:30,301 alphafold2_ptm_model_5_seed_000 recycle=0 pLDDT=86.1 pTM=0.379\n",
            "2025-10-05 18:51:34,009 alphafold2_ptm_model_5_seed_000 recycle=1 pLDDT=86.1 pTM=0.386 tol=0.168\n",
            "2025-10-05 18:51:37,708 alphafold2_ptm_model_5_seed_000 recycle=2 pLDDT=84.9 pTM=0.377 tol=0.0773\n",
            "2025-10-05 18:51:41,415 alphafold2_ptm_model_5_seed_000 recycle=3 pLDDT=84.7 pTM=0.378 tol=0.0234\n",
            "2025-10-05 18:51:41,415 alphafold2_ptm_model_5_seed_000 took 14.8s (3 recycles)\n",
            "2025-10-05 18:51:41,419 reranking models by 'plddt' metric\n",
            "2025-10-05 18:51:41,419 rank_001_alphafold2_ptm_model_4_seed_000 pLDDT=86.1 pTM=0.404\n",
            "2025-10-05 18:51:41,420 rank_002_alphafold2_ptm_model_5_seed_000 pLDDT=84.7 pTM=0.378\n",
            "2025-10-05 18:51:41,420 rank_003_alphafold2_ptm_model_1_seed_000 pLDDT=84 pTM=0.401\n",
            "2025-10-05 18:51:41,420 rank_004_alphafold2_ptm_model_3_seed_000 pLDDT=81.7 pTM=0.359\n",
            "2025-10-05 18:51:41,420 rank_005_alphafold2_ptm_model_2_seed_000 pLDDT=77.9 pTM=0.387\n",
            "2025-10-05 18:51:42,398 Query 7/200: seq_70_083a9 (length 29)\n"
          ]
        },
        {
          "output_type": "stream",
          "name": "stderr",
          "text": [
            "COMPLETE: 100%|██████████| 150/150 [elapsed: 00:00 remaining: 00:00]\n"
          ]
        },
        {
          "output_type": "stream",
          "name": "stdout",
          "text": [
            "2025-10-05 18:51:42,944 Sequence 0 found no templates\n",
            "2025-10-05 18:51:45,098 Padding length to 34\n",
            "2025-10-05 18:51:48,979 alphafold2_ptm_model_1_seed_000 recycle=0 pLDDT=81.9 pTM=0.37\n",
            "2025-10-05 18:51:52,714 alphafold2_ptm_model_1_seed_000 recycle=1 pLDDT=80.6 pTM=0.366 tol=0.14\n",
            "2025-10-05 18:51:56,448 alphafold2_ptm_model_1_seed_000 recycle=2 pLDDT=80.9 pTM=0.373 tol=0.0454\n",
            "2025-10-05 18:52:00,191 alphafold2_ptm_model_1_seed_000 recycle=3 pLDDT=80.2 pTM=0.368 tol=0.0671\n",
            "2025-10-05 18:52:00,192 alphafold2_ptm_model_1_seed_000 took 15.1s (3 recycles)\n",
            "2025-10-05 18:52:03,938 alphafold2_ptm_model_2_seed_000 recycle=0 pLDDT=79.1 pTM=0.351\n",
            "2025-10-05 18:52:07,694 alphafold2_ptm_model_2_seed_000 recycle=1 pLDDT=77.8 pTM=0.355 tol=0.105\n",
            "2025-10-05 18:52:11,452 alphafold2_ptm_model_2_seed_000 recycle=2 pLDDT=78.2 pTM=0.363 tol=0.0406\n",
            "2025-10-05 18:52:15,216 alphafold2_ptm_model_2_seed_000 recycle=3 pLDDT=77.5 pTM=0.363 tol=0.0586\n",
            "2025-10-05 18:52:15,216 alphafold2_ptm_model_2_seed_000 took 15.0s (3 recycles)\n",
            "2025-10-05 18:52:18,954 alphafold2_ptm_model_3_seed_000 recycle=0 pLDDT=82.8 pTM=0.338\n",
            "2025-10-05 18:52:22,689 alphafold2_ptm_model_3_seed_000 recycle=1 pLDDT=82.6 pTM=0.344 tol=0.114\n",
            "2025-10-05 18:52:26,413 alphafold2_ptm_model_3_seed_000 recycle=2 pLDDT=83.4 pTM=0.352 tol=0.0789\n",
            "2025-10-05 18:52:30,138 alphafold2_ptm_model_3_seed_000 recycle=3 pLDDT=82.3 pTM=0.345 tol=0.0433\n",
            "2025-10-05 18:52:30,138 alphafold2_ptm_model_3_seed_000 took 14.9s (3 recycles)\n",
            "2025-10-05 18:52:33,859 alphafold2_ptm_model_4_seed_000 recycle=0 pLDDT=82.2 pTM=0.356\n",
            "2025-10-05 18:52:37,579 alphafold2_ptm_model_4_seed_000 recycle=1 pLDDT=81.6 pTM=0.363 tol=0.167\n",
            "2025-10-05 18:52:41,289 alphafold2_ptm_model_4_seed_000 recycle=2 pLDDT=83.2 pTM=0.375 tol=0.0511\n",
            "2025-10-05 18:52:45,008 alphafold2_ptm_model_4_seed_000 recycle=3 pLDDT=82.7 pTM=0.373 tol=0.0573\n",
            "2025-10-05 18:52:45,009 alphafold2_ptm_model_4_seed_000 took 14.9s (3 recycles)\n",
            "2025-10-05 18:52:48,727 alphafold2_ptm_model_5_seed_000 recycle=0 pLDDT=81.2 pTM=0.346\n",
            "2025-10-05 18:52:52,442 alphafold2_ptm_model_5_seed_000 recycle=1 pLDDT=79.8 pTM=0.346 tol=0.224\n",
            "2025-10-05 18:52:56,142 alphafold2_ptm_model_5_seed_000 recycle=2 pLDDT=81.1 pTM=0.355 tol=0.065\n",
            "2025-10-05 18:52:59,856 alphafold2_ptm_model_5_seed_000 recycle=3 pLDDT=81.1 pTM=0.355 tol=0.0305\n",
            "2025-10-05 18:52:59,856 alphafold2_ptm_model_5_seed_000 took 14.8s (3 recycles)\n",
            "2025-10-05 18:52:59,860 reranking models by 'plddt' metric\n",
            "2025-10-05 18:52:59,860 rank_001_alphafold2_ptm_model_4_seed_000 pLDDT=82.7 pTM=0.373\n",
            "2025-10-05 18:52:59,861 rank_002_alphafold2_ptm_model_3_seed_000 pLDDT=82.3 pTM=0.345\n",
            "2025-10-05 18:52:59,861 rank_003_alphafold2_ptm_model_5_seed_000 pLDDT=81.1 pTM=0.355\n",
            "2025-10-05 18:52:59,861 rank_004_alphafold2_ptm_model_1_seed_000 pLDDT=80.2 pTM=0.368\n",
            "2025-10-05 18:52:59,861 rank_005_alphafold2_ptm_model_2_seed_000 pLDDT=77.5 pTM=0.363\n",
            "2025-10-05 18:53:01,072 Query 8/200: seq_91_53bf9 (length 29)\n"
          ]
        },
        {
          "output_type": "stream",
          "name": "stderr",
          "text": [
            "COMPLETE: 100%|██████████| 150/150 [elapsed: 00:00 remaining: 00:00]\n"
          ]
        },
        {
          "output_type": "stream",
          "name": "stdout",
          "text": [
            "2025-10-05 18:53:01,631 Sequence 0 found no templates\n",
            "2025-10-05 18:53:03,929 Padding length to 34\n",
            "2025-10-05 18:53:07,797 alphafold2_ptm_model_1_seed_000 recycle=0 pLDDT=85.2 pTM=0.35\n",
            "2025-10-05 18:53:11,531 alphafold2_ptm_model_1_seed_000 recycle=1 pLDDT=87.1 pTM=0.372 tol=0.0824\n",
            "2025-10-05 18:53:15,269 alphafold2_ptm_model_1_seed_000 recycle=2 pLDDT=88 pTM=0.384 tol=0.0557\n",
            "2025-10-05 18:53:19,015 alphafold2_ptm_model_1_seed_000 recycle=3 pLDDT=88.3 pTM=0.389 tol=0.0302\n",
            "2025-10-05 18:53:19,015 alphafold2_ptm_model_1_seed_000 took 15.1s (3 recycles)\n",
            "2025-10-05 18:53:22,770 alphafold2_ptm_model_2_seed_000 recycle=0 pLDDT=84.3 pTM=0.35\n",
            "2025-10-05 18:53:26,530 alphafold2_ptm_model_2_seed_000 recycle=1 pLDDT=85.9 pTM=0.368 tol=0.0707\n",
            "2025-10-05 18:53:30,291 alphafold2_ptm_model_2_seed_000 recycle=2 pLDDT=86.1 pTM=0.374 tol=0.0394\n",
            "2025-10-05 18:53:34,057 alphafold2_ptm_model_2_seed_000 recycle=3 pLDDT=86.6 pTM=0.377 tol=0.05\n",
            "2025-10-05 18:53:34,057 alphafold2_ptm_model_2_seed_000 took 15.0s (3 recycles)\n",
            "2025-10-05 18:53:37,801 alphafold2_ptm_model_3_seed_000 recycle=0 pLDDT=87.8 pTM=0.35\n",
            "2025-10-05 18:53:41,531 alphafold2_ptm_model_3_seed_000 recycle=1 pLDDT=89.4 pTM=0.379 tol=0.0818\n",
            "2025-10-05 18:53:45,251 alphafold2_ptm_model_3_seed_000 recycle=2 pLDDT=89.9 pTM=0.385 tol=0.0341\n",
            "2025-10-05 18:53:48,982 alphafold2_ptm_model_3_seed_000 recycle=3 pLDDT=88.9 pTM=0.381 tol=0.0343\n",
            "2025-10-05 18:53:48,983 alphafold2_ptm_model_3_seed_000 took 14.9s (3 recycles)\n",
            "2025-10-05 18:53:52,709 alphafold2_ptm_model_4_seed_000 recycle=0 pLDDT=87.4 pTM=0.364\n",
            "2025-10-05 18:53:56,433 alphafold2_ptm_model_4_seed_000 recycle=1 pLDDT=88.9 pTM=0.387 tol=0.0848\n",
            "2025-10-05 18:54:00,140 alphafold2_ptm_model_4_seed_000 recycle=2 pLDDT=89.2 pTM=0.397 tol=0.0238\n",
            "2025-10-05 18:54:03,854 alphafold2_ptm_model_4_seed_000 recycle=3 pLDDT=89.6 pTM=0.404 tol=0.0741\n",
            "2025-10-05 18:54:03,854 alphafold2_ptm_model_4_seed_000 took 14.9s (3 recycles)\n",
            "2025-10-05 18:54:07,567 alphafold2_ptm_model_5_seed_000 recycle=0 pLDDT=86.9 pTM=0.366\n",
            "2025-10-05 18:54:11,282 alphafold2_ptm_model_5_seed_000 recycle=1 pLDDT=88.6 pTM=0.391 tol=0.0739\n",
            "2025-10-05 18:54:14,988 alphafold2_ptm_model_5_seed_000 recycle=2 pLDDT=89 pTM=0.396 tol=0.0311\n",
            "2025-10-05 18:54:18,708 alphafold2_ptm_model_5_seed_000 recycle=3 pLDDT=89.5 pTM=0.401 tol=0.0515\n",
            "2025-10-05 18:54:18,708 alphafold2_ptm_model_5_seed_000 took 14.9s (3 recycles)\n",
            "2025-10-05 18:54:18,712 reranking models by 'plddt' metric\n",
            "2025-10-05 18:54:18,712 rank_001_alphafold2_ptm_model_4_seed_000 pLDDT=89.6 pTM=0.404\n",
            "2025-10-05 18:54:18,712 rank_002_alphafold2_ptm_model_5_seed_000 pLDDT=89.5 pTM=0.401\n",
            "2025-10-05 18:54:18,712 rank_003_alphafold2_ptm_model_3_seed_000 pLDDT=88.9 pTM=0.381\n",
            "2025-10-05 18:54:18,712 rank_004_alphafold2_ptm_model_1_seed_000 pLDDT=88.3 pTM=0.389\n",
            "2025-10-05 18:54:18,712 rank_005_alphafold2_ptm_model_2_seed_000 pLDDT=86.6 pTM=0.377\n",
            "2025-10-05 18:54:19,655 Query 9/200: seq_99_9f7fb (length 30)\n"
          ]
        },
        {
          "output_type": "stream",
          "name": "stderr",
          "text": [
            "COMPLETE: 100%|██████████| 150/150 [elapsed: 00:00 remaining: 00:00]\n"
          ]
        },
        {
          "output_type": "stream",
          "name": "stdout",
          "text": [
            "2025-10-05 18:54:20,208 Sequence 0 found no templates\n",
            "2025-10-05 18:54:22,484 Padding length to 34\n",
            "2025-10-05 18:54:26,395 alphafold2_ptm_model_1_seed_000 recycle=0 pLDDT=82.2 pTM=0.367\n",
            "2025-10-05 18:54:30,172 alphafold2_ptm_model_1_seed_000 recycle=1 pLDDT=82 pTM=0.372 tol=0.217\n",
            "2025-10-05 18:54:33,951 alphafold2_ptm_model_1_seed_000 recycle=2 pLDDT=82.2 pTM=0.377 tol=0.0826\n",
            "2025-10-05 18:54:37,738 alphafold2_ptm_model_1_seed_000 recycle=3 pLDDT=82 pTM=0.376 tol=0.0886\n",
            "2025-10-05 18:54:37,739 alphafold2_ptm_model_1_seed_000 took 15.3s (3 recycles)\n",
            "2025-10-05 18:54:41,539 alphafold2_ptm_model_2_seed_000 recycle=0 pLDDT=80.6 pTM=0.358\n",
            "2025-10-05 18:54:45,343 alphafold2_ptm_model_2_seed_000 recycle=1 pLDDT=81 pTM=0.365 tol=0.258\n",
            "2025-10-05 18:54:49,144 alphafold2_ptm_model_2_seed_000 recycle=2 pLDDT=80.8 pTM=0.367 tol=0.133\n",
            "2025-10-05 18:54:52,958 alphafold2_ptm_model_2_seed_000 recycle=3 pLDDT=80.4 pTM=0.365 tol=0.112\n",
            "2025-10-05 18:54:52,959 alphafold2_ptm_model_2_seed_000 took 15.2s (3 recycles)\n",
            "2025-10-05 18:54:56,740 alphafold2_ptm_model_3_seed_000 recycle=0 pLDDT=84.9 pTM=0.385\n",
            "2025-10-05 18:55:00,522 alphafold2_ptm_model_3_seed_000 recycle=1 pLDDT=85.4 pTM=0.396 tol=0.247\n",
            "2025-10-05 18:55:04,287 alphafold2_ptm_model_3_seed_000 recycle=2 pLDDT=85.7 pTM=0.396 tol=0.143\n",
            "2025-10-05 18:55:08,051 alphafold2_ptm_model_3_seed_000 recycle=3 pLDDT=85.7 pTM=0.394 tol=0.0905\n",
            "2025-10-05 18:55:08,052 alphafold2_ptm_model_3_seed_000 took 15.1s (3 recycles)\n",
            "2025-10-05 18:55:11,812 alphafold2_ptm_model_4_seed_000 recycle=0 pLDDT=84.2 pTM=0.379\n",
            "2025-10-05 18:55:15,569 alphafold2_ptm_model_4_seed_000 recycle=1 pLDDT=84.6 pTM=0.392 tol=0.293\n",
            "2025-10-05 18:55:19,321 alphafold2_ptm_model_4_seed_000 recycle=2 pLDDT=84.8 pTM=0.394 tol=0.0855\n",
            "2025-10-05 18:55:23,076 alphafold2_ptm_model_4_seed_000 recycle=3 pLDDT=84.6 pTM=0.391 tol=0.0217\n",
            "2025-10-05 18:55:23,077 alphafold2_ptm_model_4_seed_000 took 15.0s (3 recycles)\n",
            "2025-10-05 18:55:26,833 alphafold2_ptm_model_5_seed_000 recycle=0 pLDDT=83.1 pTM=0.381\n",
            "2025-10-05 18:55:30,582 alphafold2_ptm_model_5_seed_000 recycle=1 pLDDT=83.2 pTM=0.39 tol=0.257\n",
            "2025-10-05 18:55:34,331 alphafold2_ptm_model_5_seed_000 recycle=2 pLDDT=83.1 pTM=0.388 tol=0.0743\n",
            "2025-10-05 18:55:38,082 alphafold2_ptm_model_5_seed_000 recycle=3 pLDDT=82.9 pTM=0.387 tol=0.125\n",
            "2025-10-05 18:55:38,083 alphafold2_ptm_model_5_seed_000 took 15.0s (3 recycles)\n",
            "2025-10-05 18:55:38,089 reranking models by 'plddt' metric\n",
            "2025-10-05 18:55:38,089 rank_001_alphafold2_ptm_model_3_seed_000 pLDDT=85.7 pTM=0.394\n",
            "2025-10-05 18:55:38,090 rank_002_alphafold2_ptm_model_4_seed_000 pLDDT=84.6 pTM=0.391\n",
            "2025-10-05 18:55:38,090 rank_003_alphafold2_ptm_model_5_seed_000 pLDDT=82.9 pTM=0.387\n",
            "2025-10-05 18:55:38,090 rank_004_alphafold2_ptm_model_1_seed_000 pLDDT=82 pTM=0.376\n",
            "2025-10-05 18:55:38,091 rank_005_alphafold2_ptm_model_2_seed_000 pLDDT=80.4 pTM=0.365\n",
            "2025-10-05 18:55:39,327 Query 10/200: seq_113_54c9a (length 30)\n"
          ]
        },
        {
          "output_type": "stream",
          "name": "stderr",
          "text": [
            "COMPLETE: 100%|██████████| 150/150 [elapsed: 00:00 remaining: 00:00]\n"
          ]
        },
        {
          "output_type": "stream",
          "name": "stdout",
          "text": [
            "2025-10-05 18:55:39,877 Sequence 0 found no templates\n",
            "2025-10-05 18:55:42,173 Padding length to 34\n",
            "2025-10-05 18:55:46,088 alphafold2_ptm_model_1_seed_000 recycle=0 pLDDT=81.9 pTM=0.363\n",
            "2025-10-05 18:55:49,860 alphafold2_ptm_model_1_seed_000 recycle=1 pLDDT=81.8 pTM=0.366 tol=0.156\n",
            "2025-10-05 18:55:53,641 alphafold2_ptm_model_1_seed_000 recycle=2 pLDDT=81.4 pTM=0.366 tol=0.108\n",
            "2025-10-05 18:55:57,428 alphafold2_ptm_model_1_seed_000 recycle=3 pLDDT=81.9 pTM=0.371 tol=0.0891\n",
            "2025-10-05 18:55:57,430 alphafold2_ptm_model_1_seed_000 took 15.3s (3 recycles)\n",
            "2025-10-05 18:56:01,231 alphafold2_ptm_model_2_seed_000 recycle=0 pLDDT=79.6 pTM=0.354\n",
            "2025-10-05 18:56:05,037 alphafold2_ptm_model_2_seed_000 recycle=1 pLDDT=79.6 pTM=0.361 tol=0.113\n",
            "2025-10-05 18:56:08,850 alphafold2_ptm_model_2_seed_000 recycle=2 pLDDT=79.8 pTM=0.362 tol=0.0656\n",
            "2025-10-05 18:56:12,662 alphafold2_ptm_model_2_seed_000 recycle=3 pLDDT=79.5 pTM=0.361 tol=0.0673\n",
            "2025-10-05 18:56:12,663 alphafold2_ptm_model_2_seed_000 took 15.2s (3 recycles)\n",
            "2025-10-05 18:56:16,446 alphafold2_ptm_model_3_seed_000 recycle=0 pLDDT=86.7 pTM=0.383\n",
            "2025-10-05 18:56:20,225 alphafold2_ptm_model_3_seed_000 recycle=1 pLDDT=87.8 pTM=0.394 tol=0.134\n",
            "2025-10-05 18:56:23,991 alphafold2_ptm_model_3_seed_000 recycle=2 pLDDT=87.8 pTM=0.397 tol=0.0519\n",
            "2025-10-05 18:56:27,764 alphafold2_ptm_model_3_seed_000 recycle=3 pLDDT=88 pTM=0.397 tol=0.0335\n",
            "2025-10-05 18:56:27,764 alphafold2_ptm_model_3_seed_000 took 15.1s (3 recycles)\n",
            "2025-10-05 18:56:31,528 alphafold2_ptm_model_4_seed_000 recycle=0 pLDDT=84.9 pTM=0.389\n",
            "2025-10-05 18:56:35,290 alphafold2_ptm_model_4_seed_000 recycle=1 pLDDT=85.1 pTM=0.395 tol=0.197\n",
            "2025-10-05 18:56:39,045 alphafold2_ptm_model_4_seed_000 recycle=2 pLDDT=84.8 pTM=0.393 tol=0.103\n",
            "2025-10-05 18:56:42,800 alphafold2_ptm_model_4_seed_000 recycle=3 pLDDT=84.8 pTM=0.393 tol=0.0601\n",
            "2025-10-05 18:56:42,801 alphafold2_ptm_model_4_seed_000 took 15.0s (3 recycles)\n",
            "2025-10-05 18:56:46,551 alphafold2_ptm_model_5_seed_000 recycle=0 pLDDT=82.9 pTM=0.389\n",
            "2025-10-05 18:56:50,302 alphafold2_ptm_model_5_seed_000 recycle=1 pLDDT=83.1 pTM=0.396 tol=0.352\n",
            "2025-10-05 18:56:54,051 alphafold2_ptm_model_5_seed_000 recycle=2 pLDDT=83.1 pTM=0.398 tol=0.198\n",
            "2025-10-05 18:56:57,801 alphafold2_ptm_model_5_seed_000 recycle=3 pLDDT=82.7 pTM=0.397 tol=0.178\n",
            "2025-10-05 18:56:57,801 alphafold2_ptm_model_5_seed_000 took 15.0s (3 recycles)\n",
            "2025-10-05 18:56:57,805 reranking models by 'plddt' metric\n",
            "2025-10-05 18:56:57,805 rank_001_alphafold2_ptm_model_3_seed_000 pLDDT=88 pTM=0.397\n",
            "2025-10-05 18:56:57,806 rank_002_alphafold2_ptm_model_4_seed_000 pLDDT=84.8 pTM=0.393\n",
            "2025-10-05 18:56:57,806 rank_003_alphafold2_ptm_model_5_seed_000 pLDDT=82.7 pTM=0.397\n",
            "2025-10-05 18:56:57,806 rank_004_alphafold2_ptm_model_1_seed_000 pLDDT=81.9 pTM=0.371\n",
            "2025-10-05 18:56:57,806 rank_005_alphafold2_ptm_model_2_seed_000 pLDDT=79.5 pTM=0.361\n",
            "2025-10-05 18:56:58,801 Query 11/200: seq_126_a54e6 (length 30)\n"
          ]
        },
        {
          "output_type": "stream",
          "name": "stderr",
          "text": [
            "COMPLETE: 100%|██████████| 150/150 [elapsed: 00:00 remaining: 00:00]\n"
          ]
        },
        {
          "output_type": "stream",
          "name": "stdout",
          "text": [
            "2025-10-05 18:56:59,336 Sequence 0 found no templates\n",
            "2025-10-05 18:57:01,821 Padding length to 34\n",
            "2025-10-05 18:57:05,711 alphafold2_ptm_model_1_seed_000 recycle=0 pLDDT=87.6 pTM=0.43\n",
            "2025-10-05 18:57:09,441 alphafold2_ptm_model_1_seed_000 recycle=1 pLDDT=87.9 pTM=0.432 tol=0.0718\n",
            "2025-10-05 18:57:13,181 alphafold2_ptm_model_1_seed_000 recycle=2 pLDDT=87.8 pTM=0.431 tol=0.0349\n",
            "2025-10-05 18:57:16,925 alphafold2_ptm_model_1_seed_000 recycle=3 pLDDT=87.4 pTM=0.428 tol=0.0246\n",
            "2025-10-05 18:57:16,925 alphafold2_ptm_model_1_seed_000 took 15.1s (3 recycles)\n",
            "2025-10-05 18:57:20,677 alphafold2_ptm_model_2_seed_000 recycle=0 pLDDT=84.9 pTM=0.421\n",
            "2025-10-05 18:57:24,434 alphafold2_ptm_model_2_seed_000 recycle=1 pLDDT=83.4 pTM=0.415 tol=0.105\n",
            "2025-10-05 18:57:28,204 alphafold2_ptm_model_2_seed_000 recycle=2 pLDDT=83.7 pTM=0.418 tol=0.0282\n",
            "2025-10-05 18:57:31,969 alphafold2_ptm_model_2_seed_000 recycle=3 pLDDT=83.1 pTM=0.411 tol=0.0343\n",
            "2025-10-05 18:57:31,970 alphafold2_ptm_model_2_seed_000 took 15.0s (3 recycles)\n",
            "2025-10-05 18:57:35,711 alphafold2_ptm_model_3_seed_000 recycle=0 pLDDT=90.3 pTM=0.432\n",
            "2025-10-05 18:57:39,449 alphafold2_ptm_model_3_seed_000 recycle=1 pLDDT=90.6 pTM=0.446 tol=0.0646\n",
            "2025-10-05 18:57:43,170 alphafold2_ptm_model_3_seed_000 recycle=2 pLDDT=90.9 pTM=0.445 tol=0.0559\n",
            "2025-10-05 18:57:46,898 alphafold2_ptm_model_3_seed_000 recycle=3 pLDDT=90.4 pTM=0.444 tol=0.0349\n",
            "2025-10-05 18:57:46,898 alphafold2_ptm_model_3_seed_000 took 14.9s (3 recycles)\n",
            "2025-10-05 18:57:50,624 alphafold2_ptm_model_4_seed_000 recycle=0 pLDDT=91.5 pTM=0.455\n",
            "2025-10-05 18:57:54,348 alphafold2_ptm_model_4_seed_000 recycle=1 pLDDT=91.6 pTM=0.456 tol=0.0938\n",
            "2025-10-05 18:57:58,060 alphafold2_ptm_model_4_seed_000 recycle=2 pLDDT=91.6 pTM=0.461 tol=0.0242\n",
            "2025-10-05 18:58:01,784 alphafold2_ptm_model_4_seed_000 recycle=3 pLDDT=91.2 pTM=0.459 tol=0.0413\n",
            "2025-10-05 18:58:01,785 alphafold2_ptm_model_4_seed_000 took 14.9s (3 recycles)\n",
            "2025-10-05 18:58:05,505 alphafold2_ptm_model_5_seed_000 recycle=0 pLDDT=89.5 pTM=0.448\n",
            "2025-10-05 18:58:09,222 alphafold2_ptm_model_5_seed_000 recycle=1 pLDDT=89.7 pTM=0.455 tol=0.0647\n",
            "2025-10-05 18:58:12,926 alphafold2_ptm_model_5_seed_000 recycle=2 pLDDT=89.3 pTM=0.454 tol=0.0413\n",
            "2025-10-05 18:58:16,637 alphafold2_ptm_model_5_seed_000 recycle=3 pLDDT=89.1 pTM=0.449 tol=0.0317\n",
            "2025-10-05 18:58:16,637 alphafold2_ptm_model_5_seed_000 took 14.8s (3 recycles)\n",
            "2025-10-05 18:58:16,641 reranking models by 'plddt' metric\n",
            "2025-10-05 18:58:16,641 rank_001_alphafold2_ptm_model_4_seed_000 pLDDT=91.2 pTM=0.459\n",
            "2025-10-05 18:58:16,641 rank_002_alphafold2_ptm_model_3_seed_000 pLDDT=90.4 pTM=0.444\n",
            "2025-10-05 18:58:16,642 rank_003_alphafold2_ptm_model_5_seed_000 pLDDT=89.1 pTM=0.449\n",
            "2025-10-05 18:58:16,642 rank_004_alphafold2_ptm_model_1_seed_000 pLDDT=87.4 pTM=0.428\n",
            "2025-10-05 18:58:16,642 rank_005_alphafold2_ptm_model_2_seed_000 pLDDT=83.1 pTM=0.411\n",
            "2025-10-05 18:58:17,620 Query 12/200: seq_133_0af2a (length 30)\n"
          ]
        },
        {
          "output_type": "stream",
          "name": "stderr",
          "text": [
            "COMPLETE: 100%|██████████| 150/150 [elapsed: 00:00 remaining: 00:00]\n"
          ]
        },
        {
          "output_type": "stream",
          "name": "stdout",
          "text": [
            "2025-10-05 18:58:18,357 Sequence 0 found no templates\n",
            "2025-10-05 18:58:21,531 Padding length to 34\n",
            "2025-10-05 18:58:25,441 alphafold2_ptm_model_1_seed_000 recycle=0 pLDDT=87.4 pTM=0.402\n",
            "2025-10-05 18:58:29,221 alphafold2_ptm_model_1_seed_000 recycle=1 pLDDT=85.8 pTM=0.398 tol=0.0961\n",
            "2025-10-05 18:58:33,016 alphafold2_ptm_model_1_seed_000 recycle=2 pLDDT=85.4 pTM=0.394 tol=0.0318\n",
            "2025-10-05 18:58:36,817 alphafold2_ptm_model_1_seed_000 recycle=3 pLDDT=85.6 pTM=0.397 tol=0.0249\n",
            "2025-10-05 18:58:36,818 alphafold2_ptm_model_1_seed_000 took 15.3s (3 recycles)\n",
            "2025-10-05 18:58:40,624 alphafold2_ptm_model_2_seed_000 recycle=0 pLDDT=85.9 pTM=0.395\n",
            "2025-10-05 18:58:44,441 alphafold2_ptm_model_2_seed_000 recycle=1 pLDDT=84.2 pTM=0.394 tol=0.103\n",
            "2025-10-05 18:58:48,259 alphafold2_ptm_model_2_seed_000 recycle=2 pLDDT=84.1 pTM=0.392 tol=0.0365\n",
            "2025-10-05 18:58:52,086 alphafold2_ptm_model_2_seed_000 recycle=3 pLDDT=83.6 pTM=0.391 tol=0.0323\n",
            "2025-10-05 18:58:52,087 alphafold2_ptm_model_2_seed_000 took 15.3s (3 recycles)\n",
            "2025-10-05 18:58:55,881 alphafold2_ptm_model_3_seed_000 recycle=0 pLDDT=91.8 pTM=0.43\n",
            "2025-10-05 18:58:59,671 alphafold2_ptm_model_3_seed_000 recycle=1 pLDDT=91.1 pTM=0.425 tol=0.0749\n",
            "2025-10-05 18:59:03,451 alphafold2_ptm_model_3_seed_000 recycle=2 pLDDT=91.1 pTM=0.425 tol=0.0301\n",
            "2025-10-05 18:59:07,233 alphafold2_ptm_model_3_seed_000 recycle=3 pLDDT=90.8 pTM=0.426 tol=0.0222\n",
            "2025-10-05 18:59:07,234 alphafold2_ptm_model_3_seed_000 took 15.1s (3 recycles)\n",
            "2025-10-05 18:59:11,011 alphafold2_ptm_model_4_seed_000 recycle=0 pLDDT=91.4 pTM=0.45\n",
            "2025-10-05 18:59:14,783 alphafold2_ptm_model_4_seed_000 recycle=1 pLDDT=90.8 pTM=0.448 tol=0.0908\n",
            "2025-10-05 18:59:18,546 alphafold2_ptm_model_4_seed_000 recycle=2 pLDDT=90.8 pTM=0.445 tol=0.0179\n",
            "2025-10-05 18:59:22,307 alphafold2_ptm_model_4_seed_000 recycle=3 pLDDT=90.2 pTM=0.445 tol=0.0195\n",
            "2025-10-05 18:59:22,308 alphafold2_ptm_model_4_seed_000 took 15.1s (3 recycles)\n",
            "2025-10-05 18:59:26,069 alphafold2_ptm_model_5_seed_000 recycle=0 pLDDT=91.3 pTM=0.441\n",
            "2025-10-05 18:59:29,839 alphafold2_ptm_model_5_seed_000 recycle=1 pLDDT=90.9 pTM=0.445 tol=0.0686\n",
            "2025-10-05 18:59:33,593 alphafold2_ptm_model_5_seed_000 recycle=2 pLDDT=91.2 pTM=0.448 tol=0.0282\n",
            "2025-10-05 18:59:37,361 alphafold2_ptm_model_5_seed_000 recycle=3 pLDDT=90.8 pTM=0.447 tol=0.0323\n",
            "2025-10-05 18:59:37,361 alphafold2_ptm_model_5_seed_000 took 15.0s (3 recycles)\n",
            "2025-10-05 18:59:37,365 reranking models by 'plddt' metric\n",
            "2025-10-05 18:59:37,365 rank_001_alphafold2_ptm_model_3_seed_000 pLDDT=90.8 pTM=0.426\n",
            "2025-10-05 18:59:37,366 rank_002_alphafold2_ptm_model_5_seed_000 pLDDT=90.8 pTM=0.447\n",
            "2025-10-05 18:59:37,366 rank_003_alphafold2_ptm_model_4_seed_000 pLDDT=90.2 pTM=0.445\n",
            "2025-10-05 18:59:37,366 rank_004_alphafold2_ptm_model_1_seed_000 pLDDT=85.6 pTM=0.397\n",
            "2025-10-05 18:59:37,366 rank_005_alphafold2_ptm_model_2_seed_000 pLDDT=83.6 pTM=0.391\n",
            "2025-10-05 18:59:38,553 Query 13/200: seq_144_1c47e (length 30)\n"
          ]
        },
        {
          "output_type": "stream",
          "name": "stderr",
          "text": [
            "COMPLETE: 100%|██████████| 150/150 [elapsed: 00:00 remaining: 00:00]\n"
          ]
        },
        {
          "output_type": "stream",
          "name": "stdout",
          "text": [
            "2025-10-05 18:59:39,102 Sequence 0 found no templates\n",
            "2025-10-05 18:59:41,543 Padding length to 34\n",
            "2025-10-05 18:59:45,415 alphafold2_ptm_model_1_seed_000 recycle=0 pLDDT=76.5 pTM=0.36\n",
            "2025-10-05 18:59:49,138 alphafold2_ptm_model_1_seed_000 recycle=1 pLDDT=75.6 pTM=0.36 tol=0.163\n",
            "2025-10-05 18:59:52,865 alphafold2_ptm_model_1_seed_000 recycle=2 pLDDT=75.7 pTM=0.365 tol=0.0891\n",
            "2025-10-05 18:59:56,608 alphafold2_ptm_model_1_seed_000 recycle=3 pLDDT=76.4 pTM=0.36 tol=0.158\n",
            "2025-10-05 18:59:56,609 alphafold2_ptm_model_1_seed_000 took 15.1s (3 recycles)\n",
            "2025-10-05 19:00:00,357 alphafold2_ptm_model_2_seed_000 recycle=0 pLDDT=72.3 pTM=0.351\n",
            "2025-10-05 19:00:04,119 alphafold2_ptm_model_2_seed_000 recycle=1 pLDDT=70.7 pTM=0.344 tol=0.179\n",
            "2025-10-05 19:00:07,877 alphafold2_ptm_model_2_seed_000 recycle=2 pLDDT=70.1 pTM=0.343 tol=0.108\n",
            "2025-10-05 19:00:11,641 alphafold2_ptm_model_2_seed_000 recycle=3 pLDDT=69.8 pTM=0.336 tol=0.132\n",
            "2025-10-05 19:00:11,641 alphafold2_ptm_model_2_seed_000 took 15.0s (3 recycles)\n",
            "2025-10-05 19:00:15,382 alphafold2_ptm_model_3_seed_000 recycle=0 pLDDT=79.1 pTM=0.349\n",
            "2025-10-05 19:00:19,123 alphafold2_ptm_model_3_seed_000 recycle=1 pLDDT=78 pTM=0.344 tol=0.255\n",
            "2025-10-05 19:00:22,840 alphafold2_ptm_model_3_seed_000 recycle=2 pLDDT=78.6 pTM=0.347 tol=0.195\n",
            "2025-10-05 19:00:26,564 alphafold2_ptm_model_3_seed_000 recycle=3 pLDDT=79.3 pTM=0.344 tol=0.133\n",
            "2025-10-05 19:00:26,564 alphafold2_ptm_model_3_seed_000 took 14.9s (3 recycles)\n",
            "2025-10-05 19:00:30,288 alphafold2_ptm_model_4_seed_000 recycle=0 pLDDT=79.6 pTM=0.362\n",
            "2025-10-05 19:00:34,008 alphafold2_ptm_model_4_seed_000 recycle=1 pLDDT=77.8 pTM=0.359 tol=0.191\n",
            "2025-10-05 19:00:37,710 alphafold2_ptm_model_4_seed_000 recycle=2 pLDDT=79.2 pTM=0.374 tol=0.0479\n",
            "2025-10-05 19:00:41,422 alphafold2_ptm_model_4_seed_000 recycle=3 pLDDT=79.7 pTM=0.371 tol=0.0404\n",
            "2025-10-05 19:00:41,423 alphafold2_ptm_model_4_seed_000 took 14.9s (3 recycles)\n",
            "2025-10-05 19:00:45,130 alphafold2_ptm_model_5_seed_000 recycle=0 pLDDT=80.5 pTM=0.372\n",
            "2025-10-05 19:00:48,842 alphafold2_ptm_model_5_seed_000 recycle=1 pLDDT=78.1 pTM=0.365 tol=0.132\n",
            "2025-10-05 19:00:52,542 alphafold2_ptm_model_5_seed_000 recycle=2 pLDDT=78.4 pTM=0.363 tol=0.158\n",
            "2025-10-05 19:00:56,249 alphafold2_ptm_model_5_seed_000 recycle=3 pLDDT=78.6 pTM=0.364 tol=0.118\n",
            "2025-10-05 19:00:56,250 alphafold2_ptm_model_5_seed_000 took 14.8s (3 recycles)\n",
            "2025-10-05 19:00:56,253 reranking models by 'plddt' metric\n",
            "2025-10-05 19:00:56,253 rank_001_alphafold2_ptm_model_4_seed_000 pLDDT=79.7 pTM=0.371\n",
            "2025-10-05 19:00:56,254 rank_002_alphafold2_ptm_model_3_seed_000 pLDDT=79.3 pTM=0.344\n",
            "2025-10-05 19:00:56,254 rank_003_alphafold2_ptm_model_5_seed_000 pLDDT=78.6 pTM=0.364\n",
            "2025-10-05 19:00:56,254 rank_004_alphafold2_ptm_model_1_seed_000 pLDDT=76.4 pTM=0.36\n",
            "2025-10-05 19:00:56,254 rank_005_alphafold2_ptm_model_2_seed_000 pLDDT=69.8 pTM=0.336\n",
            "2025-10-05 19:00:57,292 Query 14/200: seq_145_14688 (length 30)\n"
          ]
        },
        {
          "output_type": "stream",
          "name": "stderr",
          "text": [
            "COMPLETE: 100%|██████████| 150/150 [elapsed: 00:00 remaining: 00:00]\n"
          ]
        },
        {
          "output_type": "stream",
          "name": "stdout",
          "text": [
            "2025-10-05 19:00:58,028 Sequence 0 found no templates\n",
            "2025-10-05 19:01:00,417 Padding length to 34\n",
            "2025-10-05 19:01:04,339 alphafold2_ptm_model_1_seed_000 recycle=0 pLDDT=81.4 pTM=0.39\n",
            "2025-10-05 19:01:08,119 alphafold2_ptm_model_1_seed_000 recycle=1 pLDDT=80.9 pTM=0.391 tol=0.188\n",
            "2025-10-05 19:01:11,911 alphafold2_ptm_model_1_seed_000 recycle=2 pLDDT=80.6 pTM=0.39 tol=0.0592\n",
            "2025-10-05 19:01:15,706 alphafold2_ptm_model_1_seed_000 recycle=3 pLDDT=80.6 pTM=0.39 tol=0.0743\n",
            "2025-10-05 19:01:15,707 alphafold2_ptm_model_1_seed_000 took 15.3s (3 recycles)\n",
            "2025-10-05 19:01:19,523 alphafold2_ptm_model_2_seed_000 recycle=0 pLDDT=80.2 pTM=0.378\n",
            "2025-10-05 19:01:23,336 alphafold2_ptm_model_2_seed_000 recycle=1 pLDDT=80.1 pTM=0.387 tol=0.188\n",
            "2025-10-05 19:01:27,162 alphafold2_ptm_model_2_seed_000 recycle=2 pLDDT=79.5 pTM=0.383 tol=0.0782\n",
            "2025-10-05 19:01:30,985 alphafold2_ptm_model_2_seed_000 recycle=3 pLDDT=79 pTM=0.38 tol=0.0692\n",
            "2025-10-05 19:01:30,986 alphafold2_ptm_model_2_seed_000 took 15.3s (3 recycles)\n",
            "2025-10-05 19:01:34,782 alphafold2_ptm_model_3_seed_000 recycle=0 pLDDT=84.5 pTM=0.394\n",
            "2025-10-05 19:01:38,575 alphafold2_ptm_model_3_seed_000 recycle=1 pLDDT=84.7 pTM=0.402 tol=0.122\n",
            "2025-10-05 19:01:42,349 alphafold2_ptm_model_3_seed_000 recycle=2 pLDDT=84.3 pTM=0.4 tol=0.0805\n",
            "2025-10-05 19:01:46,130 alphafold2_ptm_model_3_seed_000 recycle=3 pLDDT=84.4 pTM=0.402 tol=0.049\n",
            "2025-10-05 19:01:46,131 alphafold2_ptm_model_3_seed_000 took 15.1s (3 recycles)\n",
            "2025-10-05 19:01:49,901 alphafold2_ptm_model_4_seed_000 recycle=0 pLDDT=82.5 pTM=0.403\n",
            "2025-10-05 19:01:53,674 alphafold2_ptm_model_4_seed_000 recycle=1 pLDDT=82.6 pTM=0.407 tol=0.096\n",
            "2025-10-05 19:01:57,438 alphafold2_ptm_model_4_seed_000 recycle=2 pLDDT=82.4 pTM=0.404 tol=0.0627\n",
            "2025-10-05 19:02:01,206 alphafold2_ptm_model_4_seed_000 recycle=3 pLDDT=82.1 pTM=0.405 tol=0.0503\n",
            "2025-10-05 19:02:01,207 alphafold2_ptm_model_4_seed_000 took 15.1s (3 recycles)\n",
            "2025-10-05 19:02:04,970 alphafold2_ptm_model_5_seed_000 recycle=0 pLDDT=82.9 pTM=0.4\n",
            "2025-10-05 19:02:08,740 alphafold2_ptm_model_5_seed_000 recycle=1 pLDDT=81.9 pTM=0.408 tol=0.284\n",
            "2025-10-05 19:02:12,493 alphafold2_ptm_model_5_seed_000 recycle=2 pLDDT=81.9 pTM=0.402 tol=0.544\n",
            "2025-10-05 19:02:16,270 alphafold2_ptm_model_5_seed_000 recycle=3 pLDDT=81.9 pTM=0.402 tol=0.252\n",
            "2025-10-05 19:02:16,271 alphafold2_ptm_model_5_seed_000 took 15.1s (3 recycles)\n",
            "2025-10-05 19:02:16,283 reranking models by 'plddt' metric\n",
            "2025-10-05 19:02:16,283 rank_001_alphafold2_ptm_model_3_seed_000 pLDDT=84.4 pTM=0.402\n",
            "2025-10-05 19:02:16,284 rank_002_alphafold2_ptm_model_4_seed_000 pLDDT=82.1 pTM=0.405\n",
            "2025-10-05 19:02:16,284 rank_003_alphafold2_ptm_model_5_seed_000 pLDDT=81.9 pTM=0.402\n",
            "2025-10-05 19:02:16,284 rank_004_alphafold2_ptm_model_1_seed_000 pLDDT=80.6 pTM=0.39\n",
            "2025-10-05 19:02:16,284 rank_005_alphafold2_ptm_model_2_seed_000 pLDDT=79 pTM=0.38\n",
            "2025-10-05 19:02:17,398 Query 15/200: seq_162_7c5ff (length 30)\n"
          ]
        },
        {
          "output_type": "stream",
          "name": "stderr",
          "text": [
            "COMPLETE: 100%|██████████| 150/150 [elapsed: 00:00 remaining: 00:00]\n"
          ]
        },
        {
          "output_type": "stream",
          "name": "stdout",
          "text": [
            "2025-10-05 19:02:18,102 Sequence 0 found no templates\n",
            "2025-10-05 19:02:20,297 Padding length to 34\n",
            "2025-10-05 19:02:24,232 alphafold2_ptm_model_1_seed_000 recycle=0 pLDDT=83.1 pTM=0.357\n",
            "2025-10-05 19:02:28,016 alphafold2_ptm_model_1_seed_000 recycle=1 pLDDT=83.6 pTM=0.358 tol=0.154\n",
            "2025-10-05 19:02:31,810 alphafold2_ptm_model_1_seed_000 recycle=2 pLDDT=84.3 pTM=0.368 tol=0.0734\n",
            "2025-10-05 19:02:35,600 alphafold2_ptm_model_1_seed_000 recycle=3 pLDDT=84.3 pTM=0.364 tol=0.0349\n",
            "2025-10-05 19:02:35,601 alphafold2_ptm_model_1_seed_000 took 15.3s (3 recycles)\n",
            "2025-10-05 19:02:39,409 alphafold2_ptm_model_2_seed_000 recycle=0 pLDDT=79.8 pTM=0.338\n",
            "2025-10-05 19:02:43,223 alphafold2_ptm_model_2_seed_000 recycle=1 pLDDT=81.6 pTM=0.346 tol=0.163\n",
            "2025-10-05 19:02:47,039 alphafold2_ptm_model_2_seed_000 recycle=2 pLDDT=81.8 pTM=0.348 tol=0.0983\n",
            "2025-10-05 19:02:50,857 alphafold2_ptm_model_2_seed_000 recycle=3 pLDDT=81.6 pTM=0.35 tol=0.0558\n",
            "2025-10-05 19:02:50,857 alphafold2_ptm_model_2_seed_000 took 15.3s (3 recycles)\n",
            "2025-10-05 19:02:54,645 alphafold2_ptm_model_3_seed_000 recycle=0 pLDDT=85.5 pTM=0.369\n",
            "2025-10-05 19:02:58,426 alphafold2_ptm_model_3_seed_000 recycle=1 pLDDT=86.9 pTM=0.377 tol=0.177\n",
            "2025-10-05 19:03:02,201 alphafold2_ptm_model_3_seed_000 recycle=2 pLDDT=87.3 pTM=0.376 tol=0.0491\n",
            "2025-10-05 19:03:05,971 alphafold2_ptm_model_3_seed_000 recycle=3 pLDDT=87.4 pTM=0.38 tol=0.0334\n",
            "2025-10-05 19:03:05,972 alphafold2_ptm_model_3_seed_000 took 15.1s (3 recycles)\n",
            "2025-10-05 19:03:09,736 alphafold2_ptm_model_4_seed_000 recycle=0 pLDDT=85.1 pTM=0.379\n",
            "2025-10-05 19:03:13,507 alphafold2_ptm_model_4_seed_000 recycle=1 pLDDT=85.4 pTM=0.381 tol=0.22\n",
            "2025-10-05 19:03:17,265 alphafold2_ptm_model_4_seed_000 recycle=2 pLDDT=85.9 pTM=0.388 tol=0.0764\n",
            "2025-10-05 19:03:21,026 alphafold2_ptm_model_4_seed_000 recycle=3 pLDDT=85.8 pTM=0.388 tol=0.0282\n",
            "2025-10-05 19:03:21,027 alphafold2_ptm_model_4_seed_000 took 15.1s (3 recycles)\n",
            "2025-10-05 19:03:24,781 alphafold2_ptm_model_5_seed_000 recycle=0 pLDDT=81.2 pTM=0.366\n",
            "2025-10-05 19:03:28,548 alphafold2_ptm_model_5_seed_000 recycle=1 pLDDT=80.4 pTM=0.366 tol=0.305\n",
            "2025-10-05 19:03:32,304 alphafold2_ptm_model_5_seed_000 recycle=2 pLDDT=80.2 pTM=0.368 tol=0.234\n",
            "2025-10-05 19:03:36,066 alphafold2_ptm_model_5_seed_000 recycle=3 pLDDT=80 pTM=0.367 tol=0.0673\n",
            "2025-10-05 19:03:36,067 alphafold2_ptm_model_5_seed_000 took 15.0s (3 recycles)\n",
            "2025-10-05 19:03:36,070 reranking models by 'plddt' metric\n",
            "2025-10-05 19:03:36,070 rank_001_alphafold2_ptm_model_3_seed_000 pLDDT=87.4 pTM=0.38\n",
            "2025-10-05 19:03:36,070 rank_002_alphafold2_ptm_model_4_seed_000 pLDDT=85.8 pTM=0.388\n",
            "2025-10-05 19:03:36,071 rank_003_alphafold2_ptm_model_1_seed_000 pLDDT=84.3 pTM=0.364\n",
            "2025-10-05 19:03:36,071 rank_004_alphafold2_ptm_model_2_seed_000 pLDDT=81.6 pTM=0.35\n",
            "2025-10-05 19:03:36,071 rank_005_alphafold2_ptm_model_5_seed_000 pLDDT=80 pTM=0.367\n",
            "2025-10-05 19:03:37,052 Query 16/200: seq_195_16083 (length 30)\n"
          ]
        },
        {
          "output_type": "stream",
          "name": "stderr",
          "text": [
            "COMPLETE: 100%|██████████| 150/150 [elapsed: 00:00 remaining: 00:00]\n"
          ]
        },
        {
          "output_type": "stream",
          "name": "stdout",
          "text": [
            "2025-10-05 19:03:37,913 Sequence 0 found no templates\n",
            "2025-10-05 19:03:40,857 Padding length to 34\n",
            "2025-10-05 19:03:44,771 alphafold2_ptm_model_1_seed_000 recycle=0 pLDDT=72.3 pTM=0.225\n",
            "2025-10-05 19:03:48,557 alphafold2_ptm_model_1_seed_000 recycle=1 pLDDT=76.9 pTM=0.274 tol=0.371\n",
            "2025-10-05 19:03:52,350 alphafold2_ptm_model_1_seed_000 recycle=2 pLDDT=81.1 pTM=0.311 tol=0.641\n",
            "2025-10-05 19:03:56,151 alphafold2_ptm_model_1_seed_000 recycle=3 pLDDT=86.1 pTM=0.358 tol=0.269\n",
            "2025-10-05 19:03:56,152 alphafold2_ptm_model_1_seed_000 took 15.3s (3 recycles)\n",
            "2025-10-05 19:03:59,958 alphafold2_ptm_model_2_seed_000 recycle=0 pLDDT=64.2 pTM=0.182\n",
            "2025-10-05 19:04:03,771 alphafold2_ptm_model_2_seed_000 recycle=1 pLDDT=71.9 pTM=0.267 tol=1.63\n",
            "2025-10-05 19:04:07,600 alphafold2_ptm_model_2_seed_000 recycle=2 pLDDT=75.9 pTM=0.303 tol=0.458\n",
            "2025-10-05 19:04:11,420 alphafold2_ptm_model_2_seed_000 recycle=3 pLDDT=82.1 pTM=0.351 tol=0.376\n",
            "2025-10-05 19:04:11,420 alphafold2_ptm_model_2_seed_000 took 15.3s (3 recycles)\n",
            "2025-10-05 19:04:15,214 alphafold2_ptm_model_3_seed_000 recycle=0 pLDDT=70.1 pTM=0.197\n",
            "2025-10-05 19:04:19,003 alphafold2_ptm_model_3_seed_000 recycle=1 pLDDT=75.8 pTM=0.252 tol=0.496\n",
            "2025-10-05 19:04:22,773 alphafold2_ptm_model_3_seed_000 recycle=2 pLDDT=80.6 pTM=0.295 tol=0.502\n",
            "2025-10-05 19:04:26,549 alphafold2_ptm_model_3_seed_000 recycle=3 pLDDT=85.9 pTM=0.337 tol=0.365\n",
            "2025-10-05 19:04:26,550 alphafold2_ptm_model_3_seed_000 took 15.1s (3 recycles)\n",
            "2025-10-05 19:04:30,323 alphafold2_ptm_model_4_seed_000 recycle=0 pLDDT=77.1 pTM=0.258\n",
            "2025-10-05 19:04:34,094 alphafold2_ptm_model_4_seed_000 recycle=1 pLDDT=81.1 pTM=0.303 tol=0.481\n",
            "2025-10-05 19:04:37,853 alphafold2_ptm_model_4_seed_000 recycle=2 pLDDT=86.1 pTM=0.351 tol=0.233\n",
            "2025-10-05 19:04:41,618 alphafold2_ptm_model_4_seed_000 recycle=3 pLDDT=87.9 pTM=0.36 tol=0.225\n",
            "2025-10-05 19:04:41,619 alphafold2_ptm_model_4_seed_000 took 15.1s (3 recycles)\n",
            "2025-10-05 19:04:45,379 alphafold2_ptm_model_5_seed_000 recycle=0 pLDDT=76.5 pTM=0.288\n",
            "2025-10-05 19:04:49,146 alphafold2_ptm_model_5_seed_000 recycle=1 pLDDT=83.8 pTM=0.354 tol=0.758\n",
            "2025-10-05 19:04:52,908 alphafold2_ptm_model_5_seed_000 recycle=2 pLDDT=86 pTM=0.382 tol=0.19\n",
            "2025-10-05 19:04:56,675 alphafold2_ptm_model_5_seed_000 recycle=3 pLDDT=86.9 pTM=0.398 tol=0.128\n",
            "2025-10-05 19:04:56,676 alphafold2_ptm_model_5_seed_000 took 15.1s (3 recycles)\n",
            "2025-10-05 19:04:56,679 reranking models by 'plddt' metric\n",
            "2025-10-05 19:04:56,679 rank_001_alphafold2_ptm_model_4_seed_000 pLDDT=87.9 pTM=0.36\n",
            "2025-10-05 19:04:56,679 rank_002_alphafold2_ptm_model_5_seed_000 pLDDT=86.9 pTM=0.398\n",
            "2025-10-05 19:04:56,680 rank_003_alphafold2_ptm_model_1_seed_000 pLDDT=86.1 pTM=0.358\n",
            "2025-10-05 19:04:56,680 rank_004_alphafold2_ptm_model_3_seed_000 pLDDT=85.9 pTM=0.337\n",
            "2025-10-05 19:04:56,680 rank_005_alphafold2_ptm_model_2_seed_000 pLDDT=82.1 pTM=0.351\n",
            "2025-10-05 19:04:57,638 Query 17/200: seq_106_aa7bc (length 31)\n"
          ]
        },
        {
          "output_type": "stream",
          "name": "stderr",
          "text": [
            "COMPLETE: 100%|██████████| 150/150 [elapsed: 00:00 remaining: 00:00]\n"
          ]
        },
        {
          "output_type": "stream",
          "name": "stdout",
          "text": [
            "2025-10-05 19:04:58,174 Sequence 0 found no templates\n",
            "2025-10-05 19:05:00,277 Padding length to 34\n",
            "2025-10-05 19:05:04,143 alphafold2_ptm_model_1_seed_000 recycle=0 pLDDT=78.8 pTM=0.374\n",
            "2025-10-05 19:05:07,873 alphafold2_ptm_model_1_seed_000 recycle=1 pLDDT=79.9 pTM=0.381 tol=0.35\n",
            "2025-10-05 19:05:11,608 alphafold2_ptm_model_1_seed_000 recycle=2 pLDDT=79.8 pTM=0.381 tol=0.154\n",
            "2025-10-05 19:05:15,355 alphafold2_ptm_model_1_seed_000 recycle=3 pLDDT=79.4 pTM=0.379 tol=0.125\n",
            "2025-10-05 19:05:15,356 alphafold2_ptm_model_1_seed_000 took 15.1s (3 recycles)\n",
            "2025-10-05 19:05:19,112 alphafold2_ptm_model_2_seed_000 recycle=0 pLDDT=76.7 pTM=0.358\n",
            "2025-10-05 19:05:22,867 alphafold2_ptm_model_2_seed_000 recycle=1 pLDDT=76.6 pTM=0.36 tol=0.215\n",
            "2025-10-05 19:05:26,625 alphafold2_ptm_model_2_seed_000 recycle=2 pLDDT=76.5 pTM=0.36 tol=0.327\n",
            "2025-10-05 19:05:30,381 alphafold2_ptm_model_2_seed_000 recycle=3 pLDDT=76.1 pTM=0.358 tol=0.209\n",
            "2025-10-05 19:05:30,382 alphafold2_ptm_model_2_seed_000 took 15.0s (3 recycles)\n",
            "2025-10-05 19:05:34,111 alphafold2_ptm_model_3_seed_000 recycle=0 pLDDT=84.4 pTM=0.389\n",
            "2025-10-05 19:05:37,839 alphafold2_ptm_model_3_seed_000 recycle=1 pLDDT=84.6 pTM=0.407 tol=0.276\n",
            "2025-10-05 19:05:41,554 alphafold2_ptm_model_3_seed_000 recycle=2 pLDDT=84.5 pTM=0.399 tol=0.0601\n",
            "2025-10-05 19:05:45,277 alphafold2_ptm_model_3_seed_000 recycle=3 pLDDT=83.9 pTM=0.396 tol=0.0787\n",
            "2025-10-05 19:05:45,278 alphafold2_ptm_model_3_seed_000 took 14.9s (3 recycles)\n",
            "2025-10-05 19:05:48,997 alphafold2_ptm_model_4_seed_000 recycle=0 pLDDT=81.9 pTM=0.368\n",
            "2025-10-05 19:05:52,720 alphafold2_ptm_model_4_seed_000 recycle=1 pLDDT=82.1 pTM=0.38 tol=0.226\n",
            "2025-10-05 19:05:56,428 alphafold2_ptm_model_4_seed_000 recycle=2 pLDDT=81.6 pTM=0.372 tol=0.11\n",
            "2025-10-05 19:06:00,145 alphafold2_ptm_model_4_seed_000 recycle=3 pLDDT=81.2 pTM=0.376 tol=0.129\n",
            "2025-10-05 19:06:00,146 alphafold2_ptm_model_4_seed_000 took 14.9s (3 recycles)\n",
            "2025-10-05 19:06:03,863 alphafold2_ptm_model_5_seed_000 recycle=0 pLDDT=81.5 pTM=0.391\n",
            "2025-10-05 19:06:07,578 alphafold2_ptm_model_5_seed_000 recycle=1 pLDDT=82.1 pTM=0.404 tol=0.168\n",
            "2025-10-05 19:06:11,283 alphafold2_ptm_model_5_seed_000 recycle=2 pLDDT=82.2 pTM=0.399 tol=0.0851\n",
            "2025-10-05 19:06:14,994 alphafold2_ptm_model_5_seed_000 recycle=3 pLDDT=82.2 pTM=0.392 tol=0.0485\n",
            "2025-10-05 19:06:14,995 alphafold2_ptm_model_5_seed_000 took 14.8s (3 recycles)\n",
            "2025-10-05 19:06:14,998 reranking models by 'plddt' metric\n",
            "2025-10-05 19:06:14,998 rank_001_alphafold2_ptm_model_3_seed_000 pLDDT=83.9 pTM=0.396\n",
            "2025-10-05 19:06:14,999 rank_002_alphafold2_ptm_model_5_seed_000 pLDDT=82.2 pTM=0.392\n",
            "2025-10-05 19:06:14,999 rank_003_alphafold2_ptm_model_4_seed_000 pLDDT=81.2 pTM=0.376\n",
            "2025-10-05 19:06:14,999 rank_004_alphafold2_ptm_model_1_seed_000 pLDDT=79.4 pTM=0.379\n",
            "2025-10-05 19:06:14,999 rank_005_alphafold2_ptm_model_2_seed_000 pLDDT=76.1 pTM=0.358\n",
            "2025-10-05 19:06:16,247 Query 18/200: seq_154_036b4 (length 31)\n"
          ]
        },
        {
          "output_type": "stream",
          "name": "stderr",
          "text": [
            "COMPLETE: 100%|██████████| 150/150 [elapsed: 00:00 remaining: 00:00]\n"
          ]
        },
        {
          "output_type": "stream",
          "name": "stdout",
          "text": [
            "2025-10-05 19:06:16,967 Sequence 0 found no templates\n",
            "2025-10-05 19:06:19,410 Padding length to 34\n",
            "2025-10-05 19:06:23,343 alphafold2_ptm_model_1_seed_000 recycle=0 pLDDT=79.3 pTM=0.365\n",
            "2025-10-05 19:06:27,127 alphafold2_ptm_model_1_seed_000 recycle=1 pLDDT=78.4 pTM=0.365 tol=0.432\n",
            "2025-10-05 19:06:30,917 alphafold2_ptm_model_1_seed_000 recycle=2 pLDDT=80.3 pTM=0.369 tol=0.442\n",
            "2025-10-05 19:06:34,717 alphafold2_ptm_model_1_seed_000 recycle=3 pLDDT=80.3 pTM=0.368 tol=0.112\n",
            "2025-10-05 19:06:34,718 alphafold2_ptm_model_1_seed_000 took 15.3s (3 recycles)\n",
            "2025-10-05 19:06:38,531 alphafold2_ptm_model_2_seed_000 recycle=0 pLDDT=79.3 pTM=0.363\n",
            "2025-10-05 19:06:42,348 alphafold2_ptm_model_2_seed_000 recycle=1 pLDDT=78.4 pTM=0.367 tol=0.307\n",
            "2025-10-05 19:06:46,172 alphafold2_ptm_model_2_seed_000 recycle=2 pLDDT=78.8 pTM=0.365 tol=0.543\n",
            "2025-10-05 19:06:49,995 alphafold2_ptm_model_2_seed_000 recycle=3 pLDDT=79.6 pTM=0.372 tol=0.219\n",
            "2025-10-05 19:06:49,996 alphafold2_ptm_model_2_seed_000 took 15.3s (3 recycles)\n",
            "2025-10-05 19:06:53,789 alphafold2_ptm_model_3_seed_000 recycle=0 pLDDT=85.6 pTM=0.389\n",
            "2025-10-05 19:06:57,582 alphafold2_ptm_model_3_seed_000 recycle=1 pLDDT=86.9 pTM=0.4 tol=0.223\n",
            "2025-10-05 19:07:01,358 alphafold2_ptm_model_3_seed_000 recycle=2 pLDDT=87.1 pTM=0.398 tol=0.13\n",
            "2025-10-05 19:07:05,142 alphafold2_ptm_model_3_seed_000 recycle=3 pLDDT=86.9 pTM=0.399 tol=0.0392\n",
            "2025-10-05 19:07:05,143 alphafold2_ptm_model_3_seed_000 took 15.1s (3 recycles)\n",
            "2025-10-05 19:07:08,917 alphafold2_ptm_model_4_seed_000 recycle=0 pLDDT=81.2 pTM=0.384\n",
            "2025-10-05 19:07:12,688 alphafold2_ptm_model_4_seed_000 recycle=1 pLDDT=82.3 pTM=0.395 tol=0.111\n",
            "2025-10-05 19:07:16,451 alphafold2_ptm_model_4_seed_000 recycle=2 pLDDT=82.1 pTM=0.394 tol=0.0929\n",
            "2025-10-05 19:07:20,220 alphafold2_ptm_model_4_seed_000 recycle=3 pLDDT=82.6 pTM=0.397 tol=0.0482\n",
            "2025-10-05 19:07:20,220 alphafold2_ptm_model_4_seed_000 took 15.1s (3 recycles)\n",
            "2025-10-05 19:07:23,981 alphafold2_ptm_model_5_seed_000 recycle=0 pLDDT=79.4 pTM=0.391\n",
            "2025-10-05 19:07:27,749 alphafold2_ptm_model_5_seed_000 recycle=1 pLDDT=81.4 pTM=0.394 tol=0.546\n",
            "2025-10-05 19:07:31,504 alphafold2_ptm_model_5_seed_000 recycle=2 pLDDT=82.3 pTM=0.398 tol=0.16\n",
            "2025-10-05 19:07:35,271 alphafold2_ptm_model_5_seed_000 recycle=3 pLDDT=82.2 pTM=0.398 tol=0.0305\n",
            "2025-10-05 19:07:35,272 alphafold2_ptm_model_5_seed_000 took 15.0s (3 recycles)\n",
            "2025-10-05 19:07:35,276 reranking models by 'plddt' metric\n",
            "2025-10-05 19:07:35,276 rank_001_alphafold2_ptm_model_3_seed_000 pLDDT=86.9 pTM=0.399\n",
            "2025-10-05 19:07:35,276 rank_002_alphafold2_ptm_model_4_seed_000 pLDDT=82.6 pTM=0.397\n",
            "2025-10-05 19:07:35,277 rank_003_alphafold2_ptm_model_5_seed_000 pLDDT=82.2 pTM=0.398\n",
            "2025-10-05 19:07:35,277 rank_004_alphafold2_ptm_model_1_seed_000 pLDDT=80.3 pTM=0.368\n",
            "2025-10-05 19:07:35,277 rank_005_alphafold2_ptm_model_2_seed_000 pLDDT=79.6 pTM=0.372\n",
            "2025-10-05 19:07:36,261 Query 19/200: seq_169_b64c0 (length 31)\n"
          ]
        },
        {
          "output_type": "stream",
          "name": "stderr",
          "text": [
            "COMPLETE: 100%|██████████| 150/150 [elapsed: 00:00 remaining: 00:00]\n"
          ]
        },
        {
          "output_type": "stream",
          "name": "stdout",
          "text": [
            "2025-10-05 19:07:36,991 Sequence 0 found no templates\n",
            "2025-10-05 19:07:40,519 Padding length to 34\n",
            "2025-10-05 19:07:44,427 alphafold2_ptm_model_1_seed_000 recycle=0 pLDDT=82.6 pTM=0.399\n",
            "2025-10-05 19:07:48,205 alphafold2_ptm_model_1_seed_000 recycle=1 pLDDT=83 pTM=0.409 tol=0.132\n",
            "2025-10-05 19:07:51,992 alphafold2_ptm_model_1_seed_000 recycle=2 pLDDT=82.5 pTM=0.407 tol=0.0637\n",
            "2025-10-05 19:07:55,792 alphafold2_ptm_model_1_seed_000 recycle=3 pLDDT=83 pTM=0.412 tol=0.0688\n",
            "2025-10-05 19:07:55,792 alphafold2_ptm_model_1_seed_000 took 15.3s (3 recycles)\n",
            "2025-10-05 19:07:59,600 alphafold2_ptm_model_2_seed_000 recycle=0 pLDDT=80.7 pTM=0.383\n",
            "2025-10-05 19:08:03,426 alphafold2_ptm_model_2_seed_000 recycle=1 pLDDT=80.8 pTM=0.39 tol=0.104\n",
            "2025-10-05 19:08:07,255 alphafold2_ptm_model_2_seed_000 recycle=2 pLDDT=80.8 pTM=0.394 tol=0.0275\n",
            "2025-10-05 19:08:11,088 alphafold2_ptm_model_2_seed_000 recycle=3 pLDDT=81.1 pTM=0.4 tol=0.0781\n",
            "2025-10-05 19:08:11,088 alphafold2_ptm_model_2_seed_000 took 15.3s (3 recycles)\n",
            "2025-10-05 19:08:14,891 alphafold2_ptm_model_3_seed_000 recycle=0 pLDDT=87.6 pTM=0.42\n",
            "2025-10-05 19:08:18,687 alphafold2_ptm_model_3_seed_000 recycle=1 pLDDT=88.1 pTM=0.426 tol=0.0899\n",
            "2025-10-05 19:08:22,469 alphafold2_ptm_model_3_seed_000 recycle=2 pLDDT=88.2 pTM=0.427 tol=0.0361\n",
            "2025-10-05 19:08:26,253 alphafold2_ptm_model_3_seed_000 recycle=3 pLDDT=88.7 pTM=0.43 tol=0.0345\n",
            "2025-10-05 19:08:26,254 alphafold2_ptm_model_3_seed_000 took 15.2s (3 recycles)\n",
            "2025-10-05 19:08:30,047 alphafold2_ptm_model_4_seed_000 recycle=0 pLDDT=83.7 pTM=0.419\n",
            "2025-10-05 19:08:33,821 alphafold2_ptm_model_4_seed_000 recycle=1 pLDDT=84.7 pTM=0.43 tol=0.114\n",
            "2025-10-05 19:08:37,582 alphafold2_ptm_model_4_seed_000 recycle=2 pLDDT=84.9 pTM=0.432 tol=0.0217\n",
            "2025-10-05 19:08:41,352 alphafold2_ptm_model_4_seed_000 recycle=3 pLDDT=85.1 pTM=0.432 tol=0.031\n",
            "2025-10-05 19:08:41,353 alphafold2_ptm_model_4_seed_000 took 15.1s (3 recycles)\n",
            "2025-10-05 19:08:45,119 alphafold2_ptm_model_5_seed_000 recycle=0 pLDDT=83.6 pTM=0.415\n",
            "2025-10-05 19:08:48,880 alphafold2_ptm_model_5_seed_000 recycle=1 pLDDT=83.8 pTM=0.417 tol=0.11\n",
            "2025-10-05 19:08:52,631 alphafold2_ptm_model_5_seed_000 recycle=2 pLDDT=84.2 pTM=0.422 tol=0.0883\n",
            "2025-10-05 19:08:56,404 alphafold2_ptm_model_5_seed_000 recycle=3 pLDDT=84.4 pTM=0.424 tol=0.0424\n",
            "2025-10-05 19:08:56,406 alphafold2_ptm_model_5_seed_000 took 15.0s (3 recycles)\n",
            "2025-10-05 19:08:56,412 reranking models by 'plddt' metric\n",
            "2025-10-05 19:08:56,413 rank_001_alphafold2_ptm_model_3_seed_000 pLDDT=88.7 pTM=0.43\n",
            "2025-10-05 19:08:56,413 rank_002_alphafold2_ptm_model_4_seed_000 pLDDT=85.1 pTM=0.432\n",
            "2025-10-05 19:08:56,413 rank_003_alphafold2_ptm_model_5_seed_000 pLDDT=84.4 pTM=0.424\n",
            "2025-10-05 19:08:56,413 rank_004_alphafold2_ptm_model_1_seed_000 pLDDT=83 pTM=0.412\n",
            "2025-10-05 19:08:56,414 rank_005_alphafold2_ptm_model_2_seed_000 pLDDT=81.1 pTM=0.4\n",
            "2025-10-05 19:08:57,361 Query 20/200: seq_16_a4172 (length 32)\n"
          ]
        },
        {
          "output_type": "stream",
          "name": "stderr",
          "text": [
            "COMPLETE: 100%|██████████| 150/150 [elapsed: 00:00 remaining: 00:00]\n"
          ]
        },
        {
          "output_type": "stream",
          "name": "stdout",
          "text": [
            "2025-10-05 19:08:58,082 Sequence 0 found no templates\n",
            "2025-10-05 19:09:00,452 Padding length to 34\n",
            "2025-10-05 19:09:04,404 alphafold2_ptm_model_1_seed_000 recycle=0 pLDDT=85.3 pTM=0.401\n",
            "2025-10-05 19:09:08,184 alphafold2_ptm_model_1_seed_000 recycle=1 pLDDT=84.3 pTM=0.393 tol=0.213\n",
            "2025-10-05 19:09:11,961 alphafold2_ptm_model_1_seed_000 recycle=2 pLDDT=83.6 pTM=0.391 tol=0.0518\n",
            "2025-10-05 19:09:15,762 alphafold2_ptm_model_1_seed_000 recycle=3 pLDDT=83.6 pTM=0.394 tol=0.0377\n",
            "2025-10-05 19:09:15,762 alphafold2_ptm_model_1_seed_000 took 15.3s (3 recycles)\n",
            "2025-10-05 19:09:19,577 alphafold2_ptm_model_2_seed_000 recycle=0 pLDDT=82.6 pTM=0.391\n",
            "2025-10-05 19:09:23,387 alphafold2_ptm_model_2_seed_000 recycle=1 pLDDT=82.7 pTM=0.4 tol=0.0729\n",
            "2025-10-05 19:09:27,211 alphafold2_ptm_model_2_seed_000 recycle=2 pLDDT=81.6 pTM=0.397 tol=0.0551\n",
            "2025-10-05 19:09:31,032 alphafold2_ptm_model_2_seed_000 recycle=3 pLDDT=81.2 pTM=0.4 tol=0.0565\n",
            "2025-10-05 19:09:31,033 alphafold2_ptm_model_2_seed_000 took 15.3s (3 recycles)\n",
            "2025-10-05 19:09:34,824 alphafold2_ptm_model_3_seed_000 recycle=0 pLDDT=90.7 pTM=0.446\n",
            "2025-10-05 19:09:38,616 alphafold2_ptm_model_3_seed_000 recycle=1 pLDDT=90.6 pTM=0.441 tol=0.0959\n",
            "2025-10-05 19:09:42,394 alphafold2_ptm_model_3_seed_000 recycle=2 pLDDT=90.1 pTM=0.44 tol=0.0854\n",
            "2025-10-05 19:09:46,175 alphafold2_ptm_model_3_seed_000 recycle=3 pLDDT=90.1 pTM=0.436 tol=0.0725\n",
            "2025-10-05 19:09:46,176 alphafold2_ptm_model_3_seed_000 took 15.1s (3 recycles)\n",
            "2025-10-05 19:09:49,950 alphafold2_ptm_model_4_seed_000 recycle=0 pLDDT=89.9 pTM=0.451\n",
            "2025-10-05 19:09:53,719 alphafold2_ptm_model_4_seed_000 recycle=1 pLDDT=89.4 pTM=0.449 tol=0.145\n",
            "2025-10-05 19:09:57,483 alphafold2_ptm_model_4_seed_000 recycle=2 pLDDT=89.3 pTM=0.452 tol=0.0254\n",
            "2025-10-05 19:10:01,255 alphafold2_ptm_model_4_seed_000 recycle=3 pLDDT=89.2 pTM=0.448 tol=0.0337\n",
            "2025-10-05 19:10:01,256 alphafold2_ptm_model_4_seed_000 took 15.1s (3 recycles)\n",
            "2025-10-05 19:10:05,021 alphafold2_ptm_model_5_seed_000 recycle=0 pLDDT=91.1 pTM=0.463\n",
            "2025-10-05 19:10:08,790 alphafold2_ptm_model_5_seed_000 recycle=1 pLDDT=90.4 pTM=0.461 tol=0.0529\n",
            "2025-10-05 19:10:12,551 alphafold2_ptm_model_5_seed_000 recycle=2 pLDDT=90.2 pTM=0.467 tol=0.0734\n",
            "2025-10-05 19:10:16,316 alphafold2_ptm_model_5_seed_000 recycle=3 pLDDT=90.3 pTM=0.467 tol=0.04\n",
            "2025-10-05 19:10:16,317 alphafold2_ptm_model_5_seed_000 took 15.1s (3 recycles)\n",
            "2025-10-05 19:10:16,321 reranking models by 'plddt' metric\n",
            "2025-10-05 19:10:16,321 rank_001_alphafold2_ptm_model_5_seed_000 pLDDT=90.3 pTM=0.467\n",
            "2025-10-05 19:10:16,321 rank_002_alphafold2_ptm_model_3_seed_000 pLDDT=90.1 pTM=0.436\n",
            "2025-10-05 19:10:16,321 rank_003_alphafold2_ptm_model_4_seed_000 pLDDT=89.2 pTM=0.448\n",
            "2025-10-05 19:10:16,322 rank_004_alphafold2_ptm_model_1_seed_000 pLDDT=83.6 pTM=0.394\n",
            "2025-10-05 19:10:16,322 rank_005_alphafold2_ptm_model_2_seed_000 pLDDT=81.2 pTM=0.4\n",
            "2025-10-05 19:10:17,636 Query 21/200: seq_17_dcfe3 (length 32)\n"
          ]
        },
        {
          "output_type": "stream",
          "name": "stderr",
          "text": [
            "COMPLETE: 100%|██████████| 150/150 [elapsed: 00:00 remaining: 00:00]\n"
          ]
        },
        {
          "output_type": "stream",
          "name": "stdout",
          "text": [
            "2025-10-05 19:10:18,329 Sequence 0 found no templates\n",
            "2025-10-05 19:10:20,682 Padding length to 34\n",
            "2025-10-05 19:10:24,612 alphafold2_ptm_model_1_seed_000 recycle=0 pLDDT=79.3 pTM=0.377\n",
            "2025-10-05 19:10:28,390 alphafold2_ptm_model_1_seed_000 recycle=1 pLDDT=80.1 pTM=0.375 tol=0.323\n",
            "2025-10-05 19:10:32,169 alphafold2_ptm_model_1_seed_000 recycle=2 pLDDT=79.9 pTM=0.378 tol=0.305\n",
            "2025-10-05 19:10:35,961 alphafold2_ptm_model_1_seed_000 recycle=3 pLDDT=80.1 pTM=0.375 tol=0.144\n",
            "2025-10-05 19:10:35,962 alphafold2_ptm_model_1_seed_000 took 15.3s (3 recycles)\n",
            "2025-10-05 19:10:39,757 alphafold2_ptm_model_2_seed_000 recycle=0 pLDDT=76.9 pTM=0.358\n",
            "2025-10-05 19:10:43,569 alphafold2_ptm_model_2_seed_000 recycle=1 pLDDT=77.8 pTM=0.36 tol=0.215\n",
            "2025-10-05 19:10:47,383 alphafold2_ptm_model_2_seed_000 recycle=2 pLDDT=78.2 pTM=0.368 tol=0.0956\n",
            "2025-10-05 19:10:51,202 alphafold2_ptm_model_2_seed_000 recycle=3 pLDDT=78.1 pTM=0.367 tol=0.0397\n",
            "2025-10-05 19:10:51,202 alphafold2_ptm_model_2_seed_000 took 15.2s (3 recycles)\n",
            "2025-10-05 19:10:54,990 alphafold2_ptm_model_3_seed_000 recycle=0 pLDDT=83.1 pTM=0.384\n",
            "2025-10-05 19:10:58,779 alphafold2_ptm_model_3_seed_000 recycle=1 pLDDT=85.2 pTM=0.395 tol=0.18\n",
            "2025-10-05 19:11:02,545 alphafold2_ptm_model_3_seed_000 recycle=2 pLDDT=85.6 pTM=0.399 tol=0.101\n",
            "2025-10-05 19:11:06,318 alphafold2_ptm_model_3_seed_000 recycle=3 pLDDT=85.4 pTM=0.399 tol=0.0541\n",
            "2025-10-05 19:11:06,319 alphafold2_ptm_model_3_seed_000 took 15.1s (3 recycles)\n",
            "2025-10-05 19:11:10,091 alphafold2_ptm_model_4_seed_000 recycle=0 pLDDT=81.8 pTM=0.393\n",
            "2025-10-05 19:11:13,850 alphafold2_ptm_model_4_seed_000 recycle=1 pLDDT=82.4 pTM=0.399 tol=0.218\n",
            "2025-10-05 19:11:17,607 alphafold2_ptm_model_4_seed_000 recycle=2 pLDDT=82.8 pTM=0.401 tol=0.156\n",
            "2025-10-05 19:11:21,366 alphafold2_ptm_model_4_seed_000 recycle=3 pLDDT=82.4 pTM=0.398 tol=0.0699\n",
            "2025-10-05 19:11:21,367 alphafold2_ptm_model_4_seed_000 took 15.0s (3 recycles)\n",
            "2025-10-05 19:11:25,118 alphafold2_ptm_model_5_seed_000 recycle=0 pLDDT=81.3 pTM=0.398\n",
            "2025-10-05 19:11:28,880 alphafold2_ptm_model_5_seed_000 recycle=1 pLDDT=81.9 pTM=0.402 tol=0.139\n",
            "2025-10-05 19:11:32,627 alphafold2_ptm_model_5_seed_000 recycle=2 pLDDT=81.8 pTM=0.406 tol=0.0913\n",
            "2025-10-05 19:11:36,383 alphafold2_ptm_model_5_seed_000 recycle=3 pLDDT=81.6 pTM=0.405 tol=0.068\n",
            "2025-10-05 19:11:36,384 alphafold2_ptm_model_5_seed_000 took 15.0s (3 recycles)\n",
            "2025-10-05 19:11:36,387 reranking models by 'plddt' metric\n",
            "2025-10-05 19:11:36,388 rank_001_alphafold2_ptm_model_3_seed_000 pLDDT=85.4 pTM=0.399\n",
            "2025-10-05 19:11:36,388 rank_002_alphafold2_ptm_model_4_seed_000 pLDDT=82.4 pTM=0.398\n",
            "2025-10-05 19:11:36,388 rank_003_alphafold2_ptm_model_5_seed_000 pLDDT=81.6 pTM=0.405\n",
            "2025-10-05 19:11:36,388 rank_004_alphafold2_ptm_model_1_seed_000 pLDDT=80.1 pTM=0.375\n",
            "2025-10-05 19:11:36,388 rank_005_alphafold2_ptm_model_2_seed_000 pLDDT=78.1 pTM=0.367\n",
            "2025-10-05 19:11:37,356 Query 22/200: seq_125_11f63 (length 32)\n"
          ]
        },
        {
          "output_type": "stream",
          "name": "stderr",
          "text": [
            "COMPLETE: 100%|██████████| 150/150 [elapsed: 00:00 remaining: 00:00]\n"
          ]
        },
        {
          "output_type": "stream",
          "name": "stdout",
          "text": [
            "2025-10-05 19:11:37,897 Sequence 0 found no templates\n",
            "2025-10-05 19:11:40,065 Padding length to 34\n",
            "2025-10-05 19:11:43,950 alphafold2_ptm_model_1_seed_000 recycle=0 pLDDT=87.1 pTM=0.416\n",
            "2025-10-05 19:11:47,706 alphafold2_ptm_model_1_seed_000 recycle=1 pLDDT=87.2 pTM=0.426 tol=0.0712\n",
            "2025-10-05 19:11:51,464 alphafold2_ptm_model_1_seed_000 recycle=2 pLDDT=87.1 pTM=0.426 tol=0.0342\n",
            "2025-10-05 19:11:55,232 alphafold2_ptm_model_1_seed_000 recycle=3 pLDDT=86.9 pTM=0.425 tol=0.0562\n",
            "2025-10-05 19:11:55,232 alphafold2_ptm_model_1_seed_000 took 15.2s (3 recycles)\n",
            "2025-10-05 19:11:59,002 alphafold2_ptm_model_2_seed_000 recycle=0 pLDDT=84.2 pTM=0.392\n",
            "2025-10-05 19:12:02,787 alphafold2_ptm_model_2_seed_000 recycle=1 pLDDT=84.9 pTM=0.406 tol=0.0458\n",
            "2025-10-05 19:12:06,580 alphafold2_ptm_model_2_seed_000 recycle=2 pLDDT=84.5 pTM=0.402 tol=0.0779\n",
            "2025-10-05 19:12:10,370 alphafold2_ptm_model_2_seed_000 recycle=3 pLDDT=84.1 pTM=0.396 tol=0.0338\n",
            "2025-10-05 19:12:10,371 alphafold2_ptm_model_2_seed_000 took 15.1s (3 recycles)\n",
            "2025-10-05 19:12:14,127 alphafold2_ptm_model_3_seed_000 recycle=0 pLDDT=89.1 pTM=0.418\n",
            "2025-10-05 19:12:17,887 alphafold2_ptm_model_3_seed_000 recycle=1 pLDDT=88.4 pTM=0.423 tol=0.118\n",
            "2025-10-05 19:12:21,633 alphafold2_ptm_model_3_seed_000 recycle=2 pLDDT=89.4 pTM=0.423 tol=0.082\n",
            "2025-10-05 19:12:25,383 alphafold2_ptm_model_3_seed_000 recycle=3 pLDDT=88.2 pTM=0.418 tol=0.181\n",
            "2025-10-05 19:12:25,384 alphafold2_ptm_model_3_seed_000 took 15.0s (3 recycles)\n",
            "2025-10-05 19:12:29,124 alphafold2_ptm_model_4_seed_000 recycle=0 pLDDT=88.6 pTM=0.421\n",
            "2025-10-05 19:12:32,867 alphafold2_ptm_model_4_seed_000 recycle=1 pLDDT=88.6 pTM=0.429 tol=0.063\n",
            "2025-10-05 19:12:36,599 alphafold2_ptm_model_4_seed_000 recycle=2 pLDDT=88.8 pTM=0.426 tol=0.0417\n",
            "2025-10-05 19:12:40,340 alphafold2_ptm_model_4_seed_000 recycle=3 pLDDT=89 pTM=0.425 tol=0.0266\n",
            "2025-10-05 19:12:40,341 alphafold2_ptm_model_4_seed_000 took 15.0s (3 recycles)\n",
            "2025-10-05 19:12:44,070 alphafold2_ptm_model_5_seed_000 recycle=0 pLDDT=88.2 pTM=0.442\n",
            "2025-10-05 19:12:47,808 alphafold2_ptm_model_5_seed_000 recycle=1 pLDDT=88.4 pTM=0.443 tol=0.139\n",
            "2025-10-05 19:12:51,531 alphafold2_ptm_model_5_seed_000 recycle=2 pLDDT=88.3 pTM=0.437 tol=0.105\n",
            "2025-10-05 19:12:55,273 alphafold2_ptm_model_5_seed_000 recycle=3 pLDDT=88.8 pTM=0.438 tol=0.0574\n",
            "2025-10-05 19:12:55,273 alphafold2_ptm_model_5_seed_000 took 14.9s (3 recycles)\n",
            "2025-10-05 19:12:55,280 reranking models by 'plddt' metric\n",
            "2025-10-05 19:12:55,280 rank_001_alphafold2_ptm_model_4_seed_000 pLDDT=89 pTM=0.425\n",
            "2025-10-05 19:12:55,280 rank_002_alphafold2_ptm_model_5_seed_000 pLDDT=88.8 pTM=0.438\n",
            "2025-10-05 19:12:55,281 rank_003_alphafold2_ptm_model_3_seed_000 pLDDT=88.2 pTM=0.418\n",
            "2025-10-05 19:12:55,281 rank_004_alphafold2_ptm_model_1_seed_000 pLDDT=86.9 pTM=0.425\n",
            "2025-10-05 19:12:55,281 rank_005_alphafold2_ptm_model_2_seed_000 pLDDT=84.1 pTM=0.396\n",
            "2025-10-05 19:12:56,387 Query 23/200: seq_153_843a6 (length 32)\n"
          ]
        },
        {
          "output_type": "stream",
          "name": "stderr",
          "text": [
            "COMPLETE: 100%|██████████| 150/150 [elapsed: 00:00 remaining: 00:00]\n"
          ]
        },
        {
          "output_type": "stream",
          "name": "stdout",
          "text": [
            "2025-10-05 19:12:56,928 Sequence 0 found no templates\n",
            "2025-10-05 19:12:59,036 Padding length to 34\n",
            "2025-10-05 19:13:02,906 alphafold2_ptm_model_1_seed_000 recycle=0 pLDDT=77.3 pTM=0.372\n",
            "2025-10-05 19:13:06,647 alphafold2_ptm_model_1_seed_000 recycle=1 pLDDT=76.6 pTM=0.374 tol=0.576\n",
            "2025-10-05 19:13:10,392 alphafold2_ptm_model_1_seed_000 recycle=2 pLDDT=76.2 pTM=0.372 tol=0.521\n",
            "2025-10-05 19:13:14,147 alphafold2_ptm_model_1_seed_000 recycle=3 pLDDT=76 pTM=0.371 tol=0.159\n",
            "2025-10-05 19:13:14,148 alphafold2_ptm_model_1_seed_000 took 15.1s (3 recycles)\n",
            "2025-10-05 19:13:17,910 alphafold2_ptm_model_2_seed_000 recycle=0 pLDDT=76.5 pTM=0.367\n",
            "2025-10-05 19:13:21,675 alphafold2_ptm_model_2_seed_000 recycle=1 pLDDT=75.1 pTM=0.37 tol=0.49\n",
            "2025-10-05 19:13:25,450 alphafold2_ptm_model_2_seed_000 recycle=2 pLDDT=75.1 pTM=0.37 tol=0.249\n",
            "2025-10-05 19:13:29,225 alphafold2_ptm_model_2_seed_000 recycle=3 pLDDT=75.1 pTM=0.37 tol=0.106\n",
            "2025-10-05 19:13:29,226 alphafold2_ptm_model_2_seed_000 took 15.1s (3 recycles)\n",
            "2025-10-05 19:13:32,969 alphafold2_ptm_model_3_seed_000 recycle=0 pLDDT=77 pTM=0.363\n",
            "2025-10-05 19:13:36,713 alphafold2_ptm_model_3_seed_000 recycle=1 pLDDT=75.8 pTM=0.365 tol=0.465\n",
            "2025-10-05 19:13:40,440 alphafold2_ptm_model_3_seed_000 recycle=2 pLDDT=76.9 pTM=0.365 tol=0.437\n",
            "2025-10-05 19:13:44,175 alphafold2_ptm_model_3_seed_000 recycle=3 pLDDT=76.4 pTM=0.365 tol=0.571\n",
            "2025-10-05 19:13:44,176 alphafold2_ptm_model_3_seed_000 took 14.9s (3 recycles)\n",
            "2025-10-05 19:13:47,901 alphafold2_ptm_model_4_seed_000 recycle=0 pLDDT=79.3 pTM=0.374\n",
            "2025-10-05 19:13:51,631 alphafold2_ptm_model_4_seed_000 recycle=1 pLDDT=80.1 pTM=0.387 tol=0.0991\n",
            "2025-10-05 19:13:55,350 alphafold2_ptm_model_4_seed_000 recycle=2 pLDDT=80.6 pTM=0.388 tol=0.0392\n",
            "2025-10-05 19:13:59,075 alphafold2_ptm_model_4_seed_000 recycle=3 pLDDT=80.1 pTM=0.385 tol=0.093\n",
            "2025-10-05 19:13:59,076 alphafold2_ptm_model_4_seed_000 took 14.9s (3 recycles)\n",
            "2025-10-05 19:14:02,798 alphafold2_ptm_model_5_seed_000 recycle=0 pLDDT=76.6 pTM=0.376\n",
            "2025-10-05 19:14:06,526 alphafold2_ptm_model_5_seed_000 recycle=1 pLDDT=77.5 pTM=0.386 tol=0.323\n",
            "2025-10-05 19:14:10,242 alphafold2_ptm_model_5_seed_000 recycle=2 pLDDT=78.2 pTM=0.388 tol=0.0871\n",
            "2025-10-05 19:14:13,965 alphafold2_ptm_model_5_seed_000 recycle=3 pLDDT=78.5 pTM=0.388 tol=0.118\n",
            "2025-10-05 19:14:13,965 alphafold2_ptm_model_5_seed_000 took 14.9s (3 recycles)\n",
            "2025-10-05 19:14:13,969 reranking models by 'plddt' metric\n",
            "2025-10-05 19:14:13,969 rank_001_alphafold2_ptm_model_4_seed_000 pLDDT=80.1 pTM=0.385\n",
            "2025-10-05 19:14:13,970 rank_002_alphafold2_ptm_model_5_seed_000 pLDDT=78.5 pTM=0.388\n",
            "2025-10-05 19:14:13,970 rank_003_alphafold2_ptm_model_3_seed_000 pLDDT=76.4 pTM=0.365\n",
            "2025-10-05 19:14:13,970 rank_004_alphafold2_ptm_model_1_seed_000 pLDDT=76 pTM=0.371\n",
            "2025-10-05 19:14:13,970 rank_005_alphafold2_ptm_model_2_seed_000 pLDDT=75.1 pTM=0.37\n",
            "2025-10-05 19:14:15,019 Query 24/200: seq_182_557e8 (length 32)\n"
          ]
        },
        {
          "output_type": "stream",
          "name": "stderr",
          "text": [
            "COMPLETE: 100%|██████████| 150/150 [elapsed: 00:00 remaining: 00:00]\n"
          ]
        },
        {
          "output_type": "stream",
          "name": "stdout",
          "text": [
            "2025-10-05 19:14:15,567 Sequence 0 found no templates\n",
            "2025-10-05 19:14:17,710 Padding length to 34\n",
            "2025-10-05 19:14:21,599 alphafold2_ptm_model_1_seed_000 recycle=0 pLDDT=89.6 pTM=0.436\n",
            "2025-10-05 19:14:25,339 alphafold2_ptm_model_1_seed_000 recycle=1 pLDDT=90.3 pTM=0.443 tol=0.165\n",
            "2025-10-05 19:14:29,090 alphafold2_ptm_model_1_seed_000 recycle=2 pLDDT=91 pTM=0.45 tol=0.0326\n",
            "2025-10-05 19:14:32,843 alphafold2_ptm_model_1_seed_000 recycle=3 pLDDT=90.8 pTM=0.45 tol=0.0389\n",
            "2025-10-05 19:14:32,844 alphafold2_ptm_model_1_seed_000 took 15.1s (3 recycles)\n",
            "2025-10-05 19:14:36,608 alphafold2_ptm_model_2_seed_000 recycle=0 pLDDT=87.6 pTM=0.419\n",
            "2025-10-05 19:14:40,378 alphafold2_ptm_model_2_seed_000 recycle=1 pLDDT=87.4 pTM=0.422 tol=0.0673\n",
            "2025-10-05 19:14:44,158 alphafold2_ptm_model_2_seed_000 recycle=2 pLDDT=87.3 pTM=0.425 tol=0.034\n",
            "2025-10-05 19:14:47,941 alphafold2_ptm_model_2_seed_000 recycle=3 pLDDT=88.2 pTM=0.431 tol=0.0409\n",
            "2025-10-05 19:14:47,941 alphafold2_ptm_model_2_seed_000 took 15.1s (3 recycles)\n",
            "2025-10-05 19:14:51,693 alphafold2_ptm_model_3_seed_000 recycle=0 pLDDT=91.8 pTM=0.43\n",
            "2025-10-05 19:14:55,445 alphafold2_ptm_model_3_seed_000 recycle=1 pLDDT=92.1 pTM=0.432 tol=0.0436\n",
            "2025-10-05 19:14:59,177 alphafold2_ptm_model_3_seed_000 recycle=2 pLDDT=92.5 pTM=0.441 tol=0.0219\n",
            "2025-10-05 19:15:02,919 alphafold2_ptm_model_3_seed_000 recycle=3 pLDDT=92.8 pTM=0.443 tol=0.0294\n",
            "2025-10-05 19:15:02,920 alphafold2_ptm_model_3_seed_000 took 15.0s (3 recycles)\n",
            "2025-10-05 19:15:06,652 alphafold2_ptm_model_4_seed_000 recycle=0 pLDDT=93.1 pTM=0.459\n",
            "2025-10-05 19:15:10,386 alphafold2_ptm_model_4_seed_000 recycle=1 pLDDT=94.4 pTM=0.483 tol=0.055\n",
            "2025-10-05 19:15:14,107 alphafold2_ptm_model_4_seed_000 recycle=2 pLDDT=94.5 pTM=0.483 tol=0.0555\n",
            "2025-10-05 19:15:17,840 alphafold2_ptm_model_4_seed_000 recycle=3 pLDDT=95.1 pTM=0.498 tol=0.0325\n",
            "2025-10-05 19:15:17,840 alphafold2_ptm_model_4_seed_000 took 14.9s (3 recycles)\n",
            "2025-10-05 19:15:21,562 alphafold2_ptm_model_5_seed_000 recycle=0 pLDDT=91.4 pTM=0.42\n",
            "2025-10-05 19:15:25,287 alphafold2_ptm_model_5_seed_000 recycle=1 pLDDT=91.8 pTM=0.423 tol=0.0516\n",
            "2025-10-05 19:15:29,004 alphafold2_ptm_model_5_seed_000 recycle=2 pLDDT=92.1 pTM=0.433 tol=0.0234\n",
            "2025-10-05 19:15:32,739 alphafold2_ptm_model_5_seed_000 recycle=3 pLDDT=93.2 pTM=0.453 tol=0.0353\n",
            "2025-10-05 19:15:32,739 alphafold2_ptm_model_5_seed_000 took 14.9s (3 recycles)\n",
            "2025-10-05 19:15:32,746 reranking models by 'plddt' metric\n",
            "2025-10-05 19:15:32,747 rank_001_alphafold2_ptm_model_4_seed_000 pLDDT=95.1 pTM=0.498\n",
            "2025-10-05 19:15:32,747 rank_002_alphafold2_ptm_model_5_seed_000 pLDDT=93.2 pTM=0.453\n",
            "2025-10-05 19:15:32,747 rank_003_alphafold2_ptm_model_3_seed_000 pLDDT=92.8 pTM=0.443\n",
            "2025-10-05 19:15:32,748 rank_004_alphafold2_ptm_model_1_seed_000 pLDDT=90.8 pTM=0.45\n",
            "2025-10-05 19:15:32,748 rank_005_alphafold2_ptm_model_2_seed_000 pLDDT=88.2 pTM=0.431\n",
            "2025-10-05 19:15:33,877 Query 25/200: seq_1_1ed83 (length 33)\n"
          ]
        },
        {
          "output_type": "stream",
          "name": "stderr",
          "text": [
            "COMPLETE: 100%|██████████| 150/150 [elapsed: 00:00 remaining: 00:00]\n"
          ]
        },
        {
          "output_type": "stream",
          "name": "stdout",
          "text": [
            "2025-10-05 19:15:34,424 Sequence 0 found no templates\n",
            "2025-10-05 19:15:36,547 Padding length to 34\n",
            "2025-10-05 19:15:40,435 alphafold2_ptm_model_1_seed_000 recycle=0 pLDDT=83.9 pTM=0.396\n",
            "2025-10-05 19:15:44,169 alphafold2_ptm_model_1_seed_000 recycle=1 pLDDT=82.9 pTM=0.398 tol=0.187\n",
            "2025-10-05 19:15:47,905 alphafold2_ptm_model_1_seed_000 recycle=2 pLDDT=83.6 pTM=0.409 tol=0.126\n",
            "2025-10-05 19:15:51,642 alphafold2_ptm_model_1_seed_000 recycle=3 pLDDT=83.5 pTM=0.405 tol=0.0779\n",
            "2025-10-05 19:15:51,643 alphafold2_ptm_model_1_seed_000 took 15.1s (3 recycles)\n",
            "2025-10-05 19:15:55,399 alphafold2_ptm_model_2_seed_000 recycle=0 pLDDT=82.6 pTM=0.398\n",
            "2025-10-05 19:15:59,153 alphafold2_ptm_model_2_seed_000 recycle=1 pLDDT=79 pTM=0.384 tol=0.132\n",
            "2025-10-05 19:16:02,909 alphafold2_ptm_model_2_seed_000 recycle=2 pLDDT=78.6 pTM=0.385 tol=0.0915\n",
            "2025-10-05 19:16:06,666 alphafold2_ptm_model_2_seed_000 recycle=3 pLDDT=78 pTM=0.379 tol=0.0398\n",
            "2025-10-05 19:16:06,667 alphafold2_ptm_model_2_seed_000 took 15.0s (3 recycles)\n",
            "2025-10-05 19:16:10,399 alphafold2_ptm_model_3_seed_000 recycle=0 pLDDT=83.6 pTM=0.368\n",
            "2025-10-05 19:16:14,126 alphafold2_ptm_model_3_seed_000 recycle=1 pLDDT=84.4 pTM=0.373 tol=0.109\n",
            "2025-10-05 19:16:17,845 alphafold2_ptm_model_3_seed_000 recycle=2 pLDDT=85.3 pTM=0.382 tol=0.0634\n",
            "2025-10-05 19:16:21,564 alphafold2_ptm_model_3_seed_000 recycle=3 pLDDT=85.8 pTM=0.383 tol=0.0301\n",
            "2025-10-05 19:16:21,565 alphafold2_ptm_model_3_seed_000 took 14.9s (3 recycles)\n",
            "2025-10-05 19:16:25,279 alphafold2_ptm_model_4_seed_000 recycle=0 pLDDT=85.1 pTM=0.389\n",
            "2025-10-05 19:16:29,000 alphafold2_ptm_model_4_seed_000 recycle=1 pLDDT=85.4 pTM=0.397 tol=0.0872\n",
            "2025-10-05 19:16:32,708 alphafold2_ptm_model_4_seed_000 recycle=2 pLDDT=85.6 pTM=0.4 tol=0.053\n",
            "2025-10-05 19:16:36,426 alphafold2_ptm_model_4_seed_000 recycle=3 pLDDT=85.6 pTM=0.399 tol=0.0454\n",
            "2025-10-05 19:16:36,427 alphafold2_ptm_model_4_seed_000 took 14.9s (3 recycles)\n",
            "2025-10-05 19:16:40,138 alphafold2_ptm_model_5_seed_000 recycle=0 pLDDT=87.7 pTM=0.426\n",
            "2025-10-05 19:16:43,854 alphafold2_ptm_model_5_seed_000 recycle=1 pLDDT=87.2 pTM=0.431 tol=0.0991\n",
            "2025-10-05 19:16:47,554 alphafold2_ptm_model_5_seed_000 recycle=2 pLDDT=87.6 pTM=0.442 tol=0.0744\n",
            "2025-10-05 19:16:51,270 alphafold2_ptm_model_5_seed_000 recycle=3 pLDDT=87.8 pTM=0.434 tol=0.0443\n",
            "2025-10-05 19:16:51,270 alphafold2_ptm_model_5_seed_000 took 14.8s (3 recycles)\n",
            "2025-10-05 19:16:51,275 reranking models by 'plddt' metric\n",
            "2025-10-05 19:16:51,275 rank_001_alphafold2_ptm_model_5_seed_000 pLDDT=87.8 pTM=0.434\n",
            "2025-10-05 19:16:51,275 rank_002_alphafold2_ptm_model_3_seed_000 pLDDT=85.8 pTM=0.383\n",
            "2025-10-05 19:16:51,275 rank_003_alphafold2_ptm_model_4_seed_000 pLDDT=85.6 pTM=0.399\n",
            "2025-10-05 19:16:51,276 rank_004_alphafold2_ptm_model_1_seed_000 pLDDT=83.5 pTM=0.405\n",
            "2025-10-05 19:16:51,276 rank_005_alphafold2_ptm_model_2_seed_000 pLDDT=78 pTM=0.379\n",
            "2025-10-05 19:16:52,242 Query 26/200: seq_13_b5153 (length 33)\n"
          ]
        },
        {
          "output_type": "stream",
          "name": "stderr",
          "text": [
            "COMPLETE: 100%|██████████| 150/150 [elapsed: 00:00 remaining: 00:00]\n"
          ]
        },
        {
          "output_type": "stream",
          "name": "stdout",
          "text": [
            "2025-10-05 19:16:52,953 Sequence 0 found no templates\n",
            "2025-10-05 19:16:55,308 Padding length to 34\n",
            "2025-10-05 19:16:59,237 alphafold2_ptm_model_1_seed_000 recycle=0 pLDDT=79.5 pTM=0.399\n",
            "2025-10-05 19:17:03,023 alphafold2_ptm_model_1_seed_000 recycle=1 pLDDT=78.9 pTM=0.401 tol=0.125\n",
            "2025-10-05 19:17:06,815 alphafold2_ptm_model_1_seed_000 recycle=2 pLDDT=78.8 pTM=0.402 tol=0.0551\n",
            "2025-10-05 19:17:10,618 alphafold2_ptm_model_1_seed_000 recycle=3 pLDDT=79.4 pTM=0.407 tol=0.0609\n",
            "2025-10-05 19:17:10,619 alphafold2_ptm_model_1_seed_000 took 15.3s (3 recycles)\n",
            "2025-10-05 19:17:14,426 alphafold2_ptm_model_2_seed_000 recycle=0 pLDDT=78.4 pTM=0.389\n",
            "2025-10-05 19:17:18,242 alphafold2_ptm_model_2_seed_000 recycle=1 pLDDT=77.9 pTM=0.393 tol=0.146\n",
            "2025-10-05 19:17:22,060 alphafold2_ptm_model_2_seed_000 recycle=2 pLDDT=77.6 pTM=0.392 tol=0.0526\n",
            "2025-10-05 19:17:25,881 alphafold2_ptm_model_2_seed_000 recycle=3 pLDDT=78 pTM=0.396 tol=0.0686\n",
            "2025-10-05 19:17:25,882 alphafold2_ptm_model_2_seed_000 took 15.3s (3 recycles)\n",
            "2025-10-05 19:17:29,673 alphafold2_ptm_model_3_seed_000 recycle=0 pLDDT=84.8 pTM=0.405\n",
            "2025-10-05 19:17:33,470 alphafold2_ptm_model_3_seed_000 recycle=1 pLDDT=84.6 pTM=0.402 tol=0.252\n",
            "2025-10-05 19:17:37,249 alphafold2_ptm_model_3_seed_000 recycle=2 pLDDT=84.7 pTM=0.405 tol=0.108\n",
            "2025-10-05 19:17:41,029 alphafold2_ptm_model_3_seed_000 recycle=3 pLDDT=84.9 pTM=0.405 tol=0.0465\n",
            "2025-10-05 19:17:41,030 alphafold2_ptm_model_3_seed_000 took 15.1s (3 recycles)\n",
            "2025-10-05 19:17:44,807 alphafold2_ptm_model_4_seed_000 recycle=0 pLDDT=81.4 pTM=0.419\n",
            "2025-10-05 19:17:48,589 alphafold2_ptm_model_4_seed_000 recycle=1 pLDDT=81.2 pTM=0.42 tol=0.0867\n",
            "2025-10-05 19:17:52,348 alphafold2_ptm_model_4_seed_000 recycle=2 pLDDT=81 pTM=0.42 tol=0.0285\n",
            "2025-10-05 19:17:56,122 alphafold2_ptm_model_4_seed_000 recycle=3 pLDDT=81.6 pTM=0.425 tol=0.0555\n",
            "2025-10-05 19:17:56,123 alphafold2_ptm_model_4_seed_000 took 15.1s (3 recycles)\n",
            "2025-10-05 19:17:59,894 alphafold2_ptm_model_5_seed_000 recycle=0 pLDDT=81.2 pTM=0.414\n",
            "2025-10-05 19:18:03,664 alphafold2_ptm_model_5_seed_000 recycle=1 pLDDT=81.2 pTM=0.419 tol=0.29\n",
            "2025-10-05 19:18:07,420 alphafold2_ptm_model_5_seed_000 recycle=2 pLDDT=81.3 pTM=0.419 tol=0.261\n",
            "2025-10-05 19:18:11,186 alphafold2_ptm_model_5_seed_000 recycle=3 pLDDT=81.4 pTM=0.42 tol=0.0543\n",
            "2025-10-05 19:18:11,186 alphafold2_ptm_model_5_seed_000 took 15.1s (3 recycles)\n",
            "2025-10-05 19:18:11,190 reranking models by 'plddt' metric\n",
            "2025-10-05 19:18:11,190 rank_001_alphafold2_ptm_model_3_seed_000 pLDDT=84.9 pTM=0.405\n",
            "2025-10-05 19:18:11,190 rank_002_alphafold2_ptm_model_4_seed_000 pLDDT=81.6 pTM=0.425\n",
            "2025-10-05 19:18:11,191 rank_003_alphafold2_ptm_model_5_seed_000 pLDDT=81.4 pTM=0.42\n",
            "2025-10-05 19:18:11,191 rank_004_alphafold2_ptm_model_1_seed_000 pLDDT=79.4 pTM=0.407\n",
            "2025-10-05 19:18:11,191 rank_005_alphafold2_ptm_model_2_seed_000 pLDDT=78 pTM=0.396\n",
            "2025-10-05 19:18:12,164 Query 27/200: seq_24_4ec97 (length 33)\n"
          ]
        },
        {
          "output_type": "stream",
          "name": "stderr",
          "text": [
            "COMPLETE: 100%|██████████| 150/150 [elapsed: 00:00 remaining: 00:00]\n"
          ]
        },
        {
          "output_type": "stream",
          "name": "stdout",
          "text": [
            "2025-10-05 19:18:12,703 Sequence 0 found no templates\n",
            "2025-10-05 19:18:16,117 Padding length to 34\n",
            "2025-10-05 19:18:20,030 alphafold2_ptm_model_1_seed_000 recycle=0 pLDDT=77.8 pTM=0.388\n",
            "2025-10-05 19:18:23,793 alphafold2_ptm_model_1_seed_000 recycle=1 pLDDT=77.2 pTM=0.393 tol=1.07\n",
            "2025-10-05 19:18:27,558 alphafold2_ptm_model_1_seed_000 recycle=2 pLDDT=77.1 pTM=0.395 tol=0.426\n",
            "2025-10-05 19:18:31,335 alphafold2_ptm_model_1_seed_000 recycle=3 pLDDT=76.9 pTM=0.392 tol=0.647\n",
            "2025-10-05 19:18:31,335 alphafold2_ptm_model_1_seed_000 took 15.2s (3 recycles)\n",
            "2025-10-05 19:18:35,130 alphafold2_ptm_model_2_seed_000 recycle=0 pLDDT=74.8 pTM=0.368\n",
            "2025-10-05 19:18:38,930 alphafold2_ptm_model_2_seed_000 recycle=1 pLDDT=74.8 pTM=0.38 tol=0.718\n",
            "2025-10-05 19:18:42,734 alphafold2_ptm_model_2_seed_000 recycle=2 pLDDT=74.9 pTM=0.384 tol=0.284\n",
            "2025-10-05 19:18:46,538 alphafold2_ptm_model_2_seed_000 recycle=3 pLDDT=74.6 pTM=0.381 tol=0.28\n",
            "2025-10-05 19:18:46,538 alphafold2_ptm_model_2_seed_000 took 15.2s (3 recycles)\n",
            "2025-10-05 19:18:50,313 alphafold2_ptm_model_3_seed_000 recycle=0 pLDDT=84.1 pTM=0.408\n",
            "2025-10-05 19:18:54,085 alphafold2_ptm_model_3_seed_000 recycle=1 pLDDT=83.4 pTM=0.41 tol=0.594\n",
            "2025-10-05 19:18:57,840 alphafold2_ptm_model_3_seed_000 recycle=2 pLDDT=83.6 pTM=0.413 tol=0.559\n",
            "2025-10-05 19:19:01,599 alphafold2_ptm_model_3_seed_000 recycle=3 pLDDT=83.4 pTM=0.411 tol=0.678\n",
            "2025-10-05 19:19:01,600 alphafold2_ptm_model_3_seed_000 took 15.1s (3 recycles)\n",
            "2025-10-05 19:19:05,349 alphafold2_ptm_model_4_seed_000 recycle=0 pLDDT=78.9 pTM=0.401\n",
            "2025-10-05 19:19:09,104 alphafold2_ptm_model_4_seed_000 recycle=1 pLDDT=79.5 pTM=0.409 tol=2.03\n",
            "2025-10-05 19:19:12,845 alphafold2_ptm_model_4_seed_000 recycle=2 pLDDT=79.2 pTM=0.41 tol=0.893\n",
            "2025-10-05 19:19:16,591 alphafold2_ptm_model_4_seed_000 recycle=3 pLDDT=79.3 pTM=0.409 tol=1.02\n",
            "2025-10-05 19:19:16,592 alphafold2_ptm_model_4_seed_000 took 15.0s (3 recycles)\n",
            "2025-10-05 19:19:20,343 alphafold2_ptm_model_5_seed_000 recycle=0 pLDDT=80.4 pTM=0.401\n",
            "2025-10-05 19:19:24,092 alphafold2_ptm_model_5_seed_000 recycle=1 pLDDT=80.9 pTM=0.412 tol=0.597\n",
            "2025-10-05 19:19:27,827 alphafold2_ptm_model_5_seed_000 recycle=2 pLDDT=81.4 pTM=0.414 tol=0.365\n",
            "2025-10-05 19:19:31,571 alphafold2_ptm_model_5_seed_000 recycle=3 pLDDT=80.3 pTM=0.404 tol=0.28\n",
            "2025-10-05 19:19:31,571 alphafold2_ptm_model_5_seed_000 took 15.0s (3 recycles)\n",
            "2025-10-05 19:19:31,575 reranking models by 'plddt' metric\n",
            "2025-10-05 19:19:31,575 rank_001_alphafold2_ptm_model_3_seed_000 pLDDT=83.4 pTM=0.411\n",
            "2025-10-05 19:19:31,575 rank_002_alphafold2_ptm_model_5_seed_000 pLDDT=80.3 pTM=0.404\n",
            "2025-10-05 19:19:31,575 rank_003_alphafold2_ptm_model_4_seed_000 pLDDT=79.3 pTM=0.409\n",
            "2025-10-05 19:19:31,575 rank_004_alphafold2_ptm_model_1_seed_000 pLDDT=76.9 pTM=0.392\n",
            "2025-10-05 19:19:31,576 rank_005_alphafold2_ptm_model_2_seed_000 pLDDT=74.6 pTM=0.381\n",
            "2025-10-05 19:19:32,994 Query 28/200: seq_57_e0e9c (length 33)\n"
          ]
        },
        {
          "output_type": "stream",
          "name": "stderr",
          "text": [
            "COMPLETE: 100%|██████████| 150/150 [elapsed: 00:00 remaining: 00:00]\n"
          ]
        },
        {
          "output_type": "stream",
          "name": "stdout",
          "text": [
            "2025-10-05 19:19:33,551 Sequence 0 found no templates\n",
            "2025-10-05 19:19:35,669 Padding length to 34\n",
            "2025-10-05 19:19:39,517 alphafold2_ptm_model_1_seed_000 recycle=0 pLDDT=87.4 pTM=0.438\n",
            "2025-10-05 19:19:43,243 alphafold2_ptm_model_1_seed_000 recycle=1 pLDDT=88.9 pTM=0.46 tol=0.0998\n",
            "2025-10-05 19:19:46,973 alphafold2_ptm_model_1_seed_000 recycle=2 pLDDT=88.9 pTM=0.463 tol=0.0262\n",
            "2025-10-05 19:19:50,713 alphafold2_ptm_model_1_seed_000 recycle=3 pLDDT=88.4 pTM=0.463 tol=0.0326\n",
            "2025-10-05 19:19:50,714 alphafold2_ptm_model_1_seed_000 took 15.0s (3 recycles)\n",
            "2025-10-05 19:19:54,460 alphafold2_ptm_model_2_seed_000 recycle=0 pLDDT=82.5 pTM=0.414\n",
            "2025-10-05 19:19:58,217 alphafold2_ptm_model_2_seed_000 recycle=1 pLDDT=83.4 pTM=0.436 tol=0.0912\n",
            "2025-10-05 19:20:01,974 alphafold2_ptm_model_2_seed_000 recycle=2 pLDDT=83.4 pTM=0.441 tol=0.0399\n",
            "2025-10-05 19:20:05,738 alphafold2_ptm_model_2_seed_000 recycle=3 pLDDT=82.1 pTM=0.436 tol=0.102\n",
            "2025-10-05 19:20:05,739 alphafold2_ptm_model_2_seed_000 took 15.0s (3 recycles)\n",
            "2025-10-05 19:20:09,472 alphafold2_ptm_model_3_seed_000 recycle=0 pLDDT=81.8 pTM=0.364\n",
            "2025-10-05 19:20:13,203 alphafold2_ptm_model_3_seed_000 recycle=1 pLDDT=84.6 pTM=0.398 tol=0.0869\n",
            "2025-10-05 19:20:16,920 alphafold2_ptm_model_3_seed_000 recycle=2 pLDDT=85.8 pTM=0.407 tol=0.0337\n",
            "2025-10-05 19:20:20,645 alphafold2_ptm_model_3_seed_000 recycle=3 pLDDT=85.9 pTM=0.408 tol=0.0604\n",
            "2025-10-05 19:20:20,645 alphafold2_ptm_model_3_seed_000 took 14.9s (3 recycles)\n",
            "2025-10-05 19:20:24,365 alphafold2_ptm_model_4_seed_000 recycle=0 pLDDT=89.1 pTM=0.427\n",
            "2025-10-05 19:20:28,081 alphafold2_ptm_model_4_seed_000 recycle=1 pLDDT=90.7 pTM=0.463 tol=0.0665\n",
            "2025-10-05 19:20:31,788 alphafold2_ptm_model_4_seed_000 recycle=2 pLDDT=91.2 pTM=0.472 tol=0.0477\n",
            "2025-10-05 19:20:35,504 alphafold2_ptm_model_4_seed_000 recycle=3 pLDDT=90.9 pTM=0.471 tol=0.0346\n",
            "2025-10-05 19:20:35,505 alphafold2_ptm_model_4_seed_000 took 14.9s (3 recycles)\n",
            "2025-10-05 19:20:39,210 alphafold2_ptm_model_5_seed_000 recycle=0 pLDDT=87.2 pTM=0.419\n",
            "2025-10-05 19:20:42,916 alphafold2_ptm_model_5_seed_000 recycle=1 pLDDT=88.6 pTM=0.446 tol=0.0782\n",
            "2025-10-05 19:20:46,617 alphafold2_ptm_model_5_seed_000 recycle=2 pLDDT=89.9 pTM=0.462 tol=0.0577\n",
            "2025-10-05 19:20:50,327 alphafold2_ptm_model_5_seed_000 recycle=3 pLDDT=90.4 pTM=0.471 tol=0.0325\n",
            "2025-10-05 19:20:50,328 alphafold2_ptm_model_5_seed_000 took 14.8s (3 recycles)\n",
            "2025-10-05 19:20:50,332 reranking models by 'plddt' metric\n",
            "2025-10-05 19:20:50,332 rank_001_alphafold2_ptm_model_4_seed_000 pLDDT=90.9 pTM=0.471\n",
            "2025-10-05 19:20:50,332 rank_002_alphafold2_ptm_model_5_seed_000 pLDDT=90.4 pTM=0.471\n",
            "2025-10-05 19:20:50,332 rank_003_alphafold2_ptm_model_1_seed_000 pLDDT=88.4 pTM=0.463\n",
            "2025-10-05 19:20:50,332 rank_004_alphafold2_ptm_model_3_seed_000 pLDDT=85.9 pTM=0.408\n",
            "2025-10-05 19:20:50,333 rank_005_alphafold2_ptm_model_2_seed_000 pLDDT=82.1 pTM=0.436\n",
            "2025-10-05 19:20:51,320 Query 29/200: seq_109_4d6ed (length 33)\n"
          ]
        },
        {
          "output_type": "stream",
          "name": "stderr",
          "text": [
            "COMPLETE: 100%|██████████| 150/150 [elapsed: 00:00 remaining: 00:00]\n"
          ]
        },
        {
          "output_type": "stream",
          "name": "stdout",
          "text": [
            "2025-10-05 19:20:51,860 Sequence 0 found no templates\n",
            "2025-10-05 19:20:53,955 Padding length to 34\n",
            "2025-10-05 19:20:57,848 alphafold2_ptm_model_1_seed_000 recycle=0 pLDDT=77.3 pTM=0.371\n",
            "2025-10-05 19:21:01,584 alphafold2_ptm_model_1_seed_000 recycle=1 pLDDT=76.8 pTM=0.369 tol=0.741\n",
            "2025-10-05 19:21:05,321 alphafold2_ptm_model_1_seed_000 recycle=2 pLDDT=76.4 pTM=0.369 tol=0.354\n",
            "2025-10-05 19:21:09,066 alphafold2_ptm_model_1_seed_000 recycle=3 pLDDT=76.6 pTM=0.364 tol=0.339\n",
            "2025-10-05 19:21:09,066 alphafold2_ptm_model_1_seed_000 took 15.1s (3 recycles)\n",
            "2025-10-05 19:21:12,826 alphafold2_ptm_model_2_seed_000 recycle=0 pLDDT=75.5 pTM=0.376\n",
            "2025-10-05 19:21:16,584 alphafold2_ptm_model_2_seed_000 recycle=1 pLDDT=75 pTM=0.374 tol=0.346\n",
            "2025-10-05 19:21:20,351 alphafold2_ptm_model_2_seed_000 recycle=2 pLDDT=74.9 pTM=0.376 tol=0.125\n",
            "2025-10-05 19:21:24,127 alphafold2_ptm_model_2_seed_000 recycle=3 pLDDT=75.2 pTM=0.37 tol=0.108\n",
            "2025-10-05 19:21:24,128 alphafold2_ptm_model_2_seed_000 took 15.1s (3 recycles)\n",
            "2025-10-05 19:21:27,869 alphafold2_ptm_model_3_seed_000 recycle=0 pLDDT=79.2 pTM=0.372\n",
            "2025-10-05 19:21:31,607 alphafold2_ptm_model_3_seed_000 recycle=1 pLDDT=78.8 pTM=0.369 tol=0.674\n",
            "2025-10-05 19:21:35,332 alphafold2_ptm_model_3_seed_000 recycle=2 pLDDT=78.4 pTM=0.372 tol=0.227\n",
            "2025-10-05 19:21:39,063 alphafold2_ptm_model_3_seed_000 recycle=3 pLDDT=79.2 pTM=0.371 tol=0.0611\n",
            "2025-10-05 19:21:39,064 alphafold2_ptm_model_3_seed_000 took 14.9s (3 recycles)\n",
            "2025-10-05 19:21:42,784 alphafold2_ptm_model_4_seed_000 recycle=0 pLDDT=76.6 pTM=0.36\n",
            "2025-10-05 19:21:46,511 alphafold2_ptm_model_4_seed_000 recycle=1 pLDDT=75.4 pTM=0.361 tol=1.31\n",
            "2025-10-05 19:21:50,225 alphafold2_ptm_model_4_seed_000 recycle=2 pLDDT=75.3 pTM=0.365 tol=0.164\n",
            "2025-10-05 19:21:53,949 alphafold2_ptm_model_4_seed_000 recycle=3 pLDDT=75.4 pTM=0.367 tol=0.158\n",
            "2025-10-05 19:21:53,950 alphafold2_ptm_model_4_seed_000 took 14.9s (3 recycles)\n",
            "2025-10-05 19:21:57,673 alphafold2_ptm_model_5_seed_000 recycle=0 pLDDT=78.5 pTM=0.39\n",
            "2025-10-05 19:22:01,393 alphafold2_ptm_model_5_seed_000 recycle=1 pLDDT=78 pTM=0.384 tol=0.439\n",
            "2025-10-05 19:22:05,104 alphafold2_ptm_model_5_seed_000 recycle=2 pLDDT=78.1 pTM=0.39 tol=0.224\n",
            "2025-10-05 19:22:08,831 alphafold2_ptm_model_5_seed_000 recycle=3 pLDDT=78.9 pTM=0.392 tol=0.205\n",
            "2025-10-05 19:22:08,832 alphafold2_ptm_model_5_seed_000 took 14.9s (3 recycles)\n",
            "2025-10-05 19:22:08,838 reranking models by 'plddt' metric\n",
            "2025-10-05 19:22:08,839 rank_001_alphafold2_ptm_model_3_seed_000 pLDDT=79.2 pTM=0.371\n",
            "2025-10-05 19:22:08,839 rank_002_alphafold2_ptm_model_5_seed_000 pLDDT=78.9 pTM=0.392\n",
            "2025-10-05 19:22:08,839 rank_003_alphafold2_ptm_model_1_seed_000 pLDDT=76.6 pTM=0.364\n",
            "2025-10-05 19:22:08,839 rank_004_alphafold2_ptm_model_4_seed_000 pLDDT=75.4 pTM=0.367\n",
            "2025-10-05 19:22:08,839 rank_005_alphafold2_ptm_model_2_seed_000 pLDDT=75.2 pTM=0.37\n",
            "2025-10-05 19:22:10,173 Query 30/200: seq_140_d716a (length 33)\n"
          ]
        },
        {
          "output_type": "stream",
          "name": "stderr",
          "text": [
            "COMPLETE: 100%|██████████| 150/150 [elapsed: 00:00 remaining: 00:00]\n"
          ]
        },
        {
          "output_type": "stream",
          "name": "stdout",
          "text": [
            "2025-10-05 19:22:10,864 Sequence 0 found no templates\n",
            "2025-10-05 19:22:13,180 Padding length to 34\n",
            "2025-10-05 19:22:17,126 alphafold2_ptm_model_1_seed_000 recycle=0 pLDDT=79.1 pTM=0.379\n",
            "2025-10-05 19:22:20,901 alphafold2_ptm_model_1_seed_000 recycle=1 pLDDT=78.6 pTM=0.38 tol=0.383\n",
            "2025-10-05 19:22:24,690 alphafold2_ptm_model_1_seed_000 recycle=2 pLDDT=78.4 pTM=0.38 tol=0.206\n",
            "2025-10-05 19:22:28,498 alphafold2_ptm_model_1_seed_000 recycle=3 pLDDT=78.2 pTM=0.379 tol=0.0875\n",
            "2025-10-05 19:22:28,499 alphafold2_ptm_model_1_seed_000 took 15.3s (3 recycles)\n",
            "2025-10-05 19:22:32,313 alphafold2_ptm_model_2_seed_000 recycle=0 pLDDT=76.9 pTM=0.357\n",
            "2025-10-05 19:22:36,129 alphafold2_ptm_model_2_seed_000 recycle=1 pLDDT=75.9 pTM=0.365 tol=0.897\n",
            "2025-10-05 19:22:39,949 alphafold2_ptm_model_2_seed_000 recycle=2 pLDDT=75.8 pTM=0.368 tol=0.18\n",
            "2025-10-05 19:22:43,774 alphafold2_ptm_model_2_seed_000 recycle=3 pLDDT=75.6 pTM=0.363 tol=0.0609\n",
            "2025-10-05 19:22:43,775 alphafold2_ptm_model_2_seed_000 took 15.3s (3 recycles)\n",
            "2025-10-05 19:22:47,571 alphafold2_ptm_model_3_seed_000 recycle=0 pLDDT=85.6 pTM=0.397\n",
            "2025-10-05 19:22:51,360 alphafold2_ptm_model_3_seed_000 recycle=1 pLDDT=85.7 pTM=0.41 tol=0.185\n",
            "2025-10-05 19:22:55,138 alphafold2_ptm_model_3_seed_000 recycle=2 pLDDT=86.3 pTM=0.408 tol=0.0873\n",
            "2025-10-05 19:22:58,919 alphafold2_ptm_model_3_seed_000 recycle=3 pLDDT=85.8 pTM=0.41 tol=0.105\n",
            "2025-10-05 19:22:58,920 alphafold2_ptm_model_3_seed_000 took 15.1s (3 recycles)\n",
            "2025-10-05 19:23:02,694 alphafold2_ptm_model_4_seed_000 recycle=0 pLDDT=82 pTM=0.395\n",
            "2025-10-05 19:23:06,466 alphafold2_ptm_model_4_seed_000 recycle=1 pLDDT=81.4 pTM=0.403 tol=0.733\n",
            "2025-10-05 19:23:10,233 alphafold2_ptm_model_4_seed_000 recycle=2 pLDDT=81.1 pTM=0.403 tol=0.21\n",
            "2025-10-05 19:23:14,003 alphafold2_ptm_model_4_seed_000 recycle=3 pLDDT=80.9 pTM=0.404 tol=0.151\n",
            "2025-10-05 19:23:14,004 alphafold2_ptm_model_4_seed_000 took 15.1s (3 recycles)\n",
            "2025-10-05 19:23:17,764 alphafold2_ptm_model_5_seed_000 recycle=0 pLDDT=79.4 pTM=0.388\n",
            "2025-10-05 19:23:21,529 alphafold2_ptm_model_5_seed_000 recycle=1 pLDDT=79.3 pTM=0.396 tol=0.422\n",
            "2025-10-05 19:23:25,284 alphafold2_ptm_model_5_seed_000 recycle=2 pLDDT=79.8 pTM=0.396 tol=0.293\n",
            "2025-10-05 19:23:29,045 alphafold2_ptm_model_5_seed_000 recycle=3 pLDDT=79.6 pTM=0.398 tol=0.118\n",
            "2025-10-05 19:23:29,046 alphafold2_ptm_model_5_seed_000 took 15.0s (3 recycles)\n",
            "2025-10-05 19:23:29,050 reranking models by 'plddt' metric\n",
            "2025-10-05 19:23:29,050 rank_001_alphafold2_ptm_model_3_seed_000 pLDDT=85.8 pTM=0.41\n",
            "2025-10-05 19:23:29,050 rank_002_alphafold2_ptm_model_4_seed_000 pLDDT=80.9 pTM=0.404\n",
            "2025-10-05 19:23:29,050 rank_003_alphafold2_ptm_model_5_seed_000 pLDDT=79.6 pTM=0.398\n",
            "2025-10-05 19:23:29,050 rank_004_alphafold2_ptm_model_1_seed_000 pLDDT=78.2 pTM=0.379\n",
            "2025-10-05 19:23:29,050 rank_005_alphafold2_ptm_model_2_seed_000 pLDDT=75.6 pTM=0.363\n",
            "2025-10-05 19:23:29,976 Query 31/200: seq_143_3a352 (length 33)\n"
          ]
        },
        {
          "output_type": "stream",
          "name": "stderr",
          "text": [
            "COMPLETE: 100%|██████████| 150/150 [elapsed: 00:00 remaining: 00:00]\n"
          ]
        },
        {
          "output_type": "stream",
          "name": "stdout",
          "text": [
            "2025-10-05 19:23:30,530 Sequence 0 found no templates\n",
            "2025-10-05 19:23:32,955 Padding length to 34\n",
            "2025-10-05 19:23:36,876 alphafold2_ptm_model_1_seed_000 recycle=0 pLDDT=82.1 pTM=0.408\n",
            "2025-10-05 19:23:40,648 alphafold2_ptm_model_1_seed_000 recycle=1 pLDDT=79.5 pTM=0.397 tol=0.191\n",
            "2025-10-05 19:23:44,423 alphafold2_ptm_model_1_seed_000 recycle=2 pLDDT=79.2 pTM=0.4 tol=0.0848\n",
            "2025-10-05 19:23:48,215 alphafold2_ptm_model_1_seed_000 recycle=3 pLDDT=79.4 pTM=0.403 tol=0.114\n",
            "2025-10-05 19:23:48,216 alphafold2_ptm_model_1_seed_000 took 15.3s (3 recycles)\n",
            "2025-10-05 19:23:52,015 alphafold2_ptm_model_2_seed_000 recycle=0 pLDDT=78.4 pTM=0.4\n",
            "2025-10-05 19:23:55,824 alphafold2_ptm_model_2_seed_000 recycle=1 pLDDT=78.1 pTM=0.398 tol=0.102\n",
            "2025-10-05 19:23:59,637 alphafold2_ptm_model_2_seed_000 recycle=2 pLDDT=78.1 pTM=0.396 tol=0.106\n",
            "2025-10-05 19:24:03,456 alphafold2_ptm_model_2_seed_000 recycle=3 pLDDT=78.8 pTM=0.405 tol=0.102\n",
            "2025-10-05 19:24:03,456 alphafold2_ptm_model_2_seed_000 took 15.2s (3 recycles)\n",
            "2025-10-05 19:24:07,245 alphafold2_ptm_model_3_seed_000 recycle=0 pLDDT=86.4 pTM=0.417\n",
            "2025-10-05 19:24:11,029 alphafold2_ptm_model_3_seed_000 recycle=1 pLDDT=86 pTM=0.413 tol=0.0825\n",
            "2025-10-05 19:24:14,797 alphafold2_ptm_model_3_seed_000 recycle=2 pLDDT=85.2 pTM=0.412 tol=0.0596\n",
            "2025-10-05 19:24:18,570 alphafold2_ptm_model_3_seed_000 recycle=3 pLDDT=85.3 pTM=0.414 tol=0.028\n",
            "2025-10-05 19:24:18,571 alphafold2_ptm_model_3_seed_000 took 15.1s (3 recycles)\n",
            "2025-10-05 19:24:22,341 alphafold2_ptm_model_4_seed_000 recycle=0 pLDDT=82.7 pTM=0.422\n",
            "2025-10-05 19:24:26,109 alphafold2_ptm_model_4_seed_000 recycle=1 pLDDT=82.6 pTM=0.426 tol=0.263\n",
            "2025-10-05 19:24:29,859 alphafold2_ptm_model_4_seed_000 recycle=2 pLDDT=82.6 pTM=0.427 tol=0.0793\n",
            "2025-10-05 19:24:33,623 alphafold2_ptm_model_4_seed_000 recycle=3 pLDDT=82.9 pTM=0.428 tol=0.0467\n",
            "2025-10-05 19:24:33,623 alphafold2_ptm_model_4_seed_000 took 15.0s (3 recycles)\n",
            "2025-10-05 19:24:37,382 alphafold2_ptm_model_5_seed_000 recycle=0 pLDDT=85.7 pTM=0.443\n",
            "2025-10-05 19:24:41,141 alphafold2_ptm_model_5_seed_000 recycle=1 pLDDT=84.9 pTM=0.44 tol=0.115\n",
            "2025-10-05 19:24:44,889 alphafold2_ptm_model_5_seed_000 recycle=2 pLDDT=85.1 pTM=0.441 tol=0.0472\n",
            "2025-10-05 19:24:48,647 alphafold2_ptm_model_5_seed_000 recycle=3 pLDDT=84.6 pTM=0.435 tol=0.0662\n",
            "2025-10-05 19:24:48,647 alphafold2_ptm_model_5_seed_000 took 15.0s (3 recycles)\n",
            "2025-10-05 19:24:48,651 reranking models by 'plddt' metric\n",
            "2025-10-05 19:24:48,652 rank_001_alphafold2_ptm_model_3_seed_000 pLDDT=85.3 pTM=0.414\n",
            "2025-10-05 19:24:48,652 rank_002_alphafold2_ptm_model_5_seed_000 pLDDT=84.6 pTM=0.435\n",
            "2025-10-05 19:24:48,652 rank_003_alphafold2_ptm_model_4_seed_000 pLDDT=82.9 pTM=0.428\n",
            "2025-10-05 19:24:48,652 rank_004_alphafold2_ptm_model_1_seed_000 pLDDT=79.4 pTM=0.403\n",
            "2025-10-05 19:24:48,652 rank_005_alphafold2_ptm_model_2_seed_000 pLDDT=78.8 pTM=0.405\n",
            "2025-10-05 19:24:49,677 Query 32/200: seq_157_02b58 (length 33)\n"
          ]
        },
        {
          "output_type": "stream",
          "name": "stderr",
          "text": [
            "COMPLETE: 100%|██████████| 150/150 [elapsed: 00:00 remaining: 00:00]\n"
          ]
        },
        {
          "output_type": "stream",
          "name": "stdout",
          "text": [
            "2025-10-05 19:24:50,226 Sequence 0 found no templates\n",
            "2025-10-05 19:24:52,315 Padding length to 34\n",
            "2025-10-05 19:24:56,185 alphafold2_ptm_model_1_seed_000 recycle=0 pLDDT=90 pTM=0.421\n",
            "2025-10-05 19:24:59,926 alphafold2_ptm_model_1_seed_000 recycle=1 pLDDT=90.9 pTM=0.433 tol=0.0467\n",
            "2025-10-05 19:25:03,671 alphafold2_ptm_model_1_seed_000 recycle=2 pLDDT=90.8 pTM=0.433 tol=0.0412\n",
            "2025-10-05 19:25:07,419 alphafold2_ptm_model_1_seed_000 recycle=3 pLDDT=90.8 pTM=0.439 tol=0.0264\n",
            "2025-10-05 19:25:07,419 alphafold2_ptm_model_1_seed_000 took 15.1s (3 recycles)\n",
            "2025-10-05 19:25:11,178 alphafold2_ptm_model_2_seed_000 recycle=0 pLDDT=86.2 pTM=0.398\n",
            "2025-10-05 19:25:14,945 alphafold2_ptm_model_2_seed_000 recycle=1 pLDDT=86.3 pTM=0.409 tol=0.0613\n",
            "2025-10-05 19:25:18,718 alphafold2_ptm_model_2_seed_000 recycle=2 pLDDT=85.8 pTM=0.402 tol=0.0689\n",
            "2025-10-05 19:25:22,497 alphafold2_ptm_model_2_seed_000 recycle=3 pLDDT=85.5 pTM=0.406 tol=0.041\n",
            "2025-10-05 19:25:22,497 alphafold2_ptm_model_2_seed_000 took 15.1s (3 recycles)\n",
            "2025-10-05 19:25:26,250 alphafold2_ptm_model_3_seed_000 recycle=0 pLDDT=91.4 pTM=0.402\n",
            "2025-10-05 19:25:29,994 alphafold2_ptm_model_3_seed_000 recycle=1 pLDDT=91.6 pTM=0.414 tol=0.0509\n",
            "2025-10-05 19:25:33,723 alphafold2_ptm_model_3_seed_000 recycle=2 pLDDT=91.1 pTM=0.399 tol=0.0862\n",
            "2025-10-05 19:25:37,465 alphafold2_ptm_model_3_seed_000 recycle=3 pLDDT=90.5 pTM=0.396 tol=0.0786\n",
            "2025-10-05 19:25:37,465 alphafold2_ptm_model_3_seed_000 took 15.0s (3 recycles)\n",
            "2025-10-05 19:25:41,198 alphafold2_ptm_model_4_seed_000 recycle=0 pLDDT=92.7 pTM=0.443\n",
            "2025-10-05 19:25:44,934 alphafold2_ptm_model_4_seed_000 recycle=1 pLDDT=92.7 pTM=0.45 tol=0.0734\n",
            "2025-10-05 19:25:48,658 alphafold2_ptm_model_4_seed_000 recycle=2 pLDDT=92.8 pTM=0.45 tol=0.0564\n",
            "2025-10-05 19:25:52,386 alphafold2_ptm_model_4_seed_000 recycle=3 pLDDT=92.1 pTM=0.444 tol=0.0334\n",
            "2025-10-05 19:25:52,387 alphafold2_ptm_model_4_seed_000 took 14.9s (3 recycles)\n",
            "2025-10-05 19:25:56,113 alphafold2_ptm_model_5_seed_000 recycle=0 pLDDT=89.8 pTM=0.394\n",
            "2025-10-05 19:25:59,841 alphafold2_ptm_model_5_seed_000 recycle=1 pLDDT=89.4 pTM=0.403 tol=0.058\n",
            "2025-10-05 19:26:03,558 alphafold2_ptm_model_5_seed_000 recycle=2 pLDDT=88.9 pTM=0.4 tol=0.0554\n",
            "2025-10-05 19:26:07,281 alphafold2_ptm_model_5_seed_000 recycle=3 pLDDT=88.4 pTM=0.403 tol=0.032\n",
            "2025-10-05 19:26:07,282 alphafold2_ptm_model_5_seed_000 took 14.9s (3 recycles)\n",
            "2025-10-05 19:26:07,286 reranking models by 'plddt' metric\n",
            "2025-10-05 19:26:07,286 rank_001_alphafold2_ptm_model_4_seed_000 pLDDT=92.1 pTM=0.444\n",
            "2025-10-05 19:26:07,287 rank_002_alphafold2_ptm_model_1_seed_000 pLDDT=90.8 pTM=0.439\n",
            "2025-10-05 19:26:07,287 rank_003_alphafold2_ptm_model_3_seed_000 pLDDT=90.5 pTM=0.396\n",
            "2025-10-05 19:26:07,287 rank_004_alphafold2_ptm_model_5_seed_000 pLDDT=88.4 pTM=0.403\n",
            "2025-10-05 19:26:07,287 rank_005_alphafold2_ptm_model_2_seed_000 pLDDT=85.5 pTM=0.406\n",
            "2025-10-05 19:26:08,224 Query 33/200: seq_172_77a64 (length 33)\n"
          ]
        },
        {
          "output_type": "stream",
          "name": "stderr",
          "text": [
            "COMPLETE: 100%|██████████| 150/150 [elapsed: 00:00 remaining: 00:00]\n"
          ]
        },
        {
          "output_type": "stream",
          "name": "stdout",
          "text": [
            "2025-10-05 19:26:08,813 Sequence 0 found no templates\n",
            "2025-10-05 19:26:11,804 Padding length to 34\n",
            "2025-10-05 19:26:15,729 alphafold2_ptm_model_1_seed_000 recycle=0 pLDDT=81.4 pTM=0.408\n",
            "2025-10-05 19:26:19,510 alphafold2_ptm_model_1_seed_000 recycle=1 pLDDT=80.3 pTM=0.408 tol=0.134\n",
            "2025-10-05 19:26:23,299 alphafold2_ptm_model_1_seed_000 recycle=2 pLDDT=80.2 pTM=0.409 tol=0.0845\n",
            "2025-10-05 19:26:27,090 alphafold2_ptm_model_1_seed_000 recycle=3 pLDDT=80.1 pTM=0.407 tol=0.0716\n",
            "2025-10-05 19:26:27,091 alphafold2_ptm_model_1_seed_000 took 15.3s (3 recycles)\n",
            "2025-10-05 19:26:30,896 alphafold2_ptm_model_2_seed_000 recycle=0 pLDDT=80.1 pTM=0.389\n",
            "2025-10-05 19:26:34,711 alphafold2_ptm_model_2_seed_000 recycle=1 pLDDT=79.6 pTM=0.398 tol=0.127\n",
            "2025-10-05 19:26:38,533 alphafold2_ptm_model_2_seed_000 recycle=2 pLDDT=79.2 pTM=0.397 tol=0.137\n",
            "2025-10-05 19:26:42,355 alphafold2_ptm_model_2_seed_000 recycle=3 pLDDT=79.3 pTM=0.398 tol=0.0682\n",
            "2025-10-05 19:26:42,356 alphafold2_ptm_model_2_seed_000 took 15.3s (3 recycles)\n",
            "2025-10-05 19:26:46,156 alphafold2_ptm_model_3_seed_000 recycle=0 pLDDT=86.2 pTM=0.408\n",
            "2025-10-05 19:26:49,951 alphafold2_ptm_model_3_seed_000 recycle=1 pLDDT=86.2 pTM=0.411 tol=0.111\n",
            "2025-10-05 19:26:53,725 alphafold2_ptm_model_3_seed_000 recycle=2 pLDDT=86.5 pTM=0.413 tol=0.0757\n",
            "2025-10-05 19:26:57,505 alphafold2_ptm_model_3_seed_000 recycle=3 pLDDT=86.2 pTM=0.413 tol=0.0895\n",
            "2025-10-05 19:26:57,506 alphafold2_ptm_model_3_seed_000 took 15.1s (3 recycles)\n",
            "2025-10-05 19:27:01,277 alphafold2_ptm_model_4_seed_000 recycle=0 pLDDT=81.9 pTM=0.417\n",
            "2025-10-05 19:27:05,047 alphafold2_ptm_model_4_seed_000 recycle=1 pLDDT=81 pTM=0.414 tol=0.151\n",
            "2025-10-05 19:27:08,804 alphafold2_ptm_model_4_seed_000 recycle=2 pLDDT=81.8 pTM=0.418 tol=0.317\n",
            "2025-10-05 19:27:12,571 alphafold2_ptm_model_4_seed_000 recycle=3 pLDDT=82.1 pTM=0.42 tol=0.152\n",
            "2025-10-05 19:27:12,571 alphafold2_ptm_model_4_seed_000 took 15.1s (3 recycles)\n",
            "2025-10-05 19:27:16,333 alphafold2_ptm_model_5_seed_000 recycle=0 pLDDT=81.9 pTM=0.418\n",
            "2025-10-05 19:27:20,097 alphafold2_ptm_model_5_seed_000 recycle=1 pLDDT=81.5 pTM=0.418 tol=0.177\n",
            "2025-10-05 19:27:23,856 alphafold2_ptm_model_5_seed_000 recycle=2 pLDDT=81.9 pTM=0.421 tol=0.102\n",
            "2025-10-05 19:27:27,619 alphafold2_ptm_model_5_seed_000 recycle=3 pLDDT=82.4 pTM=0.423 tol=0.118\n",
            "2025-10-05 19:27:27,620 alphafold2_ptm_model_5_seed_000 took 15.0s (3 recycles)\n",
            "2025-10-05 19:27:27,624 reranking models by 'plddt' metric\n",
            "2025-10-05 19:27:27,624 rank_001_alphafold2_ptm_model_3_seed_000 pLDDT=86.2 pTM=0.413\n",
            "2025-10-05 19:27:27,624 rank_002_alphafold2_ptm_model_5_seed_000 pLDDT=82.4 pTM=0.423\n",
            "2025-10-05 19:27:27,624 rank_003_alphafold2_ptm_model_4_seed_000 pLDDT=82.1 pTM=0.42\n",
            "2025-10-05 19:27:27,624 rank_004_alphafold2_ptm_model_1_seed_000 pLDDT=80.1 pTM=0.407\n",
            "2025-10-05 19:27:27,625 rank_005_alphafold2_ptm_model_2_seed_000 pLDDT=79.3 pTM=0.398\n",
            "2025-10-05 19:27:28,635 Query 34/200: seq_183_68bad (length 33)\n"
          ]
        },
        {
          "output_type": "stream",
          "name": "stderr",
          "text": [
            "COMPLETE: 100%|██████████| 150/150 [elapsed: 00:00 remaining: 00:00]\n"
          ]
        },
        {
          "output_type": "stream",
          "name": "stdout",
          "text": [
            "2025-10-05 19:27:29,170 Sequence 0 found no templates\n",
            "2025-10-05 19:27:31,271 Padding length to 34\n",
            "2025-10-05 19:27:35,162 alphafold2_ptm_model_1_seed_000 recycle=0 pLDDT=85.7 pTM=0.43\n",
            "2025-10-05 19:27:38,893 alphafold2_ptm_model_1_seed_000 recycle=1 pLDDT=85.9 pTM=0.435 tol=0.29\n",
            "2025-10-05 19:27:42,623 alphafold2_ptm_model_1_seed_000 recycle=2 pLDDT=85.6 pTM=0.434 tol=0.0851\n",
            "2025-10-05 19:27:46,364 alphafold2_ptm_model_1_seed_000 recycle=3 pLDDT=85.6 pTM=0.431 tol=0.116\n",
            "2025-10-05 19:27:46,364 alphafold2_ptm_model_1_seed_000 took 15.1s (3 recycles)\n",
            "2025-10-05 19:27:50,116 alphafold2_ptm_model_2_seed_000 recycle=0 pLDDT=85.4 pTM=0.434\n",
            "2025-10-05 19:27:53,866 alphafold2_ptm_model_2_seed_000 recycle=1 pLDDT=85.4 pTM=0.44 tol=0.0672\n",
            "2025-10-05 19:27:57,625 alphafold2_ptm_model_2_seed_000 recycle=2 pLDDT=85.1 pTM=0.433 tol=0.0797\n",
            "2025-10-05 19:28:01,384 alphafold2_ptm_model_2_seed_000 recycle=3 pLDDT=84.9 pTM=0.43 tol=0.0832\n",
            "2025-10-05 19:28:01,385 alphafold2_ptm_model_2_seed_000 took 15.0s (3 recycles)\n",
            "2025-10-05 19:28:05,113 alphafold2_ptm_model_3_seed_000 recycle=0 pLDDT=87.9 pTM=0.427\n",
            "2025-10-05 19:28:08,844 alphafold2_ptm_model_3_seed_000 recycle=1 pLDDT=88.2 pTM=0.437 tol=0.135\n",
            "2025-10-05 19:28:12,556 alphafold2_ptm_model_3_seed_000 recycle=2 pLDDT=88.2 pTM=0.432 tol=0.0911\n",
            "2025-10-05 19:28:16,281 alphafold2_ptm_model_3_seed_000 recycle=3 pLDDT=88.6 pTM=0.436 tol=0.0597\n",
            "2025-10-05 19:28:16,282 alphafold2_ptm_model_3_seed_000 took 14.9s (3 recycles)\n",
            "2025-10-05 19:28:19,999 alphafold2_ptm_model_4_seed_000 recycle=0 pLDDT=89.1 pTM=0.422\n",
            "2025-10-05 19:28:23,721 alphafold2_ptm_model_4_seed_000 recycle=1 pLDDT=88.8 pTM=0.421 tol=0.0725\n",
            "2025-10-05 19:28:27,425 alphafold2_ptm_model_4_seed_000 recycle=2 pLDDT=88.9 pTM=0.422 tol=0.0542\n",
            "2025-10-05 19:28:31,132 alphafold2_ptm_model_4_seed_000 recycle=3 pLDDT=89.3 pTM=0.43 tol=0.137\n",
            "2025-10-05 19:28:31,132 alphafold2_ptm_model_4_seed_000 took 14.8s (3 recycles)\n",
            "2025-10-05 19:28:34,842 alphafold2_ptm_model_5_seed_000 recycle=0 pLDDT=89.1 pTM=0.453\n",
            "2025-10-05 19:28:38,556 alphafold2_ptm_model_5_seed_000 recycle=1 pLDDT=90.1 pTM=0.46 tol=0.0857\n",
            "2025-10-05 19:28:42,256 alphafold2_ptm_model_5_seed_000 recycle=2 pLDDT=90.2 pTM=0.455 tol=0.0582\n",
            "2025-10-05 19:28:45,969 alphafold2_ptm_model_5_seed_000 recycle=3 pLDDT=90.6 pTM=0.456 tol=0.0974\n",
            "2025-10-05 19:28:45,970 alphafold2_ptm_model_5_seed_000 took 14.8s (3 recycles)\n",
            "2025-10-05 19:28:45,974 reranking models by 'plddt' metric\n",
            "2025-10-05 19:28:45,974 rank_001_alphafold2_ptm_model_5_seed_000 pLDDT=90.6 pTM=0.456\n",
            "2025-10-05 19:28:45,974 rank_002_alphafold2_ptm_model_4_seed_000 pLDDT=89.3 pTM=0.43\n",
            "2025-10-05 19:28:45,974 rank_003_alphafold2_ptm_model_3_seed_000 pLDDT=88.6 pTM=0.436\n",
            "2025-10-05 19:28:45,975 rank_004_alphafold2_ptm_model_1_seed_000 pLDDT=85.6 pTM=0.431\n",
            "2025-10-05 19:28:45,975 rank_005_alphafold2_ptm_model_2_seed_000 pLDDT=84.9 pTM=0.43\n",
            "2025-10-05 19:28:47,347 Query 35/200: seq_75_e9f58 (length 34)\n"
          ]
        },
        {
          "output_type": "stream",
          "name": "stderr",
          "text": [
            "COMPLETE: 100%|██████████| 150/150 [elapsed: 00:00 remaining: 00:00]\n"
          ]
        },
        {
          "output_type": "stream",
          "name": "stdout",
          "text": [
            "2025-10-05 19:28:47,899 Sequence 0 found no templates\n",
            "2025-10-05 19:28:54,006 alphafold2_ptm_model_1_seed_000 recycle=0 pLDDT=72.9 pTM=0.275\n",
            "2025-10-05 19:28:57,740 alphafold2_ptm_model_1_seed_000 recycle=1 pLDDT=78.2 pTM=0.325 tol=0.154\n",
            "2025-10-05 19:29:01,484 alphafold2_ptm_model_1_seed_000 recycle=2 pLDDT=78.2 pTM=0.321 tol=0.0446\n",
            "2025-10-05 19:29:05,229 alphafold2_ptm_model_1_seed_000 recycle=3 pLDDT=78.5 pTM=0.331 tol=0.0959\n",
            "2025-10-05 19:29:05,230 alphafold2_ptm_model_1_seed_000 took 15.1s (3 recycles)\n",
            "2025-10-05 19:29:08,987 alphafold2_ptm_model_2_seed_000 recycle=0 pLDDT=61.6 pTM=0.259\n",
            "2025-10-05 19:29:12,747 alphafold2_ptm_model_2_seed_000 recycle=1 pLDDT=66 pTM=0.285 tol=0.229\n",
            "2025-10-05 19:29:16,516 alphafold2_ptm_model_2_seed_000 recycle=2 pLDDT=68.1 pTM=0.293 tol=0.0829\n",
            "2025-10-05 19:29:20,286 alphafold2_ptm_model_2_seed_000 recycle=3 pLDDT=67.2 pTM=0.285 tol=0.0854\n",
            "2025-10-05 19:29:20,287 alphafold2_ptm_model_2_seed_000 took 15.1s (3 recycles)\n",
            "2025-10-05 19:29:24,038 alphafold2_ptm_model_3_seed_000 recycle=0 pLDDT=68.1 pTM=0.271\n",
            "2025-10-05 19:29:27,778 alphafold2_ptm_model_3_seed_000 recycle=1 pLDDT=72.8 pTM=0.288 tol=2.54\n",
            "2025-10-05 19:29:31,503 alphafold2_ptm_model_3_seed_000 recycle=2 pLDDT=83.3 pTM=0.337 tol=1.18\n",
            "2025-10-05 19:29:35,238 alphafold2_ptm_model_3_seed_000 recycle=3 pLDDT=84.8 pTM=0.349 tol=0.18\n",
            "2025-10-05 19:29:35,239 alphafold2_ptm_model_3_seed_000 took 14.9s (3 recycles)\n",
            "2025-10-05 19:29:38,968 alphafold2_ptm_model_4_seed_000 recycle=0 pLDDT=61.3 pTM=0.273\n",
            "2025-10-05 19:29:42,689 alphafold2_ptm_model_4_seed_000 recycle=1 pLDDT=63.3 pTM=0.289 tol=0.767\n",
            "2025-10-05 19:29:46,403 alphafold2_ptm_model_4_seed_000 recycle=2 pLDDT=71.4 pTM=0.318 tol=1.97\n",
            "2025-10-05 19:29:50,128 alphafold2_ptm_model_4_seed_000 recycle=3 pLDDT=73.3 pTM=0.326 tol=0.257\n",
            "2025-10-05 19:29:50,129 alphafold2_ptm_model_4_seed_000 took 14.9s (3 recycles)\n",
            "2025-10-05 19:29:53,843 alphafold2_ptm_model_5_seed_000 recycle=0 pLDDT=70.7 pTM=0.291\n",
            "2025-10-05 19:29:57,560 alphafold2_ptm_model_5_seed_000 recycle=1 pLDDT=73.1 pTM=0.286 tol=0.262\n",
            "2025-10-05 19:30:01,271 alphafold2_ptm_model_5_seed_000 recycle=2 pLDDT=74.7 pTM=0.293 tol=0.0737\n",
            "2025-10-05 19:30:04,988 alphafold2_ptm_model_5_seed_000 recycle=3 pLDDT=75.5 pTM=0.298 tol=0.0686\n",
            "2025-10-05 19:30:04,989 alphafold2_ptm_model_5_seed_000 took 14.9s (3 recycles)\n",
            "2025-10-05 19:30:04,993 reranking models by 'plddt' metric\n",
            "2025-10-05 19:30:04,993 rank_001_alphafold2_ptm_model_3_seed_000 pLDDT=84.8 pTM=0.349\n",
            "2025-10-05 19:30:04,993 rank_002_alphafold2_ptm_model_1_seed_000 pLDDT=78.5 pTM=0.331\n",
            "2025-10-05 19:30:04,994 rank_003_alphafold2_ptm_model_5_seed_000 pLDDT=75.5 pTM=0.298\n",
            "2025-10-05 19:30:04,994 rank_004_alphafold2_ptm_model_4_seed_000 pLDDT=73.3 pTM=0.326\n",
            "2025-10-05 19:30:04,994 rank_005_alphafold2_ptm_model_2_seed_000 pLDDT=67.2 pTM=0.285\n",
            "2025-10-05 19:30:05,997 Query 36/200: seq_121_edfef (length 34)\n"
          ]
        },
        {
          "output_type": "stream",
          "name": "stderr",
          "text": [
            "COMPLETE: 100%|██████████| 150/150 [elapsed: 00:00 remaining: 00:00]\n"
          ]
        },
        {
          "output_type": "stream",
          "name": "stdout",
          "text": [
            "2025-10-05 19:30:06,737 Sequence 0 found no templates\n",
            "2025-10-05 19:30:12,882 alphafold2_ptm_model_1_seed_000 recycle=0 pLDDT=80.2 pTM=0.408\n",
            "2025-10-05 19:30:16,665 alphafold2_ptm_model_1_seed_000 recycle=1 pLDDT=79.6 pTM=0.409 tol=0.172\n",
            "2025-10-05 19:30:20,455 alphafold2_ptm_model_1_seed_000 recycle=2 pLDDT=79.3 pTM=0.404 tol=0.0674\n",
            "2025-10-05 19:30:24,248 alphafold2_ptm_model_1_seed_000 recycle=3 pLDDT=79.1 pTM=0.402 tol=0.0621\n",
            "2025-10-05 19:30:24,248 alphafold2_ptm_model_1_seed_000 took 15.3s (3 recycles)\n",
            "2025-10-05 19:30:28,059 alphafold2_ptm_model_2_seed_000 recycle=0 pLDDT=78.6 pTM=0.402\n",
            "2025-10-05 19:30:31,872 alphafold2_ptm_model_2_seed_000 recycle=1 pLDDT=78.1 pTM=0.411 tol=0.183\n",
            "2025-10-05 19:30:35,700 alphafold2_ptm_model_2_seed_000 recycle=2 pLDDT=77.7 pTM=0.408 tol=0.0679\n",
            "2025-10-05 19:30:39,521 alphafold2_ptm_model_2_seed_000 recycle=3 pLDDT=77.5 pTM=0.408 tol=0.0805\n",
            "2025-10-05 19:30:39,522 alphafold2_ptm_model_2_seed_000 took 15.3s (3 recycles)\n",
            "2025-10-05 19:30:43,315 alphafold2_ptm_model_3_seed_000 recycle=0 pLDDT=85 pTM=0.437\n",
            "2025-10-05 19:30:47,107 alphafold2_ptm_model_3_seed_000 recycle=1 pLDDT=84.6 pTM=0.438 tol=0.0926\n",
            "2025-10-05 19:30:50,890 alphafold2_ptm_model_3_seed_000 recycle=2 pLDDT=84.4 pTM=0.435 tol=0.0789\n",
            "2025-10-05 19:30:54,669 alphafold2_ptm_model_3_seed_000 recycle=3 pLDDT=85.1 pTM=0.439 tol=0.0909\n",
            "2025-10-05 19:30:54,669 alphafold2_ptm_model_3_seed_000 took 15.1s (3 recycles)\n",
            "2025-10-05 19:30:58,442 alphafold2_ptm_model_4_seed_000 recycle=0 pLDDT=82.6 pTM=0.454\n",
            "2025-10-05 19:31:02,216 alphafold2_ptm_model_4_seed_000 recycle=1 pLDDT=82 pTM=0.456 tol=0.167\n",
            "2025-10-05 19:31:05,978 alphafold2_ptm_model_4_seed_000 recycle=2 pLDDT=82.1 pTM=0.456 tol=0.0707\n",
            "2025-10-05 19:31:09,746 alphafold2_ptm_model_4_seed_000 recycle=3 pLDDT=82.2 pTM=0.457 tol=0.0885\n",
            "2025-10-05 19:31:09,747 alphafold2_ptm_model_4_seed_000 took 15.1s (3 recycles)\n",
            "2025-10-05 19:31:13,514 alphafold2_ptm_model_5_seed_000 recycle=0 pLDDT=83.3 pTM=0.445\n",
            "2025-10-05 19:31:17,282 alphafold2_ptm_model_5_seed_000 recycle=1 pLDDT=83.3 pTM=0.451 tol=0.172\n",
            "2025-10-05 19:31:21,036 alphafold2_ptm_model_5_seed_000 recycle=2 pLDDT=83.1 pTM=0.448 tol=0.0496\n",
            "2025-10-05 19:31:24,810 alphafold2_ptm_model_5_seed_000 recycle=3 pLDDT=82.7 pTM=0.446 tol=0.0416\n",
            "2025-10-05 19:31:24,810 alphafold2_ptm_model_5_seed_000 took 15.1s (3 recycles)\n",
            "2025-10-05 19:31:24,817 reranking models by 'plddt' metric\n",
            "2025-10-05 19:31:24,818 rank_001_alphafold2_ptm_model_3_seed_000 pLDDT=85.1 pTM=0.439\n",
            "2025-10-05 19:31:24,818 rank_002_alphafold2_ptm_model_5_seed_000 pLDDT=82.7 pTM=0.446\n",
            "2025-10-05 19:31:24,818 rank_003_alphafold2_ptm_model_4_seed_000 pLDDT=82.2 pTM=0.457\n",
            "2025-10-05 19:31:24,818 rank_004_alphafold2_ptm_model_1_seed_000 pLDDT=79.1 pTM=0.402\n",
            "2025-10-05 19:31:24,819 rank_005_alphafold2_ptm_model_2_seed_000 pLDDT=77.5 pTM=0.408\n",
            "2025-10-05 19:31:27,040 Query 37/200: seq_163_cde42 (length 34)\n"
          ]
        },
        {
          "output_type": "stream",
          "name": "stderr",
          "text": [
            "COMPLETE: 100%|██████████| 150/150 [elapsed: 00:00 remaining: 00:00]\n"
          ]
        },
        {
          "output_type": "stream",
          "name": "stdout",
          "text": [
            "2025-10-05 19:31:27,777 Sequence 0 found no templates\n",
            "2025-10-05 19:31:34,014 alphafold2_ptm_model_1_seed_000 recycle=0 pLDDT=79.2 pTM=0.392\n",
            "2025-10-05 19:31:37,793 alphafold2_ptm_model_1_seed_000 recycle=1 pLDDT=78.8 pTM=0.394 tol=0.146\n",
            "2025-10-05 19:31:41,576 alphafold2_ptm_model_1_seed_000 recycle=2 pLDDT=78.7 pTM=0.393 tol=0.116\n",
            "2025-10-05 19:31:45,365 alphafold2_ptm_model_1_seed_000 recycle=3 pLDDT=78.4 pTM=0.393 tol=0.116\n",
            "2025-10-05 19:31:45,366 alphafold2_ptm_model_1_seed_000 took 15.3s (3 recycles)\n",
            "2025-10-05 19:31:49,178 alphafold2_ptm_model_2_seed_000 recycle=0 pLDDT=77.9 pTM=0.389\n",
            "2025-10-05 19:31:52,995 alphafold2_ptm_model_2_seed_000 recycle=1 pLDDT=76.9 pTM=0.389 tol=0.182\n",
            "2025-10-05 19:31:56,817 alphafold2_ptm_model_2_seed_000 recycle=2 pLDDT=77.2 pTM=0.389 tol=0.0662\n",
            "2025-10-05 19:32:00,645 alphafold2_ptm_model_2_seed_000 recycle=3 pLDDT=77.2 pTM=0.391 tol=0.104\n",
            "2025-10-05 19:32:00,646 alphafold2_ptm_model_2_seed_000 took 15.3s (3 recycles)\n",
            "2025-10-05 19:32:04,450 alphafold2_ptm_model_3_seed_000 recycle=0 pLDDT=82 pTM=0.4\n",
            "2025-10-05 19:32:08,243 alphafold2_ptm_model_3_seed_000 recycle=1 pLDDT=83.2 pTM=0.4 tol=0.207\n",
            "2025-10-05 19:32:12,023 alphafold2_ptm_model_3_seed_000 recycle=2 pLDDT=83.8 pTM=0.404 tol=0.188\n",
            "2025-10-05 19:32:15,811 alphafold2_ptm_model_3_seed_000 recycle=3 pLDDT=83.7 pTM=0.401 tol=0.0831\n",
            "2025-10-05 19:32:15,812 alphafold2_ptm_model_3_seed_000 took 15.2s (3 recycles)\n",
            "2025-10-05 19:32:19,583 alphafold2_ptm_model_4_seed_000 recycle=0 pLDDT=78.9 pTM=0.405\n",
            "2025-10-05 19:32:23,364 alphafold2_ptm_model_4_seed_000 recycle=1 pLDDT=79.6 pTM=0.413 tol=0.131\n",
            "2025-10-05 19:32:27,125 alphafold2_ptm_model_4_seed_000 recycle=2 pLDDT=80.9 pTM=0.415 tol=0.099\n",
            "2025-10-05 19:32:30,892 alphafold2_ptm_model_4_seed_000 recycle=3 pLDDT=79.9 pTM=0.411 tol=0.109\n",
            "2025-10-05 19:32:30,893 alphafold2_ptm_model_4_seed_000 took 15.1s (3 recycles)\n",
            "2025-10-05 19:32:34,655 alphafold2_ptm_model_5_seed_000 recycle=0 pLDDT=79.8 pTM=0.405\n",
            "2025-10-05 19:32:38,419 alphafold2_ptm_model_5_seed_000 recycle=1 pLDDT=80.5 pTM=0.411 tol=0.184\n",
            "2025-10-05 19:32:42,172 alphafold2_ptm_model_5_seed_000 recycle=2 pLDDT=81.1 pTM=0.411 tol=0.0765\n",
            "2025-10-05 19:32:45,939 alphafold2_ptm_model_5_seed_000 recycle=3 pLDDT=81.5 pTM=0.415 tol=0.0861\n",
            "2025-10-05 19:32:45,940 alphafold2_ptm_model_5_seed_000 took 15.0s (3 recycles)\n",
            "2025-10-05 19:32:45,944 reranking models by 'plddt' metric\n",
            "2025-10-05 19:32:45,945 rank_001_alphafold2_ptm_model_3_seed_000 pLDDT=83.7 pTM=0.401\n",
            "2025-10-05 19:32:45,945 rank_002_alphafold2_ptm_model_5_seed_000 pLDDT=81.5 pTM=0.415\n",
            "2025-10-05 19:32:45,945 rank_003_alphafold2_ptm_model_4_seed_000 pLDDT=79.9 pTM=0.411\n",
            "2025-10-05 19:32:45,945 rank_004_alphafold2_ptm_model_1_seed_000 pLDDT=78.4 pTM=0.393\n",
            "2025-10-05 19:32:45,945 rank_005_alphafold2_ptm_model_2_seed_000 pLDDT=77.2 pTM=0.391\n",
            "2025-10-05 19:32:46,980 Query 38/200: seq_20_a8550 (length 35)\n"
          ]
        },
        {
          "output_type": "stream",
          "name": "stderr",
          "text": [
            "COMPLETE: 100%|██████████| 150/150 [elapsed: 00:00 remaining: 00:00]\n"
          ]
        },
        {
          "output_type": "stream",
          "name": "stdout",
          "text": [
            "2025-10-05 19:32:47,709 Sequence 0 found no templates\n",
            "2025-10-05 19:32:50,564 Padding length to 45\n",
            "2025-10-05 19:33:24,831 alphafold2_ptm_model_1_seed_000 recycle=0 pLDDT=75.3 pTM=0.378\n",
            "2025-10-05 19:33:58,852 alphafold2_ptm_model_1_seed_000 recycle=1 pLDDT=77 pTM=0.393 tol=0.385\n",
            "2025-10-05 19:34:03,104 alphafold2_ptm_model_1_seed_000 recycle=2 pLDDT=76.9 pTM=0.388 tol=0.132\n",
            "2025-10-05 19:34:07,385 alphafold2_ptm_model_1_seed_000 recycle=3 pLDDT=77.1 pTM=0.391 tol=0.0417\n",
            "2025-10-05 19:34:07,386 alphafold2_ptm_model_1_seed_000 took 76.8s (3 recycles)\n",
            "2025-10-05 19:34:11,690 alphafold2_ptm_model_2_seed_000 recycle=0 pLDDT=73.6 pTM=0.371\n",
            "2025-10-05 19:34:15,998 alphafold2_ptm_model_2_seed_000 recycle=1 pLDDT=74.6 pTM=0.383 tol=0.414\n",
            "2025-10-05 19:34:20,338 alphafold2_ptm_model_2_seed_000 recycle=2 pLDDT=74.4 pTM=0.379 tol=0.109\n",
            "2025-10-05 19:34:24,678 alphafold2_ptm_model_2_seed_000 recycle=3 pLDDT=74.4 pTM=0.38 tol=0.131\n",
            "2025-10-05 19:34:24,679 alphafold2_ptm_model_2_seed_000 took 17.3s (3 recycles)\n",
            "2025-10-05 19:34:49,079 alphafold2_ptm_model_3_seed_000 recycle=0 pLDDT=80.3 pTM=0.395\n",
            "2025-10-05 19:35:12,655 alphafold2_ptm_model_3_seed_000 recycle=1 pLDDT=82 pTM=0.402 tol=0.381\n",
            "2025-10-05 19:35:16,902 alphafold2_ptm_model_3_seed_000 recycle=2 pLDDT=82.2 pTM=0.405 tol=0.141\n",
            "2025-10-05 19:35:21,175 alphafold2_ptm_model_3_seed_000 recycle=3 pLDDT=82.8 pTM=0.409 tol=0.0925\n",
            "2025-10-05 19:35:21,176 alphafold2_ptm_model_3_seed_000 took 56.5s (3 recycles)\n",
            "2025-10-05 19:35:25,475 alphafold2_ptm_model_4_seed_000 recycle=0 pLDDT=74 pTM=0.391\n",
            "2025-10-05 19:35:29,794 alphafold2_ptm_model_4_seed_000 recycle=1 pLDDT=74 pTM=0.393 tol=0.649\n",
            "2025-10-05 19:35:34,123 alphafold2_ptm_model_4_seed_000 recycle=2 pLDDT=73.8 pTM=0.396 tol=0.389\n",
            "2025-10-05 19:35:38,453 alphafold2_ptm_model_4_seed_000 recycle=3 pLDDT=74.3 pTM=0.397 tol=1.49\n",
            "2025-10-05 19:35:38,454 alphafold2_ptm_model_4_seed_000 took 17.3s (3 recycles)\n",
            "2025-10-05 19:35:42,749 alphafold2_ptm_model_5_seed_000 recycle=0 pLDDT=78.7 pTM=0.421\n",
            "2025-10-05 19:35:47,028 alphafold2_ptm_model_5_seed_000 recycle=1 pLDDT=79.3 pTM=0.423 tol=0.243\n",
            "2025-10-05 19:35:51,291 alphafold2_ptm_model_5_seed_000 recycle=2 pLDDT=79.1 pTM=0.425 tol=0.0811\n",
            "2025-10-05 19:35:55,541 alphafold2_ptm_model_5_seed_000 recycle=3 pLDDT=78.8 pTM=0.424 tol=0.0796\n",
            "2025-10-05 19:35:55,542 alphafold2_ptm_model_5_seed_000 took 17.1s (3 recycles)\n",
            "2025-10-05 19:35:55,546 reranking models by 'plddt' metric\n",
            "2025-10-05 19:35:55,547 rank_001_alphafold2_ptm_model_3_seed_000 pLDDT=82.8 pTM=0.409\n",
            "2025-10-05 19:35:55,547 rank_002_alphafold2_ptm_model_5_seed_000 pLDDT=78.8 pTM=0.424\n",
            "2025-10-05 19:35:55,547 rank_003_alphafold2_ptm_model_1_seed_000 pLDDT=77.1 pTM=0.391\n",
            "2025-10-05 19:35:55,547 rank_004_alphafold2_ptm_model_2_seed_000 pLDDT=74.4 pTM=0.38\n",
            "2025-10-05 19:35:55,547 rank_005_alphafold2_ptm_model_4_seed_000 pLDDT=74.3 pTM=0.397\n",
            "2025-10-05 19:35:56,568 Query 39/200: seq_124_193e2 (length 35)\n"
          ]
        },
        {
          "output_type": "stream",
          "name": "stderr",
          "text": [
            "COMPLETE: 100%|██████████| 150/150 [elapsed: 00:00 remaining: 00:00]\n"
          ]
        },
        {
          "output_type": "stream",
          "name": "stdout",
          "text": [
            "2025-10-05 19:35:57,117 Sequence 0 found no templates\n",
            "2025-10-05 19:35:59,323 Padding length to 45\n",
            "2025-10-05 19:36:03,663 alphafold2_ptm_model_1_seed_000 recycle=0 pLDDT=82.4 pTM=0.392\n",
            "2025-10-05 19:36:07,832 alphafold2_ptm_model_1_seed_000 recycle=1 pLDDT=82.4 pTM=0.403 tol=0.0977\n",
            "2025-10-05 19:36:11,999 alphafold2_ptm_model_1_seed_000 recycle=2 pLDDT=82.3 pTM=0.405 tol=0.0343\n",
            "2025-10-05 19:36:16,171 alphafold2_ptm_model_1_seed_000 recycle=3 pLDDT=81.9 pTM=0.402 tol=0.22\n",
            "2025-10-05 19:36:16,171 alphafold2_ptm_model_1_seed_000 took 16.8s (3 recycles)\n",
            "2025-10-05 19:36:20,353 alphafold2_ptm_model_2_seed_000 recycle=0 pLDDT=80.8 pTM=0.381\n",
            "2025-10-05 19:36:24,530 alphafold2_ptm_model_2_seed_000 recycle=1 pLDDT=81 pTM=0.388 tol=0.114\n",
            "2025-10-05 19:36:28,712 alphafold2_ptm_model_2_seed_000 recycle=2 pLDDT=80.9 pTM=0.389 tol=0.0452\n",
            "2025-10-05 19:36:32,900 alphafold2_ptm_model_2_seed_000 recycle=3 pLDDT=80.9 pTM=0.391 tol=0.0249\n",
            "2025-10-05 19:36:32,900 alphafold2_ptm_model_2_seed_000 took 16.7s (3 recycles)\n",
            "2025-10-05 19:36:37,081 alphafold2_ptm_model_3_seed_000 recycle=0 pLDDT=83.6 pTM=0.367\n",
            "2025-10-05 19:36:41,276 alphafold2_ptm_model_3_seed_000 recycle=1 pLDDT=84.5 pTM=0.381 tol=0.13\n",
            "2025-10-05 19:36:45,471 alphafold2_ptm_model_3_seed_000 recycle=2 pLDDT=84.9 pTM=0.387 tol=0.0596\n",
            "2025-10-05 19:36:49,672 alphafold2_ptm_model_3_seed_000 recycle=3 pLDDT=84.5 pTM=0.383 tol=0.0432\n",
            "2025-10-05 19:36:49,673 alphafold2_ptm_model_3_seed_000 took 16.8s (3 recycles)\n",
            "2025-10-05 19:36:53,861 alphafold2_ptm_model_4_seed_000 recycle=0 pLDDT=82.4 pTM=0.376\n",
            "2025-10-05 19:36:58,047 alphafold2_ptm_model_4_seed_000 recycle=1 pLDDT=83.3 pTM=0.39 tol=0.112\n",
            "2025-10-05 19:37:02,232 alphafold2_ptm_model_4_seed_000 recycle=2 pLDDT=84.1 pTM=0.397 tol=0.0449\n",
            "2025-10-05 19:37:06,410 alphafold2_ptm_model_4_seed_000 recycle=3 pLDDT=83.8 pTM=0.396 tol=0.0357\n",
            "2025-10-05 19:37:06,410 alphafold2_ptm_model_4_seed_000 took 16.7s (3 recycles)\n",
            "2025-10-05 19:37:10,586 alphafold2_ptm_model_5_seed_000 recycle=0 pLDDT=83.6 pTM=0.387\n",
            "2025-10-05 19:37:14,774 alphafold2_ptm_model_5_seed_000 recycle=1 pLDDT=83.8 pTM=0.393 tol=0.0901\n",
            "2025-10-05 19:37:18,962 alphafold2_ptm_model_5_seed_000 recycle=2 pLDDT=84.4 pTM=0.396 tol=0.039\n",
            "2025-10-05 19:37:23,141 alphafold2_ptm_model_5_seed_000 recycle=3 pLDDT=84.1 pTM=0.395 tol=0.0212\n",
            "2025-10-05 19:37:23,142 alphafold2_ptm_model_5_seed_000 took 16.7s (3 recycles)\n",
            "2025-10-05 19:37:23,146 reranking models by 'plddt' metric\n",
            "2025-10-05 19:37:23,146 rank_001_alphafold2_ptm_model_3_seed_000 pLDDT=84.5 pTM=0.383\n",
            "2025-10-05 19:37:23,147 rank_002_alphafold2_ptm_model_5_seed_000 pLDDT=84.1 pTM=0.395\n",
            "2025-10-05 19:37:23,147 rank_003_alphafold2_ptm_model_4_seed_000 pLDDT=83.8 pTM=0.396\n",
            "2025-10-05 19:37:23,147 rank_004_alphafold2_ptm_model_1_seed_000 pLDDT=81.9 pTM=0.402\n",
            "2025-10-05 19:37:23,147 rank_005_alphafold2_ptm_model_2_seed_000 pLDDT=80.9 pTM=0.391\n",
            "2025-10-05 19:37:24,117 Query 40/200: seq_127_dba11 (length 35)\n"
          ]
        },
        {
          "output_type": "stream",
          "name": "stderr",
          "text": [
            "COMPLETE: 100%|██████████| 150/150 [elapsed: 00:00 remaining: 00:00]\n"
          ]
        },
        {
          "output_type": "stream",
          "name": "stdout",
          "text": [
            "2025-10-05 19:37:24,848 Sequence 0 found no templates\n",
            "2025-10-05 19:37:27,819 Padding length to 45\n",
            "2025-10-05 19:37:32,193 alphafold2_ptm_model_1_seed_000 recycle=0 pLDDT=75.9 pTM=0.376\n",
            "2025-10-05 19:37:36,427 alphafold2_ptm_model_1_seed_000 recycle=1 pLDDT=76 pTM=0.383 tol=0.247\n",
            "2025-10-05 19:37:40,666 alphafold2_ptm_model_1_seed_000 recycle=2 pLDDT=76.4 pTM=0.384 tol=0.193\n",
            "2025-10-05 19:37:44,924 alphafold2_ptm_model_1_seed_000 recycle=3 pLDDT=76.2 pTM=0.384 tol=0.173\n",
            "2025-10-05 19:37:44,924 alphafold2_ptm_model_1_seed_000 took 17.1s (3 recycles)\n",
            "2025-10-05 19:37:49,206 alphafold2_ptm_model_2_seed_000 recycle=0 pLDDT=74.8 pTM=0.376\n",
            "2025-10-05 19:37:53,485 alphafold2_ptm_model_2_seed_000 recycle=1 pLDDT=75.8 pTM=0.382 tol=0.338\n",
            "2025-10-05 19:37:57,772 alphafold2_ptm_model_2_seed_000 recycle=2 pLDDT=75.8 pTM=0.381 tol=0.143\n",
            "2025-10-05 19:38:02,058 alphafold2_ptm_model_2_seed_000 recycle=3 pLDDT=75.9 pTM=0.388 tol=0.104\n",
            "2025-10-05 19:38:02,058 alphafold2_ptm_model_2_seed_000 took 17.1s (3 recycles)\n",
            "2025-10-05 19:38:06,323 alphafold2_ptm_model_3_seed_000 recycle=0 pLDDT=77.4 pTM=0.38\n",
            "2025-10-05 19:38:10,579 alphafold2_ptm_model_3_seed_000 recycle=1 pLDDT=78.5 pTM=0.379 tol=0.743\n",
            "2025-10-05 19:38:14,836 alphafold2_ptm_model_3_seed_000 recycle=2 pLDDT=78 pTM=0.381 tol=1.03\n",
            "2025-10-05 19:38:19,085 alphafold2_ptm_model_3_seed_000 recycle=3 pLDDT=78.9 pTM=0.381 tol=1.2\n",
            "2025-10-05 19:38:19,086 alphafold2_ptm_model_3_seed_000 took 17.0s (3 recycles)\n",
            "2025-10-05 19:38:23,331 alphafold2_ptm_model_4_seed_000 recycle=0 pLDDT=76.7 pTM=0.399\n",
            "2025-10-05 19:38:27,585 alphafold2_ptm_model_4_seed_000 recycle=1 pLDDT=77.7 pTM=0.405 tol=0.436\n",
            "2025-10-05 19:38:31,836 alphafold2_ptm_model_4_seed_000 recycle=2 pLDDT=78.6 pTM=0.41 tol=0.314\n",
            "2025-10-05 19:38:36,080 alphafold2_ptm_model_4_seed_000 recycle=3 pLDDT=78.2 pTM=0.408 tol=0.272\n",
            "2025-10-05 19:38:36,081 alphafold2_ptm_model_4_seed_000 took 17.0s (3 recycles)\n",
            "2025-10-05 19:38:40,308 alphafold2_ptm_model_5_seed_000 recycle=0 pLDDT=78.3 pTM=0.403\n",
            "2025-10-05 19:38:44,544 alphafold2_ptm_model_5_seed_000 recycle=1 pLDDT=78.5 pTM=0.406 tol=0.718\n",
            "2025-10-05 19:38:48,780 alphafold2_ptm_model_5_seed_000 recycle=2 pLDDT=78.6 pTM=0.401 tol=0.408\n",
            "2025-10-05 19:38:53,022 alphafold2_ptm_model_5_seed_000 recycle=3 pLDDT=78.1 pTM=0.402 tol=0.149\n",
            "2025-10-05 19:38:53,023 alphafold2_ptm_model_5_seed_000 took 16.9s (3 recycles)\n",
            "2025-10-05 19:38:53,027 reranking models by 'plddt' metric\n",
            "2025-10-05 19:38:53,028 rank_001_alphafold2_ptm_model_3_seed_000 pLDDT=78.9 pTM=0.381\n",
            "2025-10-05 19:38:53,028 rank_002_alphafold2_ptm_model_4_seed_000 pLDDT=78.2 pTM=0.408\n",
            "2025-10-05 19:38:53,028 rank_003_alphafold2_ptm_model_5_seed_000 pLDDT=78.1 pTM=0.402\n",
            "2025-10-05 19:38:53,028 rank_004_alphafold2_ptm_model_1_seed_000 pLDDT=76.2 pTM=0.384\n",
            "2025-10-05 19:38:53,028 rank_005_alphafold2_ptm_model_2_seed_000 pLDDT=75.9 pTM=0.388\n",
            "2025-10-05 19:38:53,983 Query 41/200: seq_165_7526e (length 35)\n"
          ]
        },
        {
          "output_type": "stream",
          "name": "stderr",
          "text": [
            "COMPLETE: 100%|██████████| 150/150 [elapsed: 00:00 remaining: 00:00]\n"
          ]
        },
        {
          "output_type": "stream",
          "name": "stdout",
          "text": [
            "2025-10-05 19:38:54,702 Sequence 0 found no templates\n",
            "2025-10-05 19:38:57,023 Padding length to 45\n",
            "2025-10-05 19:39:01,405 alphafold2_ptm_model_1_seed_000 recycle=0 pLDDT=80.9 pTM=0.418\n",
            "2025-10-05 19:39:05,641 alphafold2_ptm_model_1_seed_000 recycle=1 pLDDT=81.8 pTM=0.426 tol=0.532\n",
            "2025-10-05 19:39:09,892 alphafold2_ptm_model_1_seed_000 recycle=2 pLDDT=81.4 pTM=0.421 tol=0.0834\n",
            "2025-10-05 19:39:14,169 alphafold2_ptm_model_1_seed_000 recycle=3 pLDDT=81.3 pTM=0.421 tol=0.0595\n",
            "2025-10-05 19:39:14,169 alphafold2_ptm_model_1_seed_000 took 17.1s (3 recycles)\n",
            "2025-10-05 19:39:18,461 alphafold2_ptm_model_2_seed_000 recycle=0 pLDDT=76.9 pTM=0.394\n",
            "2025-10-05 19:39:22,755 alphafold2_ptm_model_2_seed_000 recycle=1 pLDDT=77.4 pTM=0.394 tol=0.205\n",
            "2025-10-05 19:39:27,054 alphafold2_ptm_model_2_seed_000 recycle=2 pLDDT=77.4 pTM=0.399 tol=0.068\n",
            "2025-10-05 19:39:31,331 alphafold2_ptm_model_2_seed_000 recycle=3 pLDDT=76.8 pTM=0.393 tol=0.0545\n",
            "2025-10-05 19:39:31,332 alphafold2_ptm_model_2_seed_000 took 17.2s (3 recycles)\n",
            "2025-10-05 19:39:35,601 alphafold2_ptm_model_3_seed_000 recycle=0 pLDDT=86.3 pTM=0.428\n",
            "2025-10-05 19:39:39,874 alphafold2_ptm_model_3_seed_000 recycle=1 pLDDT=87.1 pTM=0.431 tol=0.258\n",
            "2025-10-05 19:39:44,138 alphafold2_ptm_model_3_seed_000 recycle=2 pLDDT=87.2 pTM=0.435 tol=0.143\n",
            "2025-10-05 19:39:48,391 alphafold2_ptm_model_3_seed_000 recycle=3 pLDDT=86.2 pTM=0.433 tol=0.339\n",
            "2025-10-05 19:39:48,391 alphafold2_ptm_model_3_seed_000 took 17.1s (3 recycles)\n",
            "2025-10-05 19:39:52,624 alphafold2_ptm_model_4_seed_000 recycle=0 pLDDT=82.5 pTM=0.434\n",
            "2025-10-05 19:39:56,864 alphafold2_ptm_model_4_seed_000 recycle=1 pLDDT=83.7 pTM=0.439 tol=0.275\n",
            "2025-10-05 19:40:01,099 alphafold2_ptm_model_4_seed_000 recycle=2 pLDDT=83.5 pTM=0.441 tol=0.0665\n",
            "2025-10-05 19:40:05,336 alphafold2_ptm_model_4_seed_000 recycle=3 pLDDT=83.2 pTM=0.437 tol=0.0421\n",
            "2025-10-05 19:40:05,336 alphafold2_ptm_model_4_seed_000 took 16.9s (3 recycles)\n",
            "2025-10-05 19:40:09,569 alphafold2_ptm_model_5_seed_000 recycle=0 pLDDT=84.9 pTM=0.455\n",
            "2025-10-05 19:40:13,813 alphafold2_ptm_model_5_seed_000 recycle=1 pLDDT=85.6 pTM=0.461 tol=0.282\n",
            "2025-10-05 19:40:18,063 alphafold2_ptm_model_5_seed_000 recycle=2 pLDDT=85.2 pTM=0.46 tol=0.0695\n",
            "2025-10-05 19:40:22,312 alphafold2_ptm_model_5_seed_000 recycle=3 pLDDT=84.6 pTM=0.452 tol=0.0558\n",
            "2025-10-05 19:40:22,313 alphafold2_ptm_model_5_seed_000 took 17.0s (3 recycles)\n",
            "2025-10-05 19:40:22,317 reranking models by 'plddt' metric\n",
            "2025-10-05 19:40:22,317 rank_001_alphafold2_ptm_model_3_seed_000 pLDDT=86.2 pTM=0.433\n",
            "2025-10-05 19:40:22,317 rank_002_alphafold2_ptm_model_5_seed_000 pLDDT=84.6 pTM=0.452\n",
            "2025-10-05 19:40:22,318 rank_003_alphafold2_ptm_model_4_seed_000 pLDDT=83.2 pTM=0.437\n",
            "2025-10-05 19:40:22,318 rank_004_alphafold2_ptm_model_1_seed_000 pLDDT=81.3 pTM=0.421\n",
            "2025-10-05 19:40:22,318 rank_005_alphafold2_ptm_model_2_seed_000 pLDDT=76.8 pTM=0.393\n",
            "2025-10-05 19:40:23,332 Query 42/200: seq_187_14b9a (length 35)\n"
          ]
        },
        {
          "output_type": "stream",
          "name": "stderr",
          "text": [
            "COMPLETE: 100%|██████████| 150/150 [elapsed: 00:00 remaining: 00:00]\n"
          ]
        },
        {
          "output_type": "stream",
          "name": "stdout",
          "text": [
            "2025-10-05 19:40:24,060 Sequence 0 found no templates\n",
            "2025-10-05 19:40:28,248 Padding length to 45\n",
            "2025-10-05 19:40:32,618 alphafold2_ptm_model_1_seed_000 recycle=0 pLDDT=76.2 pTM=0.388\n",
            "2025-10-05 19:40:36,852 alphafold2_ptm_model_1_seed_000 recycle=1 pLDDT=76.4 pTM=0.392 tol=0.339\n",
            "2025-10-05 19:40:41,095 alphafold2_ptm_model_1_seed_000 recycle=2 pLDDT=76.6 pTM=0.394 tol=0.156\n",
            "2025-10-05 19:40:45,363 alphafold2_ptm_model_1_seed_000 recycle=3 pLDDT=76.8 pTM=0.394 tol=0.142\n",
            "2025-10-05 19:40:45,364 alphafold2_ptm_model_1_seed_000 took 17.1s (3 recycles)\n",
            "2025-10-05 19:40:49,668 alphafold2_ptm_model_2_seed_000 recycle=0 pLDDT=74.7 pTM=0.374\n",
            "2025-10-05 19:40:53,973 alphafold2_ptm_model_2_seed_000 recycle=1 pLDDT=73.9 pTM=0.381 tol=0.231\n",
            "2025-10-05 19:40:58,277 alphafold2_ptm_model_2_seed_000 recycle=2 pLDDT=73.9 pTM=0.382 tol=0.0933\n",
            "2025-10-05 19:41:02,572 alphafold2_ptm_model_2_seed_000 recycle=3 pLDDT=74.1 pTM=0.383 tol=0.104\n",
            "2025-10-05 19:41:02,573 alphafold2_ptm_model_2_seed_000 took 17.2s (3 recycles)\n",
            "2025-10-05 19:41:06,829 alphafold2_ptm_model_3_seed_000 recycle=0 pLDDT=81.8 pTM=0.394\n",
            "2025-10-05 19:41:11,087 alphafold2_ptm_model_3_seed_000 recycle=1 pLDDT=81.9 pTM=0.397 tol=0.262\n",
            "2025-10-05 19:41:15,342 alphafold2_ptm_model_3_seed_000 recycle=2 pLDDT=81.5 pTM=0.396 tol=0.152\n",
            "2025-10-05 19:41:19,587 alphafold2_ptm_model_3_seed_000 recycle=3 pLDDT=81.5 pTM=0.397 tol=0.137\n",
            "2025-10-05 19:41:19,588 alphafold2_ptm_model_3_seed_000 took 17.0s (3 recycles)\n",
            "2025-10-05 19:41:23,830 alphafold2_ptm_model_4_seed_000 recycle=0 pLDDT=77.3 pTM=0.395\n",
            "2025-10-05 19:41:28,079 alphafold2_ptm_model_4_seed_000 recycle=1 pLDDT=75.8 pTM=0.39 tol=0.774\n",
            "2025-10-05 19:41:32,325 alphafold2_ptm_model_4_seed_000 recycle=2 pLDDT=74.8 pTM=0.392 tol=0.679\n",
            "2025-10-05 19:41:36,567 alphafold2_ptm_model_4_seed_000 recycle=3 pLDDT=75.7 pTM=0.39 tol=0.523\n",
            "2025-10-05 19:41:36,568 alphafold2_ptm_model_4_seed_000 took 17.0s (3 recycles)\n",
            "2025-10-05 19:41:40,799 alphafold2_ptm_model_5_seed_000 recycle=0 pLDDT=76.4 pTM=0.4\n",
            "2025-10-05 19:41:45,037 alphafold2_ptm_model_5_seed_000 recycle=1 pLDDT=78.6 pTM=0.403 tol=0.627\n",
            "2025-10-05 19:41:49,270 alphafold2_ptm_model_5_seed_000 recycle=2 pLDDT=79.1 pTM=0.404 tol=0.218\n",
            "2025-10-05 19:41:53,510 alphafold2_ptm_model_5_seed_000 recycle=3 pLDDT=79.2 pTM=0.406 tol=0.219\n",
            "2025-10-05 19:41:53,511 alphafold2_ptm_model_5_seed_000 took 16.9s (3 recycles)\n",
            "2025-10-05 19:41:53,515 reranking models by 'plddt' metric\n",
            "2025-10-05 19:41:53,515 rank_001_alphafold2_ptm_model_3_seed_000 pLDDT=81.5 pTM=0.397\n",
            "2025-10-05 19:41:53,516 rank_002_alphafold2_ptm_model_5_seed_000 pLDDT=79.2 pTM=0.406\n",
            "2025-10-05 19:41:53,516 rank_003_alphafold2_ptm_model_1_seed_000 pLDDT=76.8 pTM=0.394\n",
            "2025-10-05 19:41:53,516 rank_004_alphafold2_ptm_model_4_seed_000 pLDDT=75.7 pTM=0.39\n",
            "2025-10-05 19:41:53,516 rank_005_alphafold2_ptm_model_2_seed_000 pLDDT=74.1 pTM=0.383\n",
            "2025-10-05 19:41:54,505 Query 43/200: seq_188_5733d (length 35)\n"
          ]
        },
        {
          "output_type": "stream",
          "name": "stderr",
          "text": [
            "COMPLETE: 100%|██████████| 150/150 [elapsed: 00:00 remaining: 00:00]\n"
          ]
        },
        {
          "output_type": "stream",
          "name": "stdout",
          "text": [
            "2025-10-05 19:41:55,231 Sequence 0 found no templates\n",
            "2025-10-05 19:41:57,535 Padding length to 45\n",
            "2025-10-05 19:42:01,926 alphafold2_ptm_model_1_seed_000 recycle=0 pLDDT=74.8 pTM=0.374\n",
            "2025-10-05 19:42:06,162 alphafold2_ptm_model_1_seed_000 recycle=1 pLDDT=73.9 pTM=0.377 tol=0.351\n",
            "2025-10-05 19:42:10,404 alphafold2_ptm_model_1_seed_000 recycle=2 pLDDT=73.6 pTM=0.375 tol=0.19\n",
            "2025-10-05 19:42:14,673 alphafold2_ptm_model_1_seed_000 recycle=3 pLDDT=73.4 pTM=0.374 tol=0.27\n",
            "2025-10-05 19:42:14,674 alphafold2_ptm_model_1_seed_000 took 17.1s (3 recycles)\n",
            "2025-10-05 19:42:18,966 alphafold2_ptm_model_2_seed_000 recycle=0 pLDDT=72.8 pTM=0.359\n",
            "2025-10-05 19:42:23,265 alphafold2_ptm_model_2_seed_000 recycle=1 pLDDT=73 pTM=0.362 tol=0.379\n",
            "2025-10-05 19:42:27,568 alphafold2_ptm_model_2_seed_000 recycle=2 pLDDT=72.2 pTM=0.361 tol=0.774\n",
            "2025-10-05 19:42:31,852 alphafold2_ptm_model_2_seed_000 recycle=3 pLDDT=72.1 pTM=0.358 tol=0.276\n",
            "2025-10-05 19:42:31,853 alphafold2_ptm_model_2_seed_000 took 17.2s (3 recycles)\n",
            "2025-10-05 19:42:36,115 alphafold2_ptm_model_3_seed_000 recycle=0 pLDDT=78.4 pTM=0.383\n",
            "2025-10-05 19:42:40,383 alphafold2_ptm_model_3_seed_000 recycle=1 pLDDT=77.6 pTM=0.384 tol=1.02\n",
            "2025-10-05 19:42:44,647 alphafold2_ptm_model_3_seed_000 recycle=2 pLDDT=77.2 pTM=0.382 tol=1.52\n",
            "2025-10-05 19:42:48,903 alphafold2_ptm_model_3_seed_000 recycle=3 pLDDT=77.2 pTM=0.384 tol=0.329\n",
            "2025-10-05 19:42:48,903 alphafold2_ptm_model_3_seed_000 took 17.0s (3 recycles)\n",
            "2025-10-05 19:42:53,143 alphafold2_ptm_model_4_seed_000 recycle=0 pLDDT=74.6 pTM=0.384\n",
            "2025-10-05 19:42:57,382 alphafold2_ptm_model_4_seed_000 recycle=1 pLDDT=74.2 pTM=0.385 tol=0.7\n",
            "2025-10-05 19:43:01,619 alphafold2_ptm_model_4_seed_000 recycle=2 pLDDT=74.4 pTM=0.385 tol=1.5\n",
            "2025-10-05 19:43:05,854 alphafold2_ptm_model_4_seed_000 recycle=3 pLDDT=74.9 pTM=0.387 tol=0.772\n",
            "2025-10-05 19:43:05,855 alphafold2_ptm_model_4_seed_000 took 16.9s (3 recycles)\n",
            "2025-10-05 19:43:10,090 alphafold2_ptm_model_5_seed_000 recycle=0 pLDDT=77.4 pTM=0.395\n",
            "2025-10-05 19:43:14,340 alphafold2_ptm_model_5_seed_000 recycle=1 pLDDT=77.6 pTM=0.4 tol=0.324\n",
            "2025-10-05 19:43:18,590 alphafold2_ptm_model_5_seed_000 recycle=2 pLDDT=77.7 pTM=0.402 tol=0.0972\n",
            "2025-10-05 19:43:22,840 alphafold2_ptm_model_5_seed_000 recycle=3 pLDDT=77.4 pTM=0.398 tol=0.11\n",
            "2025-10-05 19:43:22,841 alphafold2_ptm_model_5_seed_000 took 17.0s (3 recycles)\n",
            "2025-10-05 19:43:22,845 reranking models by 'plddt' metric\n",
            "2025-10-05 19:43:22,845 rank_001_alphafold2_ptm_model_5_seed_000 pLDDT=77.4 pTM=0.398\n",
            "2025-10-05 19:43:22,845 rank_002_alphafold2_ptm_model_3_seed_000 pLDDT=77.2 pTM=0.384\n",
            "2025-10-05 19:43:22,846 rank_003_alphafold2_ptm_model_4_seed_000 pLDDT=74.9 pTM=0.387\n",
            "2025-10-05 19:43:22,846 rank_004_alphafold2_ptm_model_1_seed_000 pLDDT=73.4 pTM=0.374\n",
            "2025-10-05 19:43:22,846 rank_005_alphafold2_ptm_model_2_seed_000 pLDDT=72.1 pTM=0.358\n",
            "2025-10-05 19:43:23,835 Query 44/200: seq_23_03dd0 (length 36)\n"
          ]
        },
        {
          "output_type": "stream",
          "name": "stderr",
          "text": [
            "COMPLETE: 100%|██████████| 150/150 [elapsed: 00:00 remaining: 00:00]\n"
          ]
        },
        {
          "output_type": "stream",
          "name": "stdout",
          "text": [
            "2025-10-05 19:43:24,379 Sequence 0 found no templates\n",
            "2025-10-05 19:43:26,530 Padding length to 45\n",
            "2025-10-05 19:43:30,852 alphafold2_ptm_model_1_seed_000 recycle=0 pLDDT=76.3 pTM=0.331\n",
            "2025-10-05 19:43:35,037 alphafold2_ptm_model_1_seed_000 recycle=1 pLDDT=75.2 pTM=0.332 tol=2.31\n",
            "2025-10-05 19:43:39,227 alphafold2_ptm_model_1_seed_000 recycle=2 pLDDT=77.7 pTM=0.345 tol=0.703\n",
            "2025-10-05 19:43:43,437 alphafold2_ptm_model_1_seed_000 recycle=3 pLDDT=78.4 pTM=0.357 tol=0.388\n",
            "2025-10-05 19:43:43,437 alphafold2_ptm_model_1_seed_000 took 16.9s (3 recycles)\n",
            "2025-10-05 19:43:47,665 alphafold2_ptm_model_2_seed_000 recycle=0 pLDDT=71.9 pTM=0.297\n",
            "2025-10-05 19:43:51,888 alphafold2_ptm_model_2_seed_000 recycle=1 pLDDT=74.6 pTM=0.322 tol=0.696\n",
            "2025-10-05 19:43:56,111 alphafold2_ptm_model_2_seed_000 recycle=2 pLDDT=75.8 pTM=0.333 tol=0.385\n",
            "2025-10-05 19:44:00,326 alphafold2_ptm_model_2_seed_000 recycle=3 pLDDT=76.1 pTM=0.339 tol=0.128\n",
            "2025-10-05 19:44:00,327 alphafold2_ptm_model_2_seed_000 took 16.9s (3 recycles)\n",
            "2025-10-05 19:44:04,526 alphafold2_ptm_model_3_seed_000 recycle=0 pLDDT=75.3 pTM=0.303\n",
            "2025-10-05 19:44:08,717 alphafold2_ptm_model_3_seed_000 recycle=1 pLDDT=75.9 pTM=0.316 tol=1.18\n",
            "2025-10-05 19:44:12,903 alphafold2_ptm_model_3_seed_000 recycle=2 pLDDT=78 pTM=0.324 tol=0.441\n",
            "2025-10-05 19:44:17,088 alphafold2_ptm_model_3_seed_000 recycle=3 pLDDT=78.6 pTM=0.331 tol=0.163\n",
            "2025-10-05 19:44:17,088 alphafold2_ptm_model_3_seed_000 took 16.8s (3 recycles)\n",
            "2025-10-05 19:44:21,276 alphafold2_ptm_model_4_seed_000 recycle=0 pLDDT=74.3 pTM=0.311\n",
            "2025-10-05 19:44:25,465 alphafold2_ptm_model_4_seed_000 recycle=1 pLDDT=76.2 pTM=0.337 tol=0.311\n",
            "2025-10-05 19:44:29,650 alphafold2_ptm_model_4_seed_000 recycle=2 pLDDT=77.6 pTM=0.347 tol=0.143\n",
            "2025-10-05 19:44:33,836 alphafold2_ptm_model_4_seed_000 recycle=3 pLDDT=78 pTM=0.353 tol=0.101\n",
            "2025-10-05 19:44:33,837 alphafold2_ptm_model_4_seed_000 took 16.7s (3 recycles)\n",
            "2025-10-05 19:44:38,005 alphafold2_ptm_model_5_seed_000 recycle=0 pLDDT=77.4 pTM=0.327\n",
            "2025-10-05 19:44:42,179 alphafold2_ptm_model_5_seed_000 recycle=1 pLDDT=77.6 pTM=0.345 tol=0.535\n",
            "2025-10-05 19:44:46,355 alphafold2_ptm_model_5_seed_000 recycle=2 pLDDT=78.6 pTM=0.353 tol=0.121\n",
            "2025-10-05 19:44:50,532 alphafold2_ptm_model_5_seed_000 recycle=3 pLDDT=78.5 pTM=0.358 tol=0.0741\n",
            "2025-10-05 19:44:50,533 alphafold2_ptm_model_5_seed_000 took 16.7s (3 recycles)\n",
            "2025-10-05 19:44:50,537 reranking models by 'plddt' metric\n",
            "2025-10-05 19:44:50,537 rank_001_alphafold2_ptm_model_3_seed_000 pLDDT=78.6 pTM=0.331\n",
            "2025-10-05 19:44:50,537 rank_002_alphafold2_ptm_model_5_seed_000 pLDDT=78.5 pTM=0.358\n",
            "2025-10-05 19:44:50,537 rank_003_alphafold2_ptm_model_1_seed_000 pLDDT=78.4 pTM=0.357\n",
            "2025-10-05 19:44:50,537 rank_004_alphafold2_ptm_model_4_seed_000 pLDDT=78 pTM=0.353\n",
            "2025-10-05 19:44:50,538 rank_005_alphafold2_ptm_model_2_seed_000 pLDDT=76.1 pTM=0.339\n",
            "2025-10-05 19:44:51,482 Query 45/200: seq_76_9afae (length 36)\n"
          ]
        },
        {
          "output_type": "stream",
          "name": "stderr",
          "text": [
            "COMPLETE: 100%|██████████| 150/150 [elapsed: 00:00 remaining: 00:00]\n"
          ]
        },
        {
          "output_type": "stream",
          "name": "stdout",
          "text": [
            "2025-10-05 19:44:52,021 Sequence 0 found no templates\n",
            "2025-10-05 19:44:54,698 Padding length to 45\n",
            "2025-10-05 19:44:59,011 alphafold2_ptm_model_1_seed_000 recycle=0 pLDDT=72.9 pTM=0.309\n",
            "2025-10-05 19:45:03,181 alphafold2_ptm_model_1_seed_000 recycle=1 pLDDT=75.7 pTM=0.314 tol=0.281\n",
            "2025-10-05 19:45:07,355 alphafold2_ptm_model_1_seed_000 recycle=2 pLDDT=77.1 pTM=0.325 tol=0.0892\n",
            "2025-10-05 19:45:11,540 alphafold2_ptm_model_1_seed_000 recycle=3 pLDDT=76.8 pTM=0.325 tol=0.0565\n",
            "2025-10-05 19:45:11,541 alphafold2_ptm_model_1_seed_000 took 16.8s (3 recycles)\n",
            "2025-10-05 19:45:15,747 alphafold2_ptm_model_2_seed_000 recycle=0 pLDDT=64.1 pTM=0.289\n",
            "2025-10-05 19:45:19,951 alphafold2_ptm_model_2_seed_000 recycle=1 pLDDT=65.4 pTM=0.295 tol=0.734\n",
            "2025-10-05 19:45:24,165 alphafold2_ptm_model_2_seed_000 recycle=2 pLDDT=64.2 pTM=0.295 tol=0.421\n",
            "2025-10-05 19:45:28,376 alphafold2_ptm_model_2_seed_000 recycle=3 pLDDT=65.7 pTM=0.301 tol=0.661\n",
            "2025-10-05 19:45:28,376 alphafold2_ptm_model_2_seed_000 took 16.8s (3 recycles)\n",
            "2025-10-05 19:45:32,568 alphafold2_ptm_model_3_seed_000 recycle=0 pLDDT=75.2 pTM=0.308\n",
            "2025-10-05 19:45:36,754 alphafold2_ptm_model_3_seed_000 recycle=1 pLDDT=81.9 pTM=0.341 tol=0.555\n",
            "2025-10-05 19:45:40,947 alphafold2_ptm_model_3_seed_000 recycle=2 pLDDT=83.8 pTM=0.352 tol=0.119\n",
            "2025-10-05 19:45:45,133 alphafold2_ptm_model_3_seed_000 recycle=3 pLDDT=84.7 pTM=0.355 tol=0.0773\n",
            "2025-10-05 19:45:45,134 alphafold2_ptm_model_3_seed_000 took 16.8s (3 recycles)\n",
            "2025-10-05 19:45:49,296 alphafold2_ptm_model_4_seed_000 recycle=0 pLDDT=70 pTM=0.314\n",
            "2025-10-05 19:45:53,471 alphafold2_ptm_model_4_seed_000 recycle=1 pLDDT=80.9 pTM=0.38 tol=0.44\n",
            "2025-10-05 19:45:57,638 alphafold2_ptm_model_4_seed_000 recycle=2 pLDDT=78.1 pTM=0.369 tol=0.0756\n",
            "2025-10-05 19:46:01,796 alphafold2_ptm_model_4_seed_000 recycle=3 pLDDT=77.3 pTM=0.363 tol=0.0408\n",
            "2025-10-05 19:46:01,797 alphafold2_ptm_model_4_seed_000 took 16.7s (3 recycles)\n",
            "2025-10-05 19:46:05,957 alphafold2_ptm_model_5_seed_000 recycle=0 pLDDT=71 pTM=0.3\n",
            "2025-10-05 19:46:10,130 alphafold2_ptm_model_5_seed_000 recycle=1 pLDDT=71.9 pTM=0.313 tol=0.705\n",
            "2025-10-05 19:46:14,303 alphafold2_ptm_model_5_seed_000 recycle=2 pLDDT=74.6 pTM=0.317 tol=0.243\n",
            "2025-10-05 19:46:18,479 alphafold2_ptm_model_5_seed_000 recycle=3 pLDDT=76.4 pTM=0.324 tol=0.122\n",
            "2025-10-05 19:46:18,479 alphafold2_ptm_model_5_seed_000 took 16.7s (3 recycles)\n",
            "2025-10-05 19:46:18,483 reranking models by 'plddt' metric\n",
            "2025-10-05 19:46:18,483 rank_001_alphafold2_ptm_model_3_seed_000 pLDDT=84.7 pTM=0.355\n",
            "2025-10-05 19:46:18,484 rank_002_alphafold2_ptm_model_4_seed_000 pLDDT=77.3 pTM=0.363\n",
            "2025-10-05 19:46:18,484 rank_003_alphafold2_ptm_model_1_seed_000 pLDDT=76.8 pTM=0.325\n",
            "2025-10-05 19:46:18,484 rank_004_alphafold2_ptm_model_5_seed_000 pLDDT=76.4 pTM=0.324\n",
            "2025-10-05 19:46:18,484 rank_005_alphafold2_ptm_model_2_seed_000 pLDDT=65.7 pTM=0.301\n",
            "2025-10-05 19:46:19,462 Query 46/200: seq_84_9cdcb (length 36)\n"
          ]
        },
        {
          "output_type": "stream",
          "name": "stderr",
          "text": [
            "COMPLETE: 100%|██████████| 150/150 [elapsed: 00:00 remaining: 00:00]\n"
          ]
        },
        {
          "output_type": "stream",
          "name": "stdout",
          "text": [
            "2025-10-05 19:46:20,004 Sequence 0 found no templates\n",
            "2025-10-05 19:46:22,090 Padding length to 45\n",
            "2025-10-05 19:46:26,407 alphafold2_ptm_model_1_seed_000 recycle=0 pLDDT=75.5 pTM=0.383\n",
            "2025-10-05 19:46:30,570 alphafold2_ptm_model_1_seed_000 recycle=1 pLDDT=74.8 pTM=0.383 tol=0.63\n",
            "2025-10-05 19:46:34,739 alphafold2_ptm_model_1_seed_000 recycle=2 pLDDT=75.5 pTM=0.387 tol=1.1\n",
            "2025-10-05 19:46:38,917 alphafold2_ptm_model_1_seed_000 recycle=3 pLDDT=75.9 pTM=0.39 tol=0.604\n",
            "2025-10-05 19:46:38,918 alphafold2_ptm_model_1_seed_000 took 16.8s (3 recycles)\n",
            "2025-10-05 19:46:43,117 alphafold2_ptm_model_2_seed_000 recycle=0 pLDDT=76.9 pTM=0.394\n",
            "2025-10-05 19:46:47,315 alphafold2_ptm_model_2_seed_000 recycle=1 pLDDT=75.2 pTM=0.388 tol=1.14\n",
            "2025-10-05 19:46:51,514 alphafold2_ptm_model_2_seed_000 recycle=2 pLDDT=75.1 pTM=0.388 tol=0.743\n",
            "2025-10-05 19:46:55,709 alphafold2_ptm_model_2_seed_000 recycle=3 pLDDT=75.1 pTM=0.389 tol=0.313\n",
            "2025-10-05 19:46:55,710 alphafold2_ptm_model_2_seed_000 took 16.8s (3 recycles)\n",
            "2025-10-05 19:46:59,880 alphafold2_ptm_model_3_seed_000 recycle=0 pLDDT=77.8 pTM=0.371\n",
            "2025-10-05 19:47:04,055 alphafold2_ptm_model_3_seed_000 recycle=1 pLDDT=78.4 pTM=0.39 tol=1.31\n",
            "2025-10-05 19:47:08,228 alphafold2_ptm_model_3_seed_000 recycle=2 pLDDT=79.2 pTM=0.397 tol=1.24\n",
            "2025-10-05 19:47:12,399 alphafold2_ptm_model_3_seed_000 recycle=3 pLDDT=79.5 pTM=0.403 tol=0.577\n",
            "2025-10-05 19:47:12,400 alphafold2_ptm_model_3_seed_000 took 16.7s (3 recycles)\n",
            "2025-10-05 19:47:16,574 alphafold2_ptm_model_4_seed_000 recycle=0 pLDDT=76.7 pTM=0.363\n",
            "2025-10-05 19:47:20,746 alphafold2_ptm_model_4_seed_000 recycle=1 pLDDT=77.8 pTM=0.375 tol=0.952\n",
            "2025-10-05 19:47:24,912 alphafold2_ptm_model_4_seed_000 recycle=2 pLDDT=77.7 pTM=0.378 tol=0.555\n",
            "2025-10-05 19:47:29,082 alphafold2_ptm_model_4_seed_000 recycle=3 pLDDT=78.1 pTM=0.379 tol=0.573\n",
            "2025-10-05 19:47:29,083 alphafold2_ptm_model_4_seed_000 took 16.7s (3 recycles)\n",
            "2025-10-05 19:47:33,236 alphafold2_ptm_model_5_seed_000 recycle=0 pLDDT=77 pTM=0.377\n",
            "2025-10-05 19:47:37,391 alphafold2_ptm_model_5_seed_000 recycle=1 pLDDT=78.1 pTM=0.395 tol=0.711\n",
            "2025-10-05 19:47:41,555 alphafold2_ptm_model_5_seed_000 recycle=2 pLDDT=78.6 pTM=0.398 tol=0.155\n",
            "2025-10-05 19:47:45,713 alphafold2_ptm_model_5_seed_000 recycle=3 pLDDT=78.6 pTM=0.404 tol=0.254\n",
            "2025-10-05 19:47:45,714 alphafold2_ptm_model_5_seed_000 took 16.6s (3 recycles)\n",
            "2025-10-05 19:47:45,718 reranking models by 'plddt' metric\n",
            "2025-10-05 19:47:45,718 rank_001_alphafold2_ptm_model_3_seed_000 pLDDT=79.5 pTM=0.403\n",
            "2025-10-05 19:47:45,718 rank_002_alphafold2_ptm_model_5_seed_000 pLDDT=78.6 pTM=0.404\n",
            "2025-10-05 19:47:45,718 rank_003_alphafold2_ptm_model_4_seed_000 pLDDT=78.1 pTM=0.379\n",
            "2025-10-05 19:47:45,718 rank_004_alphafold2_ptm_model_1_seed_000 pLDDT=75.9 pTM=0.39\n",
            "2025-10-05 19:47:45,719 rank_005_alphafold2_ptm_model_2_seed_000 pLDDT=75.1 pTM=0.389\n",
            "2025-10-05 19:47:46,670 Query 47/200: seq_185_6e57e (length 36)\n"
          ]
        },
        {
          "output_type": "stream",
          "name": "stderr",
          "text": [
            "COMPLETE: 100%|██████████| 150/150 [elapsed: 00:00 remaining: 00:00]\n"
          ]
        },
        {
          "output_type": "stream",
          "name": "stdout",
          "text": [
            "2025-10-05 19:47:47,219 Sequence 0 found no templates\n",
            "2025-10-05 19:47:49,314 Padding length to 45\n",
            "2025-10-05 19:47:53,648 alphafold2_ptm_model_1_seed_000 recycle=0 pLDDT=78.3 pTM=0.404\n",
            "2025-10-05 19:47:57,817 alphafold2_ptm_model_1_seed_000 recycle=1 pLDDT=78.6 pTM=0.404 tol=0.0918\n",
            "2025-10-05 19:48:01,991 alphafold2_ptm_model_1_seed_000 recycle=2 pLDDT=78.9 pTM=0.409 tol=0.0757\n",
            "2025-10-05 19:48:06,181 alphafold2_ptm_model_1_seed_000 recycle=3 pLDDT=80.1 pTM=0.414 tol=0.151\n",
            "2025-10-05 19:48:06,181 alphafold2_ptm_model_1_seed_000 took 16.9s (3 recycles)\n",
            "2025-10-05 19:48:10,392 alphafold2_ptm_model_2_seed_000 recycle=0 pLDDT=78.4 pTM=0.405\n",
            "2025-10-05 19:48:14,594 alphafold2_ptm_model_2_seed_000 recycle=1 pLDDT=77.1 pTM=0.4 tol=0.186\n",
            "2025-10-05 19:48:18,805 alphafold2_ptm_model_2_seed_000 recycle=2 pLDDT=76.4 pTM=0.399 tol=0.0581\n",
            "2025-10-05 19:48:23,005 alphafold2_ptm_model_2_seed_000 recycle=3 pLDDT=77.1 pTM=0.403 tol=0.139\n",
            "2025-10-05 19:48:23,005 alphafold2_ptm_model_2_seed_000 took 16.8s (3 recycles)\n",
            "2025-10-05 19:48:27,189 alphafold2_ptm_model_3_seed_000 recycle=0 pLDDT=86.7 pTM=0.428\n",
            "2025-10-05 19:48:31,372 alphafold2_ptm_model_3_seed_000 recycle=1 pLDDT=86.6 pTM=0.431 tol=0.115\n",
            "2025-10-05 19:48:35,556 alphafold2_ptm_model_3_seed_000 recycle=2 pLDDT=87.2 pTM=0.433 tol=0.0461\n",
            "2025-10-05 19:48:39,738 alphafold2_ptm_model_3_seed_000 recycle=3 pLDDT=86.8 pTM=0.433 tol=0.109\n",
            "2025-10-05 19:48:39,738 alphafold2_ptm_model_3_seed_000 took 16.7s (3 recycles)\n",
            "2025-10-05 19:48:43,900 alphafold2_ptm_model_4_seed_000 recycle=0 pLDDT=81.3 pTM=0.396\n",
            "2025-10-05 19:48:48,063 alphafold2_ptm_model_4_seed_000 recycle=1 pLDDT=80.3 pTM=0.396 tol=0.188\n",
            "2025-10-05 19:48:52,225 alphafold2_ptm_model_4_seed_000 recycle=2 pLDDT=80.2 pTM=0.401 tol=0.0881\n",
            "2025-10-05 19:48:56,381 alphafold2_ptm_model_4_seed_000 recycle=3 pLDDT=80.8 pTM=0.401 tol=0.0803\n",
            "2025-10-05 19:48:56,382 alphafold2_ptm_model_4_seed_000 took 16.6s (3 recycles)\n",
            "2025-10-05 19:49:00,544 alphafold2_ptm_model_5_seed_000 recycle=0 pLDDT=80.9 pTM=0.41\n",
            "2025-10-05 19:49:04,710 alphafold2_ptm_model_5_seed_000 recycle=1 pLDDT=80.2 pTM=0.407 tol=0.168\n",
            "2025-10-05 19:49:08,879 alphafold2_ptm_model_5_seed_000 recycle=2 pLDDT=81 pTM=0.412 tol=0.0635\n",
            "2025-10-05 19:49:13,047 alphafold2_ptm_model_5_seed_000 recycle=3 pLDDT=80.6 pTM=0.407 tol=0.123\n",
            "2025-10-05 19:49:13,047 alphafold2_ptm_model_5_seed_000 took 16.7s (3 recycles)\n",
            "2025-10-05 19:49:13,052 reranking models by 'plddt' metric\n",
            "2025-10-05 19:49:13,052 rank_001_alphafold2_ptm_model_3_seed_000 pLDDT=86.8 pTM=0.433\n",
            "2025-10-05 19:49:13,052 rank_002_alphafold2_ptm_model_4_seed_000 pLDDT=80.8 pTM=0.401\n",
            "2025-10-05 19:49:13,052 rank_003_alphafold2_ptm_model_5_seed_000 pLDDT=80.6 pTM=0.407\n",
            "2025-10-05 19:49:13,052 rank_004_alphafold2_ptm_model_1_seed_000 pLDDT=80.1 pTM=0.414\n",
            "2025-10-05 19:49:13,053 rank_005_alphafold2_ptm_model_2_seed_000 pLDDT=77.1 pTM=0.403\n",
            "2025-10-05 19:49:14,064 Query 48/200: seq_8_d2158 (length 37)\n"
          ]
        },
        {
          "output_type": "stream",
          "name": "stderr",
          "text": [
            "COMPLETE: 100%|██████████| 150/150 [elapsed: 00:00 remaining: 00:00]\n"
          ]
        },
        {
          "output_type": "stream",
          "name": "stdout",
          "text": [
            "2025-10-05 19:49:14,776 Sequence 0 found no templates\n",
            "2025-10-05 19:49:16,977 Padding length to 45\n",
            "2025-10-05 19:49:21,340 alphafold2_ptm_model_1_seed_000 recycle=0 pLDDT=86.6 pTM=0.419\n",
            "2025-10-05 19:49:25,575 alphafold2_ptm_model_1_seed_000 recycle=1 pLDDT=87.7 pTM=0.434 tol=0.398\n",
            "2025-10-05 19:49:29,824 alphafold2_ptm_model_1_seed_000 recycle=2 pLDDT=88.6 pTM=0.444 tol=0.198\n",
            "2025-10-05 19:49:34,085 alphafold2_ptm_model_1_seed_000 recycle=3 pLDDT=89 pTM=0.454 tol=0.186\n",
            "2025-10-05 19:49:34,085 alphafold2_ptm_model_1_seed_000 took 17.1s (3 recycles)\n",
            "2025-10-05 19:49:38,372 alphafold2_ptm_model_2_seed_000 recycle=0 pLDDT=87.1 pTM=0.405\n",
            "2025-10-05 19:49:42,663 alphafold2_ptm_model_2_seed_000 recycle=1 pLDDT=88.4 pTM=0.429 tol=0.449\n",
            "2025-10-05 19:49:46,955 alphafold2_ptm_model_2_seed_000 recycle=2 pLDDT=89.2 pTM=0.44 tol=0.248\n",
            "2025-10-05 19:49:51,232 alphafold2_ptm_model_2_seed_000 recycle=3 pLDDT=89.5 pTM=0.447 tol=0.242\n",
            "2025-10-05 19:49:51,232 alphafold2_ptm_model_2_seed_000 took 17.1s (3 recycles)\n",
            "2025-10-05 19:49:55,482 alphafold2_ptm_model_3_seed_000 recycle=0 pLDDT=87.1 pTM=0.417\n",
            "2025-10-05 19:49:59,734 alphafold2_ptm_model_3_seed_000 recycle=1 pLDDT=88.9 pTM=0.433 tol=0.418\n",
            "2025-10-05 19:50:03,978 alphafold2_ptm_model_3_seed_000 recycle=2 pLDDT=89.6 pTM=0.44 tol=0.394\n",
            "2025-10-05 19:50:08,220 alphafold2_ptm_model_3_seed_000 recycle=3 pLDDT=90.1 pTM=0.449 tol=0.0814\n",
            "2025-10-05 19:50:08,221 alphafold2_ptm_model_3_seed_000 took 17.0s (3 recycles)\n",
            "2025-10-05 19:50:12,458 alphafold2_ptm_model_4_seed_000 recycle=0 pLDDT=86.9 pTM=0.409\n",
            "2025-10-05 19:50:16,704 alphafold2_ptm_model_4_seed_000 recycle=1 pLDDT=89.1 pTM=0.43 tol=0.874\n",
            "2025-10-05 19:50:20,948 alphafold2_ptm_model_4_seed_000 recycle=2 pLDDT=89.9 pTM=0.438 tol=0.459\n",
            "2025-10-05 19:50:25,191 alphafold2_ptm_model_4_seed_000 recycle=3 pLDDT=90.3 pTM=0.443 tol=0.136\n",
            "2025-10-05 19:50:25,192 alphafold2_ptm_model_4_seed_000 took 17.0s (3 recycles)\n",
            "2025-10-05 19:50:29,415 alphafold2_ptm_model_5_seed_000 recycle=0 pLDDT=87 pTM=0.417\n",
            "2025-10-05 19:50:33,647 alphafold2_ptm_model_5_seed_000 recycle=1 pLDDT=87.9 pTM=0.44 tol=0.718\n",
            "2025-10-05 19:50:37,886 alphafold2_ptm_model_5_seed_000 recycle=2 pLDDT=88.8 pTM=0.449 tol=0.33\n",
            "2025-10-05 19:50:42,131 alphafold2_ptm_model_5_seed_000 recycle=3 pLDDT=89.4 pTM=0.455 tol=0.0981\n",
            "2025-10-05 19:50:42,131 alphafold2_ptm_model_5_seed_000 took 16.9s (3 recycles)\n",
            "2025-10-05 19:50:42,140 reranking models by 'plddt' metric\n",
            "2025-10-05 19:50:42,140 rank_001_alphafold2_ptm_model_4_seed_000 pLDDT=90.3 pTM=0.443\n",
            "2025-10-05 19:50:42,140 rank_002_alphafold2_ptm_model_3_seed_000 pLDDT=90.1 pTM=0.449\n",
            "2025-10-05 19:50:42,140 rank_003_alphafold2_ptm_model_2_seed_000 pLDDT=89.5 pTM=0.447\n",
            "2025-10-05 19:50:42,141 rank_004_alphafold2_ptm_model_5_seed_000 pLDDT=89.4 pTM=0.455\n",
            "2025-10-05 19:50:42,141 rank_005_alphafold2_ptm_model_1_seed_000 pLDDT=89 pTM=0.454\n",
            "2025-10-05 19:50:43,553 Query 49/200: seq_22_5a9fd (length 37)\n"
          ]
        },
        {
          "output_type": "stream",
          "name": "stderr",
          "text": [
            "COMPLETE: 100%|██████████| 150/150 [elapsed: 00:00 remaining: 00:00]\n"
          ]
        },
        {
          "output_type": "stream",
          "name": "stdout",
          "text": [
            "2025-10-05 19:50:44,092 Sequence 0 found no templates\n",
            "2025-10-05 19:50:46,233 Padding length to 45\n",
            "2025-10-05 19:50:50,548 alphafold2_ptm_model_1_seed_000 recycle=0 pLDDT=70.6 pTM=0.352\n",
            "2025-10-05 19:50:54,721 alphafold2_ptm_model_1_seed_000 recycle=1 pLDDT=71.4 pTM=0.359 tol=0.809\n",
            "2025-10-05 19:50:58,901 alphafold2_ptm_model_1_seed_000 recycle=2 pLDDT=71.6 pTM=0.358 tol=0.237\n",
            "2025-10-05 19:51:03,090 alphafold2_ptm_model_1_seed_000 recycle=3 pLDDT=71.6 pTM=0.36 tol=0.167\n",
            "2025-10-05 19:51:03,090 alphafold2_ptm_model_1_seed_000 took 16.9s (3 recycles)\n",
            "2025-10-05 19:51:07,305 alphafold2_ptm_model_2_seed_000 recycle=0 pLDDT=67.4 pTM=0.33\n",
            "2025-10-05 19:51:11,525 alphafold2_ptm_model_2_seed_000 recycle=1 pLDDT=67.6 pTM=0.331 tol=3.76\n",
            "2025-10-05 19:51:15,742 alphafold2_ptm_model_2_seed_000 recycle=2 pLDDT=67.4 pTM=0.333 tol=1.47\n",
            "2025-10-05 19:51:19,939 alphafold2_ptm_model_2_seed_000 recycle=3 pLDDT=67.9 pTM=0.334 tol=0.327\n",
            "2025-10-05 19:51:19,940 alphafold2_ptm_model_2_seed_000 took 16.8s (3 recycles)\n",
            "2025-10-05 19:51:24,126 alphafold2_ptm_model_3_seed_000 recycle=0 pLDDT=72.3 pTM=0.346\n",
            "2025-10-05 19:51:28,311 alphafold2_ptm_model_3_seed_000 recycle=1 pLDDT=73.8 pTM=0.36 tol=0.644\n",
            "2025-10-05 19:51:32,493 alphafold2_ptm_model_3_seed_000 recycle=2 pLDDT=73.7 pTM=0.357 tol=0.866\n",
            "2025-10-05 19:51:36,668 alphafold2_ptm_model_3_seed_000 recycle=3 pLDDT=74.6 pTM=0.359 tol=1.57\n",
            "2025-10-05 19:51:36,669 alphafold2_ptm_model_3_seed_000 took 16.7s (3 recycles)\n",
            "2025-10-05 19:51:40,826 alphafold2_ptm_model_4_seed_000 recycle=0 pLDDT=69.3 pTM=0.34\n",
            "2025-10-05 19:51:44,986 alphafold2_ptm_model_4_seed_000 recycle=1 pLDDT=70.7 pTM=0.354 tol=0.366\n",
            "2025-10-05 19:51:49,145 alphafold2_ptm_model_4_seed_000 recycle=2 pLDDT=71.2 pTM=0.356 tol=0.561\n",
            "2025-10-05 19:51:53,306 alphafold2_ptm_model_4_seed_000 recycle=3 pLDDT=71.9 pTM=0.356 tol=0.236\n",
            "2025-10-05 19:51:53,307 alphafold2_ptm_model_4_seed_000 took 16.6s (3 recycles)\n",
            "2025-10-05 19:51:57,466 alphafold2_ptm_model_5_seed_000 recycle=0 pLDDT=71.4 pTM=0.357\n",
            "2025-10-05 19:52:01,635 alphafold2_ptm_model_5_seed_000 recycle=1 pLDDT=72.8 pTM=0.368 tol=0.748\n",
            "2025-10-05 19:52:05,805 alphafold2_ptm_model_5_seed_000 recycle=2 pLDDT=73 pTM=0.37 tol=0.293\n",
            "2025-10-05 19:52:09,973 alphafold2_ptm_model_5_seed_000 recycle=3 pLDDT=73.6 pTM=0.375 tol=0.326\n",
            "2025-10-05 19:52:09,974 alphafold2_ptm_model_5_seed_000 took 16.7s (3 recycles)\n",
            "2025-10-05 19:52:09,979 reranking models by 'plddt' metric\n",
            "2025-10-05 19:52:09,979 rank_001_alphafold2_ptm_model_3_seed_000 pLDDT=74.6 pTM=0.359\n",
            "2025-10-05 19:52:09,979 rank_002_alphafold2_ptm_model_5_seed_000 pLDDT=73.6 pTM=0.375\n",
            "2025-10-05 19:52:09,979 rank_003_alphafold2_ptm_model_4_seed_000 pLDDT=71.9 pTM=0.356\n",
            "2025-10-05 19:52:09,979 rank_004_alphafold2_ptm_model_1_seed_000 pLDDT=71.6 pTM=0.36\n",
            "2025-10-05 19:52:09,980 rank_005_alphafold2_ptm_model_2_seed_000 pLDDT=67.9 pTM=0.334\n",
            "2025-10-05 19:52:10,913 Query 50/200: seq_43_42dfb (length 37)\n"
          ]
        },
        {
          "output_type": "stream",
          "name": "stderr",
          "text": [
            "COMPLETE: 100%|██████████| 150/150 [elapsed: 00:00 remaining: 00:00]\n"
          ]
        },
        {
          "output_type": "stream",
          "name": "stdout",
          "text": [
            "2025-10-05 19:52:11,454 Sequence 0 found no templates\n",
            "2025-10-05 19:52:13,556 Padding length to 45\n",
            "2025-10-05 19:52:17,890 alphafold2_ptm_model_1_seed_000 recycle=0 pLDDT=70.2 pTM=0.347\n",
            "2025-10-05 19:52:22,082 alphafold2_ptm_model_1_seed_000 recycle=1 pLDDT=71.6 pTM=0.359 tol=0.775\n",
            "2025-10-05 19:52:26,272 alphafold2_ptm_model_1_seed_000 recycle=2 pLDDT=71.8 pTM=0.359 tol=0.52\n",
            "2025-10-05 19:52:30,477 alphafold2_ptm_model_1_seed_000 recycle=3 pLDDT=72 pTM=0.36 tol=0.295\n",
            "2025-10-05 19:52:30,477 alphafold2_ptm_model_1_seed_000 took 16.9s (3 recycles)\n",
            "2025-10-05 19:52:34,705 alphafold2_ptm_model_2_seed_000 recycle=0 pLDDT=67.9 pTM=0.328\n",
            "2025-10-05 19:52:38,921 alphafold2_ptm_model_2_seed_000 recycle=1 pLDDT=68.5 pTM=0.337 tol=0.664\n",
            "2025-10-05 19:52:43,141 alphafold2_ptm_model_2_seed_000 recycle=2 pLDDT=67.9 pTM=0.335 tol=0.349\n",
            "2025-10-05 19:52:47,355 alphafold2_ptm_model_2_seed_000 recycle=3 pLDDT=68 pTM=0.333 tol=0.591\n",
            "2025-10-05 19:52:47,356 alphafold2_ptm_model_2_seed_000 took 16.9s (3 recycles)\n",
            "2025-10-05 19:52:51,547 alphafold2_ptm_model_3_seed_000 recycle=0 pLDDT=74.4 pTM=0.352\n",
            "2025-10-05 19:52:55,749 alphafold2_ptm_model_3_seed_000 recycle=1 pLDDT=76.5 pTM=0.367 tol=1.01\n",
            "2025-10-05 19:52:59,945 alphafold2_ptm_model_3_seed_000 recycle=2 pLDDT=77.2 pTM=0.376 tol=0.498\n",
            "2025-10-05 19:53:04,132 alphafold2_ptm_model_3_seed_000 recycle=3 pLDDT=77.2 pTM=0.376 tol=0.193\n",
            "2025-10-05 19:53:04,133 alphafold2_ptm_model_3_seed_000 took 16.8s (3 recycles)\n",
            "2025-10-05 19:53:08,326 alphafold2_ptm_model_4_seed_000 recycle=0 pLDDT=70.6 pTM=0.346\n",
            "2025-10-05 19:53:12,517 alphafold2_ptm_model_4_seed_000 recycle=1 pLDDT=72.4 pTM=0.368 tol=1.23\n",
            "2025-10-05 19:53:16,709 alphafold2_ptm_model_4_seed_000 recycle=2 pLDDT=72.9 pTM=0.369 tol=0.442\n",
            "2025-10-05 19:53:20,901 alphafold2_ptm_model_4_seed_000 recycle=3 pLDDT=73.1 pTM=0.368 tol=0.223\n",
            "2025-10-05 19:53:20,901 alphafold2_ptm_model_4_seed_000 took 16.8s (3 recycles)\n",
            "2025-10-05 19:53:25,078 alphafold2_ptm_model_5_seed_000 recycle=0 pLDDT=72.1 pTM=0.375\n",
            "2025-10-05 19:53:29,260 alphafold2_ptm_model_5_seed_000 recycle=1 pLDDT=74.1 pTM=0.391 tol=1.08\n",
            "2025-10-05 19:53:33,440 alphafold2_ptm_model_5_seed_000 recycle=2 pLDDT=74.6 pTM=0.397 tol=0.547\n",
            "2025-10-05 19:53:37,626 alphafold2_ptm_model_5_seed_000 recycle=3 pLDDT=74.7 pTM=0.398 tol=0.318\n",
            "2025-10-05 19:53:37,627 alphafold2_ptm_model_5_seed_000 took 16.7s (3 recycles)\n",
            "2025-10-05 19:53:37,632 reranking models by 'plddt' metric\n",
            "2025-10-05 19:53:37,632 rank_001_alphafold2_ptm_model_3_seed_000 pLDDT=77.2 pTM=0.376\n",
            "2025-10-05 19:53:37,632 rank_002_alphafold2_ptm_model_5_seed_000 pLDDT=74.7 pTM=0.398\n",
            "2025-10-05 19:53:37,632 rank_003_alphafold2_ptm_model_4_seed_000 pLDDT=73.1 pTM=0.368\n",
            "2025-10-05 19:53:37,632 rank_004_alphafold2_ptm_model_1_seed_000 pLDDT=72 pTM=0.36\n",
            "2025-10-05 19:53:37,633 rank_005_alphafold2_ptm_model_2_seed_000 pLDDT=68 pTM=0.333\n",
            "2025-10-05 19:53:38,597 Query 51/200: seq_56_0ca88 (length 37)\n"
          ]
        },
        {
          "output_type": "stream",
          "name": "stderr",
          "text": [
            "COMPLETE: 100%|██████████| 150/150 [elapsed: 00:00 remaining: 00:00]\n"
          ]
        },
        {
          "output_type": "stream",
          "name": "stdout",
          "text": [
            "2025-10-05 19:53:39,145 Sequence 0 found no templates\n",
            "2025-10-05 19:53:41,332 Padding length to 45\n",
            "2025-10-05 19:53:45,645 alphafold2_ptm_model_1_seed_000 recycle=0 pLDDT=84.2 pTM=0.436\n",
            "2025-10-05 19:53:49,813 alphafold2_ptm_model_1_seed_000 recycle=1 pLDDT=84.1 pTM=0.441 tol=0.0992\n",
            "2025-10-05 19:53:53,991 alphafold2_ptm_model_1_seed_000 recycle=2 pLDDT=84.1 pTM=0.446 tol=0.0545\n",
            "2025-10-05 19:53:58,175 alphafold2_ptm_model_1_seed_000 recycle=3 pLDDT=83.2 pTM=0.437 tol=0.0462\n",
            "2025-10-05 19:53:58,175 alphafold2_ptm_model_1_seed_000 took 16.8s (3 recycles)\n",
            "2025-10-05 19:54:02,382 alphafold2_ptm_model_2_seed_000 recycle=0 pLDDT=81.9 pTM=0.423\n",
            "2025-10-05 19:54:06,584 alphafold2_ptm_model_2_seed_000 recycle=1 pLDDT=80.6 pTM=0.424 tol=0.122\n",
            "2025-10-05 19:54:10,787 alphafold2_ptm_model_2_seed_000 recycle=2 pLDDT=79.9 pTM=0.419 tol=0.049\n",
            "2025-10-05 19:54:14,981 alphafold2_ptm_model_2_seed_000 recycle=3 pLDDT=79.1 pTM=0.416 tol=0.0452\n",
            "2025-10-05 19:54:14,982 alphafold2_ptm_model_2_seed_000 took 16.8s (3 recycles)\n",
            "2025-10-05 19:54:19,170 alphafold2_ptm_model_3_seed_000 recycle=0 pLDDT=84.2 pTM=0.405\n",
            "2025-10-05 19:54:23,360 alphafold2_ptm_model_3_seed_000 recycle=1 pLDDT=83.7 pTM=0.415 tol=0.195\n",
            "2025-10-05 19:54:27,547 alphafold2_ptm_model_3_seed_000 recycle=2 pLDDT=84 pTM=0.419 tol=0.0402\n",
            "2025-10-05 19:54:31,737 alphafold2_ptm_model_3_seed_000 recycle=3 pLDDT=83.2 pTM=0.412 tol=0.0793\n",
            "2025-10-05 19:54:31,738 alphafold2_ptm_model_3_seed_000 took 16.8s (3 recycles)\n",
            "2025-10-05 19:54:35,908 alphafold2_ptm_model_4_seed_000 recycle=0 pLDDT=82.9 pTM=0.407\n",
            "2025-10-05 19:54:40,073 alphafold2_ptm_model_4_seed_000 recycle=1 pLDDT=82.9 pTM=0.421 tol=0.13\n",
            "2025-10-05 19:54:44,241 alphafold2_ptm_model_4_seed_000 recycle=2 pLDDT=84 pTM=0.435 tol=0.0427\n",
            "2025-10-05 19:54:48,409 alphafold2_ptm_model_4_seed_000 recycle=3 pLDDT=83.1 pTM=0.43 tol=0.0741\n",
            "2025-10-05 19:54:48,410 alphafold2_ptm_model_4_seed_000 took 16.7s (3 recycles)\n",
            "2025-10-05 19:54:52,576 alphafold2_ptm_model_5_seed_000 recycle=0 pLDDT=83.8 pTM=0.433\n",
            "2025-10-05 19:54:56,760 alphafold2_ptm_model_5_seed_000 recycle=1 pLDDT=83 pTM=0.424 tol=0.0733\n",
            "2025-10-05 19:55:00,942 alphafold2_ptm_model_5_seed_000 recycle=2 pLDDT=82.8 pTM=0.427 tol=0.0432\n",
            "2025-10-05 19:55:05,119 alphafold2_ptm_model_5_seed_000 recycle=3 pLDDT=82.6 pTM=0.422 tol=0.0481\n",
            "2025-10-05 19:55:05,120 alphafold2_ptm_model_5_seed_000 took 16.7s (3 recycles)\n",
            "2025-10-05 19:55:05,125 reranking models by 'plddt' metric\n",
            "2025-10-05 19:55:05,125 rank_001_alphafold2_ptm_model_3_seed_000 pLDDT=83.2 pTM=0.412\n",
            "2025-10-05 19:55:05,125 rank_002_alphafold2_ptm_model_1_seed_000 pLDDT=83.2 pTM=0.437\n",
            "2025-10-05 19:55:05,125 rank_003_alphafold2_ptm_model_4_seed_000 pLDDT=83.1 pTM=0.43\n",
            "2025-10-05 19:55:05,125 rank_004_alphafold2_ptm_model_5_seed_000 pLDDT=82.6 pTM=0.422\n",
            "2025-10-05 19:55:05,125 rank_005_alphafold2_ptm_model_2_seed_000 pLDDT=79.1 pTM=0.416\n",
            "2025-10-05 19:55:06,097 Query 52/200: seq_64_10b8f (length 37)\n"
          ]
        },
        {
          "output_type": "stream",
          "name": "stderr",
          "text": [
            "COMPLETE: 100%|██████████| 150/150 [elapsed: 00:00 remaining: 00:00]\n"
          ]
        },
        {
          "output_type": "stream",
          "name": "stdout",
          "text": [
            "2025-10-05 19:55:06,633 Sequence 0 found no templates\n",
            "2025-10-05 19:55:09,341 Padding length to 45\n",
            "2025-10-05 19:55:13,643 alphafold2_ptm_model_1_seed_000 recycle=0 pLDDT=92.6 pTM=0.535\n",
            "2025-10-05 19:55:17,803 alphafold2_ptm_model_1_seed_000 recycle=1 pLDDT=91.9 pTM=0.534 tol=0.0858\n",
            "2025-10-05 19:55:21,964 alphafold2_ptm_model_1_seed_000 recycle=2 pLDDT=91.8 pTM=0.535 tol=0.0379\n",
            "2025-10-05 19:55:26,136 alphafold2_ptm_model_1_seed_000 recycle=3 pLDDT=91.9 pTM=0.541 tol=0.0276\n",
            "2025-10-05 19:55:26,137 alphafold2_ptm_model_1_seed_000 took 16.8s (3 recycles)\n",
            "2025-10-05 19:55:30,338 alphafold2_ptm_model_2_seed_000 recycle=0 pLDDT=88.9 pTM=0.522\n",
            "2025-10-05 19:55:34,532 alphafold2_ptm_model_2_seed_000 recycle=1 pLDDT=86.8 pTM=0.518 tol=0.0842\n",
            "2025-10-05 19:55:38,729 alphafold2_ptm_model_2_seed_000 recycle=2 pLDDT=86 pTM=0.513 tol=0.0363\n",
            "2025-10-05 19:55:42,919 alphafold2_ptm_model_2_seed_000 recycle=3 pLDDT=86.2 pTM=0.515 tol=0.0286\n",
            "2025-10-05 19:55:42,919 alphafold2_ptm_model_2_seed_000 took 16.8s (3 recycles)\n",
            "2025-10-05 19:55:47,085 alphafold2_ptm_model_3_seed_000 recycle=0 pLDDT=90.9 pTM=0.512\n",
            "2025-10-05 19:55:51,254 alphafold2_ptm_model_3_seed_000 recycle=1 pLDDT=90.9 pTM=0.521 tol=0.09\n",
            "2025-10-05 19:55:55,421 alphafold2_ptm_model_3_seed_000 recycle=2 pLDDT=91.8 pTM=0.524 tol=0.0305\n",
            "2025-10-05 19:55:59,583 alphafold2_ptm_model_3_seed_000 recycle=3 pLDDT=92.2 pTM=0.531 tol=0.0463\n",
            "2025-10-05 19:55:59,584 alphafold2_ptm_model_3_seed_000 took 16.7s (3 recycles)\n",
            "2025-10-05 19:56:03,746 alphafold2_ptm_model_4_seed_000 recycle=0 pLDDT=92 pTM=0.527\n",
            "2025-10-05 19:56:07,916 alphafold2_ptm_model_4_seed_000 recycle=1 pLDDT=92.2 pTM=0.54 tol=0.128\n",
            "2025-10-05 19:56:12,079 alphafold2_ptm_model_4_seed_000 recycle=2 pLDDT=92.6 pTM=0.543 tol=0.0309\n",
            "2025-10-05 19:56:16,240 alphafold2_ptm_model_4_seed_000 recycle=3 pLDDT=92.8 pTM=0.547 tol=0.0357\n",
            "2025-10-05 19:56:16,241 alphafold2_ptm_model_4_seed_000 took 16.7s (3 recycles)\n",
            "2025-10-05 19:56:20,388 alphafold2_ptm_model_5_seed_000 recycle=0 pLDDT=91.4 pTM=0.513\n",
            "2025-10-05 19:56:24,543 alphafold2_ptm_model_5_seed_000 recycle=1 pLDDT=90.4 pTM=0.513 tol=0.0725\n",
            "2025-10-05 19:56:28,699 alphafold2_ptm_model_5_seed_000 recycle=2 pLDDT=90.8 pTM=0.518 tol=0.0401\n",
            "2025-10-05 19:56:32,859 alphafold2_ptm_model_5_seed_000 recycle=3 pLDDT=90.9 pTM=0.519 tol=0.0313\n",
            "2025-10-05 19:56:32,859 alphafold2_ptm_model_5_seed_000 took 16.6s (3 recycles)\n",
            "2025-10-05 19:56:32,867 reranking models by 'plddt' metric\n",
            "2025-10-05 19:56:32,867 rank_001_alphafold2_ptm_model_4_seed_000 pLDDT=92.8 pTM=0.547\n",
            "2025-10-05 19:56:32,867 rank_002_alphafold2_ptm_model_3_seed_000 pLDDT=92.2 pTM=0.531\n",
            "2025-10-05 19:56:32,867 rank_003_alphafold2_ptm_model_1_seed_000 pLDDT=91.9 pTM=0.541\n",
            "2025-10-05 19:56:32,867 rank_004_alphafold2_ptm_model_5_seed_000 pLDDT=90.9 pTM=0.519\n",
            "2025-10-05 19:56:32,868 rank_005_alphafold2_ptm_model_2_seed_000 pLDDT=86.2 pTM=0.515\n",
            "2025-10-05 19:56:34,146 Query 53/200: seq_68_53977 (length 37)\n"
          ]
        },
        {
          "output_type": "stream",
          "name": "stderr",
          "text": [
            "COMPLETE: 100%|██████████| 150/150 [elapsed: 00:00 remaining: 00:00]\n"
          ]
        },
        {
          "output_type": "stream",
          "name": "stdout",
          "text": [
            "2025-10-05 19:56:34,678 Sequence 0 found no templates\n",
            "2025-10-05 19:56:36,881 Padding length to 45\n",
            "2025-10-05 19:56:41,238 alphafold2_ptm_model_1_seed_000 recycle=0 pLDDT=87.5 pTM=0.46\n",
            "2025-10-05 19:56:45,464 alphafold2_ptm_model_1_seed_000 recycle=1 pLDDT=88.2 pTM=0.473 tol=0.0745\n",
            "2025-10-05 19:56:49,692 alphafold2_ptm_model_1_seed_000 recycle=2 pLDDT=87.7 pTM=0.467 tol=0.0312\n",
            "2025-10-05 19:56:53,932 alphafold2_ptm_model_1_seed_000 recycle=3 pLDDT=87.6 pTM=0.463 tol=0.0358\n",
            "2025-10-05 19:56:53,933 alphafold2_ptm_model_1_seed_000 took 17.1s (3 recycles)\n",
            "2025-10-05 19:56:58,200 alphafold2_ptm_model_2_seed_000 recycle=0 pLDDT=83.4 pTM=0.427\n",
            "2025-10-05 19:57:02,461 alphafold2_ptm_model_2_seed_000 recycle=1 pLDDT=83.6 pTM=0.435 tol=0.113\n",
            "2025-10-05 19:57:06,730 alphafold2_ptm_model_2_seed_000 recycle=2 pLDDT=82.3 pTM=0.423 tol=0.0803\n",
            "2025-10-05 19:57:10,990 alphafold2_ptm_model_2_seed_000 recycle=3 pLDDT=82.4 pTM=0.422 tol=0.0263\n",
            "2025-10-05 19:57:10,991 alphafold2_ptm_model_2_seed_000 took 17.1s (3 recycles)\n",
            "2025-10-05 19:57:15,236 alphafold2_ptm_model_3_seed_000 recycle=0 pLDDT=87.9 pTM=0.422\n",
            "2025-10-05 19:57:19,482 alphafold2_ptm_model_3_seed_000 recycle=1 pLDDT=88.1 pTM=0.437 tol=0.106\n",
            "2025-10-05 19:57:23,719 alphafold2_ptm_model_3_seed_000 recycle=2 pLDDT=88.4 pTM=0.428 tol=0.0674\n",
            "2025-10-05 19:57:27,957 alphafold2_ptm_model_3_seed_000 recycle=3 pLDDT=87.9 pTM=0.421 tol=0.0469\n",
            "2025-10-05 19:57:27,958 alphafold2_ptm_model_3_seed_000 took 17.0s (3 recycles)\n",
            "2025-10-05 19:57:32,180 alphafold2_ptm_model_4_seed_000 recycle=0 pLDDT=88.8 pTM=0.451\n",
            "2025-10-05 19:57:36,402 alphafold2_ptm_model_4_seed_000 recycle=1 pLDDT=88.4 pTM=0.454 tol=0.134\n",
            "2025-10-05 19:57:40,620 alphafold2_ptm_model_4_seed_000 recycle=2 pLDDT=88.4 pTM=0.455 tol=0.0473\n",
            "2025-10-05 19:57:44,836 alphafold2_ptm_model_4_seed_000 recycle=3 pLDDT=87.7 pTM=0.445 tol=0.0282\n",
            "2025-10-05 19:57:44,837 alphafold2_ptm_model_4_seed_000 took 16.9s (3 recycles)\n",
            "2025-10-05 19:57:49,060 alphafold2_ptm_model_5_seed_000 recycle=0 pLDDT=87.7 pTM=0.459\n",
            "2025-10-05 19:57:53,287 alphafold2_ptm_model_5_seed_000 recycle=1 pLDDT=87.1 pTM=0.456 tol=0.186\n",
            "2025-10-05 19:57:57,517 alphafold2_ptm_model_5_seed_000 recycle=2 pLDDT=87.2 pTM=0.458 tol=0.0414\n",
            "2025-10-05 19:58:01,754 alphafold2_ptm_model_5_seed_000 recycle=3 pLDDT=87.4 pTM=0.46 tol=0.053\n",
            "2025-10-05 19:58:01,754 alphafold2_ptm_model_5_seed_000 took 16.9s (3 recycles)\n",
            "2025-10-05 19:58:01,761 reranking models by 'plddt' metric\n",
            "2025-10-05 19:58:01,762 rank_001_alphafold2_ptm_model_3_seed_000 pLDDT=87.9 pTM=0.421\n",
            "2025-10-05 19:58:01,762 rank_002_alphafold2_ptm_model_4_seed_000 pLDDT=87.7 pTM=0.445\n",
            "2025-10-05 19:58:01,762 rank_003_alphafold2_ptm_model_1_seed_000 pLDDT=87.6 pTM=0.463\n",
            "2025-10-05 19:58:01,763 rank_004_alphafold2_ptm_model_5_seed_000 pLDDT=87.4 pTM=0.46\n",
            "2025-10-05 19:58:01,763 rank_005_alphafold2_ptm_model_2_seed_000 pLDDT=82.4 pTM=0.422\n",
            "2025-10-05 19:58:02,738 Query 54/200: seq_96_43d4b (length 37)\n"
          ]
        },
        {
          "output_type": "stream",
          "name": "stderr",
          "text": [
            "COMPLETE: 100%|██████████| 150/150 [elapsed: 00:00 remaining: 00:00]\n"
          ]
        },
        {
          "output_type": "stream",
          "name": "stdout",
          "text": [
            "2025-10-05 19:58:03,450 Sequence 0 found no templates\n",
            "2025-10-05 19:58:05,703 Padding length to 45\n",
            "2025-10-05 19:58:10,094 alphafold2_ptm_model_1_seed_000 recycle=0 pLDDT=80.7 pTM=0.415\n",
            "2025-10-05 19:58:14,337 alphafold2_ptm_model_1_seed_000 recycle=1 pLDDT=80.8 pTM=0.421 tol=0.134\n",
            "2025-10-05 19:58:18,586 alphafold2_ptm_model_1_seed_000 recycle=2 pLDDT=80.2 pTM=0.42 tol=0.0595\n",
            "2025-10-05 19:58:22,854 alphafold2_ptm_model_1_seed_000 recycle=3 pLDDT=80.2 pTM=0.42 tol=0.084\n",
            "2025-10-05 19:58:22,854 alphafold2_ptm_model_1_seed_000 took 17.2s (3 recycles)\n",
            "2025-10-05 19:58:27,148 alphafold2_ptm_model_2_seed_000 recycle=0 pLDDT=77.2 pTM=0.388\n",
            "2025-10-05 19:58:31,450 alphafold2_ptm_model_2_seed_000 recycle=1 pLDDT=77.2 pTM=0.395 tol=0.109\n",
            "2025-10-05 19:58:35,752 alphafold2_ptm_model_2_seed_000 recycle=2 pLDDT=76.9 pTM=0.393 tol=0.0903\n",
            "2025-10-05 19:58:40,044 alphafold2_ptm_model_2_seed_000 recycle=3 pLDDT=76.9 pTM=0.397 tol=0.113\n",
            "2025-10-05 19:58:40,045 alphafold2_ptm_model_2_seed_000 took 17.2s (3 recycles)\n",
            "2025-10-05 19:58:44,310 alphafold2_ptm_model_3_seed_000 recycle=0 pLDDT=82.2 pTM=0.409\n",
            "2025-10-05 19:58:48,579 alphafold2_ptm_model_3_seed_000 recycle=1 pLDDT=82.9 pTM=0.415 tol=0.217\n",
            "2025-10-05 19:58:52,836 alphafold2_ptm_model_3_seed_000 recycle=2 pLDDT=83.1 pTM=0.414 tol=0.13\n",
            "2025-10-05 19:58:57,088 alphafold2_ptm_model_3_seed_000 recycle=3 pLDDT=82.9 pTM=0.417 tol=0.0912\n",
            "2025-10-05 19:58:57,088 alphafold2_ptm_model_3_seed_000 took 17.0s (3 recycles)\n",
            "2025-10-05 19:59:01,340 alphafold2_ptm_model_4_seed_000 recycle=0 pLDDT=79.9 pTM=0.42\n",
            "2025-10-05 19:59:05,592 alphafold2_ptm_model_4_seed_000 recycle=1 pLDDT=79.2 pTM=0.422 tol=0.133\n",
            "2025-10-05 19:59:09,845 alphafold2_ptm_model_4_seed_000 recycle=2 pLDDT=79.3 pTM=0.422 tol=0.104\n",
            "2025-10-05 19:59:14,100 alphafold2_ptm_model_4_seed_000 recycle=3 pLDDT=79.4 pTM=0.421 tol=0.072\n",
            "2025-10-05 19:59:14,101 alphafold2_ptm_model_4_seed_000 took 17.0s (3 recycles)\n",
            "2025-10-05 19:59:18,335 alphafold2_ptm_model_5_seed_000 recycle=0 pLDDT=81.1 pTM=0.423\n",
            "2025-10-05 19:59:22,578 alphafold2_ptm_model_5_seed_000 recycle=1 pLDDT=81.5 pTM=0.424 tol=0.216\n",
            "2025-10-05 19:59:26,825 alphafold2_ptm_model_5_seed_000 recycle=2 pLDDT=81.2 pTM=0.423 tol=0.141\n",
            "2025-10-05 19:59:31,073 alphafold2_ptm_model_5_seed_000 recycle=3 pLDDT=80.8 pTM=0.421 tol=0.0801\n",
            "2025-10-05 19:59:31,073 alphafold2_ptm_model_5_seed_000 took 17.0s (3 recycles)\n",
            "2025-10-05 19:59:31,078 reranking models by 'plddt' metric\n",
            "2025-10-05 19:59:31,078 rank_001_alphafold2_ptm_model_3_seed_000 pLDDT=82.9 pTM=0.417\n",
            "2025-10-05 19:59:31,078 rank_002_alphafold2_ptm_model_5_seed_000 pLDDT=80.8 pTM=0.421\n",
            "2025-10-05 19:59:31,078 rank_003_alphafold2_ptm_model_1_seed_000 pLDDT=80.2 pTM=0.42\n",
            "2025-10-05 19:59:31,078 rank_004_alphafold2_ptm_model_4_seed_000 pLDDT=79.4 pTM=0.421\n",
            "2025-10-05 19:59:31,078 rank_005_alphafold2_ptm_model_2_seed_000 pLDDT=76.9 pTM=0.397\n",
            "2025-10-05 19:59:32,056 Query 55/200: seq_102_1b22e (length 37)\n"
          ]
        },
        {
          "output_type": "stream",
          "name": "stderr",
          "text": [
            "COMPLETE: 100%|██████████| 150/150 [elapsed: 00:00 remaining: 00:00]\n"
          ]
        },
        {
          "output_type": "stream",
          "name": "stdout",
          "text": [
            "2025-10-05 19:59:32,780 Sequence 0 found no templates\n",
            "2025-10-05 19:59:35,628 Padding length to 45\n",
            "2025-10-05 19:59:40,039 alphafold2_ptm_model_1_seed_000 recycle=0 pLDDT=78.2 pTM=0.415\n",
            "2025-10-05 19:59:44,280 alphafold2_ptm_model_1_seed_000 recycle=1 pLDDT=79 pTM=0.422 tol=0.153\n",
            "2025-10-05 19:59:48,529 alphafold2_ptm_model_1_seed_000 recycle=2 pLDDT=78.9 pTM=0.42 tol=0.145\n",
            "2025-10-05 19:59:52,805 alphafold2_ptm_model_1_seed_000 recycle=3 pLDDT=79.1 pTM=0.423 tol=0.11\n",
            "2025-10-05 19:59:52,806 alphafold2_ptm_model_1_seed_000 took 17.2s (3 recycles)\n",
            "2025-10-05 19:59:57,110 alphafold2_ptm_model_2_seed_000 recycle=0 pLDDT=76.4 pTM=0.394\n",
            "2025-10-05 20:00:01,412 alphafold2_ptm_model_2_seed_000 recycle=1 pLDDT=76.2 pTM=0.4 tol=0.174\n",
            "2025-10-05 20:00:05,712 alphafold2_ptm_model_2_seed_000 recycle=2 pLDDT=75.4 pTM=0.394 tol=0.197\n",
            "2025-10-05 20:00:10,001 alphafold2_ptm_model_2_seed_000 recycle=3 pLDDT=75.4 pTM=0.393 tol=0.0837\n",
            "2025-10-05 20:00:10,002 alphafold2_ptm_model_2_seed_000 took 17.2s (3 recycles)\n",
            "2025-10-05 20:00:14,276 alphafold2_ptm_model_3_seed_000 recycle=0 pLDDT=82.7 pTM=0.419\n",
            "2025-10-05 20:00:18,553 alphafold2_ptm_model_3_seed_000 recycle=1 pLDDT=83.9 pTM=0.417 tol=0.296\n",
            "2025-10-05 20:00:22,819 alphafold2_ptm_model_3_seed_000 recycle=2 pLDDT=84.6 pTM=0.416 tol=0.0955\n",
            "2025-10-05 20:00:27,082 alphafold2_ptm_model_3_seed_000 recycle=3 pLDDT=85.1 pTM=0.422 tol=0.117\n",
            "2025-10-05 20:00:27,083 alphafold2_ptm_model_3_seed_000 took 17.1s (3 recycles)\n",
            "2025-10-05 20:00:31,324 alphafold2_ptm_model_4_seed_000 recycle=0 pLDDT=76.1 pTM=0.419\n",
            "2025-10-05 20:00:35,562 alphafold2_ptm_model_4_seed_000 recycle=1 pLDDT=75.8 pTM=0.418 tol=0.429\n",
            "2025-10-05 20:00:39,804 alphafold2_ptm_model_4_seed_000 recycle=2 pLDDT=76.3 pTM=0.418 tol=0.134\n",
            "2025-10-05 20:00:44,043 alphafold2_ptm_model_4_seed_000 recycle=3 pLDDT=76.5 pTM=0.42 tol=0.237\n",
            "2025-10-05 20:00:44,044 alphafold2_ptm_model_4_seed_000 took 17.0s (3 recycles)\n",
            "2025-10-05 20:00:48,287 alphafold2_ptm_model_5_seed_000 recycle=0 pLDDT=79.4 pTM=0.446\n",
            "2025-10-05 20:00:52,543 alphafold2_ptm_model_5_seed_000 recycle=1 pLDDT=80.7 pTM=0.448 tol=0.288\n",
            "2025-10-05 20:00:56,794 alphafold2_ptm_model_5_seed_000 recycle=2 pLDDT=80.9 pTM=0.447 tol=0.0995\n",
            "2025-10-05 20:01:01,049 alphafold2_ptm_model_5_seed_000 recycle=3 pLDDT=81.2 pTM=0.45 tol=0.0505\n",
            "2025-10-05 20:01:01,050 alphafold2_ptm_model_5_seed_000 took 17.0s (3 recycles)\n",
            "2025-10-05 20:01:01,054 reranking models by 'plddt' metric\n",
            "2025-10-05 20:01:01,054 rank_001_alphafold2_ptm_model_3_seed_000 pLDDT=85.1 pTM=0.422\n",
            "2025-10-05 20:01:01,055 rank_002_alphafold2_ptm_model_5_seed_000 pLDDT=81.2 pTM=0.45\n",
            "2025-10-05 20:01:01,055 rank_003_alphafold2_ptm_model_1_seed_000 pLDDT=79.1 pTM=0.423\n",
            "2025-10-05 20:01:01,055 rank_004_alphafold2_ptm_model_4_seed_000 pLDDT=76.5 pTM=0.42\n",
            "2025-10-05 20:01:01,055 rank_005_alphafold2_ptm_model_2_seed_000 pLDDT=75.4 pTM=0.393\n",
            "2025-10-05 20:01:03,788 Query 56/200: seq_137_f86a8 (length 37)\n"
          ]
        },
        {
          "output_type": "stream",
          "name": "stderr",
          "text": [
            "COMPLETE: 100%|██████████| 150/150 [elapsed: 00:00 remaining: 00:00]\n"
          ]
        },
        {
          "output_type": "stream",
          "name": "stdout",
          "text": [
            "2025-10-05 20:01:04,333 Sequence 0 found no templates\n",
            "2025-10-05 20:01:06,490 Padding length to 45\n",
            "2025-10-05 20:01:10,830 alphafold2_ptm_model_1_seed_000 recycle=0 pLDDT=75.2 pTM=0.399\n",
            "2025-10-05 20:01:15,015 alphafold2_ptm_model_1_seed_000 recycle=1 pLDDT=76.2 pTM=0.411 tol=1.09\n",
            "2025-10-05 20:01:19,205 alphafold2_ptm_model_1_seed_000 recycle=2 pLDDT=76.6 pTM=0.417 tol=0.48\n",
            "2025-10-05 20:01:23,403 alphafold2_ptm_model_1_seed_000 recycle=3 pLDDT=76.7 pTM=0.411 tol=0.346\n",
            "2025-10-05 20:01:23,404 alphafold2_ptm_model_1_seed_000 took 16.9s (3 recycles)\n",
            "2025-10-05 20:01:27,624 alphafold2_ptm_model_2_seed_000 recycle=0 pLDDT=75.4 pTM=0.407\n",
            "2025-10-05 20:01:31,843 alphafold2_ptm_model_2_seed_000 recycle=1 pLDDT=76.9 pTM=0.432 tol=0.549\n",
            "2025-10-05 20:01:36,061 alphafold2_ptm_model_2_seed_000 recycle=2 pLDDT=76.8 pTM=0.432 tol=0.201\n",
            "2025-10-05 20:01:40,269 alphafold2_ptm_model_2_seed_000 recycle=3 pLDDT=76.8 pTM=0.426 tol=0.216\n",
            "2025-10-05 20:01:40,269 alphafold2_ptm_model_2_seed_000 took 16.9s (3 recycles)\n",
            "2025-10-05 20:01:44,448 alphafold2_ptm_model_3_seed_000 recycle=0 pLDDT=79.8 pTM=0.405\n",
            "2025-10-05 20:01:48,631 alphafold2_ptm_model_3_seed_000 recycle=1 pLDDT=80.4 pTM=0.423 tol=0.702\n",
            "2025-10-05 20:01:52,807 alphafold2_ptm_model_3_seed_000 recycle=2 pLDDT=80.8 pTM=0.435 tol=0.411\n",
            "2025-10-05 20:01:56,977 alphafold2_ptm_model_3_seed_000 recycle=3 pLDDT=80.9 pTM=0.43 tol=0.389\n",
            "2025-10-05 20:01:56,978 alphafold2_ptm_model_3_seed_000 took 16.7s (3 recycles)\n",
            "2025-10-05 20:02:01,146 alphafold2_ptm_model_4_seed_000 recycle=0 pLDDT=77.9 pTM=0.414\n",
            "2025-10-05 20:02:05,317 alphafold2_ptm_model_4_seed_000 recycle=1 pLDDT=78 pTM=0.421 tol=0.398\n",
            "2025-10-05 20:02:09,487 alphafold2_ptm_model_4_seed_000 recycle=2 pLDDT=78.5 pTM=0.428 tol=0.0939\n",
            "2025-10-05 20:02:13,657 alphafold2_ptm_model_4_seed_000 recycle=3 pLDDT=78.4 pTM=0.425 tol=0.158\n",
            "2025-10-05 20:02:13,658 alphafold2_ptm_model_4_seed_000 took 16.7s (3 recycles)\n",
            "2025-10-05 20:02:17,813 alphafold2_ptm_model_5_seed_000 recycle=0 pLDDT=78.8 pTM=0.426\n",
            "2025-10-05 20:02:21,980 alphafold2_ptm_model_5_seed_000 recycle=1 pLDDT=78.9 pTM=0.431 tol=0.427\n",
            "2025-10-05 20:02:26,145 alphafold2_ptm_model_5_seed_000 recycle=2 pLDDT=79.5 pTM=0.438 tol=0.0931\n",
            "2025-10-05 20:02:30,313 alphafold2_ptm_model_5_seed_000 recycle=3 pLDDT=79.3 pTM=0.431 tol=0.183\n",
            "2025-10-05 20:02:30,314 alphafold2_ptm_model_5_seed_000 took 16.7s (3 recycles)\n",
            "2025-10-05 20:02:30,318 reranking models by 'plddt' metric\n",
            "2025-10-05 20:02:30,318 rank_001_alphafold2_ptm_model_3_seed_000 pLDDT=80.9 pTM=0.43\n",
            "2025-10-05 20:02:30,318 rank_002_alphafold2_ptm_model_5_seed_000 pLDDT=79.3 pTM=0.431\n",
            "2025-10-05 20:02:30,319 rank_003_alphafold2_ptm_model_4_seed_000 pLDDT=78.4 pTM=0.425\n",
            "2025-10-05 20:02:30,319 rank_004_alphafold2_ptm_model_2_seed_000 pLDDT=76.8 pTM=0.426\n",
            "2025-10-05 20:02:30,319 rank_005_alphafold2_ptm_model_1_seed_000 pLDDT=76.7 pTM=0.411\n",
            "2025-10-05 20:02:31,284 Query 57/200: seq_55_f6460 (length 38)\n"
          ]
        },
        {
          "output_type": "stream",
          "name": "stderr",
          "text": [
            "COMPLETE: 100%|██████████| 150/150 [elapsed: 00:00 remaining: 00:00]\n"
          ]
        },
        {
          "output_type": "stream",
          "name": "stdout",
          "text": [
            "2025-10-05 20:02:31,815 Sequence 0 found no templates\n",
            "2025-10-05 20:02:34,182 Padding length to 45\n",
            "2025-10-05 20:02:38,516 alphafold2_ptm_model_1_seed_000 recycle=0 pLDDT=77.3 pTM=0.412\n",
            "2025-10-05 20:02:42,690 alphafold2_ptm_model_1_seed_000 recycle=1 pLDDT=77.6 pTM=0.426 tol=1.08\n",
            "2025-10-05 20:02:46,871 alphafold2_ptm_model_1_seed_000 recycle=2 pLDDT=77.6 pTM=0.422 tol=0.558\n",
            "2025-10-05 20:02:51,067 alphafold2_ptm_model_1_seed_000 recycle=3 pLDDT=77.7 pTM=0.426 tol=0.786\n",
            "2025-10-05 20:02:51,068 alphafold2_ptm_model_1_seed_000 took 16.9s (3 recycles)\n",
            "2025-10-05 20:02:55,283 alphafold2_ptm_model_2_seed_000 recycle=0 pLDDT=73.2 pTM=0.389\n",
            "2025-10-05 20:02:59,501 alphafold2_ptm_model_2_seed_000 recycle=1 pLDDT=72.4 pTM=0.399 tol=0.743\n",
            "2025-10-05 20:03:03,721 alphafold2_ptm_model_2_seed_000 recycle=2 pLDDT=72.6 pTM=0.394 tol=0.312\n",
            "2025-10-05 20:03:07,931 alphafold2_ptm_model_2_seed_000 recycle=3 pLDDT=72.4 pTM=0.398 tol=0.131\n",
            "2025-10-05 20:03:07,932 alphafold2_ptm_model_2_seed_000 took 16.9s (3 recycles)\n",
            "2025-10-05 20:03:12,123 alphafold2_ptm_model_3_seed_000 recycle=0 pLDDT=77.2 pTM=0.394\n",
            "2025-10-05 20:03:16,315 alphafold2_ptm_model_3_seed_000 recycle=1 pLDDT=77 pTM=0.398 tol=0.867\n",
            "2025-10-05 20:03:20,501 alphafold2_ptm_model_3_seed_000 recycle=2 pLDDT=76.9 pTM=0.399 tol=0.735\n",
            "2025-10-05 20:03:24,683 alphafold2_ptm_model_3_seed_000 recycle=3 pLDDT=77.2 pTM=0.407 tol=0.335\n",
            "2025-10-05 20:03:24,684 alphafold2_ptm_model_3_seed_000 took 16.7s (3 recycles)\n",
            "2025-10-05 20:03:28,846 alphafold2_ptm_model_4_seed_000 recycle=0 pLDDT=76.2 pTM=0.401\n",
            "2025-10-05 20:03:33,012 alphafold2_ptm_model_4_seed_000 recycle=1 pLDDT=76.8 pTM=0.406 tol=0.417\n",
            "2025-10-05 20:03:37,176 alphafold2_ptm_model_4_seed_000 recycle=2 pLDDT=76.9 pTM=0.406 tol=0.223\n",
            "2025-10-05 20:03:41,338 alphafold2_ptm_model_4_seed_000 recycle=3 pLDDT=77.2 pTM=0.412 tol=0.2\n",
            "2025-10-05 20:03:41,339 alphafold2_ptm_model_4_seed_000 took 16.7s (3 recycles)\n",
            "2025-10-05 20:03:45,504 alphafold2_ptm_model_5_seed_000 recycle=0 pLDDT=76.6 pTM=0.399\n",
            "2025-10-05 20:03:49,674 alphafold2_ptm_model_5_seed_000 recycle=1 pLDDT=76 pTM=0.405 tol=0.705\n",
            "2025-10-05 20:03:53,846 alphafold2_ptm_model_5_seed_000 recycle=2 pLDDT=75.9 pTM=0.404 tol=1.04\n",
            "2025-10-05 20:03:58,024 alphafold2_ptm_model_5_seed_000 recycle=3 pLDDT=76.4 pTM=0.409 tol=0.383\n",
            "2025-10-05 20:03:58,024 alphafold2_ptm_model_5_seed_000 took 16.7s (3 recycles)\n",
            "2025-10-05 20:03:58,032 reranking models by 'plddt' metric\n",
            "2025-10-05 20:03:58,032 rank_001_alphafold2_ptm_model_1_seed_000 pLDDT=77.7 pTM=0.426\n",
            "2025-10-05 20:03:58,033 rank_002_alphafold2_ptm_model_4_seed_000 pLDDT=77.2 pTM=0.412\n",
            "2025-10-05 20:03:58,033 rank_003_alphafold2_ptm_model_3_seed_000 pLDDT=77.2 pTM=0.407\n",
            "2025-10-05 20:03:58,033 rank_004_alphafold2_ptm_model_5_seed_000 pLDDT=76.4 pTM=0.409\n",
            "2025-10-05 20:03:58,033 rank_005_alphafold2_ptm_model_2_seed_000 pLDDT=72.4 pTM=0.398\n",
            "2025-10-05 20:03:59,420 Query 58/200: seq_114_32746 (length 38)\n"
          ]
        },
        {
          "output_type": "stream",
          "name": "stderr",
          "text": [
            "COMPLETE: 100%|██████████| 150/150 [elapsed: 00:00 remaining: 00:00]\n"
          ]
        },
        {
          "output_type": "stream",
          "name": "stdout",
          "text": [
            "2025-10-05 20:04:03,008 Sequence 0 found templates: ['6rx4_C', '7ose_C', '6rko_X']\n",
            "2025-10-05 20:04:05,377 Padding length to 45\n",
            "2025-10-05 20:04:09,774 alphafold2_ptm_model_1_seed_000 recycle=0 pLDDT=83.3 pTM=0.42\n",
            "2025-10-05 20:04:14,016 alphafold2_ptm_model_1_seed_000 recycle=1 pLDDT=83.9 pTM=0.424 tol=0.0993\n",
            "2025-10-05 20:04:18,268 alphafold2_ptm_model_1_seed_000 recycle=2 pLDDT=84.2 pTM=0.426 tol=0.0541\n",
            "2025-10-05 20:04:22,547 alphafold2_ptm_model_1_seed_000 recycle=3 pLDDT=84.7 pTM=0.434 tol=0.0415\n",
            "2025-10-05 20:04:22,548 alphafold2_ptm_model_1_seed_000 took 17.2s (3 recycles)\n",
            "2025-10-05 20:04:26,853 alphafold2_ptm_model_2_seed_000 recycle=0 pLDDT=84.3 pTM=0.435\n",
            "2025-10-05 20:04:31,164 alphafold2_ptm_model_2_seed_000 recycle=1 pLDDT=85 pTM=0.447 tol=0.109\n",
            "2025-10-05 20:04:35,480 alphafold2_ptm_model_2_seed_000 recycle=2 pLDDT=85.2 pTM=0.447 tol=0.0455\n",
            "2025-10-05 20:04:39,786 alphafold2_ptm_model_2_seed_000 recycle=3 pLDDT=85.6 pTM=0.451 tol=0.0486\n",
            "2025-10-05 20:04:39,787 alphafold2_ptm_model_2_seed_000 took 17.2s (3 recycles)\n",
            "2025-10-05 20:04:44,072 alphafold2_ptm_model_3_seed_000 recycle=0 pLDDT=82.4 pTM=0.395\n",
            "2025-10-05 20:04:48,344 alphafold2_ptm_model_3_seed_000 recycle=1 pLDDT=83.4 pTM=0.408 tol=0.263\n",
            "2025-10-05 20:04:52,612 alphafold2_ptm_model_3_seed_000 recycle=2 pLDDT=83.5 pTM=0.404 tol=0.16\n",
            "2025-10-05 20:04:56,865 alphafold2_ptm_model_3_seed_000 recycle=3 pLDDT=84 pTM=0.412 tol=0.0933\n",
            "2025-10-05 20:04:56,866 alphafold2_ptm_model_3_seed_000 took 17.1s (3 recycles)\n",
            "2025-10-05 20:05:01,112 alphafold2_ptm_model_4_seed_000 recycle=0 pLDDT=80.4 pTM=0.367\n",
            "2025-10-05 20:05:05,364 alphafold2_ptm_model_4_seed_000 recycle=1 pLDDT=81.9 pTM=0.376 tol=0.17\n",
            "2025-10-05 20:05:09,612 alphafold2_ptm_model_4_seed_000 recycle=2 pLDDT=81.7 pTM=0.376 tol=0.0978\n",
            "2025-10-05 20:05:13,855 alphafold2_ptm_model_4_seed_000 recycle=3 pLDDT=82.2 pTM=0.385 tol=0.0718\n",
            "2025-10-05 20:05:13,855 alphafold2_ptm_model_4_seed_000 took 17.0s (3 recycles)\n",
            "2025-10-05 20:05:18,082 alphafold2_ptm_model_5_seed_000 recycle=0 pLDDT=85.2 pTM=0.45\n",
            "2025-10-05 20:05:22,320 alphafold2_ptm_model_5_seed_000 recycle=1 pLDDT=85.9 pTM=0.46 tol=0.162\n",
            "2025-10-05 20:05:26,558 alphafold2_ptm_model_5_seed_000 recycle=2 pLDDT=85.9 pTM=0.459 tol=0.0718\n",
            "2025-10-05 20:05:30,798 alphafold2_ptm_model_5_seed_000 recycle=3 pLDDT=86.2 pTM=0.459 tol=0.0916\n",
            "2025-10-05 20:05:30,799 alphafold2_ptm_model_5_seed_000 took 16.9s (3 recycles)\n",
            "2025-10-05 20:05:30,803 reranking models by 'plddt' metric\n",
            "2025-10-05 20:05:30,803 rank_001_alphafold2_ptm_model_5_seed_000 pLDDT=86.2 pTM=0.459\n",
            "2025-10-05 20:05:30,804 rank_002_alphafold2_ptm_model_2_seed_000 pLDDT=85.6 pTM=0.451\n",
            "2025-10-05 20:05:30,804 rank_003_alphafold2_ptm_model_1_seed_000 pLDDT=84.7 pTM=0.434\n",
            "2025-10-05 20:05:30,804 rank_004_alphafold2_ptm_model_3_seed_000 pLDDT=84 pTM=0.412\n",
            "2025-10-05 20:05:30,804 rank_005_alphafold2_ptm_model_4_seed_000 pLDDT=82.2 pTM=0.385\n",
            "2025-10-05 20:05:31,864 Query 59/200: seq_15_91713 (length 39)\n"
          ]
        },
        {
          "output_type": "stream",
          "name": "stderr",
          "text": [
            "COMPLETE: 100%|██████████| 150/150 [elapsed: 00:00 remaining: 00:00]\n"
          ]
        },
        {
          "output_type": "stream",
          "name": "stdout",
          "text": [
            "2025-10-05 20:05:32,420 Sequence 0 found no templates\n",
            "2025-10-05 20:05:35,298 Padding length to 45\n",
            "2025-10-05 20:05:39,674 alphafold2_ptm_model_1_seed_000 recycle=0 pLDDT=81.9 pTM=0.434\n",
            "2025-10-05 20:05:43,890 alphafold2_ptm_model_1_seed_000 recycle=1 pLDDT=81.8 pTM=0.432 tol=0.571\n",
            "2025-10-05 20:05:48,121 alphafold2_ptm_model_1_seed_000 recycle=2 pLDDT=81.4 pTM=0.43 tol=0.148\n",
            "2025-10-05 20:05:52,376 alphafold2_ptm_model_1_seed_000 recycle=3 pLDDT=81.1 pTM=0.43 tol=0.211\n",
            "2025-10-05 20:05:52,377 alphafold2_ptm_model_1_seed_000 took 17.1s (3 recycles)\n",
            "2025-10-05 20:05:56,650 alphafold2_ptm_model_2_seed_000 recycle=0 pLDDT=77.1 pTM=0.391\n",
            "2025-10-05 20:06:00,933 alphafold2_ptm_model_2_seed_000 recycle=1 pLDDT=76.4 pTM=0.386 tol=0.229\n",
            "2025-10-05 20:06:05,220 alphafold2_ptm_model_2_seed_000 recycle=2 pLDDT=76.6 pTM=0.384 tol=0.123\n",
            "2025-10-05 20:06:09,494 alphafold2_ptm_model_2_seed_000 recycle=3 pLDDT=75.9 pTM=0.381 tol=0.14\n",
            "2025-10-05 20:06:09,495 alphafold2_ptm_model_2_seed_000 took 17.1s (3 recycles)\n",
            "2025-10-05 20:06:13,749 alphafold2_ptm_model_3_seed_000 recycle=0 pLDDT=83.4 pTM=0.406\n",
            "2025-10-05 20:06:18,002 alphafold2_ptm_model_3_seed_000 recycle=1 pLDDT=84.1 pTM=0.417 tol=0.293\n",
            "2025-10-05 20:06:22,252 alphafold2_ptm_model_3_seed_000 recycle=2 pLDDT=84.4 pTM=0.417 tol=0.103\n",
            "2025-10-05 20:06:26,497 alphafold2_ptm_model_3_seed_000 recycle=3 pLDDT=83.5 pTM=0.404 tol=0.11\n",
            "2025-10-05 20:06:26,498 alphafold2_ptm_model_3_seed_000 took 17.0s (3 recycles)\n",
            "2025-10-05 20:06:30,711 alphafold2_ptm_model_4_seed_000 recycle=0 pLDDT=80.4 pTM=0.399\n",
            "2025-10-05 20:06:34,928 alphafold2_ptm_model_4_seed_000 recycle=1 pLDDT=80.4 pTM=0.397 tol=0.239\n",
            "2025-10-05 20:06:39,142 alphafold2_ptm_model_4_seed_000 recycle=2 pLDDT=81 pTM=0.399 tol=0.227\n",
            "2025-10-05 20:06:43,354 alphafold2_ptm_model_4_seed_000 recycle=3 pLDDT=80.6 pTM=0.396 tol=0.253\n",
            "2025-10-05 20:06:43,355 alphafold2_ptm_model_4_seed_000 took 16.9s (3 recycles)\n",
            "2025-10-05 20:06:47,575 alphafold2_ptm_model_5_seed_000 recycle=0 pLDDT=82.8 pTM=0.443\n",
            "2025-10-05 20:06:51,802 alphafold2_ptm_model_5_seed_000 recycle=1 pLDDT=83.2 pTM=0.442 tol=0.362\n",
            "2025-10-05 20:06:56,027 alphafold2_ptm_model_5_seed_000 recycle=2 pLDDT=83.2 pTM=0.445 tol=0.246\n",
            "2025-10-05 20:07:00,253 alphafold2_ptm_model_5_seed_000 recycle=3 pLDDT=82.3 pTM=0.438 tol=0.291\n",
            "2025-10-05 20:07:00,253 alphafold2_ptm_model_5_seed_000 took 16.9s (3 recycles)\n",
            "2025-10-05 20:07:00,258 reranking models by 'plddt' metric\n",
            "2025-10-05 20:07:00,259 rank_001_alphafold2_ptm_model_3_seed_000 pLDDT=83.5 pTM=0.404\n",
            "2025-10-05 20:07:00,259 rank_002_alphafold2_ptm_model_5_seed_000 pLDDT=82.3 pTM=0.438\n",
            "2025-10-05 20:07:00,259 rank_003_alphafold2_ptm_model_1_seed_000 pLDDT=81.1 pTM=0.43\n",
            "2025-10-05 20:07:00,259 rank_004_alphafold2_ptm_model_4_seed_000 pLDDT=80.6 pTM=0.396\n",
            "2025-10-05 20:07:00,260 rank_005_alphafold2_ptm_model_2_seed_000 pLDDT=75.9 pTM=0.381\n",
            "2025-10-05 20:07:01,237 Query 60/200: seq_170_5dd81 (length 39)\n"
          ]
        },
        {
          "output_type": "stream",
          "name": "stderr",
          "text": [
            "COMPLETE: 100%|██████████| 150/150 [elapsed: 00:00 remaining: 00:00]\n"
          ]
        },
        {
          "output_type": "stream",
          "name": "stdout",
          "text": [
            "2025-10-05 20:07:01,784 Sequence 0 found no templates\n",
            "2025-10-05 20:07:03,869 Padding length to 45\n",
            "2025-10-05 20:07:08,214 alphafold2_ptm_model_1_seed_000 recycle=0 pLDDT=78.5 pTM=0.445\n",
            "2025-10-05 20:07:12,391 alphafold2_ptm_model_1_seed_000 recycle=1 pLDDT=80.9 pTM=0.468 tol=1.96\n",
            "2025-10-05 20:07:16,580 alphafold2_ptm_model_1_seed_000 recycle=2 pLDDT=82.9 pTM=0.484 tol=0.31\n",
            "2025-10-05 20:07:20,784 alphafold2_ptm_model_1_seed_000 recycle=3 pLDDT=85.5 pTM=0.512 tol=0.106\n",
            "2025-10-05 20:07:20,785 alphafold2_ptm_model_1_seed_000 took 16.9s (3 recycles)\n",
            "2025-10-05 20:07:25,012 alphafold2_ptm_model_2_seed_000 recycle=0 pLDDT=80.3 pTM=0.454\n",
            "2025-10-05 20:07:29,233 alphafold2_ptm_model_2_seed_000 recycle=1 pLDDT=81 pTM=0.469 tol=0.572\n",
            "2025-10-05 20:07:33,456 alphafold2_ptm_model_2_seed_000 recycle=2 pLDDT=81.7 pTM=0.479 tol=0.947\n",
            "2025-10-05 20:07:37,670 alphafold2_ptm_model_2_seed_000 recycle=3 pLDDT=83.6 pTM=0.503 tol=0.697\n",
            "2025-10-05 20:07:37,670 alphafold2_ptm_model_2_seed_000 took 16.9s (3 recycles)\n",
            "2025-10-05 20:07:41,857 alphafold2_ptm_model_3_seed_000 recycle=0 pLDDT=82.5 pTM=0.432\n",
            "2025-10-05 20:07:46,047 alphafold2_ptm_model_3_seed_000 recycle=1 pLDDT=84.2 pTM=0.462 tol=0.883\n",
            "2025-10-05 20:07:50,231 alphafold2_ptm_model_3_seed_000 recycle=2 pLDDT=84.5 pTM=0.457 tol=0.508\n",
            "2025-10-05 20:07:54,410 alphafold2_ptm_model_3_seed_000 recycle=3 pLDDT=84.9 pTM=0.466 tol=0.551\n",
            "2025-10-05 20:07:54,411 alphafold2_ptm_model_3_seed_000 took 16.7s (3 recycles)\n",
            "2025-10-05 20:07:58,592 alphafold2_ptm_model_4_seed_000 recycle=0 pLDDT=80.4 pTM=0.438\n",
            "2025-10-05 20:08:02,772 alphafold2_ptm_model_4_seed_000 recycle=1 pLDDT=85.6 pTM=0.497 tol=0.315\n",
            "2025-10-05 20:08:06,948 alphafold2_ptm_model_4_seed_000 recycle=2 pLDDT=86.1 pTM=0.506 tol=0.109\n",
            "2025-10-05 20:08:11,128 alphafold2_ptm_model_4_seed_000 recycle=3 pLDDT=86.5 pTM=0.516 tol=0.129\n",
            "2025-10-05 20:08:11,129 alphafold2_ptm_model_4_seed_000 took 16.7s (3 recycles)\n",
            "2025-10-05 20:08:15,294 alphafold2_ptm_model_5_seed_000 recycle=0 pLDDT=78.1 pTM=0.395\n",
            "2025-10-05 20:08:19,459 alphafold2_ptm_model_5_seed_000 recycle=1 pLDDT=79.9 pTM=0.417 tol=0.209\n",
            "2025-10-05 20:08:23,630 alphafold2_ptm_model_5_seed_000 recycle=2 pLDDT=80.1 pTM=0.41 tol=0.229\n",
            "2025-10-05 20:08:27,801 alphafold2_ptm_model_5_seed_000 recycle=3 pLDDT=80.4 pTM=0.417 tol=0.226\n",
            "2025-10-05 20:08:27,802 alphafold2_ptm_model_5_seed_000 took 16.7s (3 recycles)\n",
            "2025-10-05 20:08:27,806 reranking models by 'plddt' metric\n",
            "2025-10-05 20:08:27,807 rank_001_alphafold2_ptm_model_4_seed_000 pLDDT=86.5 pTM=0.516\n",
            "2025-10-05 20:08:27,807 rank_002_alphafold2_ptm_model_1_seed_000 pLDDT=85.5 pTM=0.512\n",
            "2025-10-05 20:08:27,807 rank_003_alphafold2_ptm_model_3_seed_000 pLDDT=84.9 pTM=0.466\n",
            "2025-10-05 20:08:27,807 rank_004_alphafold2_ptm_model_2_seed_000 pLDDT=83.6 pTM=0.503\n",
            "2025-10-05 20:08:27,807 rank_005_alphafold2_ptm_model_5_seed_000 pLDDT=80.4 pTM=0.417\n",
            "2025-10-05 20:08:28,830 Query 61/200: seq_196_d3dcd (length 39)\n"
          ]
        },
        {
          "output_type": "stream",
          "name": "stderr",
          "text": [
            "COMPLETE: 100%|██████████| 150/150 [elapsed: 00:00 remaining: 00:00]\n"
          ]
        },
        {
          "output_type": "stream",
          "name": "stdout",
          "text": [
            "2025-10-05 20:08:29,373 Sequence 0 found no templates\n",
            "2025-10-05 20:08:31,493 Padding length to 45\n",
            "2025-10-05 20:08:35,821 alphafold2_ptm_model_1_seed_000 recycle=0 pLDDT=77.1 pTM=0.372\n",
            "2025-10-05 20:08:39,993 alphafold2_ptm_model_1_seed_000 recycle=1 pLDDT=78.6 pTM=0.402 tol=0.961\n",
            "2025-10-05 20:08:44,175 alphafold2_ptm_model_1_seed_000 recycle=2 pLDDT=78.6 pTM=0.398 tol=0.979\n",
            "2025-10-05 20:08:48,380 alphafold2_ptm_model_1_seed_000 recycle=3 pLDDT=78.6 pTM=0.402 tol=1.11\n",
            "2025-10-05 20:08:48,381 alphafold2_ptm_model_1_seed_000 took 16.9s (3 recycles)\n",
            "2025-10-05 20:08:52,606 alphafold2_ptm_model_2_seed_000 recycle=0 pLDDT=75.5 pTM=0.357\n",
            "2025-10-05 20:08:56,825 alphafold2_ptm_model_2_seed_000 recycle=1 pLDDT=77.8 pTM=0.384 tol=0.699\n",
            "2025-10-05 20:09:01,051 alphafold2_ptm_model_2_seed_000 recycle=2 pLDDT=78.3 pTM=0.39 tol=0.282\n",
            "2025-10-05 20:09:05,269 alphafold2_ptm_model_2_seed_000 recycle=3 pLDDT=77.9 pTM=0.385 tol=0.188\n",
            "2025-10-05 20:09:05,269 alphafold2_ptm_model_2_seed_000 took 16.9s (3 recycles)\n",
            "2025-10-05 20:09:09,468 alphafold2_ptm_model_3_seed_000 recycle=0 pLDDT=79.6 pTM=0.376\n",
            "2025-10-05 20:09:13,664 alphafold2_ptm_model_3_seed_000 recycle=1 pLDDT=80.6 pTM=0.395 tol=1.08\n",
            "2025-10-05 20:09:17,858 alphafold2_ptm_model_3_seed_000 recycle=2 pLDDT=80.6 pTM=0.394 tol=0.817\n",
            "2025-10-05 20:09:22,043 alphafold2_ptm_model_3_seed_000 recycle=3 pLDDT=80.8 pTM=0.385 tol=0.919\n",
            "2025-10-05 20:09:22,044 alphafold2_ptm_model_3_seed_000 took 16.8s (3 recycles)\n",
            "2025-10-05 20:09:26,210 alphafold2_ptm_model_4_seed_000 recycle=0 pLDDT=77.5 pTM=0.359\n",
            "2025-10-05 20:09:30,381 alphafold2_ptm_model_4_seed_000 recycle=1 pLDDT=80.9 pTM=0.391 tol=0.534\n",
            "2025-10-05 20:09:34,548 alphafold2_ptm_model_4_seed_000 recycle=2 pLDDT=81.6 pTM=0.396 tol=0.68\n",
            "2025-10-05 20:09:38,713 alphafold2_ptm_model_4_seed_000 recycle=3 pLDDT=80.9 pTM=0.392 tol=0.355\n",
            "2025-10-05 20:09:38,713 alphafold2_ptm_model_4_seed_000 took 16.7s (3 recycles)\n",
            "2025-10-05 20:09:42,878 alphafold2_ptm_model_5_seed_000 recycle=0 pLDDT=78.9 pTM=0.388\n",
            "2025-10-05 20:09:47,052 alphafold2_ptm_model_5_seed_000 recycle=1 pLDDT=80.2 pTM=0.404 tol=0.451\n",
            "2025-10-05 20:09:51,225 alphafold2_ptm_model_5_seed_000 recycle=2 pLDDT=80.9 pTM=0.406 tol=0.42\n",
            "2025-10-05 20:09:55,397 alphafold2_ptm_model_5_seed_000 recycle=3 pLDDT=80.8 pTM=0.406 tol=0.41\n",
            "2025-10-05 20:09:55,397 alphafold2_ptm_model_5_seed_000 took 16.7s (3 recycles)\n",
            "2025-10-05 20:09:55,402 reranking models by 'plddt' metric\n",
            "2025-10-05 20:09:55,402 rank_001_alphafold2_ptm_model_4_seed_000 pLDDT=80.9 pTM=0.392\n",
            "2025-10-05 20:09:55,402 rank_002_alphafold2_ptm_model_5_seed_000 pLDDT=80.8 pTM=0.406\n",
            "2025-10-05 20:09:55,403 rank_003_alphafold2_ptm_model_3_seed_000 pLDDT=80.8 pTM=0.385\n",
            "2025-10-05 20:09:55,403 rank_004_alphafold2_ptm_model_1_seed_000 pLDDT=78.6 pTM=0.402\n",
            "2025-10-05 20:09:55,403 rank_005_alphafold2_ptm_model_2_seed_000 pLDDT=77.9 pTM=0.385\n",
            "2025-10-05 20:09:56,409 Query 62/200: seq_32_2868e (length 40)\n"
          ]
        },
        {
          "output_type": "stream",
          "name": "stderr",
          "text": [
            "COMPLETE: 100%|██████████| 150/150 [elapsed: 00:00 remaining: 00:00]\n"
          ]
        },
        {
          "output_type": "stream",
          "name": "stdout",
          "text": [
            "2025-10-05 20:09:57,134 Sequence 0 found no templates\n",
            "2025-10-05 20:09:59,725 Padding length to 45\n",
            "2025-10-05 20:10:04,108 alphafold2_ptm_model_1_seed_000 recycle=0 pLDDT=71.6 pTM=0.388\n",
            "2025-10-05 20:10:08,348 alphafold2_ptm_model_1_seed_000 recycle=1 pLDDT=71.4 pTM=0.396 tol=0.308\n",
            "2025-10-05 20:10:12,604 alphafold2_ptm_model_1_seed_000 recycle=2 pLDDT=71.4 pTM=0.394 tol=0.236\n",
            "2025-10-05 20:10:16,887 alphafold2_ptm_model_1_seed_000 recycle=3 pLDDT=71.5 pTM=0.396 tol=0.315\n",
            "2025-10-05 20:10:16,887 alphafold2_ptm_model_1_seed_000 took 17.2s (3 recycles)\n",
            "2025-10-05 20:10:21,184 alphafold2_ptm_model_2_seed_000 recycle=0 pLDDT=71.1 pTM=0.38\n",
            "2025-10-05 20:10:25,486 alphafold2_ptm_model_2_seed_000 recycle=1 pLDDT=70.2 pTM=0.389 tol=0.342\n",
            "2025-10-05 20:10:29,787 alphafold2_ptm_model_2_seed_000 recycle=2 pLDDT=70.2 pTM=0.387 tol=0.182\n",
            "2025-10-05 20:10:34,081 alphafold2_ptm_model_2_seed_000 recycle=3 pLDDT=70.1 pTM=0.387 tol=0.389\n",
            "2025-10-05 20:10:34,081 alphafold2_ptm_model_2_seed_000 took 17.2s (3 recycles)\n",
            "2025-10-05 20:10:38,343 alphafold2_ptm_model_3_seed_000 recycle=0 pLDDT=76.9 pTM=0.396\n",
            "2025-10-05 20:10:42,612 alphafold2_ptm_model_3_seed_000 recycle=1 pLDDT=77.6 pTM=0.403 tol=0.691\n",
            "2025-10-05 20:10:46,867 alphafold2_ptm_model_3_seed_000 recycle=2 pLDDT=77.4 pTM=0.402 tol=0.744\n",
            "2025-10-05 20:10:51,118 alphafold2_ptm_model_3_seed_000 recycle=3 pLDDT=77.9 pTM=0.4 tol=1.16\n",
            "2025-10-05 20:10:51,118 alphafold2_ptm_model_3_seed_000 took 17.0s (3 recycles)\n",
            "2025-10-05 20:10:55,363 alphafold2_ptm_model_4_seed_000 recycle=0 pLDDT=74.2 pTM=0.396\n",
            "2025-10-05 20:10:59,619 alphafold2_ptm_model_4_seed_000 recycle=1 pLDDT=74.2 pTM=0.402 tol=1.59\n",
            "2025-10-05 20:11:03,866 alphafold2_ptm_model_4_seed_000 recycle=2 pLDDT=74.5 pTM=0.402 tol=0.297\n",
            "2025-10-05 20:11:08,112 alphafold2_ptm_model_4_seed_000 recycle=3 pLDDT=75.2 pTM=0.408 tol=0.17\n",
            "2025-10-05 20:11:08,113 alphafold2_ptm_model_4_seed_000 took 17.0s (3 recycles)\n",
            "2025-10-05 20:11:12,344 alphafold2_ptm_model_5_seed_000 recycle=0 pLDDT=75.2 pTM=0.404\n",
            "2025-10-05 20:11:16,588 alphafold2_ptm_model_5_seed_000 recycle=1 pLDDT=76 pTM=0.414 tol=0.932\n",
            "2025-10-05 20:11:20,827 alphafold2_ptm_model_5_seed_000 recycle=2 pLDDT=76.4 pTM=0.414 tol=0.395\n",
            "2025-10-05 20:11:25,076 alphafold2_ptm_model_5_seed_000 recycle=3 pLDDT=75.8 pTM=0.41 tol=0.7\n",
            "2025-10-05 20:11:25,076 alphafold2_ptm_model_5_seed_000 took 17.0s (3 recycles)\n",
            "2025-10-05 20:11:25,084 reranking models by 'plddt' metric\n",
            "2025-10-05 20:11:25,085 rank_001_alphafold2_ptm_model_3_seed_000 pLDDT=77.9 pTM=0.4\n",
            "2025-10-05 20:11:25,085 rank_002_alphafold2_ptm_model_5_seed_000 pLDDT=75.8 pTM=0.41\n",
            "2025-10-05 20:11:25,085 rank_003_alphafold2_ptm_model_4_seed_000 pLDDT=75.2 pTM=0.408\n",
            "2025-10-05 20:11:25,085 rank_004_alphafold2_ptm_model_1_seed_000 pLDDT=71.5 pTM=0.396\n",
            "2025-10-05 20:11:25,086 rank_005_alphafold2_ptm_model_2_seed_000 pLDDT=70.1 pTM=0.387\n",
            "2025-10-05 20:11:26,166 Query 63/200: seq_69_19a4d (length 40)\n"
          ]
        },
        {
          "output_type": "stream",
          "name": "stderr",
          "text": [
            "COMPLETE: 100%|██████████| 150/150 [elapsed: 00:00 remaining: 00:00]\n"
          ]
        },
        {
          "output_type": "stream",
          "name": "stdout",
          "text": [
            "2025-10-05 20:11:26,769 Sequence 0 found no templates\n",
            "2025-10-05 20:11:29,069 Padding length to 45\n",
            "2025-10-05 20:11:33,492 alphafold2_ptm_model_1_seed_000 recycle=0 pLDDT=67.3 pTM=0.276\n",
            "2025-10-05 20:11:37,738 alphafold2_ptm_model_1_seed_000 recycle=1 pLDDT=68.1 pTM=0.304 tol=3.35\n",
            "2025-10-05 20:11:41,994 alphafold2_ptm_model_1_seed_000 recycle=2 pLDDT=67.7 pTM=0.312 tol=0.534\n",
            "2025-10-05 20:11:46,265 alphafold2_ptm_model_1_seed_000 recycle=3 pLDDT=68.1 pTM=0.317 tol=0.288\n",
            "2025-10-05 20:11:46,266 alphafold2_ptm_model_1_seed_000 took 17.2s (3 recycles)\n",
            "2025-10-05 20:11:50,566 alphafold2_ptm_model_2_seed_000 recycle=0 pLDDT=59.9 pTM=0.292\n",
            "2025-10-05 20:11:54,856 alphafold2_ptm_model_2_seed_000 recycle=1 pLDDT=62.5 pTM=0.305 tol=2.94\n",
            "2025-10-05 20:11:59,150 alphafold2_ptm_model_2_seed_000 recycle=2 pLDDT=63.7 pTM=0.31 tol=0.351\n",
            "2025-10-05 20:12:03,435 alphafold2_ptm_model_2_seed_000 recycle=3 pLDDT=64.4 pTM=0.313 tol=0.147\n",
            "2025-10-05 20:12:03,436 alphafold2_ptm_model_2_seed_000 took 17.2s (3 recycles)\n",
            "2025-10-05 20:12:07,708 alphafold2_ptm_model_3_seed_000 recycle=0 pLDDT=74.8 pTM=0.291\n",
            "2025-10-05 20:12:11,982 alphafold2_ptm_model_3_seed_000 recycle=1 pLDDT=70.3 pTM=0.316 tol=5.64\n",
            "2025-10-05 20:12:16,251 alphafold2_ptm_model_3_seed_000 recycle=2 pLDDT=71.3 pTM=0.356 tol=1.41\n",
            "2025-10-05 20:12:20,510 alphafold2_ptm_model_3_seed_000 recycle=3 pLDDT=69.6 pTM=0.37 tol=0.346\n",
            "2025-10-05 20:12:20,510 alphafold2_ptm_model_3_seed_000 took 17.1s (3 recycles)\n",
            "2025-10-05 20:12:24,746 alphafold2_ptm_model_4_seed_000 recycle=0 pLDDT=83.2 pTM=0.35\n",
            "2025-10-05 20:12:28,993 alphafold2_ptm_model_4_seed_000 recycle=1 pLDDT=81.1 pTM=0.337 tol=0.844\n",
            "2025-10-05 20:12:33,232 alphafold2_ptm_model_4_seed_000 recycle=2 pLDDT=81.4 pTM=0.336 tol=0.348\n",
            "2025-10-05 20:12:37,472 alphafold2_ptm_model_4_seed_000 recycle=3 pLDDT=80.3 pTM=0.33 tol=0.139\n",
            "2025-10-05 20:12:37,473 alphafold2_ptm_model_4_seed_000 took 17.0s (3 recycles)\n",
            "2025-10-05 20:12:41,713 alphafold2_ptm_model_5_seed_000 recycle=0 pLDDT=76.4 pTM=0.308\n",
            "2025-10-05 20:12:45,964 alphafold2_ptm_model_5_seed_000 recycle=1 pLDDT=72.6 pTM=0.305 tol=2.9\n",
            "2025-10-05 20:12:50,215 alphafold2_ptm_model_5_seed_000 recycle=2 pLDDT=70.6 pTM=0.335 tol=5.84\n",
            "2025-10-05 20:12:54,468 alphafold2_ptm_model_5_seed_000 recycle=3 pLDDT=72.2 pTM=0.369 tol=0.666\n",
            "2025-10-05 20:12:54,469 alphafold2_ptm_model_5_seed_000 took 17.0s (3 recycles)\n",
            "2025-10-05 20:12:54,474 reranking models by 'plddt' metric\n",
            "2025-10-05 20:12:54,474 rank_001_alphafold2_ptm_model_4_seed_000 pLDDT=80.3 pTM=0.33\n",
            "2025-10-05 20:12:54,474 rank_002_alphafold2_ptm_model_5_seed_000 pLDDT=72.2 pTM=0.369\n",
            "2025-10-05 20:12:54,474 rank_003_alphafold2_ptm_model_3_seed_000 pLDDT=69.6 pTM=0.37\n",
            "2025-10-05 20:12:54,474 rank_004_alphafold2_ptm_model_1_seed_000 pLDDT=68.1 pTM=0.317\n",
            "2025-10-05 20:12:54,475 rank_005_alphafold2_ptm_model_2_seed_000 pLDDT=64.4 pTM=0.313\n",
            "2025-10-05 20:12:55,455 Query 64/200: seq_112_fe44f (length 40)\n"
          ]
        },
        {
          "output_type": "stream",
          "name": "stderr",
          "text": [
            "COMPLETE: 100%|██████████| 150/150 [elapsed: 00:00 remaining: 00:00]\n"
          ]
        },
        {
          "output_type": "stream",
          "name": "stdout",
          "text": [
            "2025-10-05 20:12:56,013 Sequence 0 found no templates\n",
            "2025-10-05 20:12:58,137 Padding length to 45\n",
            "2025-10-05 20:13:02,446 alphafold2_ptm_model_1_seed_000 recycle=0 pLDDT=84.7 pTM=0.502\n",
            "2025-10-05 20:13:06,609 alphafold2_ptm_model_1_seed_000 recycle=1 pLDDT=83.6 pTM=0.486 tol=0.103\n",
            "2025-10-05 20:13:10,778 alphafold2_ptm_model_1_seed_000 recycle=2 pLDDT=84.1 pTM=0.495 tol=0.04\n",
            "2025-10-05 20:13:14,957 alphafold2_ptm_model_1_seed_000 recycle=3 pLDDT=82.8 pTM=0.484 tol=0.0405\n",
            "2025-10-05 20:13:14,958 alphafold2_ptm_model_1_seed_000 took 16.8s (3 recycles)\n",
            "2025-10-05 20:13:19,157 alphafold2_ptm_model_2_seed_000 recycle=0 pLDDT=84.9 pTM=0.506\n",
            "2025-10-05 20:13:23,354 alphafold2_ptm_model_2_seed_000 recycle=1 pLDDT=82.9 pTM=0.492 tol=0.0793\n",
            "2025-10-05 20:13:27,546 alphafold2_ptm_model_2_seed_000 recycle=2 pLDDT=82.9 pTM=0.497 tol=0.0496\n",
            "2025-10-05 20:13:31,735 alphafold2_ptm_model_2_seed_000 recycle=3 pLDDT=82.1 pTM=0.495 tol=0.0397\n",
            "2025-10-05 20:13:31,736 alphafold2_ptm_model_2_seed_000 took 16.8s (3 recycles)\n",
            "2025-10-05 20:13:35,905 alphafold2_ptm_model_3_seed_000 recycle=0 pLDDT=86.9 pTM=0.481\n",
            "2025-10-05 20:13:40,069 alphafold2_ptm_model_3_seed_000 recycle=1 pLDDT=86.6 pTM=0.474 tol=0.101\n",
            "2025-10-05 20:13:44,232 alphafold2_ptm_model_3_seed_000 recycle=2 pLDDT=87.4 pTM=0.479 tol=0.0659\n",
            "2025-10-05 20:13:48,391 alphafold2_ptm_model_3_seed_000 recycle=3 pLDDT=86.1 pTM=0.474 tol=0.0512\n",
            "2025-10-05 20:13:48,391 alphafold2_ptm_model_3_seed_000 took 16.7s (3 recycles)\n",
            "2025-10-05 20:13:52,551 alphafold2_ptm_model_4_seed_000 recycle=0 pLDDT=88.7 pTM=0.505\n",
            "2025-10-05 20:13:56,709 alphafold2_ptm_model_4_seed_000 recycle=1 pLDDT=87.2 pTM=0.488 tol=0.0891\n",
            "2025-10-05 20:14:00,873 alphafold2_ptm_model_4_seed_000 recycle=2 pLDDT=87.9 pTM=0.492 tol=0.03\n",
            "2025-10-05 20:14:05,030 alphafold2_ptm_model_4_seed_000 recycle=3 pLDDT=86.9 pTM=0.486 tol=0.0346\n",
            "2025-10-05 20:14:05,030 alphafold2_ptm_model_4_seed_000 took 16.6s (3 recycles)\n",
            "2025-10-05 20:14:09,171 alphafold2_ptm_model_5_seed_000 recycle=0 pLDDT=89.4 pTM=0.502\n",
            "2025-10-05 20:14:13,323 alphafold2_ptm_model_5_seed_000 recycle=1 pLDDT=87.4 pTM=0.48 tol=0.0767\n",
            "2025-10-05 20:14:17,476 alphafold2_ptm_model_5_seed_000 recycle=2 pLDDT=87.1 pTM=0.477 tol=0.0445\n",
            "2025-10-05 20:14:21,628 alphafold2_ptm_model_5_seed_000 recycle=3 pLDDT=86.2 pTM=0.471 tol=0.0258\n",
            "2025-10-05 20:14:21,629 alphafold2_ptm_model_5_seed_000 took 16.6s (3 recycles)\n",
            "2025-10-05 20:14:21,634 reranking models by 'plddt' metric\n",
            "2025-10-05 20:14:21,634 rank_001_alphafold2_ptm_model_4_seed_000 pLDDT=86.9 pTM=0.486\n",
            "2025-10-05 20:14:21,634 rank_002_alphafold2_ptm_model_5_seed_000 pLDDT=86.2 pTM=0.471\n",
            "2025-10-05 20:14:21,635 rank_003_alphafold2_ptm_model_3_seed_000 pLDDT=86.1 pTM=0.474\n",
            "2025-10-05 20:14:21,635 rank_004_alphafold2_ptm_model_1_seed_000 pLDDT=82.8 pTM=0.484\n",
            "2025-10-05 20:14:21,635 rank_005_alphafold2_ptm_model_2_seed_000 pLDDT=82.1 pTM=0.495\n",
            "2025-10-05 20:14:22,631 Query 65/200: seq_115_aaf13 (length 40)\n"
          ]
        },
        {
          "output_type": "stream",
          "name": "stderr",
          "text": [
            "COMPLETE: 100%|██████████| 150/150 [elapsed: 00:00 remaining: 00:00]\n"
          ]
        },
        {
          "output_type": "stream",
          "name": "stdout",
          "text": [
            "2025-10-05 20:14:23,165 Sequence 0 found no templates\n",
            "2025-10-05 20:14:25,886 Padding length to 45\n",
            "2025-10-05 20:14:30,209 alphafold2_ptm_model_1_seed_000 recycle=0 pLDDT=72.2 pTM=0.39\n",
            "2025-10-05 20:14:34,374 alphafold2_ptm_model_1_seed_000 recycle=1 pLDDT=71.4 pTM=0.398 tol=0.309\n",
            "2025-10-05 20:14:38,549 alphafold2_ptm_model_1_seed_000 recycle=2 pLDDT=71.8 pTM=0.403 tol=0.239\n",
            "2025-10-05 20:14:42,740 alphafold2_ptm_model_1_seed_000 recycle=3 pLDDT=71.6 pTM=0.406 tol=0.352\n",
            "2025-10-05 20:14:42,740 alphafold2_ptm_model_1_seed_000 took 16.9s (3 recycles)\n",
            "2025-10-05 20:14:46,961 alphafold2_ptm_model_2_seed_000 recycle=0 pLDDT=67.7 pTM=0.365\n",
            "2025-10-05 20:14:51,178 alphafold2_ptm_model_2_seed_000 recycle=1 pLDDT=68.3 pTM=0.384 tol=0.678\n",
            "2025-10-05 20:14:55,391 alphafold2_ptm_model_2_seed_000 recycle=2 pLDDT=67.6 pTM=0.382 tol=0.29\n",
            "2025-10-05 20:14:59,604 alphafold2_ptm_model_2_seed_000 recycle=3 pLDDT=67.8 pTM=0.38 tol=0.573\n",
            "2025-10-05 20:14:59,605 alphafold2_ptm_model_2_seed_000 took 16.9s (3 recycles)\n",
            "2025-10-05 20:15:03,794 alphafold2_ptm_model_3_seed_000 recycle=0 pLDDT=70.4 pTM=0.347\n",
            "2025-10-05 20:15:07,983 alphafold2_ptm_model_3_seed_000 recycle=1 pLDDT=71.6 pTM=0.365 tol=0.342\n",
            "2025-10-05 20:15:12,167 alphafold2_ptm_model_3_seed_000 recycle=2 pLDDT=71.9 pTM=0.371 tol=0.203\n",
            "2025-10-05 20:15:16,343 alphafold2_ptm_model_3_seed_000 recycle=3 pLDDT=72.1 pTM=0.37 tol=0.255\n",
            "2025-10-05 20:15:16,344 alphafold2_ptm_model_3_seed_000 took 16.7s (3 recycles)\n",
            "2025-10-05 20:15:20,502 alphafold2_ptm_model_4_seed_000 recycle=0 pLDDT=69.8 pTM=0.362\n",
            "2025-10-05 20:15:24,663 alphafold2_ptm_model_4_seed_000 recycle=1 pLDDT=69.5 pTM=0.38 tol=0.336\n",
            "2025-10-05 20:15:28,822 alphafold2_ptm_model_4_seed_000 recycle=2 pLDDT=70.2 pTM=0.388 tol=0.111\n",
            "2025-10-05 20:15:32,976 alphafold2_ptm_model_4_seed_000 recycle=3 pLDDT=70.4 pTM=0.39 tol=0.296\n",
            "2025-10-05 20:15:32,977 alphafold2_ptm_model_4_seed_000 took 16.6s (3 recycles)\n",
            "2025-10-05 20:15:37,138 alphafold2_ptm_model_5_seed_000 recycle=0 pLDDT=67.8 pTM=0.352\n",
            "2025-10-05 20:15:41,307 alphafold2_ptm_model_5_seed_000 recycle=1 pLDDT=68.4 pTM=0.37 tol=0.364\n",
            "2025-10-05 20:15:45,478 alphafold2_ptm_model_5_seed_000 recycle=2 pLDDT=68.9 pTM=0.375 tol=0.276\n",
            "2025-10-05 20:15:49,652 alphafold2_ptm_model_5_seed_000 recycle=3 pLDDT=68.9 pTM=0.375 tol=0.133\n",
            "2025-10-05 20:15:49,653 alphafold2_ptm_model_5_seed_000 took 16.7s (3 recycles)\n",
            "2025-10-05 20:15:49,661 reranking models by 'plddt' metric\n",
            "2025-10-05 20:15:49,661 rank_001_alphafold2_ptm_model_3_seed_000 pLDDT=72.1 pTM=0.37\n",
            "2025-10-05 20:15:49,661 rank_002_alphafold2_ptm_model_1_seed_000 pLDDT=71.6 pTM=0.406\n",
            "2025-10-05 20:15:49,662 rank_003_alphafold2_ptm_model_4_seed_000 pLDDT=70.4 pTM=0.39\n",
            "2025-10-05 20:15:49,662 rank_004_alphafold2_ptm_model_5_seed_000 pLDDT=68.9 pTM=0.375\n",
            "2025-10-05 20:15:49,662 rank_005_alphafold2_ptm_model_2_seed_000 pLDDT=67.8 pTM=0.38\n",
            "2025-10-05 20:15:51,029 Query 66/200: seq_129_69efb (length 40)\n"
          ]
        },
        {
          "output_type": "stream",
          "name": "stderr",
          "text": [
            "COMPLETE: 100%|██████████| 150/150 [elapsed: 00:00 remaining: 00:00]\n"
          ]
        },
        {
          "output_type": "stream",
          "name": "stdout",
          "text": [
            "2025-10-05 20:15:51,571 Sequence 0 found no templates\n",
            "2025-10-05 20:15:53,749 Padding length to 45\n",
            "2025-10-05 20:15:58,063 alphafold2_ptm_model_1_seed_000 recycle=0 pLDDT=88.4 pTM=0.472\n",
            "2025-10-05 20:16:02,233 alphafold2_ptm_model_1_seed_000 recycle=1 pLDDT=89.4 pTM=0.494 tol=0.101\n",
            "2025-10-05 20:16:06,408 alphafold2_ptm_model_1_seed_000 recycle=2 pLDDT=89.6 pTM=0.5 tol=0.0662\n",
            "2025-10-05 20:16:10,593 alphafold2_ptm_model_1_seed_000 recycle=3 pLDDT=90.1 pTM=0.505 tol=0.0822\n",
            "2025-10-05 20:16:10,594 alphafold2_ptm_model_1_seed_000 took 16.8s (3 recycles)\n",
            "2025-10-05 20:16:14,806 alphafold2_ptm_model_2_seed_000 recycle=0 pLDDT=86.6 pTM=0.456\n",
            "2025-10-05 20:16:19,020 alphafold2_ptm_model_2_seed_000 recycle=1 pLDDT=86.7 pTM=0.47 tol=0.109\n",
            "2025-10-05 20:16:23,225 alphafold2_ptm_model_2_seed_000 recycle=2 pLDDT=86.1 pTM=0.464 tol=0.0619\n",
            "2025-10-05 20:16:27,422 alphafold2_ptm_model_2_seed_000 recycle=3 pLDDT=86.7 pTM=0.474 tol=0.0582\n",
            "2025-10-05 20:16:27,423 alphafold2_ptm_model_2_seed_000 took 16.8s (3 recycles)\n",
            "2025-10-05 20:16:31,595 alphafold2_ptm_model_3_seed_000 recycle=0 pLDDT=88.7 pTM=0.436\n",
            "2025-10-05 20:16:35,764 alphafold2_ptm_model_3_seed_000 recycle=1 pLDDT=89.8 pTM=0.465 tol=0.0934\n",
            "2025-10-05 20:16:39,934 alphafold2_ptm_model_3_seed_000 recycle=2 pLDDT=90.1 pTM=0.466 tol=0.044\n",
            "2025-10-05 20:16:44,098 alphafold2_ptm_model_3_seed_000 recycle=3 pLDDT=90.6 pTM=0.479 tol=0.095\n",
            "2025-10-05 20:16:44,099 alphafold2_ptm_model_3_seed_000 took 16.7s (3 recycles)\n",
            "2025-10-05 20:16:48,258 alphafold2_ptm_model_4_seed_000 recycle=0 pLDDT=87.2 pTM=0.439\n",
            "2025-10-05 20:16:52,421 alphafold2_ptm_model_4_seed_000 recycle=1 pLDDT=88.8 pTM=0.466 tol=0.0611\n",
            "2025-10-05 20:16:56,584 alphafold2_ptm_model_4_seed_000 recycle=2 pLDDT=89.5 pTM=0.477 tol=0.0389\n",
            "2025-10-05 20:17:00,743 alphafold2_ptm_model_4_seed_000 recycle=3 pLDDT=89.4 pTM=0.475 tol=0.0381\n",
            "2025-10-05 20:17:00,744 alphafold2_ptm_model_4_seed_000 took 16.6s (3 recycles)\n",
            "2025-10-05 20:17:04,889 alphafold2_ptm_model_5_seed_000 recycle=0 pLDDT=90.8 pTM=0.477\n",
            "2025-10-05 20:17:09,040 alphafold2_ptm_model_5_seed_000 recycle=1 pLDDT=91.5 pTM=0.496 tol=0.063\n",
            "2025-10-05 20:17:13,190 alphafold2_ptm_model_5_seed_000 recycle=2 pLDDT=91.8 pTM=0.498 tol=0.0387\n",
            "2025-10-05 20:17:17,342 alphafold2_ptm_model_5_seed_000 recycle=3 pLDDT=92.1 pTM=0.511 tol=0.039\n",
            "2025-10-05 20:17:17,342 alphafold2_ptm_model_5_seed_000 took 16.6s (3 recycles)\n",
            "2025-10-05 20:17:17,348 reranking models by 'plddt' metric\n",
            "2025-10-05 20:17:17,348 rank_001_alphafold2_ptm_model_5_seed_000 pLDDT=92.1 pTM=0.511\n",
            "2025-10-05 20:17:17,348 rank_002_alphafold2_ptm_model_3_seed_000 pLDDT=90.6 pTM=0.479\n",
            "2025-10-05 20:17:17,348 rank_003_alphafold2_ptm_model_1_seed_000 pLDDT=90.1 pTM=0.505\n",
            "2025-10-05 20:17:17,348 rank_004_alphafold2_ptm_model_4_seed_000 pLDDT=89.4 pTM=0.475\n",
            "2025-10-05 20:17:17,348 rank_005_alphafold2_ptm_model_2_seed_000 pLDDT=86.7 pTM=0.474\n",
            "2025-10-05 20:17:18,385 Query 67/200: seq_160_252d6 (length 40)\n"
          ]
        },
        {
          "output_type": "stream",
          "name": "stderr",
          "text": [
            "COMPLETE: 100%|██████████| 150/150 [elapsed: 00:00 remaining: 00:00]\n"
          ]
        },
        {
          "output_type": "stream",
          "name": "stdout",
          "text": [
            "2025-10-05 20:17:18,930 Sequence 0 found no templates\n",
            "2025-10-05 20:17:21,025 Padding length to 45\n",
            "2025-10-05 20:17:25,338 alphafold2_ptm_model_1_seed_000 recycle=0 pLDDT=82 pTM=0.432\n",
            "2025-10-05 20:17:29,496 alphafold2_ptm_model_1_seed_000 recycle=1 pLDDT=81.1 pTM=0.421 tol=0.113\n",
            "2025-10-05 20:17:33,665 alphafold2_ptm_model_1_seed_000 recycle=2 pLDDT=80.9 pTM=0.417 tol=0.0521\n",
            "2025-10-05 20:17:37,852 alphafold2_ptm_model_1_seed_000 recycle=3 pLDDT=80.6 pTM=0.42 tol=0.0713\n",
            "2025-10-05 20:17:37,852 alphafold2_ptm_model_1_seed_000 took 16.8s (3 recycles)\n",
            "2025-10-05 20:17:42,066 alphafold2_ptm_model_2_seed_000 recycle=0 pLDDT=79.6 pTM=0.437\n",
            "2025-10-05 20:17:46,271 alphafold2_ptm_model_2_seed_000 recycle=1 pLDDT=76.6 pTM=0.418 tol=0.107\n",
            "2025-10-05 20:17:50,473 alphafold2_ptm_model_2_seed_000 recycle=2 pLDDT=75.5 pTM=0.407 tol=0.0616\n",
            "2025-10-05 20:17:54,674 alphafold2_ptm_model_2_seed_000 recycle=3 pLDDT=75.1 pTM=0.412 tol=0.0449\n",
            "2025-10-05 20:17:54,675 alphafold2_ptm_model_2_seed_000 took 16.8s (3 recycles)\n",
            "2025-10-05 20:17:58,855 alphafold2_ptm_model_3_seed_000 recycle=0 pLDDT=82.9 pTM=0.398\n",
            "2025-10-05 20:18:03,045 alphafold2_ptm_model_3_seed_000 recycle=1 pLDDT=82.1 pTM=0.392 tol=0.146\n",
            "2025-10-05 20:18:07,229 alphafold2_ptm_model_3_seed_000 recycle=2 pLDDT=82.5 pTM=0.395 tol=0.0695\n",
            "2025-10-05 20:18:11,407 alphafold2_ptm_model_3_seed_000 recycle=3 pLDDT=81.7 pTM=0.391 tol=0.0662\n",
            "2025-10-05 20:18:11,408 alphafold2_ptm_model_3_seed_000 took 16.7s (3 recycles)\n",
            "2025-10-05 20:18:15,569 alphafold2_ptm_model_4_seed_000 recycle=0 pLDDT=84.8 pTM=0.422\n",
            "2025-10-05 20:18:19,732 alphafold2_ptm_model_4_seed_000 recycle=1 pLDDT=84.1 pTM=0.42 tol=0.09\n",
            "2025-10-05 20:18:23,893 alphafold2_ptm_model_4_seed_000 recycle=2 pLDDT=83.9 pTM=0.424 tol=0.0394\n",
            "2025-10-05 20:18:28,051 alphafold2_ptm_model_4_seed_000 recycle=3 pLDDT=82.9 pTM=0.417 tol=0.047\n",
            "2025-10-05 20:18:28,051 alphafold2_ptm_model_4_seed_000 took 16.6s (3 recycles)\n",
            "2025-10-05 20:18:32,210 alphafold2_ptm_model_5_seed_000 recycle=0 pLDDT=86.9 pTM=0.458\n",
            "2025-10-05 20:18:36,378 alphafold2_ptm_model_5_seed_000 recycle=1 pLDDT=86.2 pTM=0.45 tol=0.0707\n",
            "2025-10-05 20:18:40,546 alphafold2_ptm_model_5_seed_000 recycle=2 pLDDT=85.4 pTM=0.441 tol=0.0884\n",
            "2025-10-05 20:18:44,718 alphafold2_ptm_model_5_seed_000 recycle=3 pLDDT=84.8 pTM=0.438 tol=0.064\n",
            "2025-10-05 20:18:44,718 alphafold2_ptm_model_5_seed_000 took 16.7s (3 recycles)\n",
            "2025-10-05 20:18:44,723 reranking models by 'plddt' metric\n",
            "2025-10-05 20:18:44,723 rank_001_alphafold2_ptm_model_5_seed_000 pLDDT=84.8 pTM=0.438\n",
            "2025-10-05 20:18:44,723 rank_002_alphafold2_ptm_model_4_seed_000 pLDDT=82.9 pTM=0.417\n",
            "2025-10-05 20:18:44,723 rank_003_alphafold2_ptm_model_3_seed_000 pLDDT=81.7 pTM=0.391\n",
            "2025-10-05 20:18:44,724 rank_004_alphafold2_ptm_model_1_seed_000 pLDDT=80.6 pTM=0.42\n",
            "2025-10-05 20:18:44,724 rank_005_alphafold2_ptm_model_2_seed_000 pLDDT=75.1 pTM=0.412\n",
            "2025-10-05 20:18:45,728 Query 68/200: seq_168_ddb5f (length 40)\n"
          ]
        },
        {
          "output_type": "stream",
          "name": "stderr",
          "text": [
            "COMPLETE: 100%|██████████| 150/150 [elapsed: 00:00 remaining: 00:00]\n"
          ]
        },
        {
          "output_type": "stream",
          "name": "stdout",
          "text": [
            "2025-10-05 20:18:46,261 Sequence 0 found no templates\n",
            "2025-10-05 20:18:48,509 Padding length to 45\n",
            "2025-10-05 20:18:52,829 alphafold2_ptm_model_1_seed_000 recycle=0 pLDDT=65.6 pTM=0.262\n",
            "2025-10-05 20:18:56,990 alphafold2_ptm_model_1_seed_000 recycle=1 pLDDT=65.3 pTM=0.27 tol=0.158\n",
            "2025-10-05 20:19:01,156 alphafold2_ptm_model_1_seed_000 recycle=2 pLDDT=64.9 pTM=0.271 tol=0.247\n",
            "2025-10-05 20:19:05,329 alphafold2_ptm_model_1_seed_000 recycle=3 pLDDT=64.4 pTM=0.271 tol=0.0698\n",
            "2025-10-05 20:19:05,329 alphafold2_ptm_model_1_seed_000 took 16.8s (3 recycles)\n",
            "2025-10-05 20:19:09,524 alphafold2_ptm_model_2_seed_000 recycle=0 pLDDT=66.8 pTM=0.299\n",
            "2025-10-05 20:19:13,715 alphafold2_ptm_model_2_seed_000 recycle=1 pLDDT=65.2 pTM=0.297 tol=0.129\n",
            "2025-10-05 20:19:17,906 alphafold2_ptm_model_2_seed_000 recycle=2 pLDDT=64.6 pTM=0.298 tol=0.117\n",
            "2025-10-05 20:19:22,097 alphafold2_ptm_model_2_seed_000 recycle=3 pLDDT=64.1 pTM=0.296 tol=0.0684\n",
            "2025-10-05 20:19:22,097 alphafold2_ptm_model_2_seed_000 took 16.8s (3 recycles)\n",
            "2025-10-05 20:19:26,263 alphafold2_ptm_model_3_seed_000 recycle=0 pLDDT=72 pTM=0.269\n",
            "2025-10-05 20:19:30,429 alphafold2_ptm_model_3_seed_000 recycle=1 pLDDT=74 pTM=0.268 tol=0.275\n",
            "2025-10-05 20:19:34,589 alphafold2_ptm_model_3_seed_000 recycle=2 pLDDT=75.4 pTM=0.276 tol=0.0558\n",
            "2025-10-05 20:19:38,750 alphafold2_ptm_model_3_seed_000 recycle=3 pLDDT=75.7 pTM=0.275 tol=0.0399\n",
            "2025-10-05 20:19:38,750 alphafold2_ptm_model_3_seed_000 took 16.6s (3 recycles)\n",
            "2025-10-05 20:19:42,913 alphafold2_ptm_model_4_seed_000 recycle=0 pLDDT=66.8 pTM=0.258\n",
            "2025-10-05 20:19:47,077 alphafold2_ptm_model_4_seed_000 recycle=1 pLDDT=68.3 pTM=0.274 tol=0.573\n",
            "2025-10-05 20:19:51,243 alphafold2_ptm_model_4_seed_000 recycle=2 pLDDT=68.9 pTM=0.28 tol=0.146\n",
            "2025-10-05 20:19:55,408 alphafold2_ptm_model_4_seed_000 recycle=3 pLDDT=68.7 pTM=0.281 tol=0.0712\n",
            "2025-10-05 20:19:55,409 alphafold2_ptm_model_4_seed_000 took 16.6s (3 recycles)\n",
            "2025-10-05 20:19:59,551 alphafold2_ptm_model_5_seed_000 recycle=0 pLDDT=71.6 pTM=0.304\n",
            "2025-10-05 20:20:03,705 alphafold2_ptm_model_5_seed_000 recycle=1 pLDDT=70.5 pTM=0.276 tol=0.151\n",
            "2025-10-05 20:20:07,863 alphafold2_ptm_model_5_seed_000 recycle=2 pLDDT=70.6 pTM=0.268 tol=0.168\n",
            "2025-10-05 20:20:12,017 alphafold2_ptm_model_5_seed_000 recycle=3 pLDDT=69.8 pTM=0.26 tol=0.0627\n",
            "2025-10-05 20:20:12,017 alphafold2_ptm_model_5_seed_000 took 16.6s (3 recycles)\n",
            "2025-10-05 20:20:12,022 reranking models by 'plddt' metric\n",
            "2025-10-05 20:20:12,022 rank_001_alphafold2_ptm_model_3_seed_000 pLDDT=75.7 pTM=0.275\n",
            "2025-10-05 20:20:12,022 rank_002_alphafold2_ptm_model_5_seed_000 pLDDT=69.8 pTM=0.26\n",
            "2025-10-05 20:20:12,023 rank_003_alphafold2_ptm_model_4_seed_000 pLDDT=68.7 pTM=0.281\n",
            "2025-10-05 20:20:12,023 rank_004_alphafold2_ptm_model_1_seed_000 pLDDT=64.4 pTM=0.271\n",
            "2025-10-05 20:20:12,023 rank_005_alphafold2_ptm_model_2_seed_000 pLDDT=64.1 pTM=0.296\n",
            "2025-10-05 20:20:13,037 Query 69/200: seq_184_44f13 (length 40)\n"
          ]
        },
        {
          "output_type": "stream",
          "name": "stderr",
          "text": [
            "COMPLETE: 100%|██████████| 150/150 [elapsed: 00:00 remaining: 00:00]\n"
          ]
        },
        {
          "output_type": "stream",
          "name": "stdout",
          "text": [
            "2025-10-05 20:20:13,578 Sequence 0 found no templates\n",
            "2025-10-05 20:20:16,273 Padding length to 45\n",
            "2025-10-05 20:20:20,635 alphafold2_ptm_model_1_seed_000 recycle=0 pLDDT=78.9 pTM=0.366\n",
            "2025-10-05 20:20:24,829 alphafold2_ptm_model_1_seed_000 recycle=1 pLDDT=80.7 pTM=0.381 tol=0.379\n",
            "2025-10-05 20:20:29,028 alphafold2_ptm_model_1_seed_000 recycle=2 pLDDT=80.8 pTM=0.38 tol=0.103\n",
            "2025-10-05 20:20:33,243 alphafold2_ptm_model_1_seed_000 recycle=3 pLDDT=84.8 pTM=0.401 tol=0.294\n",
            "2025-10-05 20:20:33,244 alphafold2_ptm_model_1_seed_000 took 17.0s (3 recycles)\n",
            "2025-10-05 20:20:37,483 alphafold2_ptm_model_2_seed_000 recycle=0 pLDDT=67.9 pTM=0.318\n",
            "2025-10-05 20:20:41,715 alphafold2_ptm_model_2_seed_000 recycle=1 pLDDT=71.7 pTM=0.342 tol=0.184\n",
            "2025-10-05 20:20:45,947 alphafold2_ptm_model_2_seed_000 recycle=2 pLDDT=70.8 pTM=0.34 tol=0.255\n",
            "2025-10-05 20:20:50,174 alphafold2_ptm_model_2_seed_000 recycle=3 pLDDT=73.8 pTM=0.359 tol=0.138\n",
            "2025-10-05 20:20:50,175 alphafold2_ptm_model_2_seed_000 took 16.9s (3 recycles)\n",
            "2025-10-05 20:20:54,389 alphafold2_ptm_model_3_seed_000 recycle=0 pLDDT=83.7 pTM=0.363\n",
            "2025-10-05 20:20:58,597 alphafold2_ptm_model_3_seed_000 recycle=1 pLDDT=84.4 pTM=0.372 tol=0.302\n",
            "2025-10-05 20:21:02,809 alphafold2_ptm_model_3_seed_000 recycle=2 pLDDT=84.7 pTM=0.376 tol=0.0769\n",
            "2025-10-05 20:21:07,016 alphafold2_ptm_model_3_seed_000 recycle=3 pLDDT=85.9 pTM=0.394 tol=0.155\n",
            "2025-10-05 20:21:07,017 alphafold2_ptm_model_3_seed_000 took 16.8s (3 recycles)\n",
            "2025-10-05 20:21:11,205 alphafold2_ptm_model_4_seed_000 recycle=0 pLDDT=81.7 pTM=0.377\n",
            "2025-10-05 20:21:15,395 alphafold2_ptm_model_4_seed_000 recycle=1 pLDDT=81.7 pTM=0.375 tol=0.218\n",
            "2025-10-05 20:21:19,590 alphafold2_ptm_model_4_seed_000 recycle=2 pLDDT=82.2 pTM=0.383 tol=0.101\n",
            "2025-10-05 20:21:23,778 alphafold2_ptm_model_4_seed_000 recycle=3 pLDDT=83.2 pTM=0.392 tol=0.162\n",
            "2025-10-05 20:21:23,779 alphafold2_ptm_model_4_seed_000 took 16.8s (3 recycles)\n",
            "2025-10-05 20:21:27,970 alphafold2_ptm_model_5_seed_000 recycle=0 pLDDT=81.8 pTM=0.365\n",
            "2025-10-05 20:21:32,169 alphafold2_ptm_model_5_seed_000 recycle=1 pLDDT=81.1 pTM=0.365 tol=0.164\n",
            "2025-10-05 20:21:36,365 alphafold2_ptm_model_5_seed_000 recycle=2 pLDDT=79.9 pTM=0.361 tol=0.151\n",
            "2025-10-05 20:21:40,569 alphafold2_ptm_model_5_seed_000 recycle=3 pLDDT=81.3 pTM=0.367 tol=0.167\n",
            "2025-10-05 20:21:40,570 alphafold2_ptm_model_5_seed_000 took 16.8s (3 recycles)\n",
            "2025-10-05 20:21:40,578 reranking models by 'plddt' metric\n",
            "2025-10-05 20:21:40,578 rank_001_alphafold2_ptm_model_3_seed_000 pLDDT=85.9 pTM=0.394\n",
            "2025-10-05 20:21:40,579 rank_002_alphafold2_ptm_model_1_seed_000 pLDDT=84.8 pTM=0.401\n",
            "2025-10-05 20:21:40,579 rank_003_alphafold2_ptm_model_4_seed_000 pLDDT=83.2 pTM=0.392\n",
            "2025-10-05 20:21:40,579 rank_004_alphafold2_ptm_model_5_seed_000 pLDDT=81.3 pTM=0.367\n",
            "2025-10-05 20:21:40,579 rank_005_alphafold2_ptm_model_2_seed_000 pLDDT=73.8 pTM=0.359\n",
            "2025-10-05 20:21:43,705 Query 70/200: seq_58_d8e3b (length 41)\n"
          ]
        },
        {
          "output_type": "stream",
          "name": "stderr",
          "text": [
            "COMPLETE: 100%|██████████| 150/150 [elapsed: 00:01 remaining: 00:00]\n"
          ]
        },
        {
          "output_type": "stream",
          "name": "stdout",
          "text": [
            "2025-10-05 20:21:44,726 Sequence 0 found no templates\n",
            "2025-10-05 20:21:47,464 Padding length to 45\n",
            "2025-10-05 20:21:51,881 alphafold2_ptm_model_1_seed_000 recycle=0 pLDDT=67.5 pTM=0.304\n",
            "2025-10-05 20:21:56,125 alphafold2_ptm_model_1_seed_000 recycle=1 pLDDT=70.4 pTM=0.311 tol=1.07\n",
            "2025-10-05 20:22:00,375 alphafold2_ptm_model_1_seed_000 recycle=2 pLDDT=70.9 pTM=0.314 tol=1.16\n",
            "2025-10-05 20:22:04,655 alphafold2_ptm_model_1_seed_000 recycle=3 pLDDT=71.4 pTM=0.317 tol=0.358\n",
            "2025-10-05 20:22:04,656 alphafold2_ptm_model_1_seed_000 took 17.2s (3 recycles)\n",
            "2025-10-05 20:22:08,976 alphafold2_ptm_model_2_seed_000 recycle=0 pLDDT=66.3 pTM=0.303\n",
            "2025-10-05 20:22:13,293 alphafold2_ptm_model_2_seed_000 recycle=1 pLDDT=65.7 pTM=0.305 tol=2.77\n",
            "2025-10-05 20:22:17,614 alphafold2_ptm_model_2_seed_000 recycle=2 pLDDT=65.1 pTM=0.305 tol=0.716\n",
            "2025-10-05 20:22:21,921 alphafold2_ptm_model_2_seed_000 recycle=3 pLDDT=65.2 pTM=0.307 tol=1.12\n",
            "2025-10-05 20:22:21,922 alphafold2_ptm_model_2_seed_000 took 17.3s (3 recycles)\n",
            "2025-10-05 20:22:26,203 alphafold2_ptm_model_3_seed_000 recycle=0 pLDDT=68.1 pTM=0.308\n",
            "2025-10-05 20:22:30,477 alphafold2_ptm_model_3_seed_000 recycle=1 pLDDT=66.8 pTM=0.313 tol=0.938\n",
            "2025-10-05 20:22:34,745 alphafold2_ptm_model_3_seed_000 recycle=2 pLDDT=66.8 pTM=0.315 tol=2.17\n",
            "2025-10-05 20:22:39,003 alphafold2_ptm_model_3_seed_000 recycle=3 pLDDT=66.1 pTM=0.31 tol=5.44\n",
            "2025-10-05 20:22:39,004 alphafold2_ptm_model_3_seed_000 took 17.1s (3 recycles)\n",
            "2025-10-05 20:22:43,263 alphafold2_ptm_model_4_seed_000 recycle=0 pLDDT=66.6 pTM=0.289\n",
            "2025-10-05 20:22:47,524 alphafold2_ptm_model_4_seed_000 recycle=1 pLDDT=66.8 pTM=0.301 tol=5.94\n",
            "2025-10-05 20:22:51,776 alphafold2_ptm_model_4_seed_000 recycle=2 pLDDT=66.7 pTM=0.303 tol=2.59\n",
            "2025-10-05 20:22:56,026 alphafold2_ptm_model_4_seed_000 recycle=3 pLDDT=65.8 pTM=0.3 tol=3.92\n",
            "2025-10-05 20:22:56,027 alphafold2_ptm_model_4_seed_000 took 17.0s (3 recycles)\n",
            "2025-10-05 20:23:00,262 alphafold2_ptm_model_5_seed_000 recycle=0 pLDDT=68.6 pTM=0.313\n",
            "2025-10-05 20:23:04,503 alphafold2_ptm_model_5_seed_000 recycle=1 pLDDT=69.9 pTM=0.324 tol=0.965\n",
            "2025-10-05 20:23:08,746 alphafold2_ptm_model_5_seed_000 recycle=2 pLDDT=69.9 pTM=0.327 tol=0.626\n",
            "2025-10-05 20:23:12,989 alphafold2_ptm_model_5_seed_000 recycle=3 pLDDT=69.6 pTM=0.324 tol=0.464\n",
            "2025-10-05 20:23:12,990 alphafold2_ptm_model_5_seed_000 took 17.0s (3 recycles)\n",
            "2025-10-05 20:23:12,995 reranking models by 'plddt' metric\n",
            "2025-10-05 20:23:12,996 rank_001_alphafold2_ptm_model_1_seed_000 pLDDT=71.4 pTM=0.317\n",
            "2025-10-05 20:23:12,996 rank_002_alphafold2_ptm_model_5_seed_000 pLDDT=69.6 pTM=0.324\n",
            "2025-10-05 20:23:12,996 rank_003_alphafold2_ptm_model_3_seed_000 pLDDT=66.1 pTM=0.31\n",
            "2025-10-05 20:23:12,996 rank_004_alphafold2_ptm_model_4_seed_000 pLDDT=65.8 pTM=0.3\n",
            "2025-10-05 20:23:12,996 rank_005_alphafold2_ptm_model_2_seed_000 pLDDT=65.2 pTM=0.307\n",
            "2025-10-05 20:23:14,069 Query 71/200: seq_62_cac9f (length 41)\n"
          ]
        },
        {
          "output_type": "stream",
          "name": "stderr",
          "text": [
            "COMPLETE: 100%|██████████| 150/150 [elapsed: 00:00 remaining: 00:00]\n"
          ]
        },
        {
          "output_type": "stream",
          "name": "stdout",
          "text": [
            "2025-10-05 20:23:14,614 Sequence 0 found no templates\n",
            "2025-10-05 20:23:17,174 Padding length to 45\n",
            "2025-10-05 20:23:21,484 alphafold2_ptm_model_1_seed_000 recycle=0 pLDDT=79.2 pTM=0.435\n",
            "2025-10-05 20:23:25,651 alphafold2_ptm_model_1_seed_000 recycle=1 pLDDT=79.1 pTM=0.44 tol=0.562\n",
            "2025-10-05 20:23:29,837 alphafold2_ptm_model_1_seed_000 recycle=2 pLDDT=79.1 pTM=0.441 tol=0.696\n",
            "2025-10-05 20:23:34,031 alphafold2_ptm_model_1_seed_000 recycle=3 pLDDT=79.2 pTM=0.445 tol=0.486\n",
            "2025-10-05 20:23:34,031 alphafold2_ptm_model_1_seed_000 took 16.9s (3 recycles)\n",
            "2025-10-05 20:23:38,248 alphafold2_ptm_model_2_seed_000 recycle=0 pLDDT=78.2 pTM=0.44\n",
            "2025-10-05 20:23:42,465 alphafold2_ptm_model_2_seed_000 recycle=1 pLDDT=77.4 pTM=0.446 tol=0.2\n",
            "2025-10-05 20:23:46,681 alphafold2_ptm_model_2_seed_000 recycle=2 pLDDT=77.4 pTM=0.443 tol=0.688\n",
            "2025-10-05 20:23:50,891 alphafold2_ptm_model_2_seed_000 recycle=3 pLDDT=77.5 pTM=0.443 tol=0.132\n",
            "2025-10-05 20:23:50,892 alphafold2_ptm_model_2_seed_000 took 16.9s (3 recycles)\n",
            "2025-10-05 20:23:55,077 alphafold2_ptm_model_3_seed_000 recycle=0 pLDDT=80.4 pTM=0.42\n",
            "2025-10-05 20:23:59,267 alphafold2_ptm_model_3_seed_000 recycle=1 pLDDT=79.2 pTM=0.421 tol=0.593\n",
            "2025-10-05 20:24:03,451 alphafold2_ptm_model_3_seed_000 recycle=2 pLDDT=79.2 pTM=0.42 tol=0.348\n",
            "2025-10-05 20:24:07,628 alphafold2_ptm_model_3_seed_000 recycle=3 pLDDT=79.3 pTM=0.422 tol=0.333\n",
            "2025-10-05 20:24:07,629 alphafold2_ptm_model_3_seed_000 took 16.7s (3 recycles)\n",
            "2025-10-05 20:24:11,787 alphafold2_ptm_model_4_seed_000 recycle=0 pLDDT=79.1 pTM=0.411\n",
            "2025-10-05 20:24:15,941 alphafold2_ptm_model_4_seed_000 recycle=1 pLDDT=78.2 pTM=0.416 tol=0.24\n",
            "2025-10-05 20:24:20,096 alphafold2_ptm_model_4_seed_000 recycle=2 pLDDT=78.9 pTM=0.425 tol=0.103\n",
            "2025-10-05 20:24:24,252 alphafold2_ptm_model_4_seed_000 recycle=3 pLDDT=79 pTM=0.429 tol=0.302\n",
            "2025-10-05 20:24:24,253 alphafold2_ptm_model_4_seed_000 took 16.6s (3 recycles)\n",
            "2025-10-05 20:24:28,423 alphafold2_ptm_model_5_seed_000 recycle=0 pLDDT=78.9 pTM=0.414\n",
            "2025-10-05 20:24:32,591 alphafold2_ptm_model_5_seed_000 recycle=1 pLDDT=78.9 pTM=0.418 tol=0.226\n",
            "2025-10-05 20:24:36,760 alphafold2_ptm_model_5_seed_000 recycle=2 pLDDT=78.8 pTM=0.417 tol=0.123\n",
            "2025-10-05 20:24:40,935 alphafold2_ptm_model_5_seed_000 recycle=3 pLDDT=79.1 pTM=0.416 tol=0.196\n",
            "2025-10-05 20:24:40,936 alphafold2_ptm_model_5_seed_000 took 16.7s (3 recycles)\n",
            "2025-10-05 20:24:40,944 reranking models by 'plddt' metric\n",
            "2025-10-05 20:24:40,945 rank_001_alphafold2_ptm_model_3_seed_000 pLDDT=79.3 pTM=0.422\n",
            "2025-10-05 20:24:40,945 rank_002_alphafold2_ptm_model_1_seed_000 pLDDT=79.2 pTM=0.445\n",
            "2025-10-05 20:24:40,945 rank_003_alphafold2_ptm_model_5_seed_000 pLDDT=79.1 pTM=0.416\n",
            "2025-10-05 20:24:40,946 rank_004_alphafold2_ptm_model_4_seed_000 pLDDT=79 pTM=0.429\n",
            "2025-10-05 20:24:40,946 rank_005_alphafold2_ptm_model_2_seed_000 pLDDT=77.5 pTM=0.443\n",
            "2025-10-05 20:24:42,443 Query 72/200: seq_82_4ab75 (length 41)\n"
          ]
        },
        {
          "output_type": "stream",
          "name": "stderr",
          "text": [
            "COMPLETE: 100%|██████████| 150/150 [elapsed: 00:00 remaining: 00:00]\n"
          ]
        },
        {
          "output_type": "stream",
          "name": "stdout",
          "text": [
            "2025-10-05 20:24:42,977 Sequence 0 found no templates\n",
            "2025-10-05 20:24:45,167 Padding length to 45\n",
            "2025-10-05 20:24:49,487 alphafold2_ptm_model_1_seed_000 recycle=0 pLDDT=81.6 pTM=0.455\n",
            "2025-10-05 20:24:53,668 alphafold2_ptm_model_1_seed_000 recycle=1 pLDDT=81.9 pTM=0.459 tol=0.141\n",
            "2025-10-05 20:24:57,857 alphafold2_ptm_model_1_seed_000 recycle=2 pLDDT=81.9 pTM=0.461 tol=0.13\n",
            "2025-10-05 20:25:02,062 alphafold2_ptm_model_1_seed_000 recycle=3 pLDDT=81.9 pTM=0.46 tol=0.124\n",
            "2025-10-05 20:25:02,063 alphafold2_ptm_model_1_seed_000 took 16.9s (3 recycles)\n",
            "2025-10-05 20:25:06,298 alphafold2_ptm_model_2_seed_000 recycle=0 pLDDT=76.9 pTM=0.405\n",
            "2025-10-05 20:25:10,528 alphafold2_ptm_model_2_seed_000 recycle=1 pLDDT=77.1 pTM=0.408 tol=0.449\n",
            "2025-10-05 20:25:14,759 alphafold2_ptm_model_2_seed_000 recycle=2 pLDDT=76.4 pTM=0.404 tol=0.0753\n",
            "2025-10-05 20:25:18,980 alphafold2_ptm_model_2_seed_000 recycle=3 pLDDT=76.1 pTM=0.401 tol=0.0817\n",
            "2025-10-05 20:25:18,980 alphafold2_ptm_model_2_seed_000 took 16.9s (3 recycles)\n",
            "2025-10-05 20:25:23,169 alphafold2_ptm_model_3_seed_000 recycle=0 pLDDT=81.8 pTM=0.404\n",
            "2025-10-05 20:25:27,357 alphafold2_ptm_model_3_seed_000 recycle=1 pLDDT=83.3 pTM=0.42 tol=0.572\n",
            "2025-10-05 20:25:31,541 alphafold2_ptm_model_3_seed_000 recycle=2 pLDDT=83.7 pTM=0.418 tol=0.114\n",
            "2025-10-05 20:25:35,722 alphafold2_ptm_model_3_seed_000 recycle=3 pLDDT=83.4 pTM=0.414 tol=0.222\n",
            "2025-10-05 20:25:35,722 alphafold2_ptm_model_3_seed_000 took 16.7s (3 recycles)\n",
            "2025-10-05 20:25:39,900 alphafold2_ptm_model_4_seed_000 recycle=0 pLDDT=78.7 pTM=0.392\n",
            "2025-10-05 20:25:44,082 alphafold2_ptm_model_4_seed_000 recycle=1 pLDDT=79.5 pTM=0.41 tol=0.398\n",
            "2025-10-05 20:25:48,263 alphafold2_ptm_model_4_seed_000 recycle=2 pLDDT=79.8 pTM=0.416 tol=0.218\n",
            "2025-10-05 20:25:52,442 alphafold2_ptm_model_4_seed_000 recycle=3 pLDDT=79.8 pTM=0.416 tol=0.27\n",
            "2025-10-05 20:25:52,442 alphafold2_ptm_model_4_seed_000 took 16.7s (3 recycles)\n",
            "2025-10-05 20:25:56,602 alphafold2_ptm_model_5_seed_000 recycle=0 pLDDT=81.6 pTM=0.429\n",
            "2025-10-05 20:26:00,772 alphafold2_ptm_model_5_seed_000 recycle=1 pLDDT=81.9 pTM=0.438 tol=0.13\n",
            "2025-10-05 20:26:04,951 alphafold2_ptm_model_5_seed_000 recycle=2 pLDDT=81.8 pTM=0.435 tol=0.173\n",
            "2025-10-05 20:26:09,128 alphafold2_ptm_model_5_seed_000 recycle=3 pLDDT=81.4 pTM=0.43 tol=0.198\n",
            "2025-10-05 20:26:09,128 alphafold2_ptm_model_5_seed_000 took 16.7s (3 recycles)\n",
            "2025-10-05 20:26:09,133 reranking models by 'plddt' metric\n",
            "2025-10-05 20:26:09,134 rank_001_alphafold2_ptm_model_3_seed_000 pLDDT=83.4 pTM=0.414\n",
            "2025-10-05 20:26:09,134 rank_002_alphafold2_ptm_model_1_seed_000 pLDDT=81.9 pTM=0.46\n",
            "2025-10-05 20:26:09,134 rank_003_alphafold2_ptm_model_5_seed_000 pLDDT=81.4 pTM=0.43\n",
            "2025-10-05 20:26:09,134 rank_004_alphafold2_ptm_model_4_seed_000 pLDDT=79.8 pTM=0.416\n",
            "2025-10-05 20:26:09,135 rank_005_alphafold2_ptm_model_2_seed_000 pLDDT=76.1 pTM=0.401\n",
            "2025-10-05 20:26:10,166 Query 73/200: seq_85_55fba (length 41)\n"
          ]
        },
        {
          "output_type": "stream",
          "name": "stderr",
          "text": [
            "COMPLETE: 100%|██████████| 150/150 [elapsed: 00:00 remaining: 00:00]\n"
          ]
        },
        {
          "output_type": "stream",
          "name": "stdout",
          "text": [
            "2025-10-05 20:26:10,713 Sequence 0 found no templates\n",
            "2025-10-05 20:26:12,861 Padding length to 45\n",
            "2025-10-05 20:26:17,209 alphafold2_ptm_model_1_seed_000 recycle=0 pLDDT=78.4 pTM=0.393\n",
            "2025-10-05 20:26:21,386 alphafold2_ptm_model_1_seed_000 recycle=1 pLDDT=79.9 pTM=0.418 tol=1.12\n",
            "2025-10-05 20:26:25,570 alphafold2_ptm_model_1_seed_000 recycle=2 pLDDT=79.9 pTM=0.423 tol=0.219\n",
            "2025-10-05 20:26:29,762 alphafold2_ptm_model_1_seed_000 recycle=3 pLDDT=79.7 pTM=0.419 tol=0.107\n",
            "2025-10-05 20:26:29,763 alphafold2_ptm_model_1_seed_000 took 16.9s (3 recycles)\n",
            "2025-10-05 20:26:33,985 alphafold2_ptm_model_2_seed_000 recycle=0 pLDDT=73.8 pTM=0.365\n",
            "2025-10-05 20:26:38,205 alphafold2_ptm_model_2_seed_000 recycle=1 pLDDT=75.2 pTM=0.386 tol=0.899\n",
            "2025-10-05 20:26:42,421 alphafold2_ptm_model_2_seed_000 recycle=2 pLDDT=74.7 pTM=0.386 tol=0.174\n",
            "2025-10-05 20:26:46,637 alphafold2_ptm_model_2_seed_000 recycle=3 pLDDT=74.9 pTM=0.386 tol=0.261\n",
            "2025-10-05 20:26:46,638 alphafold2_ptm_model_2_seed_000 took 16.9s (3 recycles)\n",
            "2025-10-05 20:26:50,830 alphafold2_ptm_model_3_seed_000 recycle=0 pLDDT=78.7 pTM=0.368\n",
            "2025-10-05 20:26:55,023 alphafold2_ptm_model_3_seed_000 recycle=1 pLDDT=80.1 pTM=0.401 tol=0.497\n",
            "2025-10-05 20:26:59,217 alphafold2_ptm_model_3_seed_000 recycle=2 pLDDT=79.5 pTM=0.4 tol=0.245\n",
            "2025-10-05 20:27:03,402 alphafold2_ptm_model_3_seed_000 recycle=3 pLDDT=80.2 pTM=0.401 tol=0.241\n",
            "2025-10-05 20:27:03,402 alphafold2_ptm_model_3_seed_000 took 16.8s (3 recycles)\n",
            "2025-10-05 20:27:07,568 alphafold2_ptm_model_4_seed_000 recycle=0 pLDDT=76.2 pTM=0.354\n",
            "2025-10-05 20:27:11,740 alphafold2_ptm_model_4_seed_000 recycle=1 pLDDT=78.4 pTM=0.384 tol=0.999\n",
            "2025-10-05 20:27:15,907 alphafold2_ptm_model_4_seed_000 recycle=2 pLDDT=78.2 pTM=0.385 tol=0.407\n",
            "2025-10-05 20:27:20,073 alphafold2_ptm_model_4_seed_000 recycle=3 pLDDT=78.9 pTM=0.386 tol=0.503\n",
            "2025-10-05 20:27:20,074 alphafold2_ptm_model_4_seed_000 took 16.7s (3 recycles)\n",
            "2025-10-05 20:27:24,244 alphafold2_ptm_model_5_seed_000 recycle=0 pLDDT=80.4 pTM=0.387\n",
            "2025-10-05 20:27:28,426 alphafold2_ptm_model_5_seed_000 recycle=1 pLDDT=80.2 pTM=0.403 tol=0.714\n",
            "2025-10-05 20:27:32,604 alphafold2_ptm_model_5_seed_000 recycle=2 pLDDT=80.2 pTM=0.406 tol=0.191\n",
            "2025-10-05 20:27:36,783 alphafold2_ptm_model_5_seed_000 recycle=3 pLDDT=80.8 pTM=0.411 tol=0.17\n",
            "2025-10-05 20:27:36,784 alphafold2_ptm_model_5_seed_000 took 16.7s (3 recycles)\n",
            "2025-10-05 20:27:36,789 reranking models by 'plddt' metric\n",
            "2025-10-05 20:27:36,789 rank_001_alphafold2_ptm_model_5_seed_000 pLDDT=80.8 pTM=0.411\n",
            "2025-10-05 20:27:36,789 rank_002_alphafold2_ptm_model_3_seed_000 pLDDT=80.2 pTM=0.401\n",
            "2025-10-05 20:27:36,790 rank_003_alphafold2_ptm_model_1_seed_000 pLDDT=79.7 pTM=0.419\n",
            "2025-10-05 20:27:36,790 rank_004_alphafold2_ptm_model_4_seed_000 pLDDT=78.9 pTM=0.386\n",
            "2025-10-05 20:27:36,790 rank_005_alphafold2_ptm_model_2_seed_000 pLDDT=74.9 pTM=0.386\n",
            "2025-10-05 20:27:37,851 Query 74/200: seq_104_93c3e (length 41)\n"
          ]
        },
        {
          "output_type": "stream",
          "name": "stderr",
          "text": [
            "COMPLETE: 100%|██████████| 150/150 [elapsed: 00:00 remaining: 00:00]\n"
          ]
        },
        {
          "output_type": "stream",
          "name": "stdout",
          "text": [
            "2025-10-05 20:27:38,385 Sequence 0 found no templates\n",
            "2025-10-05 20:27:40,518 Padding length to 45\n",
            "2025-10-05 20:27:44,841 alphafold2_ptm_model_1_seed_000 recycle=0 pLDDT=84.8 pTM=0.403\n",
            "2025-10-05 20:27:49,016 alphafold2_ptm_model_1_seed_000 recycle=1 pLDDT=86.3 pTM=0.433 tol=0.0963\n",
            "2025-10-05 20:27:53,203 alphafold2_ptm_model_1_seed_000 recycle=2 pLDDT=86.8 pTM=0.442 tol=0.0257\n",
            "2025-10-05 20:27:57,390 alphafold2_ptm_model_1_seed_000 recycle=3 pLDDT=85.6 pTM=0.422 tol=0.116\n",
            "2025-10-05 20:27:57,391 alphafold2_ptm_model_1_seed_000 took 16.9s (3 recycles)\n",
            "2025-10-05 20:28:01,603 alphafold2_ptm_model_2_seed_000 recycle=0 pLDDT=86 pTM=0.438\n",
            "2025-10-05 20:28:05,810 alphafold2_ptm_model_2_seed_000 recycle=1 pLDDT=87 pTM=0.459 tol=0.0812\n",
            "2025-10-05 20:28:10,018 alphafold2_ptm_model_2_seed_000 recycle=2 pLDDT=86.7 pTM=0.457 tol=0.0536\n",
            "2025-10-05 20:28:14,223 alphafold2_ptm_model_2_seed_000 recycle=3 pLDDT=86 pTM=0.451 tol=0.0697\n",
            "2025-10-05 20:28:14,224 alphafold2_ptm_model_2_seed_000 took 16.8s (3 recycles)\n",
            "2025-10-05 20:28:18,407 alphafold2_ptm_model_3_seed_000 recycle=0 pLDDT=88.9 pTM=0.428\n",
            "2025-10-05 20:28:22,595 alphafold2_ptm_model_3_seed_000 recycle=1 pLDDT=89.1 pTM=0.437 tol=0.0859\n",
            "2025-10-05 20:28:26,777 alphafold2_ptm_model_3_seed_000 recycle=2 pLDDT=89.1 pTM=0.438 tol=0.0445\n",
            "2025-10-05 20:28:30,958 alphafold2_ptm_model_3_seed_000 recycle=3 pLDDT=89.3 pTM=0.438 tol=0.0583\n",
            "2025-10-05 20:28:30,958 alphafold2_ptm_model_3_seed_000 took 16.7s (3 recycles)\n",
            "2025-10-05 20:28:35,139 alphafold2_ptm_model_4_seed_000 recycle=0 pLDDT=88.8 pTM=0.446\n",
            "2025-10-05 20:28:39,323 alphafold2_ptm_model_4_seed_000 recycle=1 pLDDT=89.7 pTM=0.47 tol=0.141\n",
            "2025-10-05 20:28:43,505 alphafold2_ptm_model_4_seed_000 recycle=2 pLDDT=89.8 pTM=0.476 tol=0.0313\n",
            "2025-10-05 20:28:47,684 alphafold2_ptm_model_4_seed_000 recycle=3 pLDDT=89.4 pTM=0.471 tol=0.0231\n",
            "2025-10-05 20:28:47,685 alphafold2_ptm_model_4_seed_000 took 16.7s (3 recycles)\n",
            "2025-10-05 20:28:51,848 alphafold2_ptm_model_5_seed_000 recycle=0 pLDDT=85.2 pTM=0.408\n",
            "2025-10-05 20:28:56,023 alphafold2_ptm_model_5_seed_000 recycle=1 pLDDT=87.1 pTM=0.441 tol=0.141\n",
            "2025-10-05 20:29:00,197 alphafold2_ptm_model_5_seed_000 recycle=2 pLDDT=87.2 pTM=0.443 tol=0.0937\n",
            "2025-10-05 20:29:04,369 alphafold2_ptm_model_5_seed_000 recycle=3 pLDDT=86.9 pTM=0.44 tol=0.0711\n",
            "2025-10-05 20:29:04,370 alphafold2_ptm_model_5_seed_000 took 16.7s (3 recycles)\n",
            "2025-10-05 20:29:04,375 reranking models by 'plddt' metric\n",
            "2025-10-05 20:29:04,375 rank_001_alphafold2_ptm_model_4_seed_000 pLDDT=89.4 pTM=0.471\n",
            "2025-10-05 20:29:04,375 rank_002_alphafold2_ptm_model_3_seed_000 pLDDT=89.3 pTM=0.438\n",
            "2025-10-05 20:29:04,375 rank_003_alphafold2_ptm_model_5_seed_000 pLDDT=86.9 pTM=0.44\n",
            "2025-10-05 20:29:04,375 rank_004_alphafold2_ptm_model_2_seed_000 pLDDT=86 pTM=0.451\n",
            "2025-10-05 20:29:04,376 rank_005_alphafold2_ptm_model_1_seed_000 pLDDT=85.6 pTM=0.422\n",
            "2025-10-05 20:29:05,436 Query 75/200: seq_142_25cc6 (length 41)\n"
          ]
        },
        {
          "output_type": "stream",
          "name": "stderr",
          "text": [
            "PENDING:   0%|          | 0/150 [elapsed: 00:00 remaining: ?]"
          ]
        },
        {
          "output_type": "stream",
          "name": "stdout",
          "text": [
            "2025-10-05 20:29:05,723 Sleeping for 7s. Reason: PENDING\n"
          ]
        },
        {
          "output_type": "stream",
          "name": "stderr",
          "text": [
            "COMPLETE: 100%|██████████| 150/150 [elapsed: 00:07 remaining: 00:00]\n"
          ]
        },
        {
          "output_type": "stream",
          "name": "stdout",
          "text": [
            "2025-10-05 20:29:13,251 Sequence 0 found no templates\n",
            "2025-10-05 20:29:15,449 Padding length to 45\n",
            "2025-10-05 20:29:19,756 alphafold2_ptm_model_1_seed_000 recycle=0 pLDDT=74.8 pTM=0.358\n",
            "2025-10-05 20:29:23,916 alphafold2_ptm_model_1_seed_000 recycle=1 pLDDT=76.1 pTM=0.369 tol=0.243\n",
            "2025-10-05 20:29:28,091 alphafold2_ptm_model_1_seed_000 recycle=2 pLDDT=76.6 pTM=0.372 tol=0.101\n",
            "2025-10-05 20:29:32,280 alphafold2_ptm_model_1_seed_000 recycle=3 pLDDT=75.9 pTM=0.369 tol=0.0643\n",
            "2025-10-05 20:29:32,281 alphafold2_ptm_model_1_seed_000 took 16.8s (3 recycles)\n",
            "2025-10-05 20:29:36,504 alphafold2_ptm_model_2_seed_000 recycle=0 pLDDT=75.2 pTM=0.372\n",
            "2025-10-05 20:29:40,725 alphafold2_ptm_model_2_seed_000 recycle=1 pLDDT=73.5 pTM=0.365 tol=0.213\n",
            "2025-10-05 20:29:44,962 alphafold2_ptm_model_2_seed_000 recycle=2 pLDDT=74.1 pTM=0.359 tol=0.141\n",
            "2025-10-05 20:29:49,202 alphafold2_ptm_model_2_seed_000 recycle=3 pLDDT=73 pTM=0.363 tol=0.0767\n",
            "2025-10-05 20:29:49,203 alphafold2_ptm_model_2_seed_000 took 16.9s (3 recycles)\n",
            "2025-10-05 20:29:53,416 alphafold2_ptm_model_3_seed_000 recycle=0 pLDDT=80.4 pTM=0.365\n",
            "2025-10-05 20:29:57,617 alphafold2_ptm_model_3_seed_000 recycle=1 pLDDT=81 pTM=0.376 tol=0.104\n",
            "2025-10-05 20:30:01,812 alphafold2_ptm_model_3_seed_000 recycle=2 pLDDT=81.1 pTM=0.375 tol=0.0703\n",
            "2025-10-05 20:30:05,993 alphafold2_ptm_model_3_seed_000 recycle=3 pLDDT=81.6 pTM=0.377 tol=0.0776\n",
            "2025-10-05 20:30:05,994 alphafold2_ptm_model_3_seed_000 took 16.8s (3 recycles)\n",
            "2025-10-05 20:30:10,150 alphafold2_ptm_model_4_seed_000 recycle=0 pLDDT=75.2 pTM=0.349\n",
            "2025-10-05 20:30:14,306 alphafold2_ptm_model_4_seed_000 recycle=1 pLDDT=74.8 pTM=0.354 tol=0.184\n",
            "2025-10-05 20:30:18,462 alphafold2_ptm_model_4_seed_000 recycle=2 pLDDT=75 pTM=0.352 tol=0.0674\n",
            "2025-10-05 20:30:22,611 alphafold2_ptm_model_4_seed_000 recycle=3 pLDDT=75 pTM=0.351 tol=0.0446\n",
            "2025-10-05 20:30:22,612 alphafold2_ptm_model_4_seed_000 took 16.6s (3 recycles)\n",
            "2025-10-05 20:30:26,763 alphafold2_ptm_model_5_seed_000 recycle=0 pLDDT=76.5 pTM=0.368\n",
            "2025-10-05 20:30:30,923 alphafold2_ptm_model_5_seed_000 recycle=1 pLDDT=75.6 pTM=0.362 tol=0.152\n",
            "2025-10-05 20:30:35,083 alphafold2_ptm_model_5_seed_000 recycle=2 pLDDT=76.9 pTM=0.374 tol=0.0656\n",
            "2025-10-05 20:30:39,242 alphafold2_ptm_model_5_seed_000 recycle=3 pLDDT=76.4 pTM=0.37 tol=0.0518\n",
            "2025-10-05 20:30:39,243 alphafold2_ptm_model_5_seed_000 took 16.6s (3 recycles)\n",
            "2025-10-05 20:30:39,248 reranking models by 'plddt' metric\n",
            "2025-10-05 20:30:39,248 rank_001_alphafold2_ptm_model_3_seed_000 pLDDT=81.6 pTM=0.377\n",
            "2025-10-05 20:30:39,248 rank_002_alphafold2_ptm_model_5_seed_000 pLDDT=76.4 pTM=0.37\n",
            "2025-10-05 20:30:39,249 rank_003_alphafold2_ptm_model_1_seed_000 pLDDT=75.9 pTM=0.369\n",
            "2025-10-05 20:30:39,249 rank_004_alphafold2_ptm_model_4_seed_000 pLDDT=75 pTM=0.351\n",
            "2025-10-05 20:30:39,249 rank_005_alphafold2_ptm_model_2_seed_000 pLDDT=73 pTM=0.363\n",
            "2025-10-05 20:30:40,296 Query 76/200: seq_174_296d9 (length 41)\n"
          ]
        },
        {
          "output_type": "stream",
          "name": "stderr",
          "text": [
            "PENDING:   0%|          | 0/150 [elapsed: 00:00 remaining: ?]"
          ]
        },
        {
          "output_type": "stream",
          "name": "stdout",
          "text": [
            "2025-10-05 20:30:40,575 Sleeping for 9s. Reason: PENDING\n"
          ]
        },
        {
          "output_type": "stream",
          "name": "stderr",
          "text": [
            "COMPLETE: 100%|██████████| 150/150 [elapsed: 00:09 remaining: 00:00]\n"
          ]
        },
        {
          "output_type": "stream",
          "name": "stdout",
          "text": [
            "2025-10-05 20:30:50,101 Sequence 0 found no templates\n",
            "2025-10-05 20:30:52,271 Padding length to 45\n",
            "2025-10-05 20:30:56,570 alphafold2_ptm_model_1_seed_000 recycle=0 pLDDT=79.7 pTM=0.45\n",
            "2025-10-05 20:31:00,733 alphafold2_ptm_model_1_seed_000 recycle=1 pLDDT=79.5 pTM=0.451 tol=0.21\n",
            "2025-10-05 20:31:04,909 alphafold2_ptm_model_1_seed_000 recycle=2 pLDDT=79.8 pTM=0.454 tol=0.281\n",
            "2025-10-05 20:31:09,103 alphafold2_ptm_model_1_seed_000 recycle=3 pLDDT=79.4 pTM=0.45 tol=0.131\n",
            "2025-10-05 20:31:09,104 alphafold2_ptm_model_1_seed_000 took 16.8s (3 recycles)\n",
            "2025-10-05 20:31:13,328 alphafold2_ptm_model_2_seed_000 recycle=0 pLDDT=78 pTM=0.435\n",
            "2025-10-05 20:31:17,558 alphafold2_ptm_model_2_seed_000 recycle=1 pLDDT=77.4 pTM=0.438 tol=0.639\n",
            "2025-10-05 20:31:21,799 alphafold2_ptm_model_2_seed_000 recycle=2 pLDDT=76.9 pTM=0.432 tol=0.323\n",
            "2025-10-05 20:31:26,040 alphafold2_ptm_model_2_seed_000 recycle=3 pLDDT=76.8 pTM=0.435 tol=0.186\n",
            "2025-10-05 20:31:26,041 alphafold2_ptm_model_2_seed_000 took 16.9s (3 recycles)\n",
            "2025-10-05 20:31:30,267 alphafold2_ptm_model_3_seed_000 recycle=0 pLDDT=81 pTM=0.445\n",
            "2025-10-05 20:31:34,478 alphafold2_ptm_model_3_seed_000 recycle=1 pLDDT=79.9 pTM=0.449 tol=0.542\n",
            "2025-10-05 20:31:38,675 alphafold2_ptm_model_3_seed_000 recycle=2 pLDDT=79.8 pTM=0.445 tol=0.148\n",
            "2025-10-05 20:31:42,862 alphafold2_ptm_model_3_seed_000 recycle=3 pLDDT=79.4 pTM=0.442 tol=0.0992\n",
            "2025-10-05 20:31:42,863 alphafold2_ptm_model_3_seed_000 took 16.8s (3 recycles)\n",
            "2025-10-05 20:31:47,053 alphafold2_ptm_model_4_seed_000 recycle=0 pLDDT=82.9 pTM=0.465\n",
            "2025-10-05 20:31:51,231 alphafold2_ptm_model_4_seed_000 recycle=1 pLDDT=82.7 pTM=0.471 tol=0.201\n",
            "2025-10-05 20:31:55,404 alphafold2_ptm_model_4_seed_000 recycle=2 pLDDT=82.7 pTM=0.47 tol=0.158\n",
            "2025-10-05 20:31:59,575 alphafold2_ptm_model_4_seed_000 recycle=3 pLDDT=82.4 pTM=0.467 tol=0.0432\n",
            "2025-10-05 20:31:59,575 alphafold2_ptm_model_4_seed_000 took 16.7s (3 recycles)\n",
            "2025-10-05 20:32:03,727 alphafold2_ptm_model_5_seed_000 recycle=0 pLDDT=79.3 pTM=0.439\n",
            "2025-10-05 20:32:07,885 alphafold2_ptm_model_5_seed_000 recycle=1 pLDDT=78.3 pTM=0.451 tol=0.635\n",
            "2025-10-05 20:32:12,043 alphafold2_ptm_model_5_seed_000 recycle=2 pLDDT=77.7 pTM=0.449 tol=0.343\n",
            "2025-10-05 20:32:16,199 alphafold2_ptm_model_5_seed_000 recycle=3 pLDDT=77.9 pTM=0.451 tol=0.577\n",
            "2025-10-05 20:32:16,200 alphafold2_ptm_model_5_seed_000 took 16.6s (3 recycles)\n",
            "2025-10-05 20:32:16,205 reranking models by 'plddt' metric\n",
            "2025-10-05 20:32:16,205 rank_001_alphafold2_ptm_model_4_seed_000 pLDDT=82.4 pTM=0.467\n",
            "2025-10-05 20:32:16,205 rank_002_alphafold2_ptm_model_3_seed_000 pLDDT=79.4 pTM=0.442\n",
            "2025-10-05 20:32:16,206 rank_003_alphafold2_ptm_model_1_seed_000 pLDDT=79.4 pTM=0.45\n",
            "2025-10-05 20:32:16,206 rank_004_alphafold2_ptm_model_5_seed_000 pLDDT=77.9 pTM=0.451\n",
            "2025-10-05 20:32:16,206 rank_005_alphafold2_ptm_model_2_seed_000 pLDDT=76.8 pTM=0.435\n",
            "2025-10-05 20:32:17,243 Query 77/200: seq_3_4bbb9 (length 42)\n"
          ]
        },
        {
          "output_type": "stream",
          "name": "stderr",
          "text": [
            "PENDING:   0%|          | 0/150 [elapsed: 00:00 remaining: ?]"
          ]
        },
        {
          "output_type": "stream",
          "name": "stdout",
          "text": [
            "2025-10-05 20:32:17,530 Sleeping for 6s. Reason: PENDING\n"
          ]
        },
        {
          "output_type": "stream",
          "name": "stderr",
          "text": [
            "COMPLETE: 100%|██████████| 150/150 [elapsed: 00:06 remaining: 00:00]\n"
          ]
        },
        {
          "output_type": "stream",
          "name": "stdout",
          "text": [
            "2025-10-05 20:32:24,056 Sequence 0 found no templates\n",
            "2025-10-05 20:32:26,191 Padding length to 45\n",
            "2025-10-05 20:32:30,522 alphafold2_ptm_model_1_seed_000 recycle=0 pLDDT=59.4 pTM=0.291\n",
            "2025-10-05 20:32:34,675 alphafold2_ptm_model_1_seed_000 recycle=1 pLDDT=58.3 pTM=0.294 tol=1.42\n",
            "2025-10-05 20:32:38,835 alphafold2_ptm_model_1_seed_000 recycle=2 pLDDT=58.9 pTM=0.306 tol=1.26\n",
            "2025-10-05 20:32:43,020 alphafold2_ptm_model_1_seed_000 recycle=3 pLDDT=60 pTM=0.313 tol=0.754\n",
            "2025-10-05 20:32:43,020 alphafold2_ptm_model_1_seed_000 took 16.8s (3 recycles)\n",
            "2025-10-05 20:32:47,227 alphafold2_ptm_model_2_seed_000 recycle=0 pLDDT=55.8 pTM=0.262\n",
            "2025-10-05 20:32:51,435 alphafold2_ptm_model_2_seed_000 recycle=1 pLDDT=55.7 pTM=0.265 tol=1.48\n",
            "2025-10-05 20:32:55,654 alphafold2_ptm_model_2_seed_000 recycle=2 pLDDT=55.4 pTM=0.267 tol=1.39\n",
            "2025-10-05 20:32:59,895 alphafold2_ptm_model_2_seed_000 recycle=3 pLDDT=55 pTM=0.259 tol=0.812\n",
            "2025-10-05 20:32:59,896 alphafold2_ptm_model_2_seed_000 took 16.9s (3 recycles)\n",
            "2025-10-05 20:33:04,118 alphafold2_ptm_model_3_seed_000 recycle=0 pLDDT=56.2 pTM=0.226\n",
            "2025-10-05 20:33:08,329 alphafold2_ptm_model_3_seed_000 recycle=1 pLDDT=57.2 pTM=0.263 tol=2.64\n",
            "2025-10-05 20:33:12,535 alphafold2_ptm_model_3_seed_000 recycle=2 pLDDT=58.8 pTM=0.28 tol=0.924\n",
            "2025-10-05 20:33:16,728 alphafold2_ptm_model_3_seed_000 recycle=3 pLDDT=59.6 pTM=0.281 tol=1.01\n",
            "2025-10-05 20:33:16,729 alphafold2_ptm_model_3_seed_000 took 16.8s (3 recycles)\n",
            "2025-10-05 20:33:20,901 alphafold2_ptm_model_4_seed_000 recycle=0 pLDDT=53.3 pTM=0.253\n",
            "2025-10-05 20:33:25,067 alphafold2_ptm_model_4_seed_000 recycle=1 pLDDT=53.2 pTM=0.26 tol=2.97\n",
            "2025-10-05 20:33:29,217 alphafold2_ptm_model_4_seed_000 recycle=2 pLDDT=53.4 pTM=0.269 tol=1.99\n",
            "2025-10-05 20:33:33,367 alphafold2_ptm_model_4_seed_000 recycle=3 pLDDT=54.4 pTM=0.268 tol=1.12\n",
            "2025-10-05 20:33:33,368 alphafold2_ptm_model_4_seed_000 took 16.6s (3 recycles)\n",
            "2025-10-05 20:33:37,516 alphafold2_ptm_model_5_seed_000 recycle=0 pLDDT=55.5 pTM=0.254\n",
            "2025-10-05 20:33:41,672 alphafold2_ptm_model_5_seed_000 recycle=1 pLDDT=54.2 pTM=0.254 tol=2.45\n",
            "2025-10-05 20:33:45,828 alphafold2_ptm_model_5_seed_000 recycle=2 pLDDT=54.1 pTM=0.252 tol=1.39\n",
            "2025-10-05 20:33:49,982 alphafold2_ptm_model_5_seed_000 recycle=3 pLDDT=54.2 pTM=0.251 tol=2.01\n",
            "2025-10-05 20:33:49,983 alphafold2_ptm_model_5_seed_000 took 16.6s (3 recycles)\n",
            "2025-10-05 20:33:49,988 reranking models by 'plddt' metric\n",
            "2025-10-05 20:33:49,988 rank_001_alphafold2_ptm_model_1_seed_000 pLDDT=60 pTM=0.313\n",
            "2025-10-05 20:33:49,989 rank_002_alphafold2_ptm_model_3_seed_000 pLDDT=59.6 pTM=0.281\n",
            "2025-10-05 20:33:49,989 rank_003_alphafold2_ptm_model_2_seed_000 pLDDT=55 pTM=0.259\n",
            "2025-10-05 20:33:49,989 rank_004_alphafold2_ptm_model_4_seed_000 pLDDT=54.4 pTM=0.268\n",
            "2025-10-05 20:33:49,989 rank_005_alphafold2_ptm_model_5_seed_000 pLDDT=54.2 pTM=0.251\n",
            "2025-10-05 20:33:50,989 Query 78/200: seq_9_81855 (length 42)\n"
          ]
        },
        {
          "output_type": "stream",
          "name": "stderr",
          "text": [
            "PENDING:   0%|          | 0/150 [elapsed: 00:00 remaining: ?]"
          ]
        },
        {
          "output_type": "stream",
          "name": "stdout",
          "text": [
            "2025-10-05 20:33:51,260 Sleeping for 8s. Reason: PENDING\n"
          ]
        },
        {
          "output_type": "stream",
          "name": "stderr",
          "text": [
            "COMPLETE: 100%|██████████| 150/150 [elapsed: 00:08 remaining: 00:00]\n"
          ]
        },
        {
          "output_type": "stream",
          "name": "stdout",
          "text": [
            "2025-10-05 20:33:59,824 Sequence 0 found no templates\n",
            "2025-10-05 20:34:02,019 Padding length to 45\n",
            "2025-10-05 20:34:06,345 alphafold2_ptm_model_1_seed_000 recycle=0 pLDDT=71.1 pTM=0.383\n",
            "2025-10-05 20:34:10,503 alphafold2_ptm_model_1_seed_000 recycle=1 pLDDT=70.5 pTM=0.385 tol=2.76\n",
            "2025-10-05 20:34:14,673 alphafold2_ptm_model_1_seed_000 recycle=2 pLDDT=71.6 pTM=0.392 tol=0.995\n",
            "2025-10-05 20:34:18,859 alphafold2_ptm_model_1_seed_000 recycle=3 pLDDT=72.2 pTM=0.394 tol=0.637\n",
            "2025-10-05 20:34:18,860 alphafold2_ptm_model_1_seed_000 took 16.8s (3 recycles)\n",
            "2025-10-05 20:34:23,073 alphafold2_ptm_model_2_seed_000 recycle=0 pLDDT=69.2 pTM=0.373\n",
            "2025-10-05 20:34:27,284 alphafold2_ptm_model_2_seed_000 recycle=1 pLDDT=69.9 pTM=0.386 tol=0.907\n",
            "2025-10-05 20:34:31,515 alphafold2_ptm_model_2_seed_000 recycle=2 pLDDT=70.7 pTM=0.399 tol=0.366\n",
            "2025-10-05 20:34:35,764 alphafold2_ptm_model_2_seed_000 recycle=3 pLDDT=69.9 pTM=0.391 tol=0.312\n",
            "2025-10-05 20:34:35,765 alphafold2_ptm_model_2_seed_000 took 16.9s (3 recycles)\n",
            "2025-10-05 20:34:39,989 alphafold2_ptm_model_3_seed_000 recycle=0 pLDDT=76.1 pTM=0.391\n",
            "2025-10-05 20:34:44,209 alphafold2_ptm_model_3_seed_000 recycle=1 pLDDT=76.9 pTM=0.396 tol=1.07\n",
            "2025-10-05 20:34:48,413 alphafold2_ptm_model_3_seed_000 recycle=2 pLDDT=77.6 pTM=0.403 tol=0.577\n",
            "2025-10-05 20:34:52,603 alphafold2_ptm_model_3_seed_000 recycle=3 pLDDT=76.9 pTM=0.399 tol=0.361\n",
            "2025-10-05 20:34:52,603 alphafold2_ptm_model_3_seed_000 took 16.8s (3 recycles)\n",
            "2025-10-05 20:34:56,787 alphafold2_ptm_model_4_seed_000 recycle=0 pLDDT=71.6 pTM=0.373\n",
            "2025-10-05 20:35:00,965 alphafold2_ptm_model_4_seed_000 recycle=1 pLDDT=72.4 pTM=0.376 tol=0.449\n",
            "2025-10-05 20:35:05,138 alphafold2_ptm_model_4_seed_000 recycle=2 pLDDT=72.5 pTM=0.379 tol=0.67\n",
            "2025-10-05 20:35:09,304 alphafold2_ptm_model_4_seed_000 recycle=3 pLDDT=72.2 pTM=0.376 tol=0.513\n",
            "2025-10-05 20:35:09,305 alphafold2_ptm_model_4_seed_000 took 16.7s (3 recycles)\n",
            "2025-10-05 20:35:13,455 alphafold2_ptm_model_5_seed_000 recycle=0 pLDDT=73.5 pTM=0.386\n",
            "2025-10-05 20:35:17,611 alphafold2_ptm_model_5_seed_000 recycle=1 pLDDT=74.4 pTM=0.394 tol=0.394\n",
            "2025-10-05 20:35:21,767 alphafold2_ptm_model_5_seed_000 recycle=2 pLDDT=74.9 pTM=0.397 tol=0.326\n",
            "2025-10-05 20:35:25,920 alphafold2_ptm_model_5_seed_000 recycle=3 pLDDT=74.1 pTM=0.389 tol=0.0985\n",
            "2025-10-05 20:35:25,921 alphafold2_ptm_model_5_seed_000 took 16.6s (3 recycles)\n",
            "2025-10-05 20:35:25,926 reranking models by 'plddt' metric\n",
            "2025-10-05 20:35:25,926 rank_001_alphafold2_ptm_model_3_seed_000 pLDDT=76.9 pTM=0.399\n",
            "2025-10-05 20:35:25,926 rank_002_alphafold2_ptm_model_5_seed_000 pLDDT=74.1 pTM=0.389\n",
            "2025-10-05 20:35:25,926 rank_003_alphafold2_ptm_model_4_seed_000 pLDDT=72.2 pTM=0.376\n",
            "2025-10-05 20:35:25,927 rank_004_alphafold2_ptm_model_1_seed_000 pLDDT=72.2 pTM=0.394\n",
            "2025-10-05 20:35:25,927 rank_005_alphafold2_ptm_model_2_seed_000 pLDDT=69.9 pTM=0.391\n",
            "2025-10-05 20:35:26,937 Query 79/200: seq_18_8972e (length 42)\n"
          ]
        },
        {
          "output_type": "stream",
          "name": "stderr",
          "text": [
            "PENDING:   0%|          | 0/150 [elapsed: 00:00 remaining: ?]"
          ]
        },
        {
          "output_type": "stream",
          "name": "stdout",
          "text": [
            "2025-10-05 20:35:27,210 Sleeping for 9s. Reason: PENDING\n"
          ]
        },
        {
          "output_type": "stream",
          "name": "stderr",
          "text": [
            "COMPLETE: 100%|██████████| 150/150 [elapsed: 00:09 remaining: 00:00]\n"
          ]
        },
        {
          "output_type": "stream",
          "name": "stdout",
          "text": [
            "2025-10-05 20:35:36,739 Sequence 0 found no templates\n",
            "2025-10-05 20:35:38,863 Padding length to 45\n",
            "2025-10-05 20:35:43,159 alphafold2_ptm_model_1_seed_000 recycle=0 pLDDT=65.2 pTM=0.349\n",
            "2025-10-05 20:35:47,312 alphafold2_ptm_model_1_seed_000 recycle=1 pLDDT=62.6 pTM=0.354 tol=2.74\n",
            "2025-10-05 20:35:51,482 alphafold2_ptm_model_1_seed_000 recycle=2 pLDDT=62.1 pTM=0.353 tol=2.31\n",
            "2025-10-05 20:35:55,675 alphafold2_ptm_model_1_seed_000 recycle=3 pLDDT=63.1 pTM=0.359 tol=0.726\n",
            "2025-10-05 20:35:55,676 alphafold2_ptm_model_1_seed_000 took 16.8s (3 recycles)\n",
            "2025-10-05 20:35:59,888 alphafold2_ptm_model_2_seed_000 recycle=0 pLDDT=60.1 pTM=0.315\n",
            "2025-10-05 20:36:04,086 alphafold2_ptm_model_2_seed_000 recycle=1 pLDDT=59.3 pTM=0.318 tol=1.96\n",
            "2025-10-05 20:36:08,296 alphafold2_ptm_model_2_seed_000 recycle=2 pLDDT=58.9 pTM=0.318 tol=1.25\n",
            "2025-10-05 20:36:12,526 alphafold2_ptm_model_2_seed_000 recycle=3 pLDDT=59.4 pTM=0.327 tol=1.97\n",
            "2025-10-05 20:36:12,527 alphafold2_ptm_model_2_seed_000 took 16.8s (3 recycles)\n",
            "2025-10-05 20:36:16,754 alphafold2_ptm_model_3_seed_000 recycle=0 pLDDT=61.1 pTM=0.306\n",
            "2025-10-05 20:36:20,977 alphafold2_ptm_model_3_seed_000 recycle=1 pLDDT=62.2 pTM=0.317 tol=1.53\n",
            "2025-10-05 20:36:25,180 alphafold2_ptm_model_3_seed_000 recycle=2 pLDDT=62.4 pTM=0.32 tol=1.33\n",
            "2025-10-05 20:36:29,374 alphafold2_ptm_model_3_seed_000 recycle=3 pLDDT=63 pTM=0.327 tol=0.575\n",
            "2025-10-05 20:36:29,375 alphafold2_ptm_model_3_seed_000 took 16.8s (3 recycles)\n",
            "2025-10-05 20:36:33,541 alphafold2_ptm_model_4_seed_000 recycle=0 pLDDT=57.9 pTM=0.315\n",
            "2025-10-05 20:36:37,701 alphafold2_ptm_model_4_seed_000 recycle=1 pLDDT=59.2 pTM=0.332 tol=2.76\n",
            "2025-10-05 20:36:41,851 alphafold2_ptm_model_4_seed_000 recycle=2 pLDDT=60.1 pTM=0.332 tol=1.13\n",
            "2025-10-05 20:36:46,000 alphafold2_ptm_model_4_seed_000 recycle=3 pLDDT=61.2 pTM=0.34 tol=0.622\n",
            "2025-10-05 20:36:46,001 alphafold2_ptm_model_4_seed_000 took 16.6s (3 recycles)\n",
            "2025-10-05 20:36:50,145 alphafold2_ptm_model_5_seed_000 recycle=0 pLDDT=58.7 pTM=0.319\n",
            "2025-10-05 20:36:54,299 alphafold2_ptm_model_5_seed_000 recycle=1 pLDDT=59.4 pTM=0.328 tol=1.21\n",
            "2025-10-05 20:36:58,455 alphafold2_ptm_model_5_seed_000 recycle=2 pLDDT=60.2 pTM=0.333 tol=1.04\n",
            "2025-10-05 20:37:02,609 alphafold2_ptm_model_5_seed_000 recycle=3 pLDDT=61.2 pTM=0.343 tol=0.509\n",
            "2025-10-05 20:37:02,609 alphafold2_ptm_model_5_seed_000 took 16.6s (3 recycles)\n",
            "2025-10-05 20:37:02,614 reranking models by 'plddt' metric\n",
            "2025-10-05 20:37:02,614 rank_001_alphafold2_ptm_model_1_seed_000 pLDDT=63.1 pTM=0.359\n",
            "2025-10-05 20:37:02,615 rank_002_alphafold2_ptm_model_3_seed_000 pLDDT=63 pTM=0.327\n",
            "2025-10-05 20:37:02,615 rank_003_alphafold2_ptm_model_5_seed_000 pLDDT=61.2 pTM=0.343\n",
            "2025-10-05 20:37:02,615 rank_004_alphafold2_ptm_model_4_seed_000 pLDDT=61.2 pTM=0.34\n",
            "2025-10-05 20:37:02,615 rank_005_alphafold2_ptm_model_2_seed_000 pLDDT=59.4 pTM=0.327\n",
            "2025-10-05 20:37:03,653 Query 80/200: seq_27_993a2 (length 42)\n"
          ]
        },
        {
          "output_type": "stream",
          "name": "stderr",
          "text": [
            "PENDING:   0%|          | 0/150 [elapsed: 00:00 remaining: ?]"
          ]
        },
        {
          "output_type": "stream",
          "name": "stdout",
          "text": [
            "2025-10-05 20:37:03,926 Sleeping for 5s. Reason: PENDING\n"
          ]
        },
        {
          "output_type": "stream",
          "name": "stderr",
          "text": [
            "RUNNING:   3%|▎         | 5/150 [elapsed: 00:05 remaining: 02:40]"
          ]
        },
        {
          "output_type": "stream",
          "name": "stdout",
          "text": [
            "2025-10-05 20:37:09,187 Sleeping for 10s. Reason: RUNNING\n"
          ]
        },
        {
          "output_type": "stream",
          "name": "stderr",
          "text": [
            "COMPLETE: 100%|██████████| 150/150 [elapsed: 00:16 remaining: 00:00]\n"
          ]
        },
        {
          "output_type": "stream",
          "name": "stdout",
          "text": [
            "2025-10-05 20:37:19,720 Sequence 0 found no templates\n",
            "2025-10-05 20:37:21,853 Padding length to 45\n",
            "2025-10-05 20:37:26,189 alphafold2_ptm_model_1_seed_000 recycle=0 pLDDT=60.7 pTM=0.328\n",
            "2025-10-05 20:37:30,368 alphafold2_ptm_model_1_seed_000 recycle=1 pLDDT=60.8 pTM=0.334 tol=1.48\n",
            "2025-10-05 20:37:34,559 alphafold2_ptm_model_1_seed_000 recycle=2 pLDDT=61 pTM=0.339 tol=0.5\n",
            "2025-10-05 20:37:38,769 alphafold2_ptm_model_1_seed_000 recycle=3 pLDDT=61.2 pTM=0.339 tol=0.346\n",
            "2025-10-05 20:37:38,770 alphafold2_ptm_model_1_seed_000 took 16.9s (3 recycles)\n",
            "2025-10-05 20:37:43,009 alphafold2_ptm_model_2_seed_000 recycle=0 pLDDT=58.9 pTM=0.306\n",
            "2025-10-05 20:37:47,250 alphafold2_ptm_model_2_seed_000 recycle=1 pLDDT=58.2 pTM=0.305 tol=1.03\n",
            "2025-10-05 20:37:51,503 alphafold2_ptm_model_2_seed_000 recycle=2 pLDDT=58.8 pTM=0.312 tol=0.344\n",
            "2025-10-05 20:37:55,776 alphafold2_ptm_model_2_seed_000 recycle=3 pLDDT=59.1 pTM=0.312 tol=0.385\n",
            "2025-10-05 20:37:55,777 alphafold2_ptm_model_2_seed_000 took 17.0s (3 recycles)\n",
            "2025-10-05 20:38:00,035 alphafold2_ptm_model_3_seed_000 recycle=0 pLDDT=58 pTM=0.282\n",
            "2025-10-05 20:38:04,279 alphafold2_ptm_model_3_seed_000 recycle=1 pLDDT=58.3 pTM=0.287 tol=0.938\n",
            "2025-10-05 20:38:08,507 alphafold2_ptm_model_3_seed_000 recycle=2 pLDDT=59.4 pTM=0.298 tol=0.612\n",
            "2025-10-05 20:38:12,725 alphafold2_ptm_model_3_seed_000 recycle=3 pLDDT=59.8 pTM=0.3 tol=0.228\n",
            "2025-10-05 20:38:12,726 alphafold2_ptm_model_3_seed_000 took 16.9s (3 recycles)\n",
            "2025-10-05 20:38:16,935 alphafold2_ptm_model_4_seed_000 recycle=0 pLDDT=57.5 pTM=0.301\n",
            "2025-10-05 20:38:21,135 alphafold2_ptm_model_4_seed_000 recycle=1 pLDDT=59.3 pTM=0.308 tol=1.7\n",
            "2025-10-05 20:38:25,328 alphafold2_ptm_model_4_seed_000 recycle=2 pLDDT=59.7 pTM=0.313 tol=1.23\n",
            "2025-10-05 20:38:29,518 alphafold2_ptm_model_4_seed_000 recycle=3 pLDDT=59.9 pTM=0.313 tol=1.15\n",
            "2025-10-05 20:38:29,519 alphafold2_ptm_model_4_seed_000 took 16.8s (3 recycles)\n",
            "2025-10-05 20:38:33,690 alphafold2_ptm_model_5_seed_000 recycle=0 pLDDT=57.6 pTM=0.324\n",
            "2025-10-05 20:38:37,867 alphafold2_ptm_model_5_seed_000 recycle=1 pLDDT=58 pTM=0.327 tol=1.51\n",
            "2025-10-05 20:38:42,046 alphafold2_ptm_model_5_seed_000 recycle=2 pLDDT=58.9 pTM=0.334 tol=1.06\n",
            "2025-10-05 20:38:46,224 alphafold2_ptm_model_5_seed_000 recycle=3 pLDDT=59.2 pTM=0.335 tol=1.27\n",
            "2025-10-05 20:38:46,224 alphafold2_ptm_model_5_seed_000 took 16.7s (3 recycles)\n",
            "2025-10-05 20:38:46,229 reranking models by 'plddt' metric\n",
            "2025-10-05 20:38:46,229 rank_001_alphafold2_ptm_model_1_seed_000 pLDDT=61.2 pTM=0.339\n",
            "2025-10-05 20:38:46,229 rank_002_alphafold2_ptm_model_4_seed_000 pLDDT=59.9 pTM=0.313\n",
            "2025-10-05 20:38:46,230 rank_003_alphafold2_ptm_model_3_seed_000 pLDDT=59.8 pTM=0.3\n",
            "2025-10-05 20:38:46,230 rank_004_alphafold2_ptm_model_5_seed_000 pLDDT=59.2 pTM=0.335\n",
            "2025-10-05 20:38:46,230 rank_005_alphafold2_ptm_model_2_seed_000 pLDDT=59.1 pTM=0.312\n",
            "2025-10-05 20:38:47,249 Query 81/200: seq_46_a83b0 (length 42)\n"
          ]
        },
        {
          "output_type": "stream",
          "name": "stderr",
          "text": [
            "PENDING:   0%|          | 0/150 [elapsed: 00:00 remaining: ?]"
          ]
        },
        {
          "output_type": "stream",
          "name": "stdout",
          "text": [
            "2025-10-05 20:38:47,513 Sleeping for 5s. Reason: PENDING\n"
          ]
        },
        {
          "output_type": "stream",
          "name": "stderr",
          "text": [
            "RUNNING:   3%|▎         | 5/150 [elapsed: 00:05 remaining: 02:40]"
          ]
        },
        {
          "output_type": "stream",
          "name": "stdout",
          "text": [
            "2025-10-05 20:38:52,781 Sleeping for 9s. Reason: RUNNING\n"
          ]
        },
        {
          "output_type": "stream",
          "name": "stderr",
          "text": [
            "COMPLETE: 100%|██████████| 150/150 [elapsed: 00:15 remaining: 00:00]\n"
          ]
        },
        {
          "output_type": "stream",
          "name": "stdout",
          "text": [
            "2025-10-05 20:39:02,315 Sequence 0 found no templates\n",
            "2025-10-05 20:39:04,440 Padding length to 45\n",
            "2025-10-05 20:39:08,761 alphafold2_ptm_model_1_seed_000 recycle=0 pLDDT=78.9 pTM=0.358\n",
            "2025-10-05 20:39:12,929 alphafold2_ptm_model_1_seed_000 recycle=1 pLDDT=79.4 pTM=0.366 tol=0.672\n",
            "2025-10-05 20:39:17,106 alphafold2_ptm_model_1_seed_000 recycle=2 pLDDT=80.2 pTM=0.381 tol=0.483\n",
            "2025-10-05 20:39:21,297 alphafold2_ptm_model_1_seed_000 recycle=3 pLDDT=81 pTM=0.386 tol=0.345\n",
            "2025-10-05 20:39:21,298 alphafold2_ptm_model_1_seed_000 took 16.9s (3 recycles)\n",
            "2025-10-05 20:39:25,520 alphafold2_ptm_model_2_seed_000 recycle=0 pLDDT=74.4 pTM=0.347\n",
            "2025-10-05 20:39:29,738 alphafold2_ptm_model_2_seed_000 recycle=1 pLDDT=77.8 pTM=0.375 tol=1.46\n",
            "2025-10-05 20:39:33,980 alphafold2_ptm_model_2_seed_000 recycle=2 pLDDT=78.8 pTM=0.385 tol=0.44\n",
            "2025-10-05 20:39:38,241 alphafold2_ptm_model_2_seed_000 recycle=3 pLDDT=79.8 pTM=0.392 tol=0.199\n",
            "2025-10-05 20:39:38,242 alphafold2_ptm_model_2_seed_000 took 16.9s (3 recycles)\n",
            "2025-10-05 20:39:42,493 alphafold2_ptm_model_3_seed_000 recycle=0 pLDDT=78.4 pTM=0.352\n",
            "2025-10-05 20:39:46,734 alphafold2_ptm_model_3_seed_000 recycle=1 pLDDT=80 pTM=0.365 tol=3.66\n",
            "2025-10-05 20:39:50,960 alphafold2_ptm_model_3_seed_000 recycle=2 pLDDT=81.1 pTM=0.379 tol=0.274\n",
            "2025-10-05 20:39:55,167 alphafold2_ptm_model_3_seed_000 recycle=3 pLDDT=80.1 pTM=0.367 tol=0.798\n",
            "2025-10-05 20:39:55,168 alphafold2_ptm_model_3_seed_000 took 16.9s (3 recycles)\n",
            "2025-10-05 20:39:59,354 alphafold2_ptm_model_4_seed_000 recycle=0 pLDDT=79.8 pTM=0.375\n",
            "2025-10-05 20:40:03,531 alphafold2_ptm_model_4_seed_000 recycle=1 pLDDT=81.9 pTM=0.402 tol=0.896\n",
            "2025-10-05 20:40:07,705 alphafold2_ptm_model_4_seed_000 recycle=2 pLDDT=82.9 pTM=0.411 tol=0.674\n",
            "2025-10-05 20:40:11,872 alphafold2_ptm_model_4_seed_000 recycle=3 pLDDT=82.9 pTM=0.413 tol=0.387\n",
            "2025-10-05 20:40:11,873 alphafold2_ptm_model_4_seed_000 took 16.7s (3 recycles)\n",
            "2025-10-05 20:40:16,033 alphafold2_ptm_model_5_seed_000 recycle=0 pLDDT=75.6 pTM=0.343\n",
            "2025-10-05 20:40:20,199 alphafold2_ptm_model_5_seed_000 recycle=1 pLDDT=77.8 pTM=0.365 tol=0.492\n",
            "2025-10-05 20:40:24,365 alphafold2_ptm_model_5_seed_000 recycle=2 pLDDT=80.1 pTM=0.387 tol=0.316\n",
            "2025-10-05 20:40:28,533 alphafold2_ptm_model_5_seed_000 recycle=3 pLDDT=78.9 pTM=0.378 tol=0.174\n",
            "2025-10-05 20:40:28,533 alphafold2_ptm_model_5_seed_000 took 16.7s (3 recycles)\n",
            "2025-10-05 20:40:28,538 reranking models by 'plddt' metric\n",
            "2025-10-05 20:40:28,538 rank_001_alphafold2_ptm_model_4_seed_000 pLDDT=82.9 pTM=0.413\n",
            "2025-10-05 20:40:28,539 rank_002_alphafold2_ptm_model_1_seed_000 pLDDT=81 pTM=0.386\n",
            "2025-10-05 20:40:28,539 rank_003_alphafold2_ptm_model_3_seed_000 pLDDT=80.1 pTM=0.367\n",
            "2025-10-05 20:40:28,539 rank_004_alphafold2_ptm_model_2_seed_000 pLDDT=79.8 pTM=0.392\n",
            "2025-10-05 20:40:28,539 rank_005_alphafold2_ptm_model_5_seed_000 pLDDT=78.9 pTM=0.378\n",
            "2025-10-05 20:40:29,588 Query 82/200: seq_47_1c858 (length 42)\n"
          ]
        },
        {
          "output_type": "stream",
          "name": "stderr",
          "text": [
            "PENDING:   0%|          | 0/150 [elapsed: 00:00 remaining: ?]"
          ]
        },
        {
          "output_type": "stream",
          "name": "stdout",
          "text": [
            "2025-10-05 20:40:29,875 Sleeping for 5s. Reason: PENDING\n"
          ]
        },
        {
          "output_type": "stream",
          "name": "stderr",
          "text": [
            "COMPLETE: 100%|██████████| 150/150 [elapsed: 00:05 remaining: 00:00]\n"
          ]
        },
        {
          "output_type": "stream",
          "name": "stdout",
          "text": [
            "2025-10-05 20:40:35,417 Sequence 0 found no templates\n",
            "2025-10-05 20:40:37,570 Padding length to 45\n",
            "2025-10-05 20:40:41,861 alphafold2_ptm_model_1_seed_000 recycle=0 pLDDT=61.9 pTM=0.268\n",
            "2025-10-05 20:40:46,019 alphafold2_ptm_model_1_seed_000 recycle=1 pLDDT=64.8 pTM=0.299 tol=0.923\n",
            "2025-10-05 20:40:50,179 alphafold2_ptm_model_1_seed_000 recycle=2 pLDDT=63.5 pTM=0.294 tol=0.796\n",
            "2025-10-05 20:40:54,366 alphafold2_ptm_model_1_seed_000 recycle=3 pLDDT=64.1 pTM=0.298 tol=0.266\n",
            "2025-10-05 20:40:54,367 alphafold2_ptm_model_1_seed_000 took 16.8s (3 recycles)\n",
            "2025-10-05 20:40:58,578 alphafold2_ptm_model_2_seed_000 recycle=0 pLDDT=61.4 pTM=0.251\n",
            "2025-10-05 20:41:02,787 alphafold2_ptm_model_2_seed_000 recycle=1 pLDDT=62 pTM=0.272 tol=2.1\n",
            "2025-10-05 20:41:07,012 alphafold2_ptm_model_2_seed_000 recycle=2 pLDDT=61 pTM=0.263 tol=0.49\n",
            "2025-10-05 20:41:11,257 alphafold2_ptm_model_2_seed_000 recycle=3 pLDDT=61.5 pTM=0.272 tol=0.83\n",
            "2025-10-05 20:41:11,258 alphafold2_ptm_model_2_seed_000 took 16.9s (3 recycles)\n",
            "2025-10-05 20:41:15,477 alphafold2_ptm_model_3_seed_000 recycle=0 pLDDT=60.7 pTM=0.199\n",
            "2025-10-05 20:41:19,694 alphafold2_ptm_model_3_seed_000 recycle=1 pLDDT=62 pTM=0.226 tol=1.79\n",
            "2025-10-05 20:41:23,891 alphafold2_ptm_model_3_seed_000 recycle=2 pLDDT=63.2 pTM=0.232 tol=0.982\n",
            "2025-10-05 20:41:28,076 alphafold2_ptm_model_3_seed_000 recycle=3 pLDDT=63.7 pTM=0.246 tol=0.482\n",
            "2025-10-05 20:41:28,077 alphafold2_ptm_model_3_seed_000 took 16.8s (3 recycles)\n",
            "2025-10-05 20:41:32,250 alphafold2_ptm_model_4_seed_000 recycle=0 pLDDT=58 pTM=0.187\n",
            "2025-10-05 20:41:36,421 alphafold2_ptm_model_4_seed_000 recycle=1 pLDDT=58.6 pTM=0.206 tol=1.02\n",
            "2025-10-05 20:41:40,584 alphafold2_ptm_model_4_seed_000 recycle=2 pLDDT=58.6 pTM=0.202 tol=0.349\n",
            "2025-10-05 20:41:44,747 alphafold2_ptm_model_4_seed_000 recycle=3 pLDDT=58.1 pTM=0.207 tol=0.525\n",
            "2025-10-05 20:41:44,748 alphafold2_ptm_model_4_seed_000 took 16.7s (3 recycles)\n",
            "2025-10-05 20:41:48,889 alphafold2_ptm_model_5_seed_000 recycle=0 pLDDT=61.9 pTM=0.214\n",
            "2025-10-05 20:41:53,039 alphafold2_ptm_model_5_seed_000 recycle=1 pLDDT=63.1 pTM=0.237 tol=0.637\n",
            "2025-10-05 20:41:57,189 alphafold2_ptm_model_5_seed_000 recycle=2 pLDDT=63.6 pTM=0.24 tol=0.202\n",
            "2025-10-05 20:42:01,341 alphafold2_ptm_model_5_seed_000 recycle=3 pLDDT=63.7 pTM=0.244 tol=0.203\n",
            "2025-10-05 20:42:01,342 alphafold2_ptm_model_5_seed_000 took 16.6s (3 recycles)\n",
            "2025-10-05 20:42:01,347 reranking models by 'plddt' metric\n",
            "2025-10-05 20:42:01,347 rank_001_alphafold2_ptm_model_1_seed_000 pLDDT=64.1 pTM=0.298\n",
            "2025-10-05 20:42:01,347 rank_002_alphafold2_ptm_model_5_seed_000 pLDDT=63.7 pTM=0.244\n",
            "2025-10-05 20:42:01,347 rank_003_alphafold2_ptm_model_3_seed_000 pLDDT=63.7 pTM=0.246\n",
            "2025-10-05 20:42:01,348 rank_004_alphafold2_ptm_model_2_seed_000 pLDDT=61.5 pTM=0.272\n",
            "2025-10-05 20:42:01,348 rank_005_alphafold2_ptm_model_4_seed_000 pLDDT=58.1 pTM=0.207\n",
            "2025-10-05 20:42:02,374 Query 83/200: seq_90_e3e06 (length 42)\n"
          ]
        },
        {
          "output_type": "stream",
          "name": "stderr",
          "text": [
            "PENDING:   0%|          | 0/150 [elapsed: 00:00 remaining: ?]"
          ]
        },
        {
          "output_type": "stream",
          "name": "stdout",
          "text": [
            "2025-10-05 20:42:02,646 Sleeping for 8s. Reason: PENDING\n"
          ]
        },
        {
          "output_type": "stream",
          "name": "stderr",
          "text": [
            "COMPLETE: 100%|██████████| 150/150 [elapsed: 00:08 remaining: 00:00]\n"
          ]
        },
        {
          "output_type": "stream",
          "name": "stdout",
          "text": [
            "2025-10-05 20:42:11,180 Sequence 0 found no templates\n",
            "2025-10-05 20:42:13,262 Padding length to 45\n",
            "2025-10-05 20:42:17,591 alphafold2_ptm_model_1_seed_000 recycle=0 pLDDT=91 pTM=0.476\n",
            "2025-10-05 20:42:21,744 alphafold2_ptm_model_1_seed_000 recycle=1 pLDDT=91 pTM=0.476 tol=0.153\n",
            "2025-10-05 20:42:25,915 alphafold2_ptm_model_1_seed_000 recycle=2 pLDDT=91.1 pTM=0.475 tol=0.0536\n",
            "2025-10-05 20:42:30,108 alphafold2_ptm_model_1_seed_000 recycle=3 pLDDT=91.2 pTM=0.483 tol=0.092\n",
            "2025-10-05 20:42:30,109 alphafold2_ptm_model_1_seed_000 took 16.8s (3 recycles)\n",
            "2025-10-05 20:42:34,325 alphafold2_ptm_model_2_seed_000 recycle=0 pLDDT=90.2 pTM=0.478\n",
            "2025-10-05 20:42:38,539 alphafold2_ptm_model_2_seed_000 recycle=1 pLDDT=88.6 pTM=0.474 tol=0.0977\n",
            "2025-10-05 20:42:42,771 alphafold2_ptm_model_2_seed_000 recycle=2 pLDDT=88.8 pTM=0.477 tol=0.104\n",
            "2025-10-05 20:42:47,010 alphafold2_ptm_model_2_seed_000 recycle=3 pLDDT=88.8 pTM=0.484 tol=0.0829\n",
            "2025-10-05 20:42:47,011 alphafold2_ptm_model_2_seed_000 took 16.9s (3 recycles)\n",
            "2025-10-05 20:42:51,240 alphafold2_ptm_model_3_seed_000 recycle=0 pLDDT=86.8 pTM=0.382\n",
            "2025-10-05 20:42:55,460 alphafold2_ptm_model_3_seed_000 recycle=1 pLDDT=90.2 pTM=0.425 tol=0.577\n",
            "2025-10-05 20:42:59,672 alphafold2_ptm_model_3_seed_000 recycle=2 pLDDT=90.6 pTM=0.445 tol=0.0618\n",
            "2025-10-05 20:43:03,875 alphafold2_ptm_model_3_seed_000 recycle=3 pLDDT=91.6 pTM=0.466 tol=0.0789\n",
            "2025-10-05 20:43:03,876 alphafold2_ptm_model_3_seed_000 took 16.9s (3 recycles)\n",
            "2025-10-05 20:43:08,056 alphafold2_ptm_model_4_seed_000 recycle=0 pLDDT=93.1 pTM=0.486\n",
            "2025-10-05 20:43:12,227 alphafold2_ptm_model_4_seed_000 recycle=1 pLDDT=92.8 pTM=0.473 tol=0.149\n",
            "2025-10-05 20:43:16,389 alphafold2_ptm_model_4_seed_000 recycle=2 pLDDT=93.2 pTM=0.48 tol=0.0664\n",
            "2025-10-05 20:43:20,549 alphafold2_ptm_model_4_seed_000 recycle=3 pLDDT=93.6 pTM=0.49 tol=0.04\n",
            "2025-10-05 20:43:20,550 alphafold2_ptm_model_4_seed_000 took 16.7s (3 recycles)\n",
            "2025-10-05 20:43:24,715 alphafold2_ptm_model_5_seed_000 recycle=0 pLDDT=94.5 pTM=0.501\n",
            "2025-10-05 20:43:28,878 alphafold2_ptm_model_5_seed_000 recycle=1 pLDDT=93.7 pTM=0.486 tol=0.169\n",
            "2025-10-05 20:43:33,047 alphafold2_ptm_model_5_seed_000 recycle=2 pLDDT=93.8 pTM=0.486 tol=0.044\n",
            "2025-10-05 20:43:37,211 alphafold2_ptm_model_5_seed_000 recycle=3 pLDDT=94.1 pTM=0.494 tol=0.0611\n",
            "2025-10-05 20:43:37,212 alphafold2_ptm_model_5_seed_000 took 16.7s (3 recycles)\n",
            "2025-10-05 20:43:37,217 reranking models by 'plddt' metric\n",
            "2025-10-05 20:43:37,217 rank_001_alphafold2_ptm_model_5_seed_000 pLDDT=94.1 pTM=0.494\n",
            "2025-10-05 20:43:37,217 rank_002_alphafold2_ptm_model_4_seed_000 pLDDT=93.6 pTM=0.49\n",
            "2025-10-05 20:43:37,217 rank_003_alphafold2_ptm_model_3_seed_000 pLDDT=91.6 pTM=0.466\n",
            "2025-10-05 20:43:37,217 rank_004_alphafold2_ptm_model_1_seed_000 pLDDT=91.2 pTM=0.483\n",
            "2025-10-05 20:43:37,217 rank_005_alphafold2_ptm_model_2_seed_000 pLDDT=88.8 pTM=0.484\n",
            "2025-10-05 20:43:38,178 Query 84/200: seq_148_c3f06 (length 42)\n"
          ]
        },
        {
          "output_type": "stream",
          "name": "stderr",
          "text": [
            "PENDING:   0%|          | 0/150 [elapsed: 00:00 remaining: ?]"
          ]
        },
        {
          "output_type": "stream",
          "name": "stdout",
          "text": [
            "2025-10-05 20:43:38,458 Sleeping for 10s. Reason: PENDING\n"
          ]
        },
        {
          "output_type": "stream",
          "name": "stderr",
          "text": [
            "COMPLETE: 100%|██████████| 150/150 [elapsed: 00:10 remaining: 00:00]\n"
          ]
        },
        {
          "output_type": "stream",
          "name": "stdout",
          "text": [
            "2025-10-05 20:43:48,996 Sequence 0 found no templates\n",
            "2025-10-05 20:43:51,210 Padding length to 45\n",
            "2025-10-05 20:43:55,536 alphafold2_ptm_model_1_seed_000 recycle=0 pLDDT=79.7 pTM=0.445\n",
            "2025-10-05 20:43:59,716 alphafold2_ptm_model_1_seed_000 recycle=1 pLDDT=79.8 pTM=0.437 tol=0.772\n",
            "2025-10-05 20:44:03,907 alphafold2_ptm_model_1_seed_000 recycle=2 pLDDT=80.3 pTM=0.441 tol=0.427\n",
            "2025-10-05 20:44:08,117 alphafold2_ptm_model_1_seed_000 recycle=3 pLDDT=79.8 pTM=0.439 tol=0.263\n",
            "2025-10-05 20:44:08,118 alphafold2_ptm_model_1_seed_000 took 16.9s (3 recycles)\n",
            "2025-10-05 20:44:12,363 alphafold2_ptm_model_2_seed_000 recycle=0 pLDDT=74.6 pTM=0.381\n",
            "2025-10-05 20:44:16,597 alphafold2_ptm_model_2_seed_000 recycle=1 pLDDT=73.6 pTM=0.37 tol=1.16\n",
            "2025-10-05 20:44:20,850 alphafold2_ptm_model_2_seed_000 recycle=2 pLDDT=73.4 pTM=0.372 tol=0.833\n",
            "2025-10-05 20:44:25,118 alphafold2_ptm_model_2_seed_000 recycle=3 pLDDT=73.9 pTM=0.375 tol=0.447\n",
            "2025-10-05 20:44:25,119 alphafold2_ptm_model_2_seed_000 took 17.0s (3 recycles)\n",
            "2025-10-05 20:44:29,375 alphafold2_ptm_model_3_seed_000 recycle=0 pLDDT=81.9 pTM=0.423\n",
            "2025-10-05 20:44:33,628 alphafold2_ptm_model_3_seed_000 recycle=1 pLDDT=82.2 pTM=0.426 tol=0.245\n",
            "2025-10-05 20:44:37,866 alphafold2_ptm_model_3_seed_000 recycle=2 pLDDT=82.6 pTM=0.427 tol=0.538\n",
            "2025-10-05 20:44:42,092 alphafold2_ptm_model_3_seed_000 recycle=3 pLDDT=82.5 pTM=0.425 tol=0.23\n",
            "2025-10-05 20:44:42,092 alphafold2_ptm_model_3_seed_000 took 17.0s (3 recycles)\n",
            "2025-10-05 20:44:46,310 alphafold2_ptm_model_4_seed_000 recycle=0 pLDDT=78.2 pTM=0.405\n",
            "2025-10-05 20:44:50,514 alphafold2_ptm_model_4_seed_000 recycle=1 pLDDT=78.8 pTM=0.399 tol=0.595\n",
            "2025-10-05 20:44:54,712 alphafold2_ptm_model_4_seed_000 recycle=2 pLDDT=79.9 pTM=0.407 tol=0.384\n",
            "2025-10-05 20:44:58,906 alphafold2_ptm_model_4_seed_000 recycle=3 pLDDT=79.6 pTM=0.404 tol=0.127\n",
            "2025-10-05 20:44:58,907 alphafold2_ptm_model_4_seed_000 took 16.8s (3 recycles)\n",
            "2025-10-05 20:45:03,078 alphafold2_ptm_model_5_seed_000 recycle=0 pLDDT=81.9 pTM=0.444\n",
            "2025-10-05 20:45:07,266 alphafold2_ptm_model_5_seed_000 recycle=1 pLDDT=82.4 pTM=0.443 tol=0.441\n",
            "2025-10-05 20:45:11,445 alphafold2_ptm_model_5_seed_000 recycle=2 pLDDT=82.8 pTM=0.448 tol=0.22\n",
            "2025-10-05 20:45:15,622 alphafold2_ptm_model_5_seed_000 recycle=3 pLDDT=82.4 pTM=0.447 tol=0.288\n",
            "2025-10-05 20:45:15,623 alphafold2_ptm_model_5_seed_000 took 16.7s (3 recycles)\n",
            "2025-10-05 20:45:15,628 reranking models by 'plddt' metric\n",
            "2025-10-05 20:45:15,628 rank_001_alphafold2_ptm_model_3_seed_000 pLDDT=82.5 pTM=0.425\n",
            "2025-10-05 20:45:15,629 rank_002_alphafold2_ptm_model_5_seed_000 pLDDT=82.4 pTM=0.447\n",
            "2025-10-05 20:45:15,629 rank_003_alphafold2_ptm_model_1_seed_000 pLDDT=79.8 pTM=0.439\n",
            "2025-10-05 20:45:15,629 rank_004_alphafold2_ptm_model_4_seed_000 pLDDT=79.6 pTM=0.404\n",
            "2025-10-05 20:45:15,629 rank_005_alphafold2_ptm_model_2_seed_000 pLDDT=73.9 pTM=0.375\n",
            "2025-10-05 20:45:16,617 Query 85/200: seq_193_1cb92 (length 42)\n"
          ]
        },
        {
          "output_type": "stream",
          "name": "stderr",
          "text": [
            "PENDING:   0%|          | 0/150 [elapsed: 00:00 remaining: ?]"
          ]
        },
        {
          "output_type": "stream",
          "name": "stdout",
          "text": [
            "2025-10-05 20:45:16,883 Sleeping for 7s. Reason: PENDING\n"
          ]
        },
        {
          "output_type": "stream",
          "name": "stderr",
          "text": [
            "COMPLETE: 100%|██████████| 150/150 [elapsed: 00:07 remaining: 00:00]\n"
          ]
        },
        {
          "output_type": "stream",
          "name": "stdout",
          "text": [
            "2025-10-05 20:45:24,399 Sequence 0 found no templates\n",
            "2025-10-05 20:45:26,470 Padding length to 45\n",
            "2025-10-05 20:45:30,770 alphafold2_ptm_model_1_seed_000 recycle=0 pLDDT=59.2 pTM=0.32\n",
            "2025-10-05 20:45:34,916 alphafold2_ptm_model_1_seed_000 recycle=1 pLDDT=55.5 pTM=0.312 tol=1.47\n",
            "2025-10-05 20:45:39,068 alphafold2_ptm_model_1_seed_000 recycle=2 pLDDT=50.5 pTM=0.296 tol=9.01\n",
            "2025-10-05 20:45:43,240 alphafold2_ptm_model_1_seed_000 recycle=3 pLDDT=49 pTM=0.286 tol=3.93\n",
            "2025-10-05 20:45:43,240 alphafold2_ptm_model_1_seed_000 took 16.8s (3 recycles)\n",
            "2025-10-05 20:45:47,437 alphafold2_ptm_model_2_seed_000 recycle=0 pLDDT=53.1 pTM=0.323\n",
            "2025-10-05 20:45:51,635 alphafold2_ptm_model_2_seed_000 recycle=1 pLDDT=49.3 pTM=0.303 tol=3.23\n",
            "2025-10-05 20:45:55,851 alphafold2_ptm_model_2_seed_000 recycle=2 pLDDT=45.3 pTM=0.269 tol=5.71\n",
            "2025-10-05 20:46:00,082 alphafold2_ptm_model_2_seed_000 recycle=3 pLDDT=44.9 pTM=0.258 tol=2.13\n",
            "2025-10-05 20:46:00,082 alphafold2_ptm_model_2_seed_000 took 16.8s (3 recycles)\n",
            "2025-10-05 20:46:04,302 alphafold2_ptm_model_3_seed_000 recycle=0 pLDDT=50.3 pTM=0.231\n",
            "2025-10-05 20:46:08,514 alphafold2_ptm_model_3_seed_000 recycle=1 pLDDT=42.8 pTM=0.166 tol=9.45\n",
            "2025-10-05 20:46:12,716 alphafold2_ptm_model_3_seed_000 recycle=2 pLDDT=44 pTM=0.145 tol=2.29\n",
            "2025-10-05 20:46:16,906 alphafold2_ptm_model_3_seed_000 recycle=3 pLDDT=44.6 pTM=0.152 tol=0.846\n",
            "2025-10-05 20:46:16,907 alphafold2_ptm_model_3_seed_000 took 16.8s (3 recycles)\n",
            "2025-10-05 20:46:21,070 alphafold2_ptm_model_4_seed_000 recycle=0 pLDDT=51.7 pTM=0.254\n",
            "2025-10-05 20:46:25,224 alphafold2_ptm_model_4_seed_000 recycle=1 pLDDT=46.7 pTM=0.237 tol=5.49\n",
            "2025-10-05 20:46:29,372 alphafold2_ptm_model_4_seed_000 recycle=2 pLDDT=45.1 pTM=0.197 tol=1.67\n",
            "2025-10-05 20:46:33,519 alphafold2_ptm_model_4_seed_000 recycle=3 pLDDT=44.4 pTM=0.18 tol=1.02\n",
            "2025-10-05 20:46:33,520 alphafold2_ptm_model_4_seed_000 took 16.6s (3 recycles)\n",
            "2025-10-05 20:46:37,666 alphafold2_ptm_model_5_seed_000 recycle=0 pLDDT=43.7 pTM=0.258\n",
            "2025-10-05 20:46:41,818 alphafold2_ptm_model_5_seed_000 recycle=1 pLDDT=42.8 pTM=0.237 tol=2.06\n",
            "2025-10-05 20:46:45,971 alphafold2_ptm_model_5_seed_000 recycle=2 pLDDT=42 pTM=0.229 tol=0.881\n",
            "2025-10-05 20:46:50,123 alphafold2_ptm_model_5_seed_000 recycle=3 pLDDT=41.8 pTM=0.221 tol=0.37\n",
            "2025-10-05 20:46:50,124 alphafold2_ptm_model_5_seed_000 took 16.6s (3 recycles)\n",
            "2025-10-05 20:46:50,129 reranking models by 'plddt' metric\n",
            "2025-10-05 20:46:50,129 rank_001_alphafold2_ptm_model_1_seed_000 pLDDT=49 pTM=0.286\n",
            "2025-10-05 20:46:50,129 rank_002_alphafold2_ptm_model_2_seed_000 pLDDT=44.9 pTM=0.258\n",
            "2025-10-05 20:46:50,129 rank_003_alphafold2_ptm_model_3_seed_000 pLDDT=44.6 pTM=0.152\n",
            "2025-10-05 20:46:50,129 rank_004_alphafold2_ptm_model_4_seed_000 pLDDT=44.4 pTM=0.18\n",
            "2025-10-05 20:46:50,130 rank_005_alphafold2_ptm_model_5_seed_000 pLDDT=41.8 pTM=0.221\n",
            "2025-10-05 20:46:51,118 Query 86/200: seq_199_94f42 (length 42)\n"
          ]
        },
        {
          "output_type": "stream",
          "name": "stderr",
          "text": [
            "PENDING:   0%|          | 0/150 [elapsed: 00:00 remaining: ?]"
          ]
        },
        {
          "output_type": "stream",
          "name": "stdout",
          "text": [
            "2025-10-05 20:46:51,392 Sleeping for 10s. Reason: PENDING\n"
          ]
        },
        {
          "output_type": "stream",
          "name": "stderr",
          "text": [
            "COMPLETE: 100%|██████████| 150/150 [elapsed: 00:10 remaining: 00:00]\n"
          ]
        },
        {
          "output_type": "stream",
          "name": "stdout",
          "text": [
            "2025-10-05 20:47:01,917 Sequence 0 found no templates\n",
            "2025-10-05 20:47:04,010 Padding length to 45\n",
            "2025-10-05 20:47:08,303 alphafold2_ptm_model_1_seed_000 recycle=0 pLDDT=87.4 pTM=0.529\n",
            "2025-10-05 20:47:12,458 alphafold2_ptm_model_1_seed_000 recycle=1 pLDDT=87.1 pTM=0.529 tol=0.11\n",
            "2025-10-05 20:47:16,633 alphafold2_ptm_model_1_seed_000 recycle=2 pLDDT=86.8 pTM=0.531 tol=0.0469\n",
            "2025-10-05 20:47:20,815 alphafold2_ptm_model_1_seed_000 recycle=3 pLDDT=87.6 pTM=0.537 tol=0.067\n",
            "2025-10-05 20:47:20,816 alphafold2_ptm_model_1_seed_000 took 16.8s (3 recycles)\n",
            "2025-10-05 20:47:25,032 alphafold2_ptm_model_2_seed_000 recycle=0 pLDDT=86 pTM=0.503\n",
            "2025-10-05 20:47:29,246 alphafold2_ptm_model_2_seed_000 recycle=1 pLDDT=85.9 pTM=0.51 tol=0.156\n",
            "2025-10-05 20:47:33,478 alphafold2_ptm_model_2_seed_000 recycle=2 pLDDT=85.8 pTM=0.516 tol=0.065\n",
            "2025-10-05 20:47:37,718 alphafold2_ptm_model_2_seed_000 recycle=3 pLDDT=86.8 pTM=0.523 tol=0.0721\n",
            "2025-10-05 20:47:37,719 alphafold2_ptm_model_2_seed_000 took 16.9s (3 recycles)\n",
            "2025-10-05 20:47:41,944 alphafold2_ptm_model_3_seed_000 recycle=0 pLDDT=88.5 pTM=0.505\n",
            "2025-10-05 20:47:46,168 alphafold2_ptm_model_3_seed_000 recycle=1 pLDDT=89.4 pTM=0.519 tol=0.0698\n",
            "2025-10-05 20:47:50,372 alphafold2_ptm_model_3_seed_000 recycle=2 pLDDT=89.6 pTM=0.527 tol=0.0816\n",
            "2025-10-05 20:47:54,568 alphafold2_ptm_model_3_seed_000 recycle=3 pLDDT=90.4 pTM=0.534 tol=0.0288\n",
            "2025-10-05 20:47:54,568 alphafold2_ptm_model_3_seed_000 took 16.8s (3 recycles)\n",
            "2025-10-05 20:47:58,765 alphafold2_ptm_model_4_seed_000 recycle=0 pLDDT=86.6 pTM=0.498\n",
            "2025-10-05 20:48:02,939 alphafold2_ptm_model_4_seed_000 recycle=1 pLDDT=87.6 pTM=0.513 tol=0.16\n",
            "2025-10-05 20:48:07,111 alphafold2_ptm_model_4_seed_000 recycle=2 pLDDT=87.8 pTM=0.515 tol=0.0654\n",
            "2025-10-05 20:48:11,281 alphafold2_ptm_model_4_seed_000 recycle=3 pLDDT=88.8 pTM=0.529 tol=0.0368\n",
            "2025-10-05 20:48:11,282 alphafold2_ptm_model_4_seed_000 took 16.7s (3 recycles)\n",
            "2025-10-05 20:48:15,427 alphafold2_ptm_model_5_seed_000 recycle=0 pLDDT=86.3 pTM=0.516\n",
            "2025-10-05 20:48:19,580 alphafold2_ptm_model_5_seed_000 recycle=1 pLDDT=86.4 pTM=0.519 tol=0.16\n",
            "2025-10-05 20:48:23,730 alphafold2_ptm_model_5_seed_000 recycle=2 pLDDT=87.1 pTM=0.527 tol=0.0621\n",
            "2025-10-05 20:48:27,882 alphafold2_ptm_model_5_seed_000 recycle=3 pLDDT=87.9 pTM=0.537 tol=0.0542\n",
            "2025-10-05 20:48:27,883 alphafold2_ptm_model_5_seed_000 took 16.6s (3 recycles)\n",
            "2025-10-05 20:48:27,887 reranking models by 'plddt' metric\n",
            "2025-10-05 20:48:27,888 rank_001_alphafold2_ptm_model_3_seed_000 pLDDT=90.4 pTM=0.534\n",
            "2025-10-05 20:48:27,888 rank_002_alphafold2_ptm_model_4_seed_000 pLDDT=88.8 pTM=0.529\n",
            "2025-10-05 20:48:27,888 rank_003_alphafold2_ptm_model_5_seed_000 pLDDT=87.9 pTM=0.537\n",
            "2025-10-05 20:48:27,888 rank_004_alphafold2_ptm_model_1_seed_000 pLDDT=87.6 pTM=0.537\n",
            "2025-10-05 20:48:27,888 rank_005_alphafold2_ptm_model_2_seed_000 pLDDT=86.8 pTM=0.523\n",
            "2025-10-05 20:48:31,609 Query 87/200: seq_7_5a0c8 (length 43)\n"
          ]
        },
        {
          "output_type": "stream",
          "name": "stderr",
          "text": [
            "PENDING:   0%|          | 0/150 [elapsed: 00:00 remaining: ?]"
          ]
        },
        {
          "output_type": "stream",
          "name": "stdout",
          "text": [
            "2025-10-05 20:48:31,882 Sleeping for 9s. Reason: PENDING\n"
          ]
        },
        {
          "output_type": "stream",
          "name": "stderr",
          "text": [
            "COMPLETE: 100%|██████████| 150/150 [elapsed: 00:10 remaining: 00:00]\n"
          ]
        },
        {
          "output_type": "stream",
          "name": "stdout",
          "text": [
            "2025-10-05 20:48:41,716 Sequence 0 found no templates\n",
            "2025-10-05 20:48:44,584 Padding length to 45\n",
            "2025-10-05 20:48:48,948 alphafold2_ptm_model_1_seed_000 recycle=0 pLDDT=71.9 pTM=0.358\n",
            "2025-10-05 20:48:53,172 alphafold2_ptm_model_1_seed_000 recycle=1 pLDDT=73.5 pTM=0.358 tol=1.01\n",
            "2025-10-05 20:48:57,415 alphafold2_ptm_model_1_seed_000 recycle=2 pLDDT=75.2 pTM=0.361 tol=0.428\n",
            "2025-10-05 20:49:01,680 alphafold2_ptm_model_1_seed_000 recycle=3 pLDDT=76.2 pTM=0.361 tol=0.327\n",
            "2025-10-05 20:49:01,681 alphafold2_ptm_model_1_seed_000 took 17.1s (3 recycles)\n",
            "2025-10-05 20:49:05,981 alphafold2_ptm_model_2_seed_000 recycle=0 pLDDT=68.4 pTM=0.341\n",
            "2025-10-05 20:49:10,277 alphafold2_ptm_model_2_seed_000 recycle=1 pLDDT=68 pTM=0.34 tol=0.62\n",
            "2025-10-05 20:49:14,584 alphafold2_ptm_model_2_seed_000 recycle=2 pLDDT=67.1 pTM=0.337 tol=1.14\n",
            "2025-10-05 20:49:18,916 alphafold2_ptm_model_2_seed_000 recycle=3 pLDDT=68.4 pTM=0.342 tol=0.249\n",
            "2025-10-05 20:49:18,917 alphafold2_ptm_model_2_seed_000 took 17.2s (3 recycles)\n",
            "2025-10-05 20:49:23,254 alphafold2_ptm_model_3_seed_000 recycle=0 pLDDT=77.8 pTM=0.357\n",
            "2025-10-05 20:49:27,570 alphafold2_ptm_model_3_seed_000 recycle=1 pLDDT=74.4 pTM=0.347 tol=0.827\n",
            "2025-10-05 20:49:31,871 alphafold2_ptm_model_3_seed_000 recycle=2 pLDDT=70.9 pTM=0.346 tol=5.08\n",
            "2025-10-05 20:49:36,154 alphafold2_ptm_model_3_seed_000 recycle=3 pLDDT=72.9 pTM=0.364 tol=1.78\n",
            "2025-10-05 20:49:36,154 alphafold2_ptm_model_3_seed_000 took 17.2s (3 recycles)\n",
            "2025-10-05 20:49:40,410 alphafold2_ptm_model_4_seed_000 recycle=0 pLDDT=82.1 pTM=0.39\n",
            "2025-10-05 20:49:44,658 alphafold2_ptm_model_4_seed_000 recycle=1 pLDDT=82.4 pTM=0.39 tol=0.634\n",
            "2025-10-05 20:49:48,902 alphafold2_ptm_model_4_seed_000 recycle=2 pLDDT=82.2 pTM=0.385 tol=0.49\n",
            "2025-10-05 20:49:53,142 alphafold2_ptm_model_4_seed_000 recycle=3 pLDDT=82.2 pTM=0.384 tol=0.155\n",
            "2025-10-05 20:49:53,142 alphafold2_ptm_model_4_seed_000 took 17.0s (3 recycles)\n",
            "2025-10-05 20:49:57,385 alphafold2_ptm_model_5_seed_000 recycle=0 pLDDT=77.5 pTM=0.386\n",
            "2025-10-05 20:50:01,627 alphafold2_ptm_model_5_seed_000 recycle=1 pLDDT=78 pTM=0.387 tol=0.384\n",
            "2025-10-05 20:50:05,866 alphafold2_ptm_model_5_seed_000 recycle=2 pLDDT=77.4 pTM=0.384 tol=0.215\n",
            "2025-10-05 20:50:10,107 alphafold2_ptm_model_5_seed_000 recycle=3 pLDDT=76.6 pTM=0.38 tol=0.129\n",
            "2025-10-05 20:50:10,107 alphafold2_ptm_model_5_seed_000 took 17.0s (3 recycles)\n",
            "2025-10-05 20:50:10,112 reranking models by 'plddt' metric\n",
            "2025-10-05 20:50:10,112 rank_001_alphafold2_ptm_model_4_seed_000 pLDDT=82.2 pTM=0.384\n",
            "2025-10-05 20:50:10,112 rank_002_alphafold2_ptm_model_5_seed_000 pLDDT=76.6 pTM=0.38\n",
            "2025-10-05 20:50:10,113 rank_003_alphafold2_ptm_model_1_seed_000 pLDDT=76.2 pTM=0.361\n",
            "2025-10-05 20:50:10,113 rank_004_alphafold2_ptm_model_3_seed_000 pLDDT=72.9 pTM=0.364\n",
            "2025-10-05 20:50:10,113 rank_005_alphafold2_ptm_model_2_seed_000 pLDDT=68.4 pTM=0.342\n",
            "2025-10-05 20:50:11,033 Query 88/200: seq_29_c4fbe (length 43)\n"
          ]
        },
        {
          "output_type": "stream",
          "name": "stderr",
          "text": [
            "PENDING:   0%|          | 0/150 [elapsed: 00:00 remaining: ?]"
          ]
        },
        {
          "output_type": "stream",
          "name": "stdout",
          "text": [
            "2025-10-05 20:50:11,309 Sleeping for 5s. Reason: PENDING\n"
          ]
        },
        {
          "output_type": "stream",
          "name": "stderr",
          "text": [
            "COMPLETE: 100%|██████████| 150/150 [elapsed: 00:05 remaining: 00:00]\n"
          ]
        },
        {
          "output_type": "stream",
          "name": "stdout",
          "text": [
            "2025-10-05 20:50:16,841 Sequence 0 found no templates\n",
            "2025-10-05 20:50:19,594 Padding length to 45\n",
            "2025-10-05 20:50:23,950 alphafold2_ptm_model_1_seed_000 recycle=0 pLDDT=78.5 pTM=0.443\n",
            "2025-10-05 20:50:28,142 alphafold2_ptm_model_1_seed_000 recycle=1 pLDDT=79.9 pTM=0.458 tol=0.758\n",
            "2025-10-05 20:50:32,352 alphafold2_ptm_model_1_seed_000 recycle=2 pLDDT=80.2 pTM=0.463 tol=0.696\n",
            "2025-10-05 20:50:36,576 alphafold2_ptm_model_1_seed_000 recycle=3 pLDDT=80.1 pTM=0.458 tol=0.614\n",
            "2025-10-05 20:50:36,577 alphafold2_ptm_model_1_seed_000 took 17.0s (3 recycles)\n",
            "2025-10-05 20:50:40,830 alphafold2_ptm_model_2_seed_000 recycle=0 pLDDT=77.1 pTM=0.416\n",
            "2025-10-05 20:50:45,088 alphafold2_ptm_model_2_seed_000 recycle=1 pLDDT=77.6 pTM=0.429 tol=1.01\n",
            "2025-10-05 20:50:49,363 alphafold2_ptm_model_2_seed_000 recycle=2 pLDDT=78 pTM=0.433 tol=0.235\n",
            "2025-10-05 20:50:53,654 alphafold2_ptm_model_2_seed_000 recycle=3 pLDDT=78 pTM=0.429 tol=0.354\n",
            "2025-10-05 20:50:53,655 alphafold2_ptm_model_2_seed_000 took 17.1s (3 recycles)\n",
            "2025-10-05 20:50:57,929 alphafold2_ptm_model_3_seed_000 recycle=0 pLDDT=78.8 pTM=0.396\n",
            "2025-10-05 20:51:02,186 alphafold2_ptm_model_3_seed_000 recycle=1 pLDDT=79.8 pTM=0.406 tol=0.481\n",
            "2025-10-05 20:51:06,434 alphafold2_ptm_model_3_seed_000 recycle=2 pLDDT=79.8 pTM=0.411 tol=0.347\n",
            "2025-10-05 20:51:10,665 alphafold2_ptm_model_3_seed_000 recycle=3 pLDDT=79.8 pTM=0.411 tol=0.352\n",
            "2025-10-05 20:51:10,666 alphafold2_ptm_model_3_seed_000 took 17.0s (3 recycles)\n",
            "2025-10-05 20:51:14,886 alphafold2_ptm_model_4_seed_000 recycle=0 pLDDT=80.6 pTM=0.421\n",
            "2025-10-05 20:51:19,100 alphafold2_ptm_model_4_seed_000 recycle=1 pLDDT=82.4 pTM=0.445 tol=0.428\n",
            "2025-10-05 20:51:23,309 alphafold2_ptm_model_4_seed_000 recycle=2 pLDDT=82.5 pTM=0.445 tol=0.732\n",
            "2025-10-05 20:51:27,513 alphafold2_ptm_model_4_seed_000 recycle=3 pLDDT=83 pTM=0.45 tol=0.295\n",
            "2025-10-05 20:51:27,514 alphafold2_ptm_model_4_seed_000 took 16.8s (3 recycles)\n",
            "2025-10-05 20:51:31,697 alphafold2_ptm_model_5_seed_000 recycle=0 pLDDT=81.1 pTM=0.456\n",
            "2025-10-05 20:51:35,891 alphafold2_ptm_model_5_seed_000 recycle=1 pLDDT=82.6 pTM=0.47 tol=0.405\n",
            "2025-10-05 20:51:40,084 alphafold2_ptm_model_5_seed_000 recycle=2 pLDDT=82.9 pTM=0.473 tol=0.404\n",
            "2025-10-05 20:51:44,280 alphafold2_ptm_model_5_seed_000 recycle=3 pLDDT=83.3 pTM=0.475 tol=0.303\n",
            "2025-10-05 20:51:44,281 alphafold2_ptm_model_5_seed_000 took 16.8s (3 recycles)\n",
            "2025-10-05 20:51:44,285 reranking models by 'plddt' metric\n",
            "2025-10-05 20:51:44,286 rank_001_alphafold2_ptm_model_5_seed_000 pLDDT=83.3 pTM=0.475\n",
            "2025-10-05 20:51:44,286 rank_002_alphafold2_ptm_model_4_seed_000 pLDDT=83 pTM=0.45\n",
            "2025-10-05 20:51:44,286 rank_003_alphafold2_ptm_model_1_seed_000 pLDDT=80.1 pTM=0.458\n",
            "2025-10-05 20:51:44,286 rank_004_alphafold2_ptm_model_3_seed_000 pLDDT=79.8 pTM=0.411\n",
            "2025-10-05 20:51:44,286 rank_005_alphafold2_ptm_model_2_seed_000 pLDDT=78 pTM=0.429\n",
            "2025-10-05 20:51:45,210 Query 89/200: seq_49_e8305 (length 43)\n"
          ]
        },
        {
          "output_type": "stream",
          "name": "stderr",
          "text": [
            "PENDING:   0%|          | 0/150 [elapsed: 00:00 remaining: ?]"
          ]
        },
        {
          "output_type": "stream",
          "name": "stdout",
          "text": [
            "2025-10-05 20:51:45,490 Sleeping for 5s. Reason: PENDING\n"
          ]
        },
        {
          "output_type": "stream",
          "name": "stderr",
          "text": [
            "RUNNING:   3%|▎         | 5/150 [elapsed: 00:05 remaining: 02:40]"
          ]
        },
        {
          "output_type": "stream",
          "name": "stdout",
          "text": [
            "2025-10-05 20:51:50,758 Sleeping for 5s. Reason: RUNNING\n"
          ]
        },
        {
          "output_type": "stream",
          "name": "stderr",
          "text": [
            "COMPLETE: 100%|██████████| 150/150 [elapsed: 00:11 remaining: 00:00]\n"
          ]
        },
        {
          "output_type": "stream",
          "name": "stdout",
          "text": [
            "2025-10-05 20:51:56,278 Sequence 0 found no templates\n",
            "2025-10-05 20:51:58,314 Padding length to 45\n",
            "2025-10-05 20:52:02,601 alphafold2_ptm_model_1_seed_000 recycle=0 pLDDT=64.7 pTM=0.309\n",
            "2025-10-05 20:52:06,754 alphafold2_ptm_model_1_seed_000 recycle=1 pLDDT=65.1 pTM=0.317 tol=1.31\n",
            "2025-10-05 20:52:10,921 alphafold2_ptm_model_1_seed_000 recycle=2 pLDDT=65.2 pTM=0.312 tol=0.461\n",
            "2025-10-05 20:52:15,102 alphafold2_ptm_model_1_seed_000 recycle=3 pLDDT=64.4 pTM=0.304 tol=0.465\n",
            "2025-10-05 20:52:15,102 alphafold2_ptm_model_1_seed_000 took 16.8s (3 recycles)\n",
            "2025-10-05 20:52:19,312 alphafold2_ptm_model_2_seed_000 recycle=0 pLDDT=61.1 pTM=0.283\n",
            "2025-10-05 20:52:23,514 alphafold2_ptm_model_2_seed_000 recycle=1 pLDDT=61.6 pTM=0.282 tol=0.661\n",
            "2025-10-05 20:52:27,733 alphafold2_ptm_model_2_seed_000 recycle=2 pLDDT=61.2 pTM=0.271 tol=0.932\n",
            "2025-10-05 20:52:31,968 alphafold2_ptm_model_2_seed_000 recycle=3 pLDDT=61 pTM=0.267 tol=0.451\n",
            "2025-10-05 20:52:31,969 alphafold2_ptm_model_2_seed_000 took 16.9s (3 recycles)\n",
            "2025-10-05 20:52:36,190 alphafold2_ptm_model_3_seed_000 recycle=0 pLDDT=63.1 pTM=0.271\n",
            "2025-10-05 20:52:40,409 alphafold2_ptm_model_3_seed_000 recycle=1 pLDDT=61.8 pTM=0.27 tol=3.72\n",
            "2025-10-05 20:52:44,612 alphafold2_ptm_model_3_seed_000 recycle=2 pLDDT=63.3 pTM=0.26 tol=1.29\n",
            "2025-10-05 20:52:48,800 alphafold2_ptm_model_3_seed_000 recycle=3 pLDDT=61.5 pTM=0.259 tol=0.871\n",
            "2025-10-05 20:52:48,800 alphafold2_ptm_model_3_seed_000 took 16.8s (3 recycles)\n",
            "2025-10-05 20:52:52,963 alphafold2_ptm_model_4_seed_000 recycle=0 pLDDT=61 pTM=0.242\n",
            "2025-10-05 20:52:57,123 alphafold2_ptm_model_4_seed_000 recycle=1 pLDDT=63.7 pTM=0.258 tol=1.25\n",
            "2025-10-05 20:53:01,280 alphafold2_ptm_model_4_seed_000 recycle=2 pLDDT=63.6 pTM=0.249 tol=0.59\n",
            "2025-10-05 20:53:05,433 alphafold2_ptm_model_4_seed_000 recycle=3 pLDDT=62.9 pTM=0.235 tol=0.192\n",
            "2025-10-05 20:53:05,433 alphafold2_ptm_model_4_seed_000 took 16.6s (3 recycles)\n",
            "2025-10-05 20:53:09,582 alphafold2_ptm_model_5_seed_000 recycle=0 pLDDT=60.2 pTM=0.276\n",
            "2025-10-05 20:53:13,737 alphafold2_ptm_model_5_seed_000 recycle=1 pLDDT=63.2 pTM=0.284 tol=0.75\n",
            "2025-10-05 20:53:17,890 alphafold2_ptm_model_5_seed_000 recycle=2 pLDDT=62.9 pTM=0.276 tol=0.351\n",
            "2025-10-05 20:53:22,048 alphafold2_ptm_model_5_seed_000 recycle=3 pLDDT=61.3 pTM=0.26 tol=0.297\n",
            "2025-10-05 20:53:22,048 alphafold2_ptm_model_5_seed_000 took 16.6s (3 recycles)\n",
            "2025-10-05 20:53:22,053 reranking models by 'plddt' metric\n",
            "2025-10-05 20:53:22,053 rank_001_alphafold2_ptm_model_1_seed_000 pLDDT=64.4 pTM=0.304\n",
            "2025-10-05 20:53:22,053 rank_002_alphafold2_ptm_model_4_seed_000 pLDDT=62.9 pTM=0.235\n",
            "2025-10-05 20:53:22,054 rank_003_alphafold2_ptm_model_3_seed_000 pLDDT=61.5 pTM=0.259\n",
            "2025-10-05 20:53:22,054 rank_004_alphafold2_ptm_model_5_seed_000 pLDDT=61.3 pTM=0.26\n",
            "2025-10-05 20:53:22,054 rank_005_alphafold2_ptm_model_2_seed_000 pLDDT=61 pTM=0.267\n",
            "2025-10-05 20:53:22,980 Query 90/200: seq_74_da296 (length 43)\n"
          ]
        },
        {
          "output_type": "stream",
          "name": "stderr",
          "text": [
            "PENDING:   0%|          | 0/150 [elapsed: 00:00 remaining: ?]"
          ]
        },
        {
          "output_type": "stream",
          "name": "stdout",
          "text": [
            "2025-10-05 20:53:23,260 Sleeping for 9s. Reason: PENDING\n"
          ]
        },
        {
          "output_type": "stream",
          "name": "stderr",
          "text": [
            "COMPLETE: 100%|██████████| 150/150 [elapsed: 00:09 remaining: 00:00]\n"
          ]
        },
        {
          "output_type": "stream",
          "name": "stdout",
          "text": [
            "2025-10-05 20:53:32,786 Sequence 0 found no templates\n",
            "2025-10-05 20:53:35,020 Padding length to 45\n",
            "2025-10-05 20:53:39,357 alphafold2_ptm_model_1_seed_000 recycle=0 pLDDT=59.8 pTM=0.248\n",
            "2025-10-05 20:53:43,525 alphafold2_ptm_model_1_seed_000 recycle=1 pLDDT=59.9 pTM=0.235 tol=1.38\n",
            "2025-10-05 20:53:47,702 alphafold2_ptm_model_1_seed_000 recycle=2 pLDDT=59.4 pTM=0.226 tol=1.4\n",
            "2025-10-05 20:53:51,902 alphafold2_ptm_model_1_seed_000 recycle=3 pLDDT=59.2 pTM=0.222 tol=0.753\n",
            "2025-10-05 20:53:51,903 alphafold2_ptm_model_1_seed_000 took 16.9s (3 recycles)\n",
            "2025-10-05 20:53:56,125 alphafold2_ptm_model_2_seed_000 recycle=0 pLDDT=59.6 pTM=0.248\n",
            "2025-10-05 20:54:00,352 alphafold2_ptm_model_2_seed_000 recycle=1 pLDDT=59.6 pTM=0.247 tol=0.956\n",
            "2025-10-05 20:54:04,606 alphafold2_ptm_model_2_seed_000 recycle=2 pLDDT=59.6 pTM=0.249 tol=1.33\n",
            "2025-10-05 20:54:08,863 alphafold2_ptm_model_2_seed_000 recycle=3 pLDDT=59.6 pTM=0.247 tol=1.47\n",
            "2025-10-05 20:54:08,863 alphafold2_ptm_model_2_seed_000 took 17.0s (3 recycles)\n",
            "2025-10-05 20:54:13,099 alphafold2_ptm_model_3_seed_000 recycle=0 pLDDT=58.5 pTM=0.177\n",
            "2025-10-05 20:54:17,322 alphafold2_ptm_model_3_seed_000 recycle=1 pLDDT=57.9 pTM=0.173 tol=2.38\n",
            "2025-10-05 20:54:21,530 alphafold2_ptm_model_3_seed_000 recycle=2 pLDDT=57.9 pTM=0.173 tol=1.25\n",
            "2025-10-05 20:54:25,729 alphafold2_ptm_model_3_seed_000 recycle=3 pLDDT=57.9 pTM=0.172 tol=0.322\n",
            "2025-10-05 20:54:25,729 alphafold2_ptm_model_3_seed_000 took 16.9s (3 recycles)\n",
            "2025-10-05 20:54:29,910 alphafold2_ptm_model_4_seed_000 recycle=0 pLDDT=59.5 pTM=0.212\n",
            "2025-10-05 20:54:34,090 alphafold2_ptm_model_4_seed_000 recycle=1 pLDDT=60.6 pTM=0.218 tol=1.17\n",
            "2025-10-05 20:54:38,261 alphafold2_ptm_model_4_seed_000 recycle=2 pLDDT=60.7 pTM=0.218 tol=0.567\n",
            "2025-10-05 20:54:42,428 alphafold2_ptm_model_4_seed_000 recycle=3 pLDDT=60.3 pTM=0.221 tol=0.976\n",
            "2025-10-05 20:54:42,429 alphafold2_ptm_model_4_seed_000 took 16.7s (3 recycles)\n",
            "2025-10-05 20:54:46,578 alphafold2_ptm_model_5_seed_000 recycle=0 pLDDT=61.8 pTM=0.256\n",
            "2025-10-05 20:54:50,735 alphafold2_ptm_model_5_seed_000 recycle=1 pLDDT=60.2 pTM=0.227 tol=1.3\n",
            "2025-10-05 20:54:54,889 alphafold2_ptm_model_5_seed_000 recycle=2 pLDDT=59.4 pTM=0.206 tol=0.626\n",
            "2025-10-05 20:54:59,044 alphafold2_ptm_model_5_seed_000 recycle=3 pLDDT=58.4 pTM=0.2 tol=1.5\n",
            "2025-10-05 20:54:59,045 alphafold2_ptm_model_5_seed_000 took 16.6s (3 recycles)\n",
            "2025-10-05 20:54:59,051 reranking models by 'plddt' metric\n",
            "2025-10-05 20:54:59,051 rank_001_alphafold2_ptm_model_4_seed_000 pLDDT=60.3 pTM=0.221\n",
            "2025-10-05 20:54:59,052 rank_002_alphafold2_ptm_model_2_seed_000 pLDDT=59.6 pTM=0.247\n",
            "2025-10-05 20:54:59,052 rank_003_alphafold2_ptm_model_1_seed_000 pLDDT=59.2 pTM=0.222\n",
            "2025-10-05 20:54:59,052 rank_004_alphafold2_ptm_model_5_seed_000 pLDDT=58.4 pTM=0.2\n",
            "2025-10-05 20:54:59,052 rank_005_alphafold2_ptm_model_3_seed_000 pLDDT=57.9 pTM=0.172\n",
            "2025-10-05 20:55:00,058 Query 91/200: seq_123_b484a (length 43)\n"
          ]
        },
        {
          "output_type": "stream",
          "name": "stderr",
          "text": [
            "PENDING:   0%|          | 0/150 [elapsed: 00:00 remaining: ?]"
          ]
        },
        {
          "output_type": "stream",
          "name": "stdout",
          "text": [
            "2025-10-05 20:55:00,332 Sleeping for 8s. Reason: PENDING\n"
          ]
        },
        {
          "output_type": "stream",
          "name": "stderr",
          "text": [
            "COMPLETE: 100%|██████████| 150/150 [elapsed: 00:09 remaining: 00:00]\n"
          ]
        },
        {
          "output_type": "stream",
          "name": "stdout",
          "text": [
            "2025-10-05 20:55:09,151 Sequence 0 found no templates\n",
            "2025-10-05 20:55:11,827 Padding length to 45\n",
            "2025-10-05 20:55:16,225 alphafold2_ptm_model_1_seed_000 recycle=0 pLDDT=66.2 pTM=0.318\n",
            "2025-10-05 20:55:20,453 alphafold2_ptm_model_1_seed_000 recycle=1 pLDDT=67.8 pTM=0.329 tol=3.01\n",
            "2025-10-05 20:55:24,693 alphafold2_ptm_model_1_seed_000 recycle=2 pLDDT=66.6 pTM=0.331 tol=2.86\n",
            "2025-10-05 20:55:28,960 alphafold2_ptm_model_1_seed_000 recycle=3 pLDDT=67.6 pTM=0.33 tol=1.43\n",
            "2025-10-05 20:55:28,961 alphafold2_ptm_model_1_seed_000 took 17.1s (3 recycles)\n",
            "2025-10-05 20:55:33,257 alphafold2_ptm_model_2_seed_000 recycle=0 pLDDT=65.1 pTM=0.321\n",
            "2025-10-05 20:55:37,557 alphafold2_ptm_model_2_seed_000 recycle=1 pLDDT=62.1 pTM=0.325 tol=2.61\n",
            "2025-10-05 20:55:41,881 alphafold2_ptm_model_2_seed_000 recycle=2 pLDDT=60.1 pTM=0.328 tol=6.07\n",
            "2025-10-05 20:55:46,221 alphafold2_ptm_model_2_seed_000 recycle=3 pLDDT=61.8 pTM=0.345 tol=2.01\n",
            "2025-10-05 20:55:46,221 alphafold2_ptm_model_2_seed_000 took 17.3s (3 recycles)\n",
            "2025-10-05 20:55:50,545 alphafold2_ptm_model_3_seed_000 recycle=0 pLDDT=80.6 pTM=0.345\n",
            "2025-10-05 20:55:54,854 alphafold2_ptm_model_3_seed_000 recycle=1 pLDDT=78.3 pTM=0.337 tol=0.648\n",
            "2025-10-05 20:55:59,147 alphafold2_ptm_model_3_seed_000 recycle=2 pLDDT=75.9 pTM=0.331 tol=1.2\n",
            "2025-10-05 20:56:03,427 alphafold2_ptm_model_3_seed_000 recycle=3 pLDDT=73.3 pTM=0.324 tol=3.79\n",
            "2025-10-05 20:56:03,428 alphafold2_ptm_model_3_seed_000 took 17.2s (3 recycles)\n",
            "2025-10-05 20:56:07,680 alphafold2_ptm_model_4_seed_000 recycle=0 pLDDT=78 pTM=0.352\n",
            "2025-10-05 20:56:11,922 alphafold2_ptm_model_4_seed_000 recycle=1 pLDDT=83.1 pTM=0.366 tol=0.68\n",
            "2025-10-05 20:56:16,164 alphafold2_ptm_model_4_seed_000 recycle=2 pLDDT=82.7 pTM=0.365 tol=0.544\n",
            "2025-10-05 20:56:20,404 alphafold2_ptm_model_4_seed_000 recycle=3 pLDDT=82.3 pTM=0.362 tol=0.235\n",
            "2025-10-05 20:56:20,404 alphafold2_ptm_model_4_seed_000 took 17.0s (3 recycles)\n",
            "2025-10-05 20:56:24,641 alphafold2_ptm_model_5_seed_000 recycle=0 pLDDT=75 pTM=0.336\n",
            "2025-10-05 20:56:28,892 alphafold2_ptm_model_5_seed_000 recycle=1 pLDDT=75.8 pTM=0.349 tol=0.176\n",
            "2025-10-05 20:56:33,137 alphafold2_ptm_model_5_seed_000 recycle=2 pLDDT=76.3 pTM=0.348 tol=0.358\n",
            "2025-10-05 20:56:37,375 alphafold2_ptm_model_5_seed_000 recycle=3 pLDDT=75.8 pTM=0.346 tol=0.362\n",
            "2025-10-05 20:56:37,376 alphafold2_ptm_model_5_seed_000 took 17.0s (3 recycles)\n",
            "2025-10-05 20:56:37,382 reranking models by 'plddt' metric\n",
            "2025-10-05 20:56:37,382 rank_001_alphafold2_ptm_model_4_seed_000 pLDDT=82.3 pTM=0.362\n",
            "2025-10-05 20:56:37,382 rank_002_alphafold2_ptm_model_5_seed_000 pLDDT=75.8 pTM=0.346\n",
            "2025-10-05 20:56:37,382 rank_003_alphafold2_ptm_model_3_seed_000 pLDDT=73.3 pTM=0.324\n",
            "2025-10-05 20:56:37,383 rank_004_alphafold2_ptm_model_1_seed_000 pLDDT=67.6 pTM=0.33\n",
            "2025-10-05 20:56:37,383 rank_005_alphafold2_ptm_model_2_seed_000 pLDDT=61.8 pTM=0.345\n",
            "2025-10-05 20:56:38,443 Query 92/200: seq_147_515a7 (length 43)\n"
          ]
        },
        {
          "output_type": "stream",
          "name": "stderr",
          "text": [
            "PENDING:   0%|          | 0/150 [elapsed: 00:00 remaining: ?]"
          ]
        },
        {
          "output_type": "stream",
          "name": "stdout",
          "text": [
            "2025-10-05 20:56:38,739 Sleeping for 9s. Reason: PENDING\n"
          ]
        },
        {
          "output_type": "stream",
          "name": "stderr",
          "text": [
            "COMPLETE: 100%|██████████| 150/150 [elapsed: 00:09 remaining: 00:00]\n"
          ]
        },
        {
          "output_type": "stream",
          "name": "stdout",
          "text": [
            "2025-10-05 20:56:48,271 Sequence 0 found no templates\n",
            "2025-10-05 20:56:50,494 Padding length to 45\n",
            "2025-10-05 20:56:54,812 alphafold2_ptm_model_1_seed_000 recycle=0 pLDDT=83.1 pTM=0.445\n",
            "2025-10-05 20:56:58,960 alphafold2_ptm_model_1_seed_000 recycle=1 pLDDT=83.4 pTM=0.442 tol=0.111\n",
            "2025-10-05 20:57:03,126 alphafold2_ptm_model_1_seed_000 recycle=2 pLDDT=84.2 pTM=0.454 tol=0.0656\n",
            "2025-10-05 20:57:07,310 alphafold2_ptm_model_1_seed_000 recycle=3 pLDDT=84.4 pTM=0.451 tol=0.0613\n",
            "2025-10-05 20:57:07,310 alphafold2_ptm_model_1_seed_000 took 16.8s (3 recycles)\n",
            "2025-10-05 20:57:11,523 alphafold2_ptm_model_2_seed_000 recycle=0 pLDDT=79.1 pTM=0.426\n",
            "2025-10-05 20:57:15,741 alphafold2_ptm_model_2_seed_000 recycle=1 pLDDT=80.5 pTM=0.433 tol=0.184\n",
            "2025-10-05 20:57:19,983 alphafold2_ptm_model_2_seed_000 recycle=2 pLDDT=81.2 pTM=0.44 tol=0.0872\n",
            "2025-10-05 20:57:24,229 alphafold2_ptm_model_2_seed_000 recycle=3 pLDDT=81.6 pTM=0.441 tol=0.0472\n",
            "2025-10-05 20:57:24,229 alphafold2_ptm_model_2_seed_000 took 16.9s (3 recycles)\n",
            "2025-10-05 20:57:28,444 alphafold2_ptm_model_3_seed_000 recycle=0 pLDDT=85.4 pTM=0.445\n",
            "2025-10-05 20:57:32,658 alphafold2_ptm_model_3_seed_000 recycle=1 pLDDT=86.8 pTM=0.455 tol=0.224\n",
            "2025-10-05 20:57:36,852 alphafold2_ptm_model_3_seed_000 recycle=2 pLDDT=86.2 pTM=0.442 tol=0.0829\n",
            "2025-10-05 20:57:41,033 alphafold2_ptm_model_3_seed_000 recycle=3 pLDDT=86.1 pTM=0.447 tol=0.18\n",
            "2025-10-05 20:57:41,034 alphafold2_ptm_model_3_seed_000 took 16.8s (3 recycles)\n",
            "2025-10-05 20:57:45,207 alphafold2_ptm_model_4_seed_000 recycle=0 pLDDT=86.6 pTM=0.467\n",
            "2025-10-05 20:57:49,369 alphafold2_ptm_model_4_seed_000 recycle=1 pLDDT=87.6 pTM=0.483 tol=0.465\n",
            "2025-10-05 20:57:53,525 alphafold2_ptm_model_4_seed_000 recycle=2 pLDDT=88.6 pTM=0.493 tol=0.134\n",
            "2025-10-05 20:57:57,681 alphafold2_ptm_model_4_seed_000 recycle=3 pLDDT=87.9 pTM=0.487 tol=0.13\n",
            "2025-10-05 20:57:57,682 alphafold2_ptm_model_4_seed_000 took 16.6s (3 recycles)\n",
            "2025-10-05 20:58:01,820 alphafold2_ptm_model_5_seed_000 recycle=0 pLDDT=87.2 pTM=0.461\n",
            "2025-10-05 20:58:05,961 alphafold2_ptm_model_5_seed_000 recycle=1 pLDDT=89.4 pTM=0.489 tol=0.268\n",
            "2025-10-05 20:58:10,105 alphafold2_ptm_model_5_seed_000 recycle=2 pLDDT=90.8 pTM=0.501 tol=0.0555\n",
            "2025-10-05 20:58:14,251 alphafold2_ptm_model_5_seed_000 recycle=3 pLDDT=91.3 pTM=0.501 tol=0.0397\n",
            "2025-10-05 20:58:14,252 alphafold2_ptm_model_5_seed_000 took 16.6s (3 recycles)\n",
            "2025-10-05 20:58:14,257 reranking models by 'plddt' metric\n",
            "2025-10-05 20:58:14,257 rank_001_alphafold2_ptm_model_5_seed_000 pLDDT=91.3 pTM=0.501\n",
            "2025-10-05 20:58:14,257 rank_002_alphafold2_ptm_model_4_seed_000 pLDDT=87.9 pTM=0.487\n",
            "2025-10-05 20:58:14,258 rank_003_alphafold2_ptm_model_3_seed_000 pLDDT=86.1 pTM=0.447\n",
            "2025-10-05 20:58:14,258 rank_004_alphafold2_ptm_model_1_seed_000 pLDDT=84.4 pTM=0.451\n",
            "2025-10-05 20:58:14,258 rank_005_alphafold2_ptm_model_2_seed_000 pLDDT=81.6 pTM=0.441\n",
            "2025-10-05 20:58:15,306 Query 93/200: seq_167_d6b1f (length 43)\n"
          ]
        },
        {
          "output_type": "stream",
          "name": "stderr",
          "text": [
            "PENDING:   0%|          | 0/150 [elapsed: 00:00 remaining: ?]"
          ]
        },
        {
          "output_type": "stream",
          "name": "stdout",
          "text": [
            "2025-10-05 20:58:15,578 Sleeping for 10s. Reason: PENDING\n"
          ]
        },
        {
          "output_type": "stream",
          "name": "stderr",
          "text": [
            "COMPLETE: 100%|██████████| 150/150 [elapsed: 00:10 remaining: 00:00]\n"
          ]
        },
        {
          "output_type": "stream",
          "name": "stdout",
          "text": [
            "2025-10-05 20:58:26,113 Sequence 0 found no templates\n",
            "2025-10-05 20:58:29,341 Padding length to 45\n",
            "2025-10-05 20:58:33,699 alphafold2_ptm_model_1_seed_000 recycle=0 pLDDT=85.9 pTM=0.451\n",
            "2025-10-05 20:58:37,916 alphafold2_ptm_model_1_seed_000 recycle=1 pLDDT=85.2 pTM=0.455 tol=0.13\n",
            "2025-10-05 20:58:42,145 alphafold2_ptm_model_1_seed_000 recycle=2 pLDDT=84.8 pTM=0.453 tol=0.0415\n",
            "2025-10-05 20:58:46,394 alphafold2_ptm_model_1_seed_000 recycle=3 pLDDT=85.3 pTM=0.46 tol=0.0389\n",
            "2025-10-05 20:58:46,395 alphafold2_ptm_model_1_seed_000 took 17.1s (3 recycles)\n",
            "2025-10-05 20:58:50,675 alphafold2_ptm_model_2_seed_000 recycle=0 pLDDT=80.2 pTM=0.415\n",
            "2025-10-05 20:58:54,963 alphafold2_ptm_model_2_seed_000 recycle=1 pLDDT=80.3 pTM=0.42 tol=0.128\n",
            "2025-10-05 20:58:59,268 alphafold2_ptm_model_2_seed_000 recycle=2 pLDDT=78.7 pTM=0.411 tol=0.0912\n",
            "2025-10-05 20:59:03,582 alphafold2_ptm_model_2_seed_000 recycle=3 pLDDT=78.6 pTM=0.412 tol=0.0446\n",
            "2025-10-05 20:59:03,583 alphafold2_ptm_model_2_seed_000 took 17.2s (3 recycles)\n",
            "2025-10-05 20:59:07,880 alphafold2_ptm_model_3_seed_000 recycle=0 pLDDT=86 pTM=0.399\n",
            "2025-10-05 20:59:12,155 alphafold2_ptm_model_3_seed_000 recycle=1 pLDDT=86.2 pTM=0.409 tol=0.105\n",
            "2025-10-05 20:59:16,432 alphafold2_ptm_model_3_seed_000 recycle=2 pLDDT=85.5 pTM=0.4 tol=0.054\n",
            "2025-10-05 20:59:20,687 alphafold2_ptm_model_3_seed_000 recycle=3 pLDDT=86.2 pTM=0.409 tol=0.0331\n",
            "2025-10-05 20:59:20,688 alphafold2_ptm_model_3_seed_000 took 17.1s (3 recycles)\n",
            "2025-10-05 20:59:24,911 alphafold2_ptm_model_4_seed_000 recycle=0 pLDDT=84.5 pTM=0.407\n",
            "2025-10-05 20:59:29,132 alphafold2_ptm_model_4_seed_000 recycle=1 pLDDT=86.1 pTM=0.434 tol=0.241\n",
            "2025-10-05 20:59:33,346 alphafold2_ptm_model_4_seed_000 recycle=2 pLDDT=85.7 pTM=0.431 tol=0.0438\n",
            "2025-10-05 20:59:37,553 alphafold2_ptm_model_4_seed_000 recycle=3 pLDDT=86.1 pTM=0.435 tol=0.0311\n",
            "2025-10-05 20:59:37,554 alphafold2_ptm_model_4_seed_000 took 16.9s (3 recycles)\n",
            "2025-10-05 20:59:41,767 alphafold2_ptm_model_5_seed_000 recycle=0 pLDDT=84.9 pTM=0.415\n",
            "2025-10-05 20:59:45,993 alphafold2_ptm_model_5_seed_000 recycle=1 pLDDT=84.7 pTM=0.425 tol=0.138\n",
            "2025-10-05 20:59:50,215 alphafold2_ptm_model_5_seed_000 recycle=2 pLDDT=85 pTM=0.429 tol=0.037\n",
            "2025-10-05 20:59:54,438 alphafold2_ptm_model_5_seed_000 recycle=3 pLDDT=85.8 pTM=0.437 tol=0.0499\n",
            "2025-10-05 20:59:54,439 alphafold2_ptm_model_5_seed_000 took 16.9s (3 recycles)\n",
            "2025-10-05 20:59:54,444 reranking models by 'plddt' metric\n",
            "2025-10-05 20:59:54,444 rank_001_alphafold2_ptm_model_3_seed_000 pLDDT=86.2 pTM=0.409\n",
            "2025-10-05 20:59:54,444 rank_002_alphafold2_ptm_model_4_seed_000 pLDDT=86.1 pTM=0.435\n",
            "2025-10-05 20:59:54,445 rank_003_alphafold2_ptm_model_5_seed_000 pLDDT=85.8 pTM=0.437\n",
            "2025-10-05 20:59:54,445 rank_004_alphafold2_ptm_model_1_seed_000 pLDDT=85.3 pTM=0.46\n",
            "2025-10-05 20:59:54,445 rank_005_alphafold2_ptm_model_2_seed_000 pLDDT=78.6 pTM=0.412\n",
            "2025-10-05 20:59:55,455 Query 94/200: seq_14_a9692 (length 44)\n"
          ]
        },
        {
          "output_type": "stream",
          "name": "stderr",
          "text": [
            "PENDING:   0%|          | 0/150 [elapsed: 00:00 remaining: ?]"
          ]
        },
        {
          "output_type": "stream",
          "name": "stdout",
          "text": [
            "2025-10-05 20:59:55,742 Sleeping for 8s. Reason: PENDING\n"
          ]
        },
        {
          "output_type": "stream",
          "name": "stderr",
          "text": [
            "COMPLETE: 100%|██████████| 150/150 [elapsed: 00:08 remaining: 00:00]\n"
          ]
        },
        {
          "output_type": "stream",
          "name": "stdout",
          "text": [
            "2025-10-05 21:00:04,275 Sequence 0 found no templates\n",
            "2025-10-05 21:00:06,942 Padding length to 45\n",
            "2025-10-05 21:00:11,280 alphafold2_ptm_model_1_seed_000 recycle=0 pLDDT=78.4 pTM=0.423\n",
            "2025-10-05 21:00:15,439 alphafold2_ptm_model_1_seed_000 recycle=1 pLDDT=78.2 pTM=0.421 tol=0.309\n",
            "2025-10-05 21:00:19,613 alphafold2_ptm_model_1_seed_000 recycle=2 pLDDT=78.2 pTM=0.422 tol=0.0865\n",
            "2025-10-05 21:00:23,802 alphafold2_ptm_model_1_seed_000 recycle=3 pLDDT=78.7 pTM=0.424 tol=0.058\n",
            "2025-10-05 21:00:23,803 alphafold2_ptm_model_1_seed_000 took 16.9s (3 recycles)\n",
            "2025-10-05 21:00:28,027 alphafold2_ptm_model_2_seed_000 recycle=0 pLDDT=72.5 pTM=0.383\n",
            "2025-10-05 21:00:32,256 alphafold2_ptm_model_2_seed_000 recycle=1 pLDDT=74.1 pTM=0.394 tol=0.207\n",
            "2025-10-05 21:00:36,500 alphafold2_ptm_model_2_seed_000 recycle=2 pLDDT=74.1 pTM=0.397 tol=0.0568\n",
            "2025-10-05 21:00:40,755 alphafold2_ptm_model_2_seed_000 recycle=3 pLDDT=74.6 pTM=0.396 tol=0.131\n",
            "2025-10-05 21:00:40,755 alphafold2_ptm_model_2_seed_000 took 16.9s (3 recycles)\n",
            "2025-10-05 21:00:44,984 alphafold2_ptm_model_3_seed_000 recycle=0 pLDDT=78.9 pTM=0.387\n",
            "2025-10-05 21:00:49,195 alphafold2_ptm_model_3_seed_000 recycle=1 pLDDT=81.4 pTM=0.414 tol=0.204\n",
            "2025-10-05 21:00:53,395 alphafold2_ptm_model_3_seed_000 recycle=2 pLDDT=83.8 pTM=0.42 tol=0.0743\n",
            "2025-10-05 21:00:57,582 alphafold2_ptm_model_3_seed_000 recycle=3 pLDDT=83.6 pTM=0.417 tol=0.0627\n",
            "2025-10-05 21:00:57,583 alphafold2_ptm_model_3_seed_000 took 16.8s (3 recycles)\n",
            "2025-10-05 21:01:01,753 alphafold2_ptm_model_4_seed_000 recycle=0 pLDDT=74 pTM=0.364\n",
            "2025-10-05 21:01:05,929 alphafold2_ptm_model_4_seed_000 recycle=1 pLDDT=75.3 pTM=0.374 tol=1.12\n",
            "2025-10-05 21:01:10,095 alphafold2_ptm_model_4_seed_000 recycle=2 pLDDT=75.9 pTM=0.382 tol=0.183\n",
            "2025-10-05 21:01:14,259 alphafold2_ptm_model_4_seed_000 recycle=3 pLDDT=75.7 pTM=0.38 tol=0.118\n",
            "2025-10-05 21:01:14,260 alphafold2_ptm_model_4_seed_000 took 16.7s (3 recycles)\n",
            "2025-10-05 21:01:18,410 alphafold2_ptm_model_5_seed_000 recycle=0 pLDDT=78.9 pTM=0.398\n",
            "2025-10-05 21:01:22,558 alphafold2_ptm_model_5_seed_000 recycle=1 pLDDT=79.4 pTM=0.404 tol=0.208\n",
            "2025-10-05 21:01:26,709 alphafold2_ptm_model_5_seed_000 recycle=2 pLDDT=80.7 pTM=0.405 tol=0.0426\n",
            "2025-10-05 21:01:30,861 alphafold2_ptm_model_5_seed_000 recycle=3 pLDDT=80.7 pTM=0.403 tol=0.0324\n",
            "2025-10-05 21:01:30,862 alphafold2_ptm_model_5_seed_000 took 16.6s (3 recycles)\n",
            "2025-10-05 21:01:30,867 reranking models by 'plddt' metric\n",
            "2025-10-05 21:01:30,868 rank_001_alphafold2_ptm_model_3_seed_000 pLDDT=83.6 pTM=0.417\n",
            "2025-10-05 21:01:30,868 rank_002_alphafold2_ptm_model_5_seed_000 pLDDT=80.7 pTM=0.403\n",
            "2025-10-05 21:01:30,868 rank_003_alphafold2_ptm_model_1_seed_000 pLDDT=78.7 pTM=0.424\n",
            "2025-10-05 21:01:30,868 rank_004_alphafold2_ptm_model_4_seed_000 pLDDT=75.7 pTM=0.38\n",
            "2025-10-05 21:01:30,868 rank_005_alphafold2_ptm_model_2_seed_000 pLDDT=74.6 pTM=0.396\n",
            "2025-10-05 21:01:31,885 Query 95/200: seq_26_082d7 (length 44)\n"
          ]
        },
        {
          "output_type": "stream",
          "name": "stderr",
          "text": [
            "PENDING:   0%|          | 0/150 [elapsed: 00:00 remaining: ?]"
          ]
        },
        {
          "output_type": "stream",
          "name": "stdout",
          "text": [
            "2025-10-05 21:01:32,167 Sleeping for 9s. Reason: PENDING\n"
          ]
        },
        {
          "output_type": "stream",
          "name": "stderr",
          "text": [
            "COMPLETE: 100%|██████████| 150/150 [elapsed: 00:09 remaining: 00:00]\n"
          ]
        },
        {
          "output_type": "stream",
          "name": "stdout",
          "text": [
            "2025-10-05 21:01:41,704 Sequence 0 found no templates\n",
            "2025-10-05 21:01:43,864 Padding length to 45\n",
            "2025-10-05 21:01:48,163 alphafold2_ptm_model_1_seed_000 recycle=0 pLDDT=77.2 pTM=0.425\n",
            "2025-10-05 21:01:52,321 alphafold2_ptm_model_1_seed_000 recycle=1 pLDDT=76.7 pTM=0.41 tol=0.2\n",
            "2025-10-05 21:01:56,496 alphafold2_ptm_model_1_seed_000 recycle=2 pLDDT=77.5 pTM=0.429 tol=0.239\n",
            "2025-10-05 21:02:00,686 alphafold2_ptm_model_1_seed_000 recycle=3 pLDDT=76.9 pTM=0.414 tol=0.0819\n",
            "2025-10-05 21:02:00,686 alphafold2_ptm_model_1_seed_000 took 16.8s (3 recycles)\n",
            "2025-10-05 21:02:04,908 alphafold2_ptm_model_2_seed_000 recycle=0 pLDDT=75.9 pTM=0.459\n",
            "2025-10-05 21:02:09,130 alphafold2_ptm_model_2_seed_000 recycle=1 pLDDT=74.6 pTM=0.434 tol=0.315\n",
            "2025-10-05 21:02:13,368 alphafold2_ptm_model_2_seed_000 recycle=2 pLDDT=75.6 pTM=0.447 tol=0.191\n",
            "2025-10-05 21:02:17,622 alphafold2_ptm_model_2_seed_000 recycle=3 pLDDT=75.2 pTM=0.436 tol=0.125\n",
            "2025-10-05 21:02:17,623 alphafold2_ptm_model_2_seed_000 took 16.9s (3 recycles)\n",
            "2025-10-05 21:02:21,865 alphafold2_ptm_model_3_seed_000 recycle=0 pLDDT=78.1 pTM=0.419\n",
            "2025-10-05 21:02:26,091 alphafold2_ptm_model_3_seed_000 recycle=1 pLDDT=80.5 pTM=0.461 tol=0.26\n",
            "2025-10-05 21:02:30,295 alphafold2_ptm_model_3_seed_000 recycle=2 pLDDT=81 pTM=0.46 tol=0.189\n",
            "2025-10-05 21:02:34,492 alphafold2_ptm_model_3_seed_000 recycle=3 pLDDT=82.2 pTM=0.472 tol=0.0587\n",
            "2025-10-05 21:02:34,493 alphafold2_ptm_model_3_seed_000 took 16.9s (3 recycles)\n",
            "2025-10-05 21:02:38,657 alphafold2_ptm_model_4_seed_000 recycle=0 pLDDT=85.6 pTM=0.563\n",
            "2025-10-05 21:02:42,819 alphafold2_ptm_model_4_seed_000 recycle=1 pLDDT=85.4 pTM=0.561 tol=0.109\n",
            "2025-10-05 21:02:46,974 alphafold2_ptm_model_4_seed_000 recycle=2 pLDDT=84.7 pTM=0.546 tol=0.0796\n",
            "2025-10-05 21:02:51,124 alphafold2_ptm_model_4_seed_000 recycle=3 pLDDT=85.6 pTM=0.554 tol=0.0251\n",
            "2025-10-05 21:02:51,125 alphafold2_ptm_model_4_seed_000 took 16.6s (3 recycles)\n",
            "2025-10-05 21:02:55,279 alphafold2_ptm_model_5_seed_000 recycle=0 pLDDT=84.8 pTM=0.545\n",
            "2025-10-05 21:02:59,435 alphafold2_ptm_model_5_seed_000 recycle=1 pLDDT=83.2 pTM=0.522 tol=0.134\n",
            "2025-10-05 21:03:03,594 alphafold2_ptm_model_5_seed_000 recycle=2 pLDDT=82.4 pTM=0.511 tol=0.101\n",
            "2025-10-05 21:03:07,752 alphafold2_ptm_model_5_seed_000 recycle=3 pLDDT=81.5 pTM=0.495 tol=0.221\n",
            "2025-10-05 21:03:07,753 alphafold2_ptm_model_5_seed_000 took 16.6s (3 recycles)\n",
            "2025-10-05 21:03:07,758 reranking models by 'plddt' metric\n",
            "2025-10-05 21:03:07,758 rank_001_alphafold2_ptm_model_4_seed_000 pLDDT=85.6 pTM=0.554\n",
            "2025-10-05 21:03:07,758 rank_002_alphafold2_ptm_model_3_seed_000 pLDDT=82.2 pTM=0.472\n",
            "2025-10-05 21:03:07,759 rank_003_alphafold2_ptm_model_5_seed_000 pLDDT=81.5 pTM=0.495\n",
            "2025-10-05 21:03:07,759 rank_004_alphafold2_ptm_model_1_seed_000 pLDDT=76.9 pTM=0.414\n",
            "2025-10-05 21:03:07,759 rank_005_alphafold2_ptm_model_2_seed_000 pLDDT=75.2 pTM=0.436\n",
            "2025-10-05 21:03:08,811 Query 96/200: seq_30_c0d47 (length 44)\n"
          ]
        },
        {
          "output_type": "stream",
          "name": "stderr",
          "text": [
            "PENDING:   0%|          | 0/150 [elapsed: 00:00 remaining: ?]"
          ]
        },
        {
          "output_type": "stream",
          "name": "stdout",
          "text": [
            "2025-10-05 21:03:09,090 Sleeping for 5s. Reason: PENDING\n"
          ]
        },
        {
          "output_type": "stream",
          "name": "stderr",
          "text": [
            "COMPLETE: 100%|██████████| 150/150 [elapsed: 00:05 remaining: 00:00]\n"
          ]
        },
        {
          "output_type": "stream",
          "name": "stdout",
          "text": [
            "2025-10-05 21:03:14,620 Sequence 0 found no templates\n",
            "2025-10-05 21:03:17,098 Padding length to 45\n",
            "2025-10-05 21:03:21,426 alphafold2_ptm_model_1_seed_000 recycle=0 pLDDT=67 pTM=0.354\n",
            "2025-10-05 21:03:25,599 alphafold2_ptm_model_1_seed_000 recycle=1 pLDDT=68.4 pTM=0.377 tol=3.1\n",
            "2025-10-05 21:03:29,798 alphafold2_ptm_model_1_seed_000 recycle=2 pLDDT=69.6 pTM=0.389 tol=0.516\n",
            "2025-10-05 21:03:34,006 alphafold2_ptm_model_1_seed_000 recycle=3 pLDDT=69.4 pTM=0.386 tol=0.935\n",
            "2025-10-05 21:03:34,007 alphafold2_ptm_model_1_seed_000 took 16.9s (3 recycles)\n",
            "2025-10-05 21:03:38,241 alphafold2_ptm_model_2_seed_000 recycle=0 pLDDT=64.4 pTM=0.346\n",
            "2025-10-05 21:03:42,482 alphafold2_ptm_model_2_seed_000 recycle=1 pLDDT=63.4 pTM=0.348 tol=2.38\n",
            "2025-10-05 21:03:46,742 alphafold2_ptm_model_2_seed_000 recycle=2 pLDDT=64.1 pTM=0.359 tol=0.994\n",
            "2025-10-05 21:03:51,015 alphafold2_ptm_model_2_seed_000 recycle=3 pLDDT=63.7 pTM=0.36 tol=0.592\n",
            "2025-10-05 21:03:51,016 alphafold2_ptm_model_2_seed_000 took 17.0s (3 recycles)\n",
            "2025-10-05 21:03:55,270 alphafold2_ptm_model_3_seed_000 recycle=0 pLDDT=71.7 pTM=0.37\n",
            "2025-10-05 21:03:59,509 alphafold2_ptm_model_3_seed_000 recycle=1 pLDDT=73.6 pTM=0.379 tol=1.21\n",
            "2025-10-05 21:04:03,725 alphafold2_ptm_model_3_seed_000 recycle=2 pLDDT=73.3 pTM=0.382 tol=0.559\n",
            "2025-10-05 21:04:07,932 alphafold2_ptm_model_3_seed_000 recycle=3 pLDDT=74.7 pTM=0.381 tol=0.454\n",
            "2025-10-05 21:04:07,933 alphafold2_ptm_model_3_seed_000 took 16.9s (3 recycles)\n",
            "2025-10-05 21:04:12,126 alphafold2_ptm_model_4_seed_000 recycle=0 pLDDT=67.9 pTM=0.373\n",
            "2025-10-05 21:04:16,315 alphafold2_ptm_model_4_seed_000 recycle=1 pLDDT=68.4 pTM=0.381 tol=1.83\n",
            "2025-10-05 21:04:20,498 alphafold2_ptm_model_4_seed_000 recycle=2 pLDDT=68.7 pTM=0.386 tol=0.76\n",
            "2025-10-05 21:04:24,680 alphafold2_ptm_model_4_seed_000 recycle=3 pLDDT=69.1 pTM=0.389 tol=0.452\n",
            "2025-10-05 21:04:24,680 alphafold2_ptm_model_4_seed_000 took 16.7s (3 recycles)\n",
            "2025-10-05 21:04:28,846 alphafold2_ptm_model_5_seed_000 recycle=0 pLDDT=66.6 pTM=0.358\n",
            "2025-10-05 21:04:33,020 alphafold2_ptm_model_5_seed_000 recycle=1 pLDDT=68.2 pTM=0.382 tol=2.17\n",
            "2025-10-05 21:04:37,198 alphafold2_ptm_model_5_seed_000 recycle=2 pLDDT=68.3 pTM=0.386 tol=1.58\n",
            "2025-10-05 21:04:41,372 alphafold2_ptm_model_5_seed_000 recycle=3 pLDDT=67.9 pTM=0.386 tol=1.26\n",
            "2025-10-05 21:04:41,373 alphafold2_ptm_model_5_seed_000 took 16.7s (3 recycles)\n",
            "2025-10-05 21:04:41,378 reranking models by 'plddt' metric\n",
            "2025-10-05 21:04:41,378 rank_001_alphafold2_ptm_model_3_seed_000 pLDDT=74.7 pTM=0.381\n",
            "2025-10-05 21:04:41,379 rank_002_alphafold2_ptm_model_1_seed_000 pLDDT=69.4 pTM=0.386\n",
            "2025-10-05 21:04:41,379 rank_003_alphafold2_ptm_model_4_seed_000 pLDDT=69.1 pTM=0.389\n",
            "2025-10-05 21:04:41,379 rank_004_alphafold2_ptm_model_5_seed_000 pLDDT=67.9 pTM=0.386\n",
            "2025-10-05 21:04:41,379 rank_005_alphafold2_ptm_model_2_seed_000 pLDDT=63.7 pTM=0.36\n",
            "2025-10-05 21:04:42,762 Query 97/200: seq_44_19cac (length 44)\n"
          ]
        },
        {
          "output_type": "stream",
          "name": "stderr",
          "text": [
            "PENDING:   0%|          | 0/150 [elapsed: 00:00 remaining: ?]"
          ]
        },
        {
          "output_type": "stream",
          "name": "stdout",
          "text": [
            "2025-10-05 21:04:43,042 Sleeping for 8s. Reason: PENDING\n"
          ]
        },
        {
          "output_type": "stream",
          "name": "stderr",
          "text": [
            "COMPLETE: 100%|██████████| 150/150 [elapsed: 00:08 remaining: 00:00]\n"
          ]
        },
        {
          "output_type": "stream",
          "name": "stdout",
          "text": [
            "2025-10-05 21:04:51,578 Sequence 0 found no templates\n",
            "2025-10-05 21:04:53,964 Padding length to 45\n",
            "2025-10-05 21:04:58,308 alphafold2_ptm_model_1_seed_000 recycle=0 pLDDT=66.7 pTM=0.358\n",
            "2025-10-05 21:05:02,481 alphafold2_ptm_model_1_seed_000 recycle=1 pLDDT=67.2 pTM=0.362 tol=3.14\n",
            "2025-10-05 21:05:06,681 alphafold2_ptm_model_1_seed_000 recycle=2 pLDDT=67.8 pTM=0.365 tol=0.907\n",
            "2025-10-05 21:05:10,894 alphafold2_ptm_model_1_seed_000 recycle=3 pLDDT=68.1 pTM=0.373 tol=1.28\n",
            "2025-10-05 21:05:10,895 alphafold2_ptm_model_1_seed_000 took 16.9s (3 recycles)\n",
            "2025-10-05 21:05:15,132 alphafold2_ptm_model_2_seed_000 recycle=0 pLDDT=65.4 pTM=0.333\n",
            "2025-10-05 21:05:19,373 alphafold2_ptm_model_2_seed_000 recycle=1 pLDDT=65.4 pTM=0.335 tol=2.06\n",
            "2025-10-05 21:05:23,641 alphafold2_ptm_model_2_seed_000 recycle=2 pLDDT=65.2 pTM=0.337 tol=1.33\n",
            "2025-10-05 21:05:27,913 alphafold2_ptm_model_2_seed_000 recycle=3 pLDDT=65.1 pTM=0.336 tol=0.926\n",
            "2025-10-05 21:05:27,913 alphafold2_ptm_model_2_seed_000 took 17.0s (3 recycles)\n",
            "2025-10-05 21:05:32,171 alphafold2_ptm_model_3_seed_000 recycle=0 pLDDT=70.4 pTM=0.361\n",
            "2025-10-05 21:05:36,411 alphafold2_ptm_model_3_seed_000 recycle=1 pLDDT=71.6 pTM=0.366 tol=1.85\n",
            "2025-10-05 21:05:40,639 alphafold2_ptm_model_3_seed_000 recycle=2 pLDDT=72 pTM=0.368 tol=0.787\n",
            "2025-10-05 21:05:44,851 alphafold2_ptm_model_3_seed_000 recycle=3 pLDDT=72.3 pTM=0.366 tol=0.515\n",
            "2025-10-05 21:05:44,851 alphafold2_ptm_model_3_seed_000 took 16.9s (3 recycles)\n",
            "2025-10-05 21:05:49,037 alphafold2_ptm_model_4_seed_000 recycle=0 pLDDT=67.9 pTM=0.362\n",
            "2025-10-05 21:05:53,217 alphafold2_ptm_model_4_seed_000 recycle=1 pLDDT=68 pTM=0.367 tol=1.38\n",
            "2025-10-05 21:05:57,394 alphafold2_ptm_model_4_seed_000 recycle=2 pLDDT=68.6 pTM=0.368 tol=0.572\n",
            "2025-10-05 21:06:01,568 alphafold2_ptm_model_4_seed_000 recycle=3 pLDDT=68.8 pTM=0.369 tol=0.339\n",
            "2025-10-05 21:06:01,569 alphafold2_ptm_model_4_seed_000 took 16.7s (3 recycles)\n",
            "2025-10-05 21:06:05,741 alphafold2_ptm_model_5_seed_000 recycle=0 pLDDT=67.6 pTM=0.364\n",
            "2025-10-05 21:06:09,923 alphafold2_ptm_model_5_seed_000 recycle=1 pLDDT=69.8 pTM=0.388 tol=2.01\n",
            "2025-10-05 21:06:14,102 alphafold2_ptm_model_5_seed_000 recycle=2 pLDDT=69.2 pTM=0.391 tol=0.536\n",
            "2025-10-05 21:06:18,287 alphafold2_ptm_model_5_seed_000 recycle=3 pLDDT=69.6 pTM=0.395 tol=0.676\n",
            "2025-10-05 21:06:18,287 alphafold2_ptm_model_5_seed_000 took 16.7s (3 recycles)\n",
            "2025-10-05 21:06:18,292 reranking models by 'plddt' metric\n",
            "2025-10-05 21:06:18,293 rank_001_alphafold2_ptm_model_3_seed_000 pLDDT=72.3 pTM=0.366\n",
            "2025-10-05 21:06:18,293 rank_002_alphafold2_ptm_model_5_seed_000 pLDDT=69.6 pTM=0.395\n",
            "2025-10-05 21:06:18,293 rank_003_alphafold2_ptm_model_4_seed_000 pLDDT=68.8 pTM=0.369\n",
            "2025-10-05 21:06:18,293 rank_004_alphafold2_ptm_model_1_seed_000 pLDDT=68.1 pTM=0.373\n",
            "2025-10-05 21:06:18,293 rank_005_alphafold2_ptm_model_2_seed_000 pLDDT=65.1 pTM=0.336\n",
            "2025-10-05 21:06:19,768 Query 98/200: seq_54_7d954 (length 44)\n"
          ]
        },
        {
          "output_type": "stream",
          "name": "stderr",
          "text": [
            "PENDING:   0%|          | 0/150 [elapsed: 00:00 remaining: ?]"
          ]
        },
        {
          "output_type": "stream",
          "name": "stdout",
          "text": [
            "2025-10-05 21:06:20,053 Sleeping for 7s. Reason: PENDING\n"
          ]
        },
        {
          "output_type": "stream",
          "name": "stderr",
          "text": [
            "RUNNING:   5%|▍         | 7/150 [elapsed: 00:07 remaining: 02:34]"
          ]
        },
        {
          "output_type": "stream",
          "name": "stdout",
          "text": [
            "2025-10-05 21:06:27,319 Sleeping for 10s. Reason: RUNNING\n"
          ]
        },
        {
          "output_type": "stream",
          "name": "stderr",
          "text": [
            "COMPLETE: 100%|██████████| 150/150 [elapsed: 00:18 remaining: 00:00]\n"
          ]
        },
        {
          "output_type": "stream",
          "name": "stdout",
          "text": [
            "2025-10-05 21:06:37,996 Sequence 0 found no templates\n",
            "2025-10-05 21:06:40,334 Padding length to 45\n",
            "2025-10-05 21:06:44,680 alphafold2_ptm_model_1_seed_000 recycle=0 pLDDT=72.9 pTM=0.377\n",
            "2025-10-05 21:06:48,887 alphafold2_ptm_model_1_seed_000 recycle=1 pLDDT=72.4 pTM=0.369 tol=0.603\n",
            "2025-10-05 21:06:53,118 alphafold2_ptm_model_1_seed_000 recycle=2 pLDDT=71.9 pTM=0.362 tol=4.98\n",
            "2025-10-05 21:06:57,369 alphafold2_ptm_model_1_seed_000 recycle=3 pLDDT=72.1 pTM=0.363 tol=6.29\n",
            "2025-10-05 21:06:57,370 alphafold2_ptm_model_1_seed_000 took 17.0s (3 recycles)\n",
            "2025-10-05 21:07:01,653 alphafold2_ptm_model_2_seed_000 recycle=0 pLDDT=75.6 pTM=0.424\n",
            "2025-10-05 21:07:05,934 alphafold2_ptm_model_2_seed_000 recycle=1 pLDDT=76.5 pTM=0.445 tol=0.432\n",
            "2025-10-05 21:07:10,240 alphafold2_ptm_model_2_seed_000 recycle=2 pLDDT=76.7 pTM=0.447 tol=0.177\n",
            "2025-10-05 21:07:14,559 alphafold2_ptm_model_2_seed_000 recycle=3 pLDDT=77.6 pTM=0.45 tol=0.109\n",
            "2025-10-05 21:07:14,560 alphafold2_ptm_model_2_seed_000 took 17.2s (3 recycles)\n",
            "2025-10-05 21:07:18,846 alphafold2_ptm_model_3_seed_000 recycle=0 pLDDT=77.4 pTM=0.422\n",
            "2025-10-05 21:07:23,119 alphafold2_ptm_model_3_seed_000 recycle=1 pLDDT=75.2 pTM=0.394 tol=0.832\n",
            "2025-10-05 21:07:27,372 alphafold2_ptm_model_3_seed_000 recycle=2 pLDDT=73.2 pTM=0.379 tol=0.839\n",
            "2025-10-05 21:07:31,619 alphafold2_ptm_model_3_seed_000 recycle=3 pLDDT=70.8 pTM=0.365 tol=1.85\n",
            "2025-10-05 21:07:31,620 alphafold2_ptm_model_3_seed_000 took 17.1s (3 recycles)\n",
            "2025-10-05 21:07:35,851 alphafold2_ptm_model_4_seed_000 recycle=0 pLDDT=81.8 pTM=0.481\n",
            "2025-10-05 21:07:40,081 alphafold2_ptm_model_4_seed_000 recycle=1 pLDDT=80.7 pTM=0.489 tol=0.277\n",
            "2025-10-05 21:07:44,301 alphafold2_ptm_model_4_seed_000 recycle=2 pLDDT=82.4 pTM=0.508 tol=0.124\n",
            "2025-10-05 21:07:48,522 alphafold2_ptm_model_4_seed_000 recycle=3 pLDDT=82.6 pTM=0.51 tol=0.0977\n",
            "2025-10-05 21:07:48,523 alphafold2_ptm_model_4_seed_000 took 16.9s (3 recycles)\n",
            "2025-10-05 21:07:52,724 alphafold2_ptm_model_5_seed_000 recycle=0 pLDDT=80.9 pTM=0.439\n",
            "2025-10-05 21:07:56,930 alphafold2_ptm_model_5_seed_000 recycle=1 pLDDT=75.9 pTM=0.417 tol=0.496\n",
            "2025-10-05 21:08:01,136 alphafold2_ptm_model_5_seed_000 recycle=2 pLDDT=72.7 pTM=0.392 tol=0.284\n",
            "2025-10-05 21:08:05,344 alphafold2_ptm_model_5_seed_000 recycle=3 pLDDT=71.5 pTM=0.385 tol=0.318\n",
            "2025-10-05 21:08:05,345 alphafold2_ptm_model_5_seed_000 took 16.8s (3 recycles)\n",
            "2025-10-05 21:08:05,350 reranking models by 'plddt' metric\n",
            "2025-10-05 21:08:05,350 rank_001_alphafold2_ptm_model_4_seed_000 pLDDT=82.6 pTM=0.51\n",
            "2025-10-05 21:08:05,350 rank_002_alphafold2_ptm_model_2_seed_000 pLDDT=77.6 pTM=0.45\n",
            "2025-10-05 21:08:05,350 rank_003_alphafold2_ptm_model_1_seed_000 pLDDT=72.1 pTM=0.363\n",
            "2025-10-05 21:08:05,351 rank_004_alphafold2_ptm_model_5_seed_000 pLDDT=71.5 pTM=0.385\n",
            "2025-10-05 21:08:05,351 rank_005_alphafold2_ptm_model_3_seed_000 pLDDT=70.8 pTM=0.365\n",
            "2025-10-05 21:08:06,381 Query 99/200: seq_63_b209f (length 44)\n"
          ]
        },
        {
          "output_type": "stream",
          "name": "stderr",
          "text": [
            "PENDING:   0%|          | 0/150 [elapsed: 00:00 remaining: ?]"
          ]
        },
        {
          "output_type": "stream",
          "name": "stdout",
          "text": [
            "2025-10-05 21:08:06,655 Sleeping for 5s. Reason: PENDING\n"
          ]
        },
        {
          "output_type": "stream",
          "name": "stderr",
          "text": [
            "RUNNING:   3%|▎         | 5/150 [elapsed: 00:05 remaining: 02:40]"
          ]
        },
        {
          "output_type": "stream",
          "name": "stdout",
          "text": [
            "2025-10-05 21:08:11,928 Sleeping for 5s. Reason: RUNNING\n"
          ]
        },
        {
          "output_type": "stream",
          "name": "stderr",
          "text": [
            "COMPLETE: 100%|██████████| 150/150 [elapsed: 00:11 remaining: 00:00]\n"
          ]
        },
        {
          "output_type": "stream",
          "name": "stdout",
          "text": [
            "2025-10-05 21:08:17,450 Sequence 0 found no templates\n",
            "2025-10-05 21:08:20,213 Padding length to 45\n",
            "2025-10-05 21:08:24,514 alphafold2_ptm_model_1_seed_000 recycle=0 pLDDT=67.4 pTM=0.354\n",
            "2025-10-05 21:08:28,658 alphafold2_ptm_model_1_seed_000 recycle=1 pLDDT=70 pTM=0.381 tol=0.588\n",
            "2025-10-05 21:08:32,818 alphafold2_ptm_model_1_seed_000 recycle=2 pLDDT=71.1 pTM=0.398 tol=0.176\n",
            "2025-10-05 21:08:36,997 alphafold2_ptm_model_1_seed_000 recycle=3 pLDDT=71.6 pTM=0.408 tol=0.431\n",
            "2025-10-05 21:08:36,998 alphafold2_ptm_model_1_seed_000 took 16.8s (3 recycles)\n",
            "2025-10-05 21:08:41,206 alphafold2_ptm_model_2_seed_000 recycle=0 pLDDT=65.3 pTM=0.325\n",
            "2025-10-05 21:08:45,413 alphafold2_ptm_model_2_seed_000 recycle=1 pLDDT=64.8 pTM=0.341 tol=1.04\n",
            "2025-10-05 21:08:49,645 alphafold2_ptm_model_2_seed_000 recycle=2 pLDDT=65.1 pTM=0.35 tol=0.232\n",
            "2025-10-05 21:08:53,880 alphafold2_ptm_model_2_seed_000 recycle=3 pLDDT=64.7 pTM=0.347 tol=0.121\n",
            "2025-10-05 21:08:53,881 alphafold2_ptm_model_2_seed_000 took 16.9s (3 recycles)\n",
            "2025-10-05 21:08:58,101 alphafold2_ptm_model_3_seed_000 recycle=0 pLDDT=67.4 pTM=0.297\n",
            "2025-10-05 21:09:02,310 alphafold2_ptm_model_3_seed_000 recycle=1 pLDDT=68.6 pTM=0.317 tol=0.434\n",
            "2025-10-05 21:09:06,509 alphafold2_ptm_model_3_seed_000 recycle=2 pLDDT=70.5 pTM=0.336 tol=0.363\n",
            "2025-10-05 21:09:10,690 alphafold2_ptm_model_3_seed_000 recycle=3 pLDDT=71.6 pTM=0.347 tol=0.297\n",
            "2025-10-05 21:09:10,691 alphafold2_ptm_model_3_seed_000 took 16.8s (3 recycles)\n",
            "2025-10-05 21:09:14,843 alphafold2_ptm_model_4_seed_000 recycle=0 pLDDT=63.5 pTM=0.299\n",
            "2025-10-05 21:09:18,993 alphafold2_ptm_model_4_seed_000 recycle=1 pLDDT=66.1 pTM=0.322 tol=1.33\n",
            "2025-10-05 21:09:23,139 alphafold2_ptm_model_4_seed_000 recycle=2 pLDDT=67.1 pTM=0.333 tol=0.326\n",
            "2025-10-05 21:09:27,279 alphafold2_ptm_model_4_seed_000 recycle=3 pLDDT=68.2 pTM=0.341 tol=0.0886\n",
            "2025-10-05 21:09:27,280 alphafold2_ptm_model_4_seed_000 took 16.6s (3 recycles)\n",
            "2025-10-05 21:09:31,423 alphafold2_ptm_model_5_seed_000 recycle=0 pLDDT=69 pTM=0.348\n",
            "2025-10-05 21:09:35,570 alphafold2_ptm_model_5_seed_000 recycle=1 pLDDT=69.7 pTM=0.369 tol=0.565\n",
            "2025-10-05 21:09:39,718 alphafold2_ptm_model_5_seed_000 recycle=2 pLDDT=71.4 pTM=0.382 tol=0.199\n",
            "2025-10-05 21:09:43,872 alphafold2_ptm_model_5_seed_000 recycle=3 pLDDT=72.5 pTM=0.393 tol=0.117\n",
            "2025-10-05 21:09:43,873 alphafold2_ptm_model_5_seed_000 took 16.6s (3 recycles)\n",
            "2025-10-05 21:09:43,883 reranking models by 'plddt' metric\n",
            "2025-10-05 21:09:43,883 rank_001_alphafold2_ptm_model_5_seed_000 pLDDT=72.5 pTM=0.393\n",
            "2025-10-05 21:09:43,884 rank_002_alphafold2_ptm_model_3_seed_000 pLDDT=71.6 pTM=0.347\n",
            "2025-10-05 21:09:43,884 rank_003_alphafold2_ptm_model_1_seed_000 pLDDT=71.6 pTM=0.408\n",
            "2025-10-05 21:09:43,884 rank_004_alphafold2_ptm_model_4_seed_000 pLDDT=68.2 pTM=0.341\n",
            "2025-10-05 21:09:43,884 rank_005_alphafold2_ptm_model_2_seed_000 pLDDT=64.7 pTM=0.347\n",
            "2025-10-05 21:09:45,324 Query 100/200: seq_136_269e2 (length 44)\n"
          ]
        },
        {
          "output_type": "stream",
          "name": "stderr",
          "text": [
            "PENDING:   0%|          | 0/150 [elapsed: 00:00 remaining: ?]"
          ]
        },
        {
          "output_type": "stream",
          "name": "stdout",
          "text": [
            "2025-10-05 21:09:45,600 Sleeping for 9s. Reason: PENDING\n"
          ]
        },
        {
          "output_type": "stream",
          "name": "stderr",
          "text": [
            "COMPLETE: 100%|██████████| 150/150 [elapsed: 00:09 remaining: 00:00]\n"
          ]
        },
        {
          "output_type": "stream",
          "name": "stdout",
          "text": [
            "2025-10-05 21:09:55,127 Sequence 0 found no templates\n",
            "2025-10-05 21:09:57,648 Padding length to 45\n",
            "2025-10-05 21:10:01,983 alphafold2_ptm_model_1_seed_000 recycle=0 pLDDT=85.6 pTM=0.513\n",
            "2025-10-05 21:10:06,161 alphafold2_ptm_model_1_seed_000 recycle=1 pLDDT=86.2 pTM=0.536 tol=0.133\n",
            "2025-10-05 21:10:10,353 alphafold2_ptm_model_1_seed_000 recycle=2 pLDDT=85.9 pTM=0.532 tol=0.101\n",
            "2025-10-05 21:10:14,564 alphafold2_ptm_model_1_seed_000 recycle=3 pLDDT=85.9 pTM=0.53 tol=0.111\n",
            "2025-10-05 21:10:14,565 alphafold2_ptm_model_1_seed_000 took 16.9s (3 recycles)\n",
            "2025-10-05 21:10:18,807 alphafold2_ptm_model_2_seed_000 recycle=0 pLDDT=83.4 pTM=0.497\n",
            "2025-10-05 21:10:23,051 alphafold2_ptm_model_2_seed_000 recycle=1 pLDDT=83.1 pTM=0.508 tol=0.134\n",
            "2025-10-05 21:10:27,300 alphafold2_ptm_model_2_seed_000 recycle=2 pLDDT=82.4 pTM=0.502 tol=0.116\n",
            "2025-10-05 21:10:31,582 alphafold2_ptm_model_2_seed_000 recycle=3 pLDDT=82.8 pTM=0.504 tol=0.0754\n",
            "2025-10-05 21:10:31,583 alphafold2_ptm_model_2_seed_000 took 17.0s (3 recycles)\n",
            "2025-10-05 21:10:35,844 alphafold2_ptm_model_3_seed_000 recycle=0 pLDDT=87.3 pTM=0.489\n",
            "2025-10-05 21:10:40,090 alphafold2_ptm_model_3_seed_000 recycle=1 pLDDT=87.9 pTM=0.506 tol=0.164\n",
            "2025-10-05 21:10:44,318 alphafold2_ptm_model_3_seed_000 recycle=2 pLDDT=88.1 pTM=0.508 tol=0.0909\n",
            "2025-10-05 21:10:48,533 alphafold2_ptm_model_3_seed_000 recycle=3 pLDDT=88.4 pTM=0.511 tol=0.121\n",
            "2025-10-05 21:10:48,534 alphafold2_ptm_model_3_seed_000 took 16.9s (3 recycles)\n",
            "2025-10-05 21:10:52,736 alphafold2_ptm_model_4_seed_000 recycle=0 pLDDT=87.9 pTM=0.519\n",
            "2025-10-05 21:10:56,937 alphafold2_ptm_model_4_seed_000 recycle=1 pLDDT=88.1 pTM=0.527 tol=0.277\n",
            "2025-10-05 21:11:01,130 alphafold2_ptm_model_4_seed_000 recycle=2 pLDDT=88.2 pTM=0.529 tol=0.142\n",
            "2025-10-05 21:11:05,318 alphafold2_ptm_model_4_seed_000 recycle=3 pLDDT=88.4 pTM=0.53 tol=0.042\n",
            "2025-10-05 21:11:05,319 alphafold2_ptm_model_4_seed_000 took 16.8s (3 recycles)\n",
            "2025-10-05 21:11:09,489 alphafold2_ptm_model_5_seed_000 recycle=0 pLDDT=87.7 pTM=0.521\n",
            "2025-10-05 21:11:13,665 alphafold2_ptm_model_5_seed_000 recycle=1 pLDDT=87.3 pTM=0.526 tol=0.117\n",
            "2025-10-05 21:11:17,844 alphafold2_ptm_model_5_seed_000 recycle=2 pLDDT=86.9 pTM=0.525 tol=0.0447\n",
            "2025-10-05 21:11:22,023 alphafold2_ptm_model_5_seed_000 recycle=3 pLDDT=87.1 pTM=0.527 tol=0.0547\n",
            "2025-10-05 21:11:22,024 alphafold2_ptm_model_5_seed_000 took 16.7s (3 recycles)\n",
            "2025-10-05 21:11:22,028 reranking models by 'plddt' metric\n",
            "2025-10-05 21:11:22,028 rank_001_alphafold2_ptm_model_3_seed_000 pLDDT=88.4 pTM=0.511\n",
            "2025-10-05 21:11:22,028 rank_002_alphafold2_ptm_model_4_seed_000 pLDDT=88.4 pTM=0.53\n",
            "2025-10-05 21:11:22,029 rank_003_alphafold2_ptm_model_5_seed_000 pLDDT=87.1 pTM=0.527\n",
            "2025-10-05 21:11:22,029 rank_004_alphafold2_ptm_model_1_seed_000 pLDDT=85.9 pTM=0.53\n",
            "2025-10-05 21:11:22,029 rank_005_alphafold2_ptm_model_2_seed_000 pLDDT=82.8 pTM=0.504\n",
            "2025-10-05 21:11:22,988 Query 101/200: seq_138_580f6 (length 44)\n"
          ]
        },
        {
          "output_type": "stream",
          "name": "stderr",
          "text": [
            "PENDING:   0%|          | 0/150 [elapsed: 00:00 remaining: ?]"
          ]
        },
        {
          "output_type": "stream",
          "name": "stdout",
          "text": [
            "2025-10-05 21:11:23,267 Sleeping for 6s. Reason: PENDING\n"
          ]
        },
        {
          "output_type": "stream",
          "name": "stderr",
          "text": [
            "COMPLETE: 100%|██████████| 150/150 [elapsed: 00:06 remaining: 00:00]\n"
          ]
        },
        {
          "output_type": "stream",
          "name": "stdout",
          "text": [
            "2025-10-05 21:11:29,802 Sequence 0 found no templates\n",
            "2025-10-05 21:11:32,388 Padding length to 45\n",
            "2025-10-05 21:11:36,709 alphafold2_ptm_model_1_seed_000 recycle=0 pLDDT=67.2 pTM=0.354\n",
            "2025-10-05 21:11:40,885 alphafold2_ptm_model_1_seed_000 recycle=1 pLDDT=67.5 pTM=0.362 tol=2.91\n",
            "2025-10-05 21:11:45,077 alphafold2_ptm_model_1_seed_000 recycle=2 pLDDT=67.4 pTM=0.365 tol=1.32\n",
            "2025-10-05 21:11:49,278 alphafold2_ptm_model_1_seed_000 recycle=3 pLDDT=66.8 pTM=0.363 tol=1.04\n",
            "2025-10-05 21:11:49,279 alphafold2_ptm_model_1_seed_000 took 16.9s (3 recycles)\n",
            "2025-10-05 21:11:53,513 alphafold2_ptm_model_2_seed_000 recycle=0 pLDDT=65.1 pTM=0.334\n",
            "2025-10-05 21:11:57,750 alphafold2_ptm_model_2_seed_000 recycle=1 pLDDT=64.9 pTM=0.344 tol=3.11\n",
            "2025-10-05 21:12:01,999 alphafold2_ptm_model_2_seed_000 recycle=2 pLDDT=64.8 pTM=0.347 tol=0.65\n",
            "2025-10-05 21:12:06,257 alphafold2_ptm_model_2_seed_000 recycle=3 pLDDT=64.8 pTM=0.347 tol=1.47\n",
            "2025-10-05 21:12:06,257 alphafold2_ptm_model_2_seed_000 took 17.0s (3 recycles)\n",
            "2025-10-05 21:12:10,515 alphafold2_ptm_model_3_seed_000 recycle=0 pLDDT=68.8 pTM=0.354\n",
            "2025-10-05 21:12:14,761 alphafold2_ptm_model_3_seed_000 recycle=1 pLDDT=71 pTM=0.374 tol=0.896\n",
            "2025-10-05 21:12:18,991 alphafold2_ptm_model_3_seed_000 recycle=2 pLDDT=71.4 pTM=0.378 tol=0.381\n",
            "2025-10-05 21:12:23,211 alphafold2_ptm_model_3_seed_000 recycle=3 pLDDT=71.8 pTM=0.378 tol=0.393\n",
            "2025-10-05 21:12:23,212 alphafold2_ptm_model_3_seed_000 took 16.9s (3 recycles)\n",
            "2025-10-05 21:12:27,405 alphafold2_ptm_model_4_seed_000 recycle=0 pLDDT=68 pTM=0.362\n",
            "2025-10-05 21:12:31,601 alphafold2_ptm_model_4_seed_000 recycle=1 pLDDT=67.8 pTM=0.369 tol=1.42\n",
            "2025-10-05 21:12:35,785 alphafold2_ptm_model_4_seed_000 recycle=2 pLDDT=68.1 pTM=0.37 tol=0.528\n",
            "2025-10-05 21:12:39,962 alphafold2_ptm_model_4_seed_000 recycle=3 pLDDT=67.2 pTM=0.365 tol=0.749\n",
            "2025-10-05 21:12:39,963 alphafold2_ptm_model_4_seed_000 took 16.7s (3 recycles)\n",
            "2025-10-05 21:12:44,142 alphafold2_ptm_model_5_seed_000 recycle=0 pLDDT=67.9 pTM=0.366\n",
            "2025-10-05 21:12:48,326 alphafold2_ptm_model_5_seed_000 recycle=1 pLDDT=69.4 pTM=0.388 tol=1.59\n",
            "2025-10-05 21:12:52,511 alphafold2_ptm_model_5_seed_000 recycle=2 pLDDT=69.8 pTM=0.391 tol=1.13\n",
            "2025-10-05 21:12:56,699 alphafold2_ptm_model_5_seed_000 recycle=3 pLDDT=69.8 pTM=0.389 tol=0.609\n",
            "2025-10-05 21:12:56,700 alphafold2_ptm_model_5_seed_000 took 16.7s (3 recycles)\n",
            "2025-10-05 21:12:56,709 reranking models by 'plddt' metric\n",
            "2025-10-05 21:12:56,709 rank_001_alphafold2_ptm_model_3_seed_000 pLDDT=71.8 pTM=0.378\n",
            "2025-10-05 21:12:56,709 rank_002_alphafold2_ptm_model_5_seed_000 pLDDT=69.8 pTM=0.389\n",
            "2025-10-05 21:12:56,709 rank_003_alphafold2_ptm_model_4_seed_000 pLDDT=67.2 pTM=0.365\n",
            "2025-10-05 21:12:56,710 rank_004_alphafold2_ptm_model_1_seed_000 pLDDT=66.8 pTM=0.363\n",
            "2025-10-05 21:12:56,710 rank_005_alphafold2_ptm_model_2_seed_000 pLDDT=64.8 pTM=0.347\n",
            "2025-10-05 21:12:58,193 Query 102/200: seq_177_205fb (length 44)\n"
          ]
        },
        {
          "output_type": "stream",
          "name": "stderr",
          "text": [
            "PENDING:   0%|          | 0/150 [elapsed: 00:00 remaining: ?]"
          ]
        },
        {
          "output_type": "stream",
          "name": "stdout",
          "text": [
            "2025-10-05 21:12:58,484 Sleeping for 10s. Reason: PENDING\n"
          ]
        },
        {
          "output_type": "stream",
          "name": "stderr",
          "text": [
            "COMPLETE: 100%|██████████| 150/150 [elapsed: 00:11 remaining: 00:00]\n"
          ]
        },
        {
          "output_type": "stream",
          "name": "stdout",
          "text": [
            "2025-10-05 21:13:09,343 Sequence 0 found no templates\n",
            "2025-10-05 21:13:11,820 Padding length to 45\n",
            "2025-10-05 21:13:16,198 alphafold2_ptm_model_1_seed_000 recycle=0 pLDDT=73.4 pTM=0.398\n",
            "2025-10-05 21:13:20,428 alphafold2_ptm_model_1_seed_000 recycle=1 pLDDT=73.2 pTM=0.407 tol=1.08\n",
            "2025-10-05 21:13:24,670 alphafold2_ptm_model_1_seed_000 recycle=2 pLDDT=73.3 pTM=0.41 tol=0.497\n",
            "2025-10-05 21:13:28,937 alphafold2_ptm_model_1_seed_000 recycle=3 pLDDT=73.1 pTM=0.407 tol=0.354\n",
            "2025-10-05 21:13:28,938 alphafold2_ptm_model_1_seed_000 took 17.1s (3 recycles)\n",
            "2025-10-05 21:13:33,239 alphafold2_ptm_model_2_seed_000 recycle=0 pLDDT=71.9 pTM=0.385\n",
            "2025-10-05 21:13:37,537 alphafold2_ptm_model_2_seed_000 recycle=1 pLDDT=71.7 pTM=0.389 tol=0.696\n",
            "2025-10-05 21:13:41,840 alphafold2_ptm_model_2_seed_000 recycle=2 pLDDT=71.7 pTM=0.391 tol=0.422\n",
            "2025-10-05 21:13:46,174 alphafold2_ptm_model_2_seed_000 recycle=3 pLDDT=71.9 pTM=0.387 tol=0.318\n",
            "2025-10-05 21:13:46,175 alphafold2_ptm_model_2_seed_000 took 17.2s (3 recycles)\n",
            "2025-10-05 21:13:50,492 alphafold2_ptm_model_3_seed_000 recycle=0 pLDDT=75.6 pTM=0.409\n",
            "2025-10-05 21:13:54,811 alphafold2_ptm_model_3_seed_000 recycle=1 pLDDT=74.9 pTM=0.412 tol=0.475\n",
            "2025-10-05 21:13:59,102 alphafold2_ptm_model_3_seed_000 recycle=2 pLDDT=75.3 pTM=0.413 tol=0.796\n",
            "2025-10-05 21:14:03,381 alphafold2_ptm_model_3_seed_000 recycle=3 pLDDT=74.9 pTM=0.407 tol=0.498\n",
            "2025-10-05 21:14:03,381 alphafold2_ptm_model_3_seed_000 took 17.2s (3 recycles)\n",
            "2025-10-05 21:14:07,650 alphafold2_ptm_model_4_seed_000 recycle=0 pLDDT=73.4 pTM=0.387\n",
            "2025-10-05 21:14:11,914 alphafold2_ptm_model_4_seed_000 recycle=1 pLDDT=73.8 pTM=0.398 tol=0.643\n",
            "2025-10-05 21:14:16,167 alphafold2_ptm_model_4_seed_000 recycle=2 pLDDT=73.9 pTM=0.402 tol=0.286\n",
            "2025-10-05 21:14:20,416 alphafold2_ptm_model_4_seed_000 recycle=3 pLDDT=73.8 pTM=0.397 tol=0.496\n",
            "2025-10-05 21:14:20,416 alphafold2_ptm_model_4_seed_000 took 17.0s (3 recycles)\n",
            "2025-10-05 21:14:24,645 alphafold2_ptm_model_5_seed_000 recycle=0 pLDDT=74.2 pTM=0.408\n",
            "2025-10-05 21:14:28,880 alphafold2_ptm_model_5_seed_000 recycle=1 pLDDT=73.8 pTM=0.415 tol=1.26\n",
            "2025-10-05 21:14:33,118 alphafold2_ptm_model_5_seed_000 recycle=2 pLDDT=74.2 pTM=0.42 tol=0.782\n",
            "2025-10-05 21:14:37,360 alphafold2_ptm_model_5_seed_000 recycle=3 pLDDT=73.9 pTM=0.413 tol=0.431\n",
            "2025-10-05 21:14:37,360 alphafold2_ptm_model_5_seed_000 took 16.9s (3 recycles)\n",
            "2025-10-05 21:14:37,366 reranking models by 'plddt' metric\n",
            "2025-10-05 21:14:37,366 rank_001_alphafold2_ptm_model_3_seed_000 pLDDT=74.9 pTM=0.407\n",
            "2025-10-05 21:14:37,366 rank_002_alphafold2_ptm_model_5_seed_000 pLDDT=73.9 pTM=0.413\n",
            "2025-10-05 21:14:37,366 rank_003_alphafold2_ptm_model_4_seed_000 pLDDT=73.8 pTM=0.397\n",
            "2025-10-05 21:14:37,366 rank_004_alphafold2_ptm_model_1_seed_000 pLDDT=73.1 pTM=0.407\n",
            "2025-10-05 21:14:37,367 rank_005_alphafold2_ptm_model_2_seed_000 pLDDT=71.9 pTM=0.387\n",
            "2025-10-05 21:14:38,378 Query 103/200: seq_178_4a180 (length 44)\n"
          ]
        },
        {
          "output_type": "stream",
          "name": "stderr",
          "text": [
            "PENDING:   0%|          | 0/150 [elapsed: 00:00 remaining: ?]"
          ]
        },
        {
          "output_type": "stream",
          "name": "stdout",
          "text": [
            "2025-10-05 21:14:38,666 Sleeping for 7s. Reason: PENDING\n"
          ]
        },
        {
          "output_type": "stream",
          "name": "stderr",
          "text": [
            "COMPLETE: 100%|██████████| 150/150 [elapsed: 00:07 remaining: 00:00]\n"
          ]
        },
        {
          "output_type": "stream",
          "name": "stdout",
          "text": [
            "2025-10-05 21:14:46,190 Sequence 0 found no templates\n",
            "2025-10-05 21:14:48,265 Padding length to 45\n",
            "2025-10-05 21:14:52,556 alphafold2_ptm_model_1_seed_000 recycle=0 pLDDT=76.6 pTM=0.398\n",
            "2025-10-05 21:14:56,715 alphafold2_ptm_model_1_seed_000 recycle=1 pLDDT=75.6 pTM=0.395 tol=0.248\n",
            "2025-10-05 21:15:00,887 alphafold2_ptm_model_1_seed_000 recycle=2 pLDDT=74.9 pTM=0.395 tol=0.13\n",
            "2025-10-05 21:15:05,072 alphafold2_ptm_model_1_seed_000 recycle=3 pLDDT=75.6 pTM=0.396 tol=0.247\n",
            "2025-10-05 21:15:05,073 alphafold2_ptm_model_1_seed_000 took 16.8s (3 recycles)\n",
            "2025-10-05 21:15:09,284 alphafold2_ptm_model_2_seed_000 recycle=0 pLDDT=70.9 pTM=0.38\n",
            "2025-10-05 21:15:13,498 alphafold2_ptm_model_2_seed_000 recycle=1 pLDDT=69.9 pTM=0.375 tol=0.327\n",
            "2025-10-05 21:15:17,732 alphafold2_ptm_model_2_seed_000 recycle=2 pLDDT=69.4 pTM=0.371 tol=0.372\n",
            "2025-10-05 21:15:21,971 alphafold2_ptm_model_2_seed_000 recycle=3 pLDDT=70.5 pTM=0.377 tol=0.328\n",
            "2025-10-05 21:15:21,972 alphafold2_ptm_model_2_seed_000 took 16.9s (3 recycles)\n",
            "2025-10-05 21:15:26,200 alphafold2_ptm_model_3_seed_000 recycle=0 pLDDT=73.6 pTM=0.362\n",
            "2025-10-05 21:15:30,424 alphafold2_ptm_model_3_seed_000 recycle=1 pLDDT=72.3 pTM=0.361 tol=0.31\n",
            "2025-10-05 21:15:34,633 alphafold2_ptm_model_3_seed_000 recycle=2 pLDDT=72.8 pTM=0.366 tol=0.31\n",
            "2025-10-05 21:15:38,833 alphafold2_ptm_model_3_seed_000 recycle=3 pLDDT=73.2 pTM=0.367 tol=0.138\n",
            "2025-10-05 21:15:38,834 alphafold2_ptm_model_3_seed_000 took 16.9s (3 recycles)\n",
            "2025-10-05 21:15:43,011 alphafold2_ptm_model_4_seed_000 recycle=0 pLDDT=73.8 pTM=0.362\n",
            "2025-10-05 21:15:47,181 alphafold2_ptm_model_4_seed_000 recycle=1 pLDDT=75.2 pTM=0.378 tol=0.567\n",
            "2025-10-05 21:15:51,346 alphafold2_ptm_model_4_seed_000 recycle=2 pLDDT=76.3 pTM=0.387 tol=0.234\n",
            "2025-10-05 21:15:55,509 alphafold2_ptm_model_4_seed_000 recycle=3 pLDDT=77.2 pTM=0.394 tol=0.411\n",
            "2025-10-05 21:15:55,510 alphafold2_ptm_model_4_seed_000 took 16.7s (3 recycles)\n",
            "2025-10-05 21:15:59,671 alphafold2_ptm_model_5_seed_000 recycle=0 pLDDT=76.2 pTM=0.388\n",
            "2025-10-05 21:16:03,829 alphafold2_ptm_model_5_seed_000 recycle=1 pLDDT=74.9 pTM=0.384 tol=0.3\n",
            "2025-10-05 21:16:07,991 alphafold2_ptm_model_5_seed_000 recycle=2 pLDDT=75.4 pTM=0.391 tol=0.143\n",
            "2025-10-05 21:16:12,156 alphafold2_ptm_model_5_seed_000 recycle=3 pLDDT=76.1 pTM=0.399 tol=0.294\n",
            "2025-10-05 21:16:12,156 alphafold2_ptm_model_5_seed_000 took 16.6s (3 recycles)\n",
            "2025-10-05 21:16:12,161 reranking models by 'plddt' metric\n",
            "2025-10-05 21:16:12,162 rank_001_alphafold2_ptm_model_4_seed_000 pLDDT=77.2 pTM=0.394\n",
            "2025-10-05 21:16:12,162 rank_002_alphafold2_ptm_model_5_seed_000 pLDDT=76.1 pTM=0.399\n",
            "2025-10-05 21:16:12,162 rank_003_alphafold2_ptm_model_1_seed_000 pLDDT=75.6 pTM=0.396\n",
            "2025-10-05 21:16:12,162 rank_004_alphafold2_ptm_model_3_seed_000 pLDDT=73.2 pTM=0.367\n",
            "2025-10-05 21:16:12,162 rank_005_alphafold2_ptm_model_2_seed_000 pLDDT=70.5 pTM=0.377\n",
            "2025-10-05 21:16:13,121 Query 104/200: seq_179_e409a (length 44)\n"
          ]
        },
        {
          "output_type": "stream",
          "name": "stderr",
          "text": [
            "PENDING:   0%|          | 0/150 [elapsed: 00:00 remaining: ?]"
          ]
        },
        {
          "output_type": "stream",
          "name": "stdout",
          "text": [
            "2025-10-05 21:16:13,396 Sleeping for 8s. Reason: PENDING\n"
          ]
        },
        {
          "output_type": "stream",
          "name": "stderr",
          "text": [
            "COMPLETE: 100%|██████████| 150/150 [elapsed: 00:08 remaining: 00:00]\n"
          ]
        },
        {
          "output_type": "stream",
          "name": "stdout",
          "text": [
            "2025-10-05 21:16:21,926 Sequence 0 found no templates\n",
            "2025-10-05 21:16:23,968 Padding length to 45\n",
            "2025-10-05 21:16:28,297 alphafold2_ptm_model_1_seed_000 recycle=0 pLDDT=79.8 pTM=0.392\n",
            "2025-10-05 21:16:32,458 alphafold2_ptm_model_1_seed_000 recycle=1 pLDDT=80.1 pTM=0.405 tol=0.162\n",
            "2025-10-05 21:16:36,628 alphafold2_ptm_model_1_seed_000 recycle=2 pLDDT=80.3 pTM=0.406 tol=0.0479\n",
            "2025-10-05 21:16:40,811 alphafold2_ptm_model_1_seed_000 recycle=3 pLDDT=79.9 pTM=0.407 tol=0.0925\n",
            "2025-10-05 21:16:40,812 alphafold2_ptm_model_1_seed_000 took 16.8s (3 recycles)\n",
            "2025-10-05 21:16:45,018 alphafold2_ptm_model_2_seed_000 recycle=0 pLDDT=79.2 pTM=0.41\n",
            "2025-10-05 21:16:49,225 alphafold2_ptm_model_2_seed_000 recycle=1 pLDDT=78.4 pTM=0.417 tol=0.214\n",
            "2025-10-05 21:16:53,445 alphafold2_ptm_model_2_seed_000 recycle=2 pLDDT=78.6 pTM=0.42 tol=0.0474\n",
            "2025-10-05 21:16:57,678 alphafold2_ptm_model_2_seed_000 recycle=3 pLDDT=78.7 pTM=0.421 tol=0.0787\n",
            "2025-10-05 21:16:57,679 alphafold2_ptm_model_2_seed_000 took 16.9s (3 recycles)\n",
            "2025-10-05 21:17:01,913 alphafold2_ptm_model_3_seed_000 recycle=0 pLDDT=81.2 pTM=0.385\n",
            "2025-10-05 21:17:06,147 alphafold2_ptm_model_3_seed_000 recycle=1 pLDDT=81.9 pTM=0.404 tol=0.152\n",
            "2025-10-05 21:17:10,371 alphafold2_ptm_model_3_seed_000 recycle=2 pLDDT=82.1 pTM=0.407 tol=0.0569\n",
            "2025-10-05 21:17:14,580 alphafold2_ptm_model_3_seed_000 recycle=3 pLDDT=82.9 pTM=0.418 tol=0.11\n",
            "2025-10-05 21:17:14,580 alphafold2_ptm_model_3_seed_000 took 16.9s (3 recycles)\n",
            "2025-10-05 21:17:18,778 alphafold2_ptm_model_4_seed_000 recycle=0 pLDDT=80.9 pTM=0.394\n",
            "2025-10-05 21:17:22,977 alphafold2_ptm_model_4_seed_000 recycle=1 pLDDT=81.2 pTM=0.414 tol=0.183\n",
            "2025-10-05 21:17:27,162 alphafold2_ptm_model_4_seed_000 recycle=2 pLDDT=80.6 pTM=0.41 tol=0.071\n",
            "2025-10-05 21:17:31,344 alphafold2_ptm_model_4_seed_000 recycle=3 pLDDT=80.6 pTM=0.417 tol=0.185\n",
            "2025-10-05 21:17:31,345 alphafold2_ptm_model_4_seed_000 took 16.8s (3 recycles)\n",
            "2025-10-05 21:17:35,512 alphafold2_ptm_model_5_seed_000 recycle=0 pLDDT=78.8 pTM=0.392\n",
            "2025-10-05 21:17:39,675 alphafold2_ptm_model_5_seed_000 recycle=1 pLDDT=78.2 pTM=0.399 tol=0.212\n",
            "2025-10-05 21:17:43,839 alphafold2_ptm_model_5_seed_000 recycle=2 pLDDT=79.2 pTM=0.408 tol=0.0782\n",
            "2025-10-05 21:17:48,002 alphafold2_ptm_model_5_seed_000 recycle=3 pLDDT=78.8 pTM=0.402 tol=0.279\n",
            "2025-10-05 21:17:48,003 alphafold2_ptm_model_5_seed_000 took 16.6s (3 recycles)\n",
            "2025-10-05 21:17:48,008 reranking models by 'plddt' metric\n",
            "2025-10-05 21:17:48,008 rank_001_alphafold2_ptm_model_3_seed_000 pLDDT=82.9 pTM=0.418\n",
            "2025-10-05 21:17:48,008 rank_002_alphafold2_ptm_model_4_seed_000 pLDDT=80.6 pTM=0.417\n",
            "2025-10-05 21:17:48,008 rank_003_alphafold2_ptm_model_1_seed_000 pLDDT=79.9 pTM=0.407\n",
            "2025-10-05 21:17:48,008 rank_004_alphafold2_ptm_model_5_seed_000 pLDDT=78.8 pTM=0.402\n",
            "2025-10-05 21:17:48,008 rank_005_alphafold2_ptm_model_2_seed_000 pLDDT=78.7 pTM=0.421\n",
            "2025-10-05 21:17:48,999 Query 105/200: seq_65_6d653 (length 45)\n"
          ]
        },
        {
          "output_type": "stream",
          "name": "stderr",
          "text": [
            "PENDING:   0%|          | 0/150 [elapsed: 00:00 remaining: ?]"
          ]
        },
        {
          "output_type": "stream",
          "name": "stdout",
          "text": [
            "2025-10-05 21:17:49,277 Sleeping for 5s. Reason: PENDING\n"
          ]
        },
        {
          "output_type": "stream",
          "name": "stderr",
          "text": [
            "COMPLETE: 100%|██████████| 150/150 [elapsed: 00:05 remaining: 00:00]\n"
          ]
        },
        {
          "output_type": "stream",
          "name": "stdout",
          "text": [
            "2025-10-05 21:17:54,810 Sequence 0 found no templates\n",
            "2025-10-05 21:18:01,752 alphafold2_ptm_model_1_seed_000 recycle=0 pLDDT=84.1 pTM=0.477\n",
            "2025-10-05 21:18:05,914 alphafold2_ptm_model_1_seed_000 recycle=1 pLDDT=85.6 pTM=0.5 tol=0.345\n",
            "2025-10-05 21:18:10,090 alphafold2_ptm_model_1_seed_000 recycle=2 pLDDT=85.8 pTM=0.498 tol=0.275\n",
            "2025-10-05 21:18:14,281 alphafold2_ptm_model_1_seed_000 recycle=3 pLDDT=86.8 pTM=0.506 tol=0.32\n",
            "2025-10-05 21:18:14,282 alphafold2_ptm_model_1_seed_000 took 16.8s (3 recycles)\n",
            "2025-10-05 21:18:18,499 alphafold2_ptm_model_2_seed_000 recycle=0 pLDDT=77.9 pTM=0.412\n",
            "2025-10-05 21:18:22,726 alphafold2_ptm_model_2_seed_000 recycle=1 pLDDT=79.4 pTM=0.429 tol=0.206\n",
            "2025-10-05 21:18:26,968 alphafold2_ptm_model_2_seed_000 recycle=2 pLDDT=79.2 pTM=0.429 tol=0.073\n",
            "2025-10-05 21:18:31,227 alphafold2_ptm_model_2_seed_000 recycle=3 pLDDT=79.9 pTM=0.434 tol=0.115\n",
            "2025-10-05 21:18:31,228 alphafold2_ptm_model_2_seed_000 took 16.9s (3 recycles)\n",
            "2025-10-05 21:18:35,471 alphafold2_ptm_model_3_seed_000 recycle=0 pLDDT=82.8 pTM=0.446\n",
            "2025-10-05 21:18:39,704 alphafold2_ptm_model_3_seed_000 recycle=1 pLDDT=84.4 pTM=0.484 tol=0.237\n",
            "2025-10-05 21:18:43,915 alphafold2_ptm_model_3_seed_000 recycle=2 pLDDT=84.6 pTM=0.487 tol=0.278\n",
            "2025-10-05 21:18:48,118 alphafold2_ptm_model_3_seed_000 recycle=3 pLDDT=85.1 pTM=0.495 tol=0.253\n",
            "2025-10-05 21:18:48,118 alphafold2_ptm_model_3_seed_000 took 16.9s (3 recycles)\n",
            "2025-10-05 21:18:52,296 alphafold2_ptm_model_4_seed_000 recycle=0 pLDDT=81.8 pTM=0.421\n",
            "2025-10-05 21:18:56,473 alphafold2_ptm_model_4_seed_000 recycle=1 pLDDT=83.5 pTM=0.446 tol=0.521\n",
            "2025-10-05 21:19:00,637 alphafold2_ptm_model_4_seed_000 recycle=2 pLDDT=83.3 pTM=0.447 tol=0.268\n",
            "2025-10-05 21:19:04,796 alphafold2_ptm_model_4_seed_000 recycle=3 pLDDT=84.1 pTM=0.456 tol=0.307\n",
            "2025-10-05 21:19:04,796 alphafold2_ptm_model_4_seed_000 took 16.7s (3 recycles)\n",
            "2025-10-05 21:19:08,959 alphafold2_ptm_model_5_seed_000 recycle=0 pLDDT=79.8 pTM=0.432\n",
            "2025-10-05 21:19:13,126 alphafold2_ptm_model_5_seed_000 recycle=1 pLDDT=81.5 pTM=0.455 tol=0.32\n",
            "2025-10-05 21:19:17,291 alphafold2_ptm_model_5_seed_000 recycle=2 pLDDT=81.1 pTM=0.448 tol=0.131\n",
            "2025-10-05 21:19:21,466 alphafold2_ptm_model_5_seed_000 recycle=3 pLDDT=81.6 pTM=0.457 tol=0.305\n",
            "2025-10-05 21:19:21,466 alphafold2_ptm_model_5_seed_000 took 16.7s (3 recycles)\n",
            "2025-10-05 21:19:21,475 reranking models by 'plddt' metric\n",
            "2025-10-05 21:19:21,476 rank_001_alphafold2_ptm_model_1_seed_000 pLDDT=86.8 pTM=0.506\n",
            "2025-10-05 21:19:21,476 rank_002_alphafold2_ptm_model_3_seed_000 pLDDT=85.1 pTM=0.495\n",
            "2025-10-05 21:19:21,476 rank_003_alphafold2_ptm_model_4_seed_000 pLDDT=84.1 pTM=0.456\n",
            "2025-10-05 21:19:21,477 rank_004_alphafold2_ptm_model_5_seed_000 pLDDT=81.6 pTM=0.457\n",
            "2025-10-05 21:19:21,477 rank_005_alphafold2_ptm_model_2_seed_000 pLDDT=79.9 pTM=0.434\n",
            "2025-10-05 21:19:22,506 Query 106/200: seq_77_b43b6 (length 45)\n"
          ]
        },
        {
          "output_type": "stream",
          "name": "stderr",
          "text": [
            "PENDING:   0%|          | 0/150 [elapsed: 00:00 remaining: ?]"
          ]
        },
        {
          "output_type": "stream",
          "name": "stdout",
          "text": [
            "2025-10-05 21:19:22,796 Sleeping for 10s. Reason: PENDING\n"
          ]
        },
        {
          "output_type": "stream",
          "name": "stderr",
          "text": [
            "COMPLETE: 100%|██████████| 150/150 [elapsed: 00:11 remaining: 00:00]\n"
          ]
        },
        {
          "output_type": "stream",
          "name": "stdout",
          "text": [
            "2025-10-05 21:19:33,662 Sequence 0 found no templates\n",
            "2025-10-05 21:19:40,597 alphafold2_ptm_model_1_seed_000 recycle=0 pLDDT=81.2 pTM=0.434\n",
            "2025-10-05 21:19:44,831 alphafold2_ptm_model_1_seed_000 recycle=1 pLDDT=80.7 pTM=0.43 tol=1.69\n",
            "2025-10-05 21:19:49,097 alphafold2_ptm_model_1_seed_000 recycle=2 pLDDT=80.2 pTM=0.426 tol=0.806\n",
            "2025-10-05 21:19:53,367 alphafold2_ptm_model_1_seed_000 recycle=3 pLDDT=80.1 pTM=0.43 tol=1.15\n",
            "2025-10-05 21:19:53,367 alphafold2_ptm_model_1_seed_000 took 17.1s (3 recycles)\n",
            "2025-10-05 21:19:57,663 alphafold2_ptm_model_2_seed_000 recycle=0 pLDDT=76.4 pTM=0.41\n",
            "2025-10-05 21:20:01,967 alphafold2_ptm_model_2_seed_000 recycle=1 pLDDT=75.6 pTM=0.404 tol=0.524\n",
            "2025-10-05 21:20:06,297 alphafold2_ptm_model_2_seed_000 recycle=2 pLDDT=74.8 pTM=0.397 tol=0.175\n",
            "2025-10-05 21:20:10,636 alphafold2_ptm_model_2_seed_000 recycle=3 pLDDT=76.1 pTM=0.41 tol=0.168\n",
            "2025-10-05 21:20:10,637 alphafold2_ptm_model_2_seed_000 took 17.3s (3 recycles)\n",
            "2025-10-05 21:20:14,954 alphafold2_ptm_model_3_seed_000 recycle=0 pLDDT=83.4 pTM=0.437\n",
            "2025-10-05 21:20:19,269 alphafold2_ptm_model_3_seed_000 recycle=1 pLDDT=84.2 pTM=0.451 tol=1.24\n",
            "2025-10-05 21:20:23,562 alphafold2_ptm_model_3_seed_000 recycle=2 pLDDT=83.9 pTM=0.462 tol=1.79\n",
            "2025-10-05 21:20:27,843 alphafold2_ptm_model_3_seed_000 recycle=3 pLDDT=85.1 pTM=0.469 tol=1.53\n",
            "2025-10-05 21:20:27,844 alphafold2_ptm_model_3_seed_000 took 17.2s (3 recycles)\n",
            "2025-10-05 21:20:32,117 alphafold2_ptm_model_4_seed_000 recycle=0 pLDDT=74.6 pTM=0.35\n",
            "2025-10-05 21:20:36,386 alphafold2_ptm_model_4_seed_000 recycle=1 pLDDT=74.4 pTM=0.352 tol=0.588\n",
            "2025-10-05 21:20:40,630 alphafold2_ptm_model_4_seed_000 recycle=2 pLDDT=74.4 pTM=0.358 tol=0.409\n",
            "2025-10-05 21:20:44,877 alphafold2_ptm_model_4_seed_000 recycle=3 pLDDT=76.1 pTM=0.375 tol=0.59\n",
            "2025-10-05 21:20:44,878 alphafold2_ptm_model_4_seed_000 took 17.0s (3 recycles)\n",
            "2025-10-05 21:20:49,107 alphafold2_ptm_model_5_seed_000 recycle=0 pLDDT=87.6 pTM=0.479\n",
            "2025-10-05 21:20:53,336 alphafold2_ptm_model_5_seed_000 recycle=1 pLDDT=86.8 pTM=0.463 tol=0.74\n",
            "2025-10-05 21:20:57,566 alphafold2_ptm_model_5_seed_000 recycle=2 pLDDT=84.8 pTM=0.451 tol=0.535\n",
            "2025-10-05 21:21:01,800 alphafold2_ptm_model_5_seed_000 recycle=3 pLDDT=85.4 pTM=0.456 tol=0.624\n",
            "2025-10-05 21:21:01,800 alphafold2_ptm_model_5_seed_000 took 16.9s (3 recycles)\n",
            "2025-10-05 21:21:01,805 reranking models by 'plddt' metric\n",
            "2025-10-05 21:21:01,805 rank_001_alphafold2_ptm_model_5_seed_000 pLDDT=85.4 pTM=0.456\n",
            "2025-10-05 21:21:01,806 rank_002_alphafold2_ptm_model_3_seed_000 pLDDT=85.1 pTM=0.469\n",
            "2025-10-05 21:21:01,806 rank_003_alphafold2_ptm_model_1_seed_000 pLDDT=80.1 pTM=0.43\n",
            "2025-10-05 21:21:01,806 rank_004_alphafold2_ptm_model_4_seed_000 pLDDT=76.1 pTM=0.375\n",
            "2025-10-05 21:21:01,806 rank_005_alphafold2_ptm_model_2_seed_000 pLDDT=76.1 pTM=0.41\n",
            "2025-10-05 21:21:05,443 Query 107/200: seq_89_efe8b (length 45)\n"
          ]
        },
        {
          "output_type": "stream",
          "name": "stderr",
          "text": [
            "PENDING:   0%|          | 0/150 [elapsed: 00:00 remaining: ?]"
          ]
        },
        {
          "output_type": "stream",
          "name": "stdout",
          "text": [
            "2025-10-05 21:21:05,737 Sleeping for 7s. Reason: PENDING\n"
          ]
        },
        {
          "output_type": "stream",
          "name": "stderr",
          "text": [
            "COMPLETE: 100%|██████████| 150/150 [elapsed: 00:07 remaining: 00:00]\n"
          ]
        },
        {
          "output_type": "stream",
          "name": "stdout",
          "text": [
            "2025-10-05 21:21:13,269 Sequence 0 found no templates\n",
            "2025-10-05 21:21:19,806 alphafold2_ptm_model_1_seed_000 recycle=0 pLDDT=61.6 pTM=0.328\n",
            "2025-10-05 21:21:23,962 alphafold2_ptm_model_1_seed_000 recycle=1 pLDDT=60.9 pTM=0.33 tol=2.3\n",
            "2025-10-05 21:21:28,134 alphafold2_ptm_model_1_seed_000 recycle=2 pLDDT=61.9 pTM=0.338 tol=0.879\n",
            "2025-10-05 21:21:32,325 alphafold2_ptm_model_1_seed_000 recycle=3 pLDDT=62.1 pTM=0.34 tol=0.889\n",
            "2025-10-05 21:21:32,325 alphafold2_ptm_model_1_seed_000 took 16.8s (3 recycles)\n",
            "2025-10-05 21:21:36,549 alphafold2_ptm_model_2_seed_000 recycle=0 pLDDT=58.2 pTM=0.306\n",
            "2025-10-05 21:21:40,770 alphafold2_ptm_model_2_seed_000 recycle=1 pLDDT=58.6 pTM=0.317 tol=2.25\n",
            "2025-10-05 21:21:45,005 alphafold2_ptm_model_2_seed_000 recycle=2 pLDDT=59.1 pTM=0.322 tol=0.747\n",
            "2025-10-05 21:21:49,251 alphafold2_ptm_model_2_seed_000 recycle=3 pLDDT=60 pTM=0.324 tol=1.07\n",
            "2025-10-05 21:21:49,252 alphafold2_ptm_model_2_seed_000 took 16.9s (3 recycles)\n",
            "2025-10-05 21:21:53,479 alphafold2_ptm_model_3_seed_000 recycle=0 pLDDT=61.3 pTM=0.311\n",
            "2025-10-05 21:21:57,691 alphafold2_ptm_model_3_seed_000 recycle=1 pLDDT=63.7 pTM=0.326 tol=1.56\n",
            "2025-10-05 21:22:01,889 alphafold2_ptm_model_3_seed_000 recycle=2 pLDDT=64.2 pTM=0.337 tol=1.36\n",
            "2025-10-05 21:22:06,081 alphafold2_ptm_model_3_seed_000 recycle=3 pLDDT=64.3 pTM=0.341 tol=1.34\n",
            "2025-10-05 21:22:06,081 alphafold2_ptm_model_3_seed_000 took 16.8s (3 recycles)\n",
            "2025-10-05 21:22:10,247 alphafold2_ptm_model_4_seed_000 recycle=0 pLDDT=59 pTM=0.303\n",
            "2025-10-05 21:22:14,402 alphafold2_ptm_model_4_seed_000 recycle=1 pLDDT=60.7 pTM=0.318 tol=2.15\n",
            "2025-10-05 21:22:18,556 alphafold2_ptm_model_4_seed_000 recycle=2 pLDDT=61.7 pTM=0.325 tol=1.24\n",
            "2025-10-05 21:22:22,707 alphafold2_ptm_model_4_seed_000 recycle=3 pLDDT=62.4 pTM=0.331 tol=0.615\n",
            "2025-10-05 21:22:22,708 alphafold2_ptm_model_4_seed_000 took 16.6s (3 recycles)\n",
            "2025-10-05 21:22:26,864 alphafold2_ptm_model_5_seed_000 recycle=0 pLDDT=60.4 pTM=0.331\n",
            "2025-10-05 21:22:31,027 alphafold2_ptm_model_5_seed_000 recycle=1 pLDDT=61.1 pTM=0.341 tol=1.62\n",
            "2025-10-05 21:22:35,185 alphafold2_ptm_model_5_seed_000 recycle=2 pLDDT=62.3 pTM=0.345 tol=0.988\n",
            "2025-10-05 21:22:39,344 alphafold2_ptm_model_5_seed_000 recycle=3 pLDDT=62.8 pTM=0.347 tol=0.647\n",
            "2025-10-05 21:22:39,345 alphafold2_ptm_model_5_seed_000 took 16.6s (3 recycles)\n",
            "2025-10-05 21:22:39,351 reranking models by 'plddt' metric\n",
            "2025-10-05 21:22:39,351 rank_001_alphafold2_ptm_model_3_seed_000 pLDDT=64.3 pTM=0.341\n",
            "2025-10-05 21:22:39,351 rank_002_alphafold2_ptm_model_5_seed_000 pLDDT=62.8 pTM=0.347\n",
            "2025-10-05 21:22:39,351 rank_003_alphafold2_ptm_model_4_seed_000 pLDDT=62.4 pTM=0.331\n",
            "2025-10-05 21:22:39,351 rank_004_alphafold2_ptm_model_1_seed_000 pLDDT=62.1 pTM=0.34\n",
            "2025-10-05 21:22:39,351 rank_005_alphafold2_ptm_model_2_seed_000 pLDDT=60 pTM=0.324\n",
            "2025-10-05 21:22:40,323 Query 108/200: seq_111_cada2 (length 45)\n"
          ]
        },
        {
          "output_type": "stream",
          "name": "stderr",
          "text": [
            "PENDING:   0%|          | 0/150 [elapsed: 00:00 remaining: ?]"
          ]
        },
        {
          "output_type": "stream",
          "name": "stdout",
          "text": [
            "2025-10-05 21:22:40,605 Sleeping for 9s. Reason: PENDING\n"
          ]
        },
        {
          "output_type": "stream",
          "name": "stderr",
          "text": [
            "COMPLETE: 100%|██████████| 150/150 [elapsed: 00:09 remaining: 00:00]\n"
          ]
        },
        {
          "output_type": "stream",
          "name": "stdout",
          "text": [
            "2025-10-05 21:22:50,137 Sequence 0 found no templates\n",
            "2025-10-05 21:22:56,434 alphafold2_ptm_model_1_seed_000 recycle=0 pLDDT=61.8 pTM=0.305\n",
            "2025-10-05 21:23:00,581 alphafold2_ptm_model_1_seed_000 recycle=1 pLDDT=61.6 pTM=0.298 tol=1.62\n",
            "2025-10-05 21:23:04,744 alphafold2_ptm_model_1_seed_000 recycle=2 pLDDT=61.4 pTM=0.295 tol=0.424\n",
            "2025-10-05 21:23:08,923 alphafold2_ptm_model_1_seed_000 recycle=3 pLDDT=61.1 pTM=0.299 tol=0.258\n",
            "2025-10-05 21:23:08,924 alphafold2_ptm_model_1_seed_000 took 16.8s (3 recycles)\n",
            "2025-10-05 21:23:13,132 alphafold2_ptm_model_2_seed_000 recycle=0 pLDDT=59.7 pTM=0.287\n",
            "2025-10-05 21:23:17,346 alphafold2_ptm_model_2_seed_000 recycle=1 pLDDT=58.9 pTM=0.287 tol=0.805\n",
            "2025-10-05 21:23:21,580 alphafold2_ptm_model_2_seed_000 recycle=2 pLDDT=58 pTM=0.282 tol=0.594\n",
            "2025-10-05 21:23:25,819 alphafold2_ptm_model_2_seed_000 recycle=3 pLDDT=58.2 pTM=0.283 tol=0.112\n",
            "2025-10-05 21:23:25,819 alphafold2_ptm_model_2_seed_000 took 16.9s (3 recycles)\n",
            "2025-10-05 21:23:30,027 alphafold2_ptm_model_3_seed_000 recycle=0 pLDDT=58 pTM=0.254\n",
            "2025-10-05 21:23:34,244 alphafold2_ptm_model_3_seed_000 recycle=1 pLDDT=56.5 pTM=0.239 tol=1.58\n",
            "2025-10-05 21:23:38,430 alphafold2_ptm_model_3_seed_000 recycle=2 pLDDT=55.9 pTM=0.238 tol=0.476\n",
            "2025-10-05 21:23:42,606 alphafold2_ptm_model_3_seed_000 recycle=3 pLDDT=55.3 pTM=0.242 tol=0.333\n",
            "2025-10-05 21:23:42,606 alphafold2_ptm_model_3_seed_000 took 16.8s (3 recycles)\n",
            "2025-10-05 21:23:46,776 alphafold2_ptm_model_4_seed_000 recycle=0 pLDDT=57.8 pTM=0.272\n",
            "2025-10-05 21:23:50,937 alphafold2_ptm_model_4_seed_000 recycle=1 pLDDT=54.8 pTM=0.265 tol=0.444\n",
            "2025-10-05 21:23:55,096 alphafold2_ptm_model_4_seed_000 recycle=2 pLDDT=54.4 pTM=0.263 tol=0.632\n",
            "2025-10-05 21:23:59,251 alphafold2_ptm_model_4_seed_000 recycle=3 pLDDT=54.7 pTM=0.269 tol=1.36\n",
            "2025-10-05 21:23:59,252 alphafold2_ptm_model_4_seed_000 took 16.6s (3 recycles)\n",
            "2025-10-05 21:24:03,384 alphafold2_ptm_model_5_seed_000 recycle=0 pLDDT=62.4 pTM=0.293\n",
            "2025-10-05 21:24:07,523 alphafold2_ptm_model_5_seed_000 recycle=1 pLDDT=59.8 pTM=0.281 tol=0.366\n",
            "2025-10-05 21:24:11,669 alphafold2_ptm_model_5_seed_000 recycle=2 pLDDT=59.4 pTM=0.279 tol=0.276\n",
            "2025-10-05 21:24:15,813 alphafold2_ptm_model_5_seed_000 recycle=3 pLDDT=60 pTM=0.283 tol=0.205\n",
            "2025-10-05 21:24:15,814 alphafold2_ptm_model_5_seed_000 took 16.6s (3 recycles)\n",
            "2025-10-05 21:24:15,820 reranking models by 'plddt' metric\n",
            "2025-10-05 21:24:15,820 rank_001_alphafold2_ptm_model_1_seed_000 pLDDT=61.1 pTM=0.299\n",
            "2025-10-05 21:24:15,820 rank_002_alphafold2_ptm_model_5_seed_000 pLDDT=60 pTM=0.283\n",
            "2025-10-05 21:24:15,820 rank_003_alphafold2_ptm_model_2_seed_000 pLDDT=58.2 pTM=0.283\n",
            "2025-10-05 21:24:15,820 rank_004_alphafold2_ptm_model_3_seed_000 pLDDT=55.3 pTM=0.242\n",
            "2025-10-05 21:24:15,821 rank_005_alphafold2_ptm_model_4_seed_000 pLDDT=54.7 pTM=0.269\n",
            "2025-10-05 21:24:16,837 Query 109/200: seq_150_6f659 (length 45)\n"
          ]
        },
        {
          "output_type": "stream",
          "name": "stderr",
          "text": [
            "PENDING:   0%|          | 0/150 [elapsed: 00:00 remaining: ?]"
          ]
        },
        {
          "output_type": "stream",
          "name": "stdout",
          "text": [
            "2025-10-05 21:24:17,117 Sleeping for 7s. Reason: PENDING\n"
          ]
        },
        {
          "output_type": "stream",
          "name": "stderr",
          "text": [
            "COMPLETE: 100%|██████████| 150/150 [elapsed: 00:07 remaining: 00:00]\n"
          ]
        },
        {
          "output_type": "stream",
          "name": "stdout",
          "text": [
            "2025-10-05 21:24:24,650 Sequence 0 found no templates\n",
            "2025-10-05 21:24:31,054 alphafold2_ptm_model_1_seed_000 recycle=0 pLDDT=65.8 pTM=0.366\n",
            "2025-10-05 21:24:35,228 alphafold2_ptm_model_1_seed_000 recycle=1 pLDDT=66.2 pTM=0.375 tol=0.973\n",
            "2025-10-05 21:24:39,422 alphafold2_ptm_model_1_seed_000 recycle=2 pLDDT=66.6 pTM=0.376 tol=0.639\n",
            "2025-10-05 21:24:43,631 alphafold2_ptm_model_1_seed_000 recycle=3 pLDDT=67.1 pTM=0.375 tol=0.21\n",
            "2025-10-05 21:24:43,632 alphafold2_ptm_model_1_seed_000 took 16.9s (3 recycles)\n",
            "2025-10-05 21:24:47,866 alphafold2_ptm_model_2_seed_000 recycle=0 pLDDT=64.4 pTM=0.357\n",
            "2025-10-05 21:24:52,096 alphafold2_ptm_model_2_seed_000 recycle=1 pLDDT=64.7 pTM=0.366 tol=2.61\n",
            "2025-10-05 21:24:56,346 alphafold2_ptm_model_2_seed_000 recycle=2 pLDDT=64.4 pTM=0.366 tol=2.19\n",
            "2025-10-05 21:25:00,598 alphafold2_ptm_model_2_seed_000 recycle=3 pLDDT=65.3 pTM=0.366 tol=1.27\n",
            "2025-10-05 21:25:00,599 alphafold2_ptm_model_2_seed_000 took 17.0s (3 recycles)\n",
            "2025-10-05 21:25:04,833 alphafold2_ptm_model_3_seed_000 recycle=0 pLDDT=69.1 pTM=0.363\n",
            "2025-10-05 21:25:09,052 alphafold2_ptm_model_3_seed_000 recycle=1 pLDDT=68.5 pTM=0.37 tol=1.25\n",
            "2025-10-05 21:25:13,263 alphafold2_ptm_model_3_seed_000 recycle=2 pLDDT=69.1 pTM=0.37 tol=1.68\n",
            "2025-10-05 21:25:17,463 alphafold2_ptm_model_3_seed_000 recycle=3 pLDDT=70 pTM=0.372 tol=1.54\n",
            "2025-10-05 21:25:17,464 alphafold2_ptm_model_3_seed_000 took 16.9s (3 recycles)\n",
            "2025-10-05 21:25:21,635 alphafold2_ptm_model_4_seed_000 recycle=0 pLDDT=65.6 pTM=0.355\n",
            "2025-10-05 21:25:25,808 alphafold2_ptm_model_4_seed_000 recycle=1 pLDDT=66.2 pTM=0.372 tol=2.33\n",
            "2025-10-05 21:25:29,975 alphafold2_ptm_model_4_seed_000 recycle=2 pLDDT=66.5 pTM=0.371 tol=1.49\n",
            "2025-10-05 21:25:34,140 alphafold2_ptm_model_4_seed_000 recycle=3 pLDDT=67.4 pTM=0.375 tol=0.243\n",
            "2025-10-05 21:25:34,141 alphafold2_ptm_model_4_seed_000 took 16.7s (3 recycles)\n",
            "2025-10-05 21:25:38,302 alphafold2_ptm_model_5_seed_000 recycle=0 pLDDT=66.1 pTM=0.368\n",
            "2025-10-05 21:25:42,471 alphafold2_ptm_model_5_seed_000 recycle=1 pLDDT=66.9 pTM=0.38 tol=0.612\n",
            "2025-10-05 21:25:46,645 alphafold2_ptm_model_5_seed_000 recycle=2 pLDDT=67.2 pTM=0.384 tol=0.614\n",
            "2025-10-05 21:25:50,818 alphafold2_ptm_model_5_seed_000 recycle=3 pLDDT=67.4 pTM=0.384 tol=0.323\n",
            "2025-10-05 21:25:50,819 alphafold2_ptm_model_5_seed_000 took 16.7s (3 recycles)\n",
            "2025-10-05 21:25:50,824 reranking models by 'plddt' metric\n",
            "2025-10-05 21:25:50,824 rank_001_alphafold2_ptm_model_3_seed_000 pLDDT=70 pTM=0.372\n",
            "2025-10-05 21:25:50,825 rank_002_alphafold2_ptm_model_5_seed_000 pLDDT=67.4 pTM=0.384\n",
            "2025-10-05 21:25:50,825 rank_003_alphafold2_ptm_model_4_seed_000 pLDDT=67.4 pTM=0.375\n",
            "2025-10-05 21:25:50,825 rank_004_alphafold2_ptm_model_1_seed_000 pLDDT=67.1 pTM=0.375\n",
            "2025-10-05 21:25:50,825 rank_005_alphafold2_ptm_model_2_seed_000 pLDDT=65.3 pTM=0.366\n",
            "2025-10-05 21:25:51,801 Query 110/200: seq_159_17cd3 (length 45)\n"
          ]
        },
        {
          "output_type": "stream",
          "name": "stderr",
          "text": [
            "PENDING:   0%|          | 0/150 [elapsed: 00:00 remaining: ?]"
          ]
        },
        {
          "output_type": "stream",
          "name": "stdout",
          "text": [
            "2025-10-05 21:25:52,102 Sleeping for 5s. Reason: PENDING\n"
          ]
        },
        {
          "output_type": "stream",
          "name": "stderr",
          "text": [
            "COMPLETE: 100%|██████████| 150/150 [elapsed: 00:05 remaining: 00:00]\n"
          ]
        },
        {
          "output_type": "stream",
          "name": "stdout",
          "text": [
            "2025-10-05 21:25:57,630 Sequence 0 found no templates\n",
            "2025-10-05 21:26:03,973 alphafold2_ptm_model_1_seed_000 recycle=0 pLDDT=58.4 pTM=0.338\n",
            "2025-10-05 21:26:08,130 alphafold2_ptm_model_1_seed_000 recycle=1 pLDDT=58.2 pTM=0.347 tol=1.59\n",
            "2025-10-05 21:26:12,310 alphafold2_ptm_model_1_seed_000 recycle=2 pLDDT=58.7 pTM=0.35 tol=0.96\n",
            "2025-10-05 21:26:16,513 alphafold2_ptm_model_1_seed_000 recycle=3 pLDDT=58.7 pTM=0.35 tol=0.723\n",
            "2025-10-05 21:26:16,513 alphafold2_ptm_model_1_seed_000 took 16.9s (3 recycles)\n",
            "2025-10-05 21:26:20,747 alphafold2_ptm_model_2_seed_000 recycle=0 pLDDT=54.1 pTM=0.3\n",
            "2025-10-05 21:26:24,982 alphafold2_ptm_model_2_seed_000 recycle=1 pLDDT=55.1 pTM=0.306 tol=1.94\n",
            "2025-10-05 21:26:29,232 alphafold2_ptm_model_2_seed_000 recycle=2 pLDDT=55.6 pTM=0.304 tol=0.631\n",
            "2025-10-05 21:26:33,475 alphafold2_ptm_model_2_seed_000 recycle=3 pLDDT=55.7 pTM=0.31 tol=0.34\n",
            "2025-10-05 21:26:33,475 alphafold2_ptm_model_2_seed_000 took 17.0s (3 recycles)\n",
            "2025-10-05 21:26:37,687 alphafold2_ptm_model_3_seed_000 recycle=0 pLDDT=56 pTM=0.278\n",
            "2025-10-05 21:26:41,892 alphafold2_ptm_model_3_seed_000 recycle=1 pLDDT=56.3 pTM=0.291 tol=1.62\n",
            "2025-10-05 21:26:46,085 alphafold2_ptm_model_3_seed_000 recycle=2 pLDDT=56.5 pTM=0.281 tol=1.03\n",
            "2025-10-05 21:26:50,265 alphafold2_ptm_model_3_seed_000 recycle=3 pLDDT=57 pTM=0.287 tol=0.28\n",
            "2025-10-05 21:26:50,266 alphafold2_ptm_model_3_seed_000 took 16.8s (3 recycles)\n",
            "2025-10-05 21:26:54,437 alphafold2_ptm_model_4_seed_000 recycle=0 pLDDT=53.2 pTM=0.271\n",
            "2025-10-05 21:26:58,599 alphafold2_ptm_model_4_seed_000 recycle=1 pLDDT=56.2 pTM=0.295 tol=1.56\n",
            "2025-10-05 21:27:02,759 alphafold2_ptm_model_4_seed_000 recycle=2 pLDDT=56.9 pTM=0.302 tol=0.622\n",
            "2025-10-05 21:27:06,925 alphafold2_ptm_model_4_seed_000 recycle=3 pLDDT=57.4 pTM=0.305 tol=0.642\n",
            "2025-10-05 21:27:06,925 alphafold2_ptm_model_4_seed_000 took 16.7s (3 recycles)\n",
            "2025-10-05 21:27:11,071 alphafold2_ptm_model_5_seed_000 recycle=0 pLDDT=53.3 pTM=0.295\n",
            "2025-10-05 21:27:15,220 alphafold2_ptm_model_5_seed_000 recycle=1 pLDDT=55.2 pTM=0.306 tol=1.9\n",
            "2025-10-05 21:27:19,369 alphafold2_ptm_model_5_seed_000 recycle=2 pLDDT=56.7 pTM=0.31 tol=0.771\n",
            "2025-10-05 21:27:23,522 alphafold2_ptm_model_5_seed_000 recycle=3 pLDDT=57.2 pTM=0.314 tol=0.345\n",
            "2025-10-05 21:27:23,522 alphafold2_ptm_model_5_seed_000 took 16.6s (3 recycles)\n",
            "2025-10-05 21:27:23,527 reranking models by 'plddt' metric\n",
            "2025-10-05 21:27:23,528 rank_001_alphafold2_ptm_model_1_seed_000 pLDDT=58.7 pTM=0.35\n",
            "2025-10-05 21:27:23,528 rank_002_alphafold2_ptm_model_4_seed_000 pLDDT=57.4 pTM=0.305\n",
            "2025-10-05 21:27:23,528 rank_003_alphafold2_ptm_model_5_seed_000 pLDDT=57.2 pTM=0.314\n",
            "2025-10-05 21:27:23,528 rank_004_alphafold2_ptm_model_3_seed_000 pLDDT=57 pTM=0.287\n",
            "2025-10-05 21:27:23,528 rank_005_alphafold2_ptm_model_2_seed_000 pLDDT=55.7 pTM=0.31\n",
            "2025-10-05 21:27:24,530 Query 111/200: seq_164_06d34 (length 45)\n"
          ]
        },
        {
          "output_type": "stream",
          "name": "stderr",
          "text": [
            "PENDING:   0%|          | 0/150 [elapsed: 00:00 remaining: ?]"
          ]
        },
        {
          "output_type": "stream",
          "name": "stdout",
          "text": [
            "2025-10-05 21:27:24,806 Sleeping for 5s. Reason: PENDING\n"
          ]
        },
        {
          "output_type": "stream",
          "name": "stderr",
          "text": [
            "RUNNING:   3%|▎         | 5/150 [elapsed: 00:05 remaining: 02:40]"
          ]
        },
        {
          "output_type": "stream",
          "name": "stdout",
          "text": [
            "2025-10-05 21:27:30,072 Sleeping for 9s. Reason: RUNNING\n"
          ]
        },
        {
          "output_type": "stream",
          "name": "stderr",
          "text": [
            "COMPLETE: 100%|██████████| 150/150 [elapsed: 00:15 remaining: 00:00]\n"
          ]
        },
        {
          "output_type": "stream",
          "name": "stdout",
          "text": [
            "2025-10-05 21:27:39,609 Sequence 0 found no templates\n",
            "2025-10-05 21:27:46,452 alphafold2_ptm_model_1_seed_000 recycle=0 pLDDT=79.3 pTM=0.472\n",
            "2025-10-05 21:27:50,610 alphafold2_ptm_model_1_seed_000 recycle=1 pLDDT=79.1 pTM=0.472 tol=0.578\n",
            "2025-10-05 21:27:54,790 alphafold2_ptm_model_1_seed_000 recycle=2 pLDDT=78.8 pTM=0.475 tol=0.417\n",
            "2025-10-05 21:27:58,987 alphafold2_ptm_model_1_seed_000 recycle=3 pLDDT=79.4 pTM=0.476 tol=0.797\n",
            "2025-10-05 21:27:58,988 alphafold2_ptm_model_1_seed_000 took 16.8s (3 recycles)\n",
            "2025-10-05 21:28:03,211 alphafold2_ptm_model_2_seed_000 recycle=0 pLDDT=78.5 pTM=0.451\n",
            "2025-10-05 21:28:07,444 alphafold2_ptm_model_2_seed_000 recycle=1 pLDDT=78.6 pTM=0.464 tol=0.465\n",
            "2025-10-05 21:28:11,692 alphafold2_ptm_model_2_seed_000 recycle=2 pLDDT=78.8 pTM=0.47 tol=0.124\n",
            "2025-10-05 21:28:15,943 alphafold2_ptm_model_2_seed_000 recycle=3 pLDDT=79.2 pTM=0.475 tol=0.147\n",
            "2025-10-05 21:28:15,944 alphafold2_ptm_model_2_seed_000 took 17.0s (3 recycles)\n",
            "2025-10-05 21:28:20,177 alphafold2_ptm_model_3_seed_000 recycle=0 pLDDT=82.2 pTM=0.448\n",
            "2025-10-05 21:28:24,397 alphafold2_ptm_model_3_seed_000 recycle=1 pLDDT=82.3 pTM=0.442 tol=0.542\n",
            "2025-10-05 21:28:28,601 alphafold2_ptm_model_3_seed_000 recycle=2 pLDDT=82.3 pTM=0.452 tol=0.391\n",
            "2025-10-05 21:28:32,794 alphafold2_ptm_model_3_seed_000 recycle=3 pLDDT=82.8 pTM=0.455 tol=0.183\n",
            "2025-10-05 21:28:32,795 alphafold2_ptm_model_3_seed_000 took 16.8s (3 recycles)\n",
            "2025-10-05 21:28:36,958 alphafold2_ptm_model_4_seed_000 recycle=0 pLDDT=78.8 pTM=0.433\n",
            "2025-10-05 21:28:41,118 alphafold2_ptm_model_4_seed_000 recycle=1 pLDDT=78.9 pTM=0.437 tol=0.349\n",
            "2025-10-05 21:28:45,272 alphafold2_ptm_model_4_seed_000 recycle=2 pLDDT=79 pTM=0.438 tol=0.266\n",
            "2025-10-05 21:28:49,424 alphafold2_ptm_model_4_seed_000 recycle=3 pLDDT=79.4 pTM=0.441 tol=0.372\n",
            "2025-10-05 21:28:49,425 alphafold2_ptm_model_4_seed_000 took 16.6s (3 recycles)\n",
            "2025-10-05 21:28:53,579 alphafold2_ptm_model_5_seed_000 recycle=0 pLDDT=80.4 pTM=0.438\n",
            "2025-10-05 21:28:57,737 alphafold2_ptm_model_5_seed_000 recycle=1 pLDDT=81.4 pTM=0.451 tol=0.337\n",
            "2025-10-05 21:29:01,893 alphafold2_ptm_model_5_seed_000 recycle=2 pLDDT=81.6 pTM=0.459 tol=0.356\n",
            "2025-10-05 21:29:06,056 alphafold2_ptm_model_5_seed_000 recycle=3 pLDDT=82.1 pTM=0.462 tol=0.193\n",
            "2025-10-05 21:29:06,057 alphafold2_ptm_model_5_seed_000 took 16.6s (3 recycles)\n",
            "2025-10-05 21:29:06,066 reranking models by 'plddt' metric\n",
            "2025-10-05 21:29:06,066 rank_001_alphafold2_ptm_model_3_seed_000 pLDDT=82.8 pTM=0.455\n",
            "2025-10-05 21:29:06,066 rank_002_alphafold2_ptm_model_5_seed_000 pLDDT=82.1 pTM=0.462\n",
            "2025-10-05 21:29:06,067 rank_003_alphafold2_ptm_model_1_seed_000 pLDDT=79.4 pTM=0.476\n",
            "2025-10-05 21:29:06,067 rank_004_alphafold2_ptm_model_4_seed_000 pLDDT=79.4 pTM=0.441\n",
            "2025-10-05 21:29:06,067 rank_005_alphafold2_ptm_model_2_seed_000 pLDDT=79.2 pTM=0.475\n",
            "2025-10-05 21:29:07,337 Query 112/200: seq_171_3cb81 (length 45)\n"
          ]
        },
        {
          "output_type": "stream",
          "name": "stderr",
          "text": [
            "PENDING:   0%|          | 0/150 [elapsed: 00:00 remaining: ?]"
          ]
        },
        {
          "output_type": "stream",
          "name": "stdout",
          "text": [
            "2025-10-05 21:29:07,631 Sleeping for 5s. Reason: PENDING\n"
          ]
        },
        {
          "output_type": "stream",
          "name": "stderr",
          "text": [
            "COMPLETE: 100%|██████████| 150/150 [elapsed: 00:05 remaining: 00:00]\n"
          ]
        },
        {
          "output_type": "stream",
          "name": "stdout",
          "text": [
            "2025-10-05 21:29:13,164 Sequence 0 found no templates\n",
            "2025-10-05 21:29:19,450 alphafold2_ptm_model_1_seed_000 recycle=0 pLDDT=75.2 pTM=0.415\n",
            "2025-10-05 21:29:23,603 alphafold2_ptm_model_1_seed_000 recycle=1 pLDDT=74.3 pTM=0.409 tol=0.529\n",
            "2025-10-05 21:29:27,774 alphafold2_ptm_model_1_seed_000 recycle=2 pLDDT=75.2 pTM=0.417 tol=0.736\n",
            "2025-10-05 21:29:31,959 alphafold2_ptm_model_1_seed_000 recycle=3 pLDDT=75.2 pTM=0.42 tol=0.421\n",
            "2025-10-05 21:29:31,960 alphafold2_ptm_model_1_seed_000 took 16.8s (3 recycles)\n",
            "2025-10-05 21:29:36,173 alphafold2_ptm_model_2_seed_000 recycle=0 pLDDT=73.3 pTM=0.384\n",
            "2025-10-05 21:29:40,388 alphafold2_ptm_model_2_seed_000 recycle=1 pLDDT=74.2 pTM=0.401 tol=0.802\n",
            "2025-10-05 21:29:44,630 alphafold2_ptm_model_2_seed_000 recycle=2 pLDDT=75.4 pTM=0.414 tol=0.391\n",
            "2025-10-05 21:29:48,877 alphafold2_ptm_model_2_seed_000 recycle=3 pLDDT=74.9 pTM=0.413 tol=0.497\n",
            "2025-10-05 21:29:48,878 alphafold2_ptm_model_2_seed_000 took 16.9s (3 recycles)\n",
            "2025-10-05 21:29:53,106 alphafold2_ptm_model_3_seed_000 recycle=0 pLDDT=77.7 pTM=0.408\n",
            "2025-10-05 21:29:57,320 alphafold2_ptm_model_3_seed_000 recycle=1 pLDDT=76.9 pTM=0.4 tol=0.486\n",
            "2025-10-05 21:30:01,520 alphafold2_ptm_model_3_seed_000 recycle=2 pLDDT=77.8 pTM=0.414 tol=0.214\n",
            "2025-10-05 21:30:05,711 alphafold2_ptm_model_3_seed_000 recycle=3 pLDDT=78.4 pTM=0.428 tol=0.181\n",
            "2025-10-05 21:30:05,712 alphafold2_ptm_model_3_seed_000 took 16.8s (3 recycles)\n",
            "2025-10-05 21:30:09,900 alphafold2_ptm_model_4_seed_000 recycle=0 pLDDT=77.6 pTM=0.396\n",
            "2025-10-05 21:30:14,075 alphafold2_ptm_model_4_seed_000 recycle=1 pLDDT=77.9 pTM=0.408 tol=0.243\n",
            "2025-10-05 21:30:18,242 alphafold2_ptm_model_4_seed_000 recycle=2 pLDDT=78.8 pTM=0.42 tol=0.155\n",
            "2025-10-05 21:30:22,408 alphafold2_ptm_model_4_seed_000 recycle=3 pLDDT=79.1 pTM=0.427 tol=0.343\n",
            "2025-10-05 21:30:22,409 alphafold2_ptm_model_4_seed_000 took 16.7s (3 recycles)\n",
            "2025-10-05 21:30:26,555 alphafold2_ptm_model_5_seed_000 recycle=0 pLDDT=76.8 pTM=0.411\n",
            "2025-10-05 21:30:30,711 alphafold2_ptm_model_5_seed_000 recycle=1 pLDDT=77.2 pTM=0.421 tol=0.395\n",
            "2025-10-05 21:30:34,865 alphafold2_ptm_model_5_seed_000 recycle=2 pLDDT=78.1 pTM=0.43 tol=0.275\n",
            "2025-10-05 21:30:39,019 alphafold2_ptm_model_5_seed_000 recycle=3 pLDDT=78.3 pTM=0.439 tol=0.346\n",
            "2025-10-05 21:30:39,020 alphafold2_ptm_model_5_seed_000 took 16.6s (3 recycles)\n",
            "2025-10-05 21:30:39,026 reranking models by 'plddt' metric\n",
            "2025-10-05 21:30:39,026 rank_001_alphafold2_ptm_model_4_seed_000 pLDDT=79.1 pTM=0.427\n",
            "2025-10-05 21:30:39,026 rank_002_alphafold2_ptm_model_3_seed_000 pLDDT=78.4 pTM=0.428\n",
            "2025-10-05 21:30:39,026 rank_003_alphafold2_ptm_model_5_seed_000 pLDDT=78.3 pTM=0.439\n",
            "2025-10-05 21:30:39,026 rank_004_alphafold2_ptm_model_1_seed_000 pLDDT=75.2 pTM=0.42\n",
            "2025-10-05 21:30:39,027 rank_005_alphafold2_ptm_model_2_seed_000 pLDDT=74.9 pTM=0.413\n",
            "2025-10-05 21:30:39,988 Query 113/200: seq_181_1174c (length 45)\n"
          ]
        },
        {
          "output_type": "stream",
          "name": "stderr",
          "text": [
            "PENDING:   0%|          | 0/150 [elapsed: 00:00 remaining: ?]"
          ]
        },
        {
          "output_type": "stream",
          "name": "stdout",
          "text": [
            "2025-10-05 21:30:40,264 Sleeping for 9s. Reason: PENDING\n"
          ]
        },
        {
          "output_type": "stream",
          "name": "stderr",
          "text": [
            "COMPLETE: 100%|██████████| 150/150 [elapsed: 00:09 remaining: 00:00]\n"
          ]
        },
        {
          "output_type": "stream",
          "name": "stdout",
          "text": [
            "2025-10-05 21:30:49,826 Sequence 0 found no templates\n",
            "2025-10-05 21:30:56,164 alphafold2_ptm_model_1_seed_000 recycle=0 pLDDT=74.2 pTM=0.378\n",
            "2025-10-05 21:31:00,326 alphafold2_ptm_model_1_seed_000 recycle=1 pLDDT=72.6 pTM=0.373 tol=0.268\n",
            "2025-10-05 21:31:04,510 alphafold2_ptm_model_1_seed_000 recycle=2 pLDDT=73.2 pTM=0.377 tol=0.217\n",
            "2025-10-05 21:31:08,707 alphafold2_ptm_model_1_seed_000 recycle=3 pLDDT=72.6 pTM=0.377 tol=0.356\n",
            "2025-10-05 21:31:08,708 alphafold2_ptm_model_1_seed_000 took 16.9s (3 recycles)\n",
            "2025-10-05 21:31:12,936 alphafold2_ptm_model_2_seed_000 recycle=0 pLDDT=72.1 pTM=0.363\n",
            "2025-10-05 21:31:17,173 alphafold2_ptm_model_2_seed_000 recycle=1 pLDDT=71.5 pTM=0.369 tol=0.253\n",
            "2025-10-05 21:31:21,429 alphafold2_ptm_model_2_seed_000 recycle=2 pLDDT=73.2 pTM=0.378 tol=0.196\n",
            "2025-10-05 21:31:25,683 alphafold2_ptm_model_2_seed_000 recycle=3 pLDDT=72.6 pTM=0.375 tol=0.0866\n",
            "2025-10-05 21:31:25,684 alphafold2_ptm_model_2_seed_000 took 17.0s (3 recycles)\n",
            "2025-10-05 21:31:29,928 alphafold2_ptm_model_3_seed_000 recycle=0 pLDDT=70.3 pTM=0.329\n",
            "2025-10-05 21:31:34,159 alphafold2_ptm_model_3_seed_000 recycle=1 pLDDT=70.2 pTM=0.341 tol=0.384\n",
            "2025-10-05 21:31:38,373 alphafold2_ptm_model_3_seed_000 recycle=2 pLDDT=70.8 pTM=0.348 tol=0.211\n",
            "2025-10-05 21:31:42,573 alphafold2_ptm_model_3_seed_000 recycle=3 pLDDT=70.3 pTM=0.348 tol=0.17\n",
            "2025-10-05 21:31:42,573 alphafold2_ptm_model_3_seed_000 took 16.9s (3 recycles)\n",
            "2025-10-05 21:31:46,744 alphafold2_ptm_model_4_seed_000 recycle=0 pLDDT=72.4 pTM=0.34\n",
            "2025-10-05 21:31:50,910 alphafold2_ptm_model_4_seed_000 recycle=1 pLDDT=70.5 pTM=0.344 tol=0.536\n",
            "2025-10-05 21:31:55,077 alphafold2_ptm_model_4_seed_000 recycle=2 pLDDT=71.2 pTM=0.35 tol=0.267\n",
            "2025-10-05 21:31:59,234 alphafold2_ptm_model_4_seed_000 recycle=3 pLDDT=70.7 pTM=0.348 tol=0.162\n",
            "2025-10-05 21:31:59,235 alphafold2_ptm_model_4_seed_000 took 16.7s (3 recycles)\n",
            "2025-10-05 21:32:03,390 alphafold2_ptm_model_5_seed_000 recycle=0 pLDDT=72.9 pTM=0.346\n",
            "2025-10-05 21:32:07,554 alphafold2_ptm_model_5_seed_000 recycle=1 pLDDT=71.6 pTM=0.347 tol=0.368\n",
            "2025-10-05 21:32:11,717 alphafold2_ptm_model_5_seed_000 recycle=2 pLDDT=72 pTM=0.349 tol=0.434\n",
            "2025-10-05 21:32:15,885 alphafold2_ptm_model_5_seed_000 recycle=3 pLDDT=71.8 pTM=0.348 tol=0.159\n",
            "2025-10-05 21:32:15,886 alphafold2_ptm_model_5_seed_000 took 16.6s (3 recycles)\n",
            "2025-10-05 21:32:15,891 reranking models by 'plddt' metric\n",
            "2025-10-05 21:32:15,892 rank_001_alphafold2_ptm_model_1_seed_000 pLDDT=72.6 pTM=0.377\n",
            "2025-10-05 21:32:15,892 rank_002_alphafold2_ptm_model_2_seed_000 pLDDT=72.6 pTM=0.375\n",
            "2025-10-05 21:32:15,892 rank_003_alphafold2_ptm_model_5_seed_000 pLDDT=71.8 pTM=0.348\n",
            "2025-10-05 21:32:15,892 rank_004_alphafold2_ptm_model_4_seed_000 pLDDT=70.7 pTM=0.348\n",
            "2025-10-05 21:32:15,893 rank_005_alphafold2_ptm_model_3_seed_000 pLDDT=70.3 pTM=0.348\n",
            "2025-10-05 21:32:16,960 Query 114/200: seq_186_f892b (length 45)\n"
          ]
        },
        {
          "output_type": "stream",
          "name": "stderr",
          "text": [
            "PENDING:   0%|          | 0/150 [elapsed: 00:00 remaining: ?]"
          ]
        },
        {
          "output_type": "stream",
          "name": "stdout",
          "text": [
            "2025-10-05 21:32:17,237 Sleeping for 7s. Reason: PENDING\n"
          ]
        },
        {
          "output_type": "stream",
          "name": "stderr",
          "text": [
            "RUNNING:   5%|▍         | 7/150 [elapsed: 00:07 remaining: 02:34]"
          ]
        },
        {
          "output_type": "stream",
          "name": "stdout",
          "text": [
            "2025-10-05 21:32:24,522 Sleeping for 6s. Reason: RUNNING\n"
          ]
        },
        {
          "output_type": "stream",
          "name": "stderr",
          "text": [
            "COMPLETE: 100%|██████████| 150/150 [elapsed: 00:14 remaining: 00:00]\n"
          ]
        },
        {
          "output_type": "stream",
          "name": "stdout",
          "text": [
            "2025-10-05 21:32:31,047 Sequence 0 found no templates\n",
            "2025-10-05 21:32:37,448 alphafold2_ptm_model_1_seed_000 recycle=0 pLDDT=60.3 pTM=0.331\n",
            "2025-10-05 21:32:41,607 alphafold2_ptm_model_1_seed_000 recycle=1 pLDDT=60.3 pTM=0.341 tol=1.31\n",
            "2025-10-05 21:32:45,791 alphafold2_ptm_model_1_seed_000 recycle=2 pLDDT=61.2 pTM=0.345 tol=2.04\n",
            "2025-10-05 21:32:49,987 alphafold2_ptm_model_1_seed_000 recycle=3 pLDDT=61.3 pTM=0.347 tol=0.965\n",
            "2025-10-05 21:32:49,987 alphafold2_ptm_model_1_seed_000 took 16.8s (3 recycles)\n",
            "2025-10-05 21:32:54,213 alphafold2_ptm_model_2_seed_000 recycle=0 pLDDT=56.8 pTM=0.305\n",
            "2025-10-05 21:32:58,441 alphafold2_ptm_model_2_seed_000 recycle=1 pLDDT=57.2 pTM=0.313 tol=0.859\n",
            "2025-10-05 21:33:02,692 alphafold2_ptm_model_2_seed_000 recycle=2 pLDDT=58.2 pTM=0.312 tol=1.64\n",
            "2025-10-05 21:33:06,943 alphafold2_ptm_model_2_seed_000 recycle=3 pLDDT=59 pTM=0.315 tol=0.886\n",
            "2025-10-05 21:33:06,944 alphafold2_ptm_model_2_seed_000 took 17.0s (3 recycles)\n",
            "2025-10-05 21:33:11,168 alphafold2_ptm_model_3_seed_000 recycle=0 pLDDT=57.2 pTM=0.287\n",
            "2025-10-05 21:33:15,385 alphafold2_ptm_model_3_seed_000 recycle=1 pLDDT=59.1 pTM=0.301 tol=1.75\n",
            "2025-10-05 21:33:19,580 alphafold2_ptm_model_3_seed_000 recycle=2 pLDDT=59.4 pTM=0.298 tol=0.854\n",
            "2025-10-05 21:33:23,768 alphafold2_ptm_model_3_seed_000 recycle=3 pLDDT=59.6 pTM=0.302 tol=1.39\n",
            "2025-10-05 21:33:23,769 alphafold2_ptm_model_3_seed_000 took 16.8s (3 recycles)\n",
            "2025-10-05 21:33:27,948 alphafold2_ptm_model_4_seed_000 recycle=0 pLDDT=53.8 pTM=0.288\n",
            "2025-10-05 21:33:32,118 alphafold2_ptm_model_4_seed_000 recycle=1 pLDDT=55.3 pTM=0.306 tol=2.07\n",
            "2025-10-05 21:33:36,281 alphafold2_ptm_model_4_seed_000 recycle=2 pLDDT=56 pTM=0.304 tol=0.36\n",
            "2025-10-05 21:33:40,448 alphafold2_ptm_model_4_seed_000 recycle=3 pLDDT=56.2 pTM=0.306 tol=0.546\n",
            "2025-10-05 21:33:40,449 alphafold2_ptm_model_4_seed_000 took 16.7s (3 recycles)\n",
            "2025-10-05 21:33:44,599 alphafold2_ptm_model_5_seed_000 recycle=0 pLDDT=57.5 pTM=0.313\n",
            "2025-10-05 21:33:48,748 alphafold2_ptm_model_5_seed_000 recycle=1 pLDDT=57.9 pTM=0.32 tol=2.31\n",
            "2025-10-05 21:33:52,903 alphafold2_ptm_model_5_seed_000 recycle=2 pLDDT=59.3 pTM=0.324 tol=1.24\n",
            "2025-10-05 21:33:57,058 alphafold2_ptm_model_5_seed_000 recycle=3 pLDDT=60.3 pTM=0.331 tol=0.53\n",
            "2025-10-05 21:33:57,059 alphafold2_ptm_model_5_seed_000 took 16.6s (3 recycles)\n",
            "2025-10-05 21:33:57,064 reranking models by 'plddt' metric\n",
            "2025-10-05 21:33:57,065 rank_001_alphafold2_ptm_model_1_seed_000 pLDDT=61.3 pTM=0.347\n",
            "2025-10-05 21:33:57,065 rank_002_alphafold2_ptm_model_5_seed_000 pLDDT=60.3 pTM=0.331\n",
            "2025-10-05 21:33:57,065 rank_003_alphafold2_ptm_model_3_seed_000 pLDDT=59.6 pTM=0.302\n",
            "2025-10-05 21:33:57,065 rank_004_alphafold2_ptm_model_2_seed_000 pLDDT=59 pTM=0.315\n",
            "2025-10-05 21:33:57,065 rank_005_alphafold2_ptm_model_4_seed_000 pLDDT=56.2 pTM=0.306\n",
            "2025-10-05 21:33:58,118 Query 115/200: seq_197_defd5 (length 45)\n"
          ]
        },
        {
          "output_type": "stream",
          "name": "stderr",
          "text": [
            "PENDING:   0%|          | 0/150 [elapsed: 00:00 remaining: ?]"
          ]
        },
        {
          "output_type": "stream",
          "name": "stdout",
          "text": [
            "2025-10-05 21:33:58,416 Sleeping for 5s. Reason: PENDING\n"
          ]
        },
        {
          "output_type": "stream",
          "name": "stderr",
          "text": [
            "COMPLETE: 100%|██████████| 150/150 [elapsed: 00:06 remaining: 00:00]\n"
          ]
        },
        {
          "output_type": "stream",
          "name": "stdout",
          "text": [
            "2025-10-05 21:34:04,126 Sequence 0 found no templates\n",
            "2025-10-05 21:34:11,315 alphafold2_ptm_model_1_seed_000 recycle=0 pLDDT=71.6 pTM=0.404\n",
            "2025-10-05 21:34:15,544 alphafold2_ptm_model_1_seed_000 recycle=1 pLDDT=71.8 pTM=0.412 tol=1.12\n",
            "2025-10-05 21:34:19,796 alphafold2_ptm_model_1_seed_000 recycle=2 pLDDT=72 pTM=0.416 tol=0.367\n",
            "2025-10-05 21:34:24,071 alphafold2_ptm_model_1_seed_000 recycle=3 pLDDT=72 pTM=0.416 tol=0.456\n",
            "2025-10-05 21:34:24,072 alphafold2_ptm_model_1_seed_000 took 17.1s (3 recycles)\n",
            "2025-10-05 21:34:28,382 alphafold2_ptm_model_2_seed_000 recycle=0 pLDDT=71.1 pTM=0.394\n",
            "2025-10-05 21:34:32,695 alphafold2_ptm_model_2_seed_000 recycle=1 pLDDT=71.3 pTM=0.4 tol=1.11\n",
            "2025-10-05 21:34:37,026 alphafold2_ptm_model_2_seed_000 recycle=2 pLDDT=70.9 pTM=0.401 tol=0.6\n",
            "2025-10-05 21:34:41,377 alphafold2_ptm_model_2_seed_000 recycle=3 pLDDT=71.6 pTM=0.402 tol=1.06\n",
            "2025-10-05 21:34:41,378 alphafold2_ptm_model_2_seed_000 took 17.3s (3 recycles)\n",
            "2025-10-05 21:34:45,710 alphafold2_ptm_model_3_seed_000 recycle=0 pLDDT=73.8 pTM=0.396\n",
            "2025-10-05 21:34:50,018 alphafold2_ptm_model_3_seed_000 recycle=1 pLDDT=73.8 pTM=0.399 tol=1.26\n",
            "2025-10-05 21:34:54,308 alphafold2_ptm_model_3_seed_000 recycle=2 pLDDT=73.9 pTM=0.397 tol=0.295\n",
            "2025-10-05 21:34:58,584 alphafold2_ptm_model_3_seed_000 recycle=3 pLDDT=73.9 pTM=0.4 tol=0.528\n",
            "2025-10-05 21:34:58,584 alphafold2_ptm_model_3_seed_000 took 17.2s (3 recycles)\n",
            "2025-10-05 21:35:02,829 alphafold2_ptm_model_4_seed_000 recycle=0 pLDDT=72 pTM=0.388\n",
            "2025-10-05 21:35:07,069 alphafold2_ptm_model_4_seed_000 recycle=1 pLDDT=72.5 pTM=0.396 tol=1.48\n",
            "2025-10-05 21:35:11,309 alphafold2_ptm_model_4_seed_000 recycle=2 pLDDT=72.6 pTM=0.398 tol=0.27\n",
            "2025-10-05 21:35:15,543 alphafold2_ptm_model_4_seed_000 recycle=3 pLDDT=72.4 pTM=0.399 tol=0.356\n",
            "2025-10-05 21:35:15,543 alphafold2_ptm_model_4_seed_000 took 17.0s (3 recycles)\n",
            "2025-10-05 21:35:19,771 alphafold2_ptm_model_5_seed_000 recycle=0 pLDDT=72.8 pTM=0.408\n",
            "2025-10-05 21:35:24,005 alphafold2_ptm_model_5_seed_000 recycle=1 pLDDT=72.2 pTM=0.411 tol=1\n",
            "2025-10-05 21:35:28,241 alphafold2_ptm_model_5_seed_000 recycle=2 pLDDT=72.2 pTM=0.409 tol=0.407\n",
            "2025-10-05 21:35:32,475 alphafold2_ptm_model_5_seed_000 recycle=3 pLDDT=72 pTM=0.409 tol=0.368\n",
            "2025-10-05 21:35:32,475 alphafold2_ptm_model_5_seed_000 took 16.9s (3 recycles)\n",
            "2025-10-05 21:35:32,480 reranking models by 'plddt' metric\n",
            "2025-10-05 21:35:32,480 rank_001_alphafold2_ptm_model_3_seed_000 pLDDT=73.9 pTM=0.4\n",
            "2025-10-05 21:35:32,481 rank_002_alphafold2_ptm_model_4_seed_000 pLDDT=72.4 pTM=0.399\n",
            "2025-10-05 21:35:32,481 rank_003_alphafold2_ptm_model_5_seed_000 pLDDT=72 pTM=0.409\n",
            "2025-10-05 21:35:32,481 rank_004_alphafold2_ptm_model_1_seed_000 pLDDT=72 pTM=0.416\n",
            "2025-10-05 21:35:32,481 rank_005_alphafold2_ptm_model_2_seed_000 pLDDT=71.6 pTM=0.402\n",
            "2025-10-05 21:35:33,461 Query 116/200: seq_2_86423 (length 46)\n"
          ]
        },
        {
          "output_type": "stream",
          "name": "stderr",
          "text": [
            "PENDING:   0%|          | 0/150 [elapsed: 00:00 remaining: ?]"
          ]
        },
        {
          "output_type": "stream",
          "name": "stdout",
          "text": [
            "2025-10-05 21:35:33,734 Sleeping for 6s. Reason: PENDING\n"
          ]
        },
        {
          "output_type": "stream",
          "name": "stderr",
          "text": [
            "RUNNING:   4%|▍         | 6/150 [elapsed: 00:06 remaining: 02:36]"
          ]
        },
        {
          "output_type": "stream",
          "name": "stdout",
          "text": [
            "2025-10-05 21:35:39,999 Sleeping for 8s. Reason: RUNNING\n"
          ]
        },
        {
          "output_type": "stream",
          "name": "stderr",
          "text": [
            "COMPLETE: 100%|██████████| 150/150 [elapsed: 00:15 remaining: 00:00]\n"
          ]
        },
        {
          "output_type": "stream",
          "name": "stdout",
          "text": [
            "2025-10-05 21:35:49,126 Sequence 0 found no templates\n",
            "2025-10-05 21:35:53,017 Padding length to 50\n",
            "2025-10-05 21:36:26,711 alphafold2_ptm_model_1_seed_000 recycle=0 pLDDT=86 pTM=0.493\n",
            "2025-10-05 21:36:58,087 alphafold2_ptm_model_1_seed_000 recycle=1 pLDDT=86.5 pTM=0.507 tol=0.0731\n",
            "2025-10-05 21:37:02,555 alphafold2_ptm_model_1_seed_000 recycle=2 pLDDT=85 pTM=0.494 tol=0.0762\n",
            "2025-10-05 21:37:07,038 alphafold2_ptm_model_1_seed_000 recycle=3 pLDDT=85.2 pTM=0.493 tol=0.0457\n",
            "2025-10-05 21:37:07,039 alphafold2_ptm_model_1_seed_000 took 74.0s (3 recycles)\n",
            "2025-10-05 21:37:11,558 alphafold2_ptm_model_2_seed_000 recycle=0 pLDDT=93.7 pTM=0.638\n",
            "2025-10-05 21:37:16,101 alphafold2_ptm_model_2_seed_000 recycle=1 pLDDT=94.1 pTM=0.642 tol=0.103\n",
            "2025-10-05 21:37:20,651 alphafold2_ptm_model_2_seed_000 recycle=2 pLDDT=93.1 pTM=0.624 tol=0.0449\n",
            "2025-10-05 21:37:25,222 alphafold2_ptm_model_2_seed_000 recycle=3 pLDDT=94.1 pTM=0.645 tol=0.0324\n",
            "2025-10-05 21:37:25,223 alphafold2_ptm_model_2_seed_000 took 18.2s (3 recycles)\n",
            "2025-10-05 21:37:52,587 alphafold2_ptm_model_3_seed_000 recycle=0 pLDDT=89.6 pTM=0.553\n",
            "2025-10-05 21:38:16,261 alphafold2_ptm_model_3_seed_000 recycle=1 pLDDT=87.3 pTM=0.527 tol=0.108\n",
            "2025-10-05 21:38:20,756 alphafold2_ptm_model_3_seed_000 recycle=2 pLDDT=86.8 pTM=0.522 tol=0.0971\n",
            "2025-10-05 21:38:25,281 alphafold2_ptm_model_3_seed_000 recycle=3 pLDDT=88.8 pTM=0.553 tol=0.0719\n",
            "2025-10-05 21:38:25,282 alphafold2_ptm_model_3_seed_000 took 60.1s (3 recycles)\n",
            "2025-10-05 21:38:29,864 alphafold2_ptm_model_4_seed_000 recycle=0 pLDDT=91.6 pTM=0.59\n",
            "2025-10-05 21:38:34,477 alphafold2_ptm_model_4_seed_000 recycle=1 pLDDT=91.6 pTM=0.586 tol=0.0701\n",
            "2025-10-05 21:38:39,094 alphafold2_ptm_model_4_seed_000 recycle=2 pLDDT=92 pTM=0.594 tol=0.0466\n",
            "2025-10-05 21:38:43,653 alphafold2_ptm_model_4_seed_000 recycle=3 pLDDT=92.6 pTM=0.604 tol=0.074\n",
            "2025-10-05 21:38:43,654 alphafold2_ptm_model_4_seed_000 took 18.4s (3 recycles)\n",
            "2025-10-05 21:38:48,192 alphafold2_ptm_model_5_seed_000 recycle=0 pLDDT=89.2 pTM=0.549\n",
            "2025-10-05 21:38:52,692 alphafold2_ptm_model_5_seed_000 recycle=1 pLDDT=86.7 pTM=0.515 tol=0.102\n",
            "2025-10-05 21:38:57,170 alphafold2_ptm_model_5_seed_000 recycle=2 pLDDT=88.4 pTM=0.536 tol=0.0459\n",
            "2025-10-05 21:39:01,634 alphafold2_ptm_model_5_seed_000 recycle=3 pLDDT=88.5 pTM=0.543 tol=0.049\n",
            "2025-10-05 21:39:01,635 alphafold2_ptm_model_5_seed_000 took 18.0s (3 recycles)\n",
            "2025-10-05 21:39:01,640 reranking models by 'plddt' metric\n",
            "2025-10-05 21:39:01,641 rank_001_alphafold2_ptm_model_2_seed_000 pLDDT=94.1 pTM=0.645\n",
            "2025-10-05 21:39:01,641 rank_002_alphafold2_ptm_model_4_seed_000 pLDDT=92.6 pTM=0.604\n",
            "2025-10-05 21:39:01,641 rank_003_alphafold2_ptm_model_3_seed_000 pLDDT=88.8 pTM=0.553\n",
            "2025-10-05 21:39:01,641 rank_004_alphafold2_ptm_model_5_seed_000 pLDDT=88.5 pTM=0.543\n",
            "2025-10-05 21:39:01,641 rank_005_alphafold2_ptm_model_1_seed_000 pLDDT=85.2 pTM=0.493\n",
            "2025-10-05 21:39:02,625 Query 117/200: seq_5_3d6c4 (length 46)\n"
          ]
        },
        {
          "output_type": "stream",
          "name": "stderr",
          "text": [
            "PENDING:   0%|          | 0/150 [elapsed: 00:00 remaining: ?]"
          ]
        },
        {
          "output_type": "stream",
          "name": "stdout",
          "text": [
            "2025-10-05 21:39:02,927 Sleeping for 6s. Reason: PENDING\n"
          ]
        },
        {
          "output_type": "stream",
          "name": "stderr",
          "text": [
            "RUNNING:   4%|▍         | 6/150 [elapsed: 00:06 remaining: 02:37]"
          ]
        },
        {
          "output_type": "stream",
          "name": "stdout",
          "text": [
            "2025-10-05 21:39:09,190 Sleeping for 7s. Reason: RUNNING\n"
          ]
        },
        {
          "output_type": "stream",
          "name": "stderr",
          "text": [
            "COMPLETE: 100%|██████████| 150/150 [elapsed: 00:14 remaining: 00:00]\n"
          ]
        },
        {
          "output_type": "stream",
          "name": "stdout",
          "text": [
            "2025-10-05 21:39:16,723 Sequence 0 found no templates\n",
            "2025-10-05 21:39:18,785 Padding length to 50\n",
            "2025-10-05 21:39:23,252 alphafold2_ptm_model_1_seed_000 recycle=0 pLDDT=68.7 pTM=0.381\n",
            "2025-10-05 21:39:27,617 alphafold2_ptm_model_1_seed_000 recycle=1 pLDDT=70.1 pTM=0.394 tol=0.964\n",
            "2025-10-05 21:39:31,980 alphafold2_ptm_model_1_seed_000 recycle=2 pLDDT=70.8 pTM=0.398 tol=0.525\n",
            "2025-10-05 21:39:36,364 alphafold2_ptm_model_1_seed_000 recycle=3 pLDDT=71.2 pTM=0.4 tol=0.266\n",
            "2025-10-05 21:39:36,365 alphafold2_ptm_model_1_seed_000 took 17.6s (3 recycles)\n",
            "2025-10-05 21:39:40,756 alphafold2_ptm_model_2_seed_000 recycle=0 pLDDT=69.9 pTM=0.376\n",
            "2025-10-05 21:39:45,180 alphafold2_ptm_model_2_seed_000 recycle=1 pLDDT=70.6 pTM=0.382 tol=0.406\n",
            "2025-10-05 21:39:49,626 alphafold2_ptm_model_2_seed_000 recycle=2 pLDDT=70.9 pTM=0.384 tol=0.498\n",
            "2025-10-05 21:39:54,088 alphafold2_ptm_model_2_seed_000 recycle=3 pLDDT=70.8 pTM=0.381 tol=0.146\n",
            "2025-10-05 21:39:54,088 alphafold2_ptm_model_2_seed_000 took 17.7s (3 recycles)\n",
            "2025-10-05 21:39:58,537 alphafold2_ptm_model_3_seed_000 recycle=0 pLDDT=70.8 pTM=0.371\n",
            "2025-10-05 21:40:02,966 alphafold2_ptm_model_3_seed_000 recycle=1 pLDDT=70.1 pTM=0.369 tol=0.963\n",
            "2025-10-05 21:40:07,373 alphafold2_ptm_model_3_seed_000 recycle=2 pLDDT=71.3 pTM=0.377 tol=0.918\n",
            "2025-10-05 21:40:11,758 alphafold2_ptm_model_3_seed_000 recycle=3 pLDDT=71.1 pTM=0.372 tol=0.819\n",
            "2025-10-05 21:40:11,758 alphafold2_ptm_model_3_seed_000 took 17.7s (3 recycles)\n",
            "2025-10-05 21:40:16,138 alphafold2_ptm_model_4_seed_000 recycle=0 pLDDT=69.6 pTM=0.357\n",
            "2025-10-05 21:40:20,498 alphafold2_ptm_model_4_seed_000 recycle=1 pLDDT=70.3 pTM=0.368 tol=0.651\n",
            "2025-10-05 21:40:24,848 alphafold2_ptm_model_4_seed_000 recycle=2 pLDDT=71.1 pTM=0.374 tol=0.404\n",
            "2025-10-05 21:40:29,191 alphafold2_ptm_model_4_seed_000 recycle=3 pLDDT=71.1 pTM=0.374 tol=0.298\n",
            "2025-10-05 21:40:29,191 alphafold2_ptm_model_4_seed_000 took 17.4s (3 recycles)\n",
            "2025-10-05 21:40:33,540 alphafold2_ptm_model_5_seed_000 recycle=0 pLDDT=69.6 pTM=0.367\n",
            "2025-10-05 21:40:37,881 alphafold2_ptm_model_5_seed_000 recycle=1 pLDDT=70.7 pTM=0.375 tol=0.446\n",
            "2025-10-05 21:40:42,220 alphafold2_ptm_model_5_seed_000 recycle=2 pLDDT=71.8 pTM=0.38 tol=0.276\n",
            "2025-10-05 21:40:46,561 alphafold2_ptm_model_5_seed_000 recycle=3 pLDDT=71.5 pTM=0.377 tol=0.138\n",
            "2025-10-05 21:40:46,562 alphafold2_ptm_model_5_seed_000 took 17.4s (3 recycles)\n",
            "2025-10-05 21:40:46,568 reranking models by 'plddt' metric\n",
            "2025-10-05 21:40:46,568 rank_001_alphafold2_ptm_model_5_seed_000 pLDDT=71.5 pTM=0.377\n",
            "2025-10-05 21:40:46,568 rank_002_alphafold2_ptm_model_1_seed_000 pLDDT=71.2 pTM=0.4\n",
            "2025-10-05 21:40:46,568 rank_003_alphafold2_ptm_model_4_seed_000 pLDDT=71.1 pTM=0.374\n",
            "2025-10-05 21:40:46,568 rank_004_alphafold2_ptm_model_3_seed_000 pLDDT=71.1 pTM=0.372\n",
            "2025-10-05 21:40:46,569 rank_005_alphafold2_ptm_model_2_seed_000 pLDDT=70.8 pTM=0.381\n",
            "2025-10-05 21:40:47,545 Query 118/200: seq_10_a69ec (length 46)\n"
          ]
        },
        {
          "output_type": "stream",
          "name": "stderr",
          "text": [
            "PENDING:   0%|          | 0/150 [elapsed: 00:00 remaining: ?]"
          ]
        },
        {
          "output_type": "stream",
          "name": "stdout",
          "text": [
            "2025-10-05 21:40:47,852 Sleeping for 8s. Reason: PENDING\n"
          ]
        },
        {
          "output_type": "stream",
          "name": "stderr",
          "text": [
            "RUNNING:   5%|▌         | 8/150 [elapsed: 00:08 remaining: 02:32]"
          ]
        },
        {
          "output_type": "stream",
          "name": "stdout",
          "text": [
            "2025-10-05 21:40:56,114 Sleeping for 9s. Reason: RUNNING\n"
          ]
        },
        {
          "output_type": "stream",
          "name": "stderr",
          "text": [
            "COMPLETE: 100%|██████████| 150/150 [elapsed: 00:18 remaining: 00:00]\n"
          ]
        },
        {
          "output_type": "stream",
          "name": "stdout",
          "text": [
            "2025-10-05 21:41:05,642 Sequence 0 found no templates\n",
            "2025-10-05 21:41:07,898 Padding length to 50\n",
            "2025-10-05 21:41:12,380 alphafold2_ptm_model_1_seed_000 recycle=0 pLDDT=75.2 pTM=0.417\n",
            "2025-10-05 21:41:16,753 alphafold2_ptm_model_1_seed_000 recycle=1 pLDDT=77.5 pTM=0.443 tol=0.448\n",
            "2025-10-05 21:41:21,141 alphafold2_ptm_model_1_seed_000 recycle=2 pLDDT=76.1 pTM=0.43 tol=0.0833\n",
            "2025-10-05 21:41:25,546 alphafold2_ptm_model_1_seed_000 recycle=3 pLDDT=77.6 pTM=0.437 tol=0.166\n",
            "2025-10-05 21:41:25,546 alphafold2_ptm_model_1_seed_000 took 17.6s (3 recycles)\n",
            "2025-10-05 21:41:29,959 alphafold2_ptm_model_2_seed_000 recycle=0 pLDDT=74.6 pTM=0.386\n",
            "2025-10-05 21:41:34,395 alphafold2_ptm_model_2_seed_000 recycle=1 pLDDT=75.3 pTM=0.406 tol=0.18\n",
            "2025-10-05 21:41:38,846 alphafold2_ptm_model_2_seed_000 recycle=2 pLDDT=74.9 pTM=0.406 tol=0.149\n",
            "2025-10-05 21:41:43,300 alphafold2_ptm_model_2_seed_000 recycle=3 pLDDT=76.3 pTM=0.414 tol=0.182\n",
            "2025-10-05 21:41:43,300 alphafold2_ptm_model_2_seed_000 took 17.7s (3 recycles)\n",
            "2025-10-05 21:41:47,718 alphafold2_ptm_model_3_seed_000 recycle=0 pLDDT=79.8 pTM=0.411\n",
            "2025-10-05 21:41:52,114 alphafold2_ptm_model_3_seed_000 recycle=1 pLDDT=82.9 pTM=0.447 tol=0.43\n",
            "2025-10-05 21:41:56,497 alphafold2_ptm_model_3_seed_000 recycle=2 pLDDT=84 pTM=0.453 tol=0.127\n",
            "2025-10-05 21:42:00,876 alphafold2_ptm_model_3_seed_000 recycle=3 pLDDT=84.6 pTM=0.465 tol=0.0541\n",
            "2025-10-05 21:42:00,876 alphafold2_ptm_model_3_seed_000 took 17.6s (3 recycles)\n",
            "2025-10-05 21:42:05,248 alphafold2_ptm_model_4_seed_000 recycle=0 pLDDT=79.6 pTM=0.389\n",
            "2025-10-05 21:42:09,614 alphafold2_ptm_model_4_seed_000 recycle=1 pLDDT=80.1 pTM=0.401 tol=0.171\n",
            "2025-10-05 21:42:13,978 alphafold2_ptm_model_4_seed_000 recycle=2 pLDDT=79.7 pTM=0.402 tol=0.074\n",
            "2025-10-05 21:42:18,337 alphafold2_ptm_model_4_seed_000 recycle=3 pLDDT=80.1 pTM=0.409 tol=0.0784\n",
            "2025-10-05 21:42:18,338 alphafold2_ptm_model_4_seed_000 took 17.5s (3 recycles)\n",
            "2025-10-05 21:42:22,707 alphafold2_ptm_model_5_seed_000 recycle=0 pLDDT=82.1 pTM=0.446\n",
            "2025-10-05 21:42:27,070 alphafold2_ptm_model_5_seed_000 recycle=1 pLDDT=83.2 pTM=0.466 tol=0.153\n",
            "2025-10-05 21:42:31,433 alphafold2_ptm_model_5_seed_000 recycle=2 pLDDT=84.3 pTM=0.48 tol=0.0914\n",
            "2025-10-05 21:42:35,799 alphafold2_ptm_model_5_seed_000 recycle=3 pLDDT=85.4 pTM=0.495 tol=0.128\n",
            "2025-10-05 21:42:35,800 alphafold2_ptm_model_5_seed_000 took 17.5s (3 recycles)\n",
            "2025-10-05 21:42:35,805 reranking models by 'plddt' metric\n",
            "2025-10-05 21:42:35,806 rank_001_alphafold2_ptm_model_5_seed_000 pLDDT=85.4 pTM=0.495\n",
            "2025-10-05 21:42:35,806 rank_002_alphafold2_ptm_model_3_seed_000 pLDDT=84.6 pTM=0.465\n",
            "2025-10-05 21:42:35,806 rank_003_alphafold2_ptm_model_4_seed_000 pLDDT=80.1 pTM=0.409\n",
            "2025-10-05 21:42:35,806 rank_004_alphafold2_ptm_model_1_seed_000 pLDDT=77.6 pTM=0.437\n",
            "2025-10-05 21:42:35,806 rank_005_alphafold2_ptm_model_2_seed_000 pLDDT=76.3 pTM=0.414\n",
            "2025-10-05 21:42:36,768 Query 119/200: seq_12_14f52 (length 46)\n"
          ]
        },
        {
          "output_type": "stream",
          "name": "stderr",
          "text": [
            "PENDING:   0%|          | 0/150 [elapsed: 00:00 remaining: ?]"
          ]
        },
        {
          "output_type": "stream",
          "name": "stdout",
          "text": [
            "2025-10-05 21:42:37,048 Sleeping for 7s. Reason: PENDING\n"
          ]
        },
        {
          "output_type": "stream",
          "name": "stderr",
          "text": [
            "RUNNING:   5%|▍         | 7/150 [elapsed: 00:07 remaining: 02:34]"
          ]
        },
        {
          "output_type": "stream",
          "name": "stdout",
          "text": [
            "2025-10-05 21:42:44,318 Sleeping for 8s. Reason: RUNNING\n"
          ]
        },
        {
          "output_type": "stream",
          "name": "stderr",
          "text": [
            "COMPLETE: 100%|██████████| 150/150 [elapsed: 00:16 remaining: 00:00]\n"
          ]
        },
        {
          "output_type": "stream",
          "name": "stdout",
          "text": [
            "2025-10-05 21:42:53,045 Sequence 0 found no templates\n",
            "2025-10-05 21:42:55,178 Padding length to 50\n",
            "2025-10-05 21:42:59,709 alphafold2_ptm_model_1_seed_000 recycle=0 pLDDT=68.2 pTM=0.387\n",
            "2025-10-05 21:43:04,135 alphafold2_ptm_model_1_seed_000 recycle=1 pLDDT=66.1 pTM=0.378 tol=0.413\n",
            "2025-10-05 21:43:08,591 alphafold2_ptm_model_1_seed_000 recycle=2 pLDDT=64.2 pTM=0.372 tol=0.314\n",
            "2025-10-05 21:43:13,073 alphafold2_ptm_model_1_seed_000 recycle=3 pLDDT=63.8 pTM=0.37 tol=0.202\n",
            "2025-10-05 21:43:13,074 alphafold2_ptm_model_1_seed_000 took 17.9s (3 recycles)\n",
            "2025-10-05 21:43:17,563 alphafold2_ptm_model_2_seed_000 recycle=0 pLDDT=65.6 pTM=0.388\n",
            "2025-10-05 21:43:22,079 alphafold2_ptm_model_2_seed_000 recycle=1 pLDDT=64.1 pTM=0.382 tol=0.243\n",
            "2025-10-05 21:43:26,614 alphafold2_ptm_model_2_seed_000 recycle=2 pLDDT=63.3 pTM=0.381 tol=0.0792\n",
            "2025-10-05 21:43:31,160 alphafold2_ptm_model_2_seed_000 recycle=3 pLDDT=62.3 pTM=0.377 tol=0.168\n",
            "2025-10-05 21:43:31,160 alphafold2_ptm_model_2_seed_000 took 18.1s (3 recycles)\n",
            "2025-10-05 21:43:35,681 alphafold2_ptm_model_3_seed_000 recycle=0 pLDDT=74.8 pTM=0.437\n",
            "2025-10-05 21:43:40,174 alphafold2_ptm_model_3_seed_000 recycle=1 pLDDT=70.6 pTM=0.411 tol=0.284\n",
            "2025-10-05 21:43:44,648 alphafold2_ptm_model_3_seed_000 recycle=2 pLDDT=68.3 pTM=0.389 tol=0.307\n",
            "2025-10-05 21:43:49,110 alphafold2_ptm_model_3_seed_000 recycle=3 pLDDT=67.6 pTM=0.385 tol=0.184\n",
            "2025-10-05 21:43:49,111 alphafold2_ptm_model_3_seed_000 took 17.9s (3 recycles)\n",
            "2025-10-05 21:43:53,567 alphafold2_ptm_model_4_seed_000 recycle=0 pLDDT=80.5 pTM=0.487\n",
            "2025-10-05 21:43:58,000 alphafold2_ptm_model_4_seed_000 recycle=1 pLDDT=80.6 pTM=0.494 tol=0.219\n",
            "2025-10-05 21:44:02,430 alphafold2_ptm_model_4_seed_000 recycle=2 pLDDT=79.9 pTM=0.485 tol=0.101\n",
            "2025-10-05 21:44:06,856 alphafold2_ptm_model_4_seed_000 recycle=3 pLDDT=79.2 pTM=0.482 tol=0.052\n",
            "2025-10-05 21:44:06,856 alphafold2_ptm_model_4_seed_000 took 17.7s (3 recycles)\n",
            "2025-10-05 21:44:11,284 alphafold2_ptm_model_5_seed_000 recycle=0 pLDDT=66.9 pTM=0.392\n",
            "2025-10-05 21:44:15,708 alphafold2_ptm_model_5_seed_000 recycle=1 pLDDT=64.8 pTM=0.388 tol=0.789\n",
            "2025-10-05 21:44:20,134 alphafold2_ptm_model_5_seed_000 recycle=2 pLDDT=63.2 pTM=0.38 tol=0.712\n",
            "2025-10-05 21:44:24,570 alphafold2_ptm_model_5_seed_000 recycle=3 pLDDT=63 pTM=0.381 tol=0.283\n",
            "2025-10-05 21:44:24,571 alphafold2_ptm_model_5_seed_000 took 17.7s (3 recycles)\n",
            "2025-10-05 21:44:24,581 reranking models by 'plddt' metric\n",
            "2025-10-05 21:44:24,582 rank_001_alphafold2_ptm_model_4_seed_000 pLDDT=79.2 pTM=0.482\n",
            "2025-10-05 21:44:24,582 rank_002_alphafold2_ptm_model_3_seed_000 pLDDT=67.6 pTM=0.385\n",
            "2025-10-05 21:44:24,582 rank_003_alphafold2_ptm_model_1_seed_000 pLDDT=63.8 pTM=0.37\n",
            "2025-10-05 21:44:24,582 rank_004_alphafold2_ptm_model_5_seed_000 pLDDT=63 pTM=0.381\n",
            "2025-10-05 21:44:24,583 rank_005_alphafold2_ptm_model_2_seed_000 pLDDT=62.3 pTM=0.377\n",
            "2025-10-05 21:44:26,074 Query 120/200: seq_41_d6ed5 (length 46)\n"
          ]
        },
        {
          "output_type": "stream",
          "name": "stderr",
          "text": [
            "PENDING:   0%|          | 0/150 [elapsed: 00:00 remaining: ?]"
          ]
        },
        {
          "output_type": "stream",
          "name": "stdout",
          "text": [
            "2025-10-05 21:44:26,361 Sleeping for 7s. Reason: PENDING\n"
          ]
        },
        {
          "output_type": "stream",
          "name": "stderr",
          "text": [
            "COMPLETE: 100%|██████████| 150/150 [elapsed: 00:07 remaining: 00:00]\n"
          ]
        },
        {
          "output_type": "stream",
          "name": "stdout",
          "text": [
            "2025-10-05 21:44:33,968 Sequence 0 found no templates\n",
            "2025-10-05 21:44:36,293 Padding length to 50\n",
            "2025-10-05 21:44:40,856 alphafold2_ptm_model_1_seed_000 recycle=0 pLDDT=73.9 pTM=0.432\n",
            "2025-10-05 21:44:45,318 alphafold2_ptm_model_1_seed_000 recycle=1 pLDDT=73.7 pTM=0.435 tol=0.821\n",
            "2025-10-05 21:44:49,821 alphafold2_ptm_model_1_seed_000 recycle=2 pLDDT=74 pTM=0.435 tol=1.18\n",
            "2025-10-05 21:44:54,352 alphafold2_ptm_model_1_seed_000 recycle=3 pLDDT=74.5 pTM=0.437 tol=0.575\n",
            "2025-10-05 21:44:54,353 alphafold2_ptm_model_1_seed_000 took 18.1s (3 recycles)\n",
            "2025-10-05 21:44:58,896 alphafold2_ptm_model_2_seed_000 recycle=0 pLDDT=73 pTM=0.419\n",
            "2025-10-05 21:45:03,497 alphafold2_ptm_model_2_seed_000 recycle=1 pLDDT=72.9 pTM=0.421 tol=1.37\n",
            "2025-10-05 21:45:08,137 alphafold2_ptm_model_2_seed_000 recycle=2 pLDDT=72.9 pTM=0.418 tol=0.739\n",
            "2025-10-05 21:45:12,740 alphafold2_ptm_model_2_seed_000 recycle=3 pLDDT=73.2 pTM=0.423 tol=0.37\n",
            "2025-10-05 21:45:12,741 alphafold2_ptm_model_2_seed_000 took 18.4s (3 recycles)\n",
            "2025-10-05 21:45:17,288 alphafold2_ptm_model_3_seed_000 recycle=0 pLDDT=76.6 pTM=0.426\n",
            "2025-10-05 21:45:21,789 alphafold2_ptm_model_3_seed_000 recycle=1 pLDDT=76.6 pTM=0.43 tol=0.813\n",
            "2025-10-05 21:45:26,292 alphafold2_ptm_model_3_seed_000 recycle=2 pLDDT=76.6 pTM=0.429 tol=0.537\n",
            "2025-10-05 21:45:30,767 alphafold2_ptm_model_3_seed_000 recycle=3 pLDDT=76.9 pTM=0.43 tol=0.53\n",
            "2025-10-05 21:45:30,768 alphafold2_ptm_model_3_seed_000 took 18.0s (3 recycles)\n",
            "2025-10-05 21:45:35,234 alphafold2_ptm_model_4_seed_000 recycle=0 pLDDT=73.8 pTM=0.413\n",
            "2025-10-05 21:45:39,683 alphafold2_ptm_model_4_seed_000 recycle=1 pLDDT=74 pTM=0.417 tol=1.06\n",
            "2025-10-05 21:45:44,127 alphafold2_ptm_model_4_seed_000 recycle=2 pLDDT=73.9 pTM=0.415 tol=0.671\n",
            "2025-10-05 21:45:48,565 alphafold2_ptm_model_4_seed_000 recycle=3 pLDDT=73.9 pTM=0.417 tol=0.245\n",
            "2025-10-05 21:45:48,565 alphafold2_ptm_model_4_seed_000 took 17.8s (3 recycles)\n",
            "2025-10-05 21:45:53,016 alphafold2_ptm_model_5_seed_000 recycle=0 pLDDT=74.9 pTM=0.441\n",
            "2025-10-05 21:45:57,457 alphafold2_ptm_model_5_seed_000 recycle=1 pLDDT=74.5 pTM=0.444 tol=1.27\n",
            "2025-10-05 21:46:01,908 alphafold2_ptm_model_5_seed_000 recycle=2 pLDDT=74.3 pTM=0.438 tol=0.554\n",
            "2025-10-05 21:46:06,365 alphafold2_ptm_model_5_seed_000 recycle=3 pLDDT=74.4 pTM=0.44 tol=0.479\n",
            "2025-10-05 21:46:06,366 alphafold2_ptm_model_5_seed_000 took 17.8s (3 recycles)\n",
            "2025-10-05 21:46:06,371 reranking models by 'plddt' metric\n",
            "2025-10-05 21:46:06,371 rank_001_alphafold2_ptm_model_3_seed_000 pLDDT=76.9 pTM=0.43\n",
            "2025-10-05 21:46:06,372 rank_002_alphafold2_ptm_model_1_seed_000 pLDDT=74.5 pTM=0.437\n",
            "2025-10-05 21:46:06,372 rank_003_alphafold2_ptm_model_5_seed_000 pLDDT=74.4 pTM=0.44\n",
            "2025-10-05 21:46:06,372 rank_004_alphafold2_ptm_model_4_seed_000 pLDDT=73.9 pTM=0.417\n",
            "2025-10-05 21:46:06,372 rank_005_alphafold2_ptm_model_2_seed_000 pLDDT=73.2 pTM=0.423\n",
            "2025-10-05 21:46:07,353 Query 121/200: seq_50_29ff2 (length 46)\n"
          ]
        },
        {
          "output_type": "stream",
          "name": "stderr",
          "text": [
            "PENDING:   0%|          | 0/150 [elapsed: 00:00 remaining: ?]"
          ]
        },
        {
          "output_type": "stream",
          "name": "stdout",
          "text": [
            "2025-10-05 21:46:07,634 Sleeping for 8s. Reason: PENDING\n"
          ]
        },
        {
          "output_type": "stream",
          "name": "stderr",
          "text": [
            "COMPLETE: 100%|██████████| 150/150 [elapsed: 00:08 remaining: 00:00]\n"
          ]
        },
        {
          "output_type": "stream",
          "name": "stdout",
          "text": [
            "2025-10-05 21:46:16,172 Sequence 0 found no templates\n",
            "2025-10-05 21:46:18,363 Padding length to 50\n",
            "2025-10-05 21:46:22,911 alphafold2_ptm_model_1_seed_000 recycle=0 pLDDT=80.8 pTM=0.448\n",
            "2025-10-05 21:46:27,332 alphafold2_ptm_model_1_seed_000 recycle=1 pLDDT=80.2 pTM=0.449 tol=0.281\n",
            "2025-10-05 21:46:31,781 alphafold2_ptm_model_1_seed_000 recycle=2 pLDDT=80.3 pTM=0.452 tol=0.128\n",
            "2025-10-05 21:46:36,246 alphafold2_ptm_model_1_seed_000 recycle=3 pLDDT=79.9 pTM=0.446 tol=0.167\n",
            "2025-10-05 21:46:36,247 alphafold2_ptm_model_1_seed_000 took 17.9s (3 recycles)\n",
            "2025-10-05 21:46:40,729 alphafold2_ptm_model_2_seed_000 recycle=0 pLDDT=79.2 pTM=0.428\n",
            "2025-10-05 21:46:45,251 alphafold2_ptm_model_2_seed_000 recycle=1 pLDDT=78.1 pTM=0.434 tol=0.123\n",
            "2025-10-05 21:46:49,782 alphafold2_ptm_model_2_seed_000 recycle=2 pLDDT=78.3 pTM=0.442 tol=0.0964\n",
            "2025-10-05 21:46:54,294 alphafold2_ptm_model_2_seed_000 recycle=3 pLDDT=78.2 pTM=0.439 tol=0.0923\n",
            "2025-10-05 21:46:54,294 alphafold2_ptm_model_2_seed_000 took 18.0s (3 recycles)\n",
            "2025-10-05 21:46:58,774 alphafold2_ptm_model_3_seed_000 recycle=0 pLDDT=78.6 pTM=0.379\n",
            "2025-10-05 21:47:03,230 alphafold2_ptm_model_3_seed_000 recycle=1 pLDDT=78.8 pTM=0.385 tol=0.782\n",
            "2025-10-05 21:47:07,672 alphafold2_ptm_model_3_seed_000 recycle=2 pLDDT=78.9 pTM=0.391 tol=0.594\n",
            "2025-10-05 21:47:12,102 alphafold2_ptm_model_3_seed_000 recycle=3 pLDDT=78.9 pTM=0.392 tol=0.173\n",
            "2025-10-05 21:47:12,103 alphafold2_ptm_model_3_seed_000 took 17.8s (3 recycles)\n",
            "2025-10-05 21:47:16,518 alphafold2_ptm_model_4_seed_000 recycle=0 pLDDT=82.9 pTM=0.414\n",
            "2025-10-05 21:47:20,921 alphafold2_ptm_model_4_seed_000 recycle=1 pLDDT=82.4 pTM=0.427 tol=0.294\n",
            "2025-10-05 21:47:25,317 alphafold2_ptm_model_4_seed_000 recycle=2 pLDDT=83.3 pTM=0.439 tol=0.134\n",
            "2025-10-05 21:47:29,716 alphafold2_ptm_model_4_seed_000 recycle=3 pLDDT=83.2 pTM=0.44 tol=0.111\n",
            "2025-10-05 21:47:29,717 alphafold2_ptm_model_4_seed_000 took 17.6s (3 recycles)\n",
            "2025-10-05 21:47:34,122 alphafold2_ptm_model_5_seed_000 recycle=0 pLDDT=87 pTM=0.479\n",
            "2025-10-05 21:47:38,520 alphafold2_ptm_model_5_seed_000 recycle=1 pLDDT=83.6 pTM=0.466 tol=0.268\n",
            "2025-10-05 21:47:42,924 alphafold2_ptm_model_5_seed_000 recycle=2 pLDDT=83.8 pTM=0.472 tol=0.119\n",
            "2025-10-05 21:47:47,323 alphafold2_ptm_model_5_seed_000 recycle=3 pLDDT=83.2 pTM=0.464 tol=0.0505\n",
            "2025-10-05 21:47:47,324 alphafold2_ptm_model_5_seed_000 took 17.6s (3 recycles)\n",
            "2025-10-05 21:47:47,329 reranking models by 'plddt' metric\n",
            "2025-10-05 21:47:47,330 rank_001_alphafold2_ptm_model_5_seed_000 pLDDT=83.2 pTM=0.464\n",
            "2025-10-05 21:47:47,330 rank_002_alphafold2_ptm_model_4_seed_000 pLDDT=83.2 pTM=0.44\n",
            "2025-10-05 21:47:47,330 rank_003_alphafold2_ptm_model_1_seed_000 pLDDT=79.9 pTM=0.446\n",
            "2025-10-05 21:47:47,330 rank_004_alphafold2_ptm_model_3_seed_000 pLDDT=78.9 pTM=0.392\n",
            "2025-10-05 21:47:47,330 rank_005_alphafold2_ptm_model_2_seed_000 pLDDT=78.2 pTM=0.439\n",
            "2025-10-05 21:47:48,312 Query 122/200: seq_60_3c383 (length 46)\n"
          ]
        },
        {
          "output_type": "stream",
          "name": "stderr",
          "text": [
            "PENDING:   0%|          | 0/150 [elapsed: 00:00 remaining: ?]"
          ]
        },
        {
          "output_type": "stream",
          "name": "stdout",
          "text": [
            "2025-10-05 21:47:48,596 Sleeping for 5s. Reason: PENDING\n"
          ]
        },
        {
          "output_type": "stream",
          "name": "stderr",
          "text": [
            "COMPLETE: 100%|██████████| 150/150 [elapsed: 00:05 remaining: 00:00]\n"
          ]
        },
        {
          "output_type": "stream",
          "name": "stdout",
          "text": [
            "2025-10-05 21:47:54,125 Sequence 0 found no templates\n",
            "2025-10-05 21:47:56,300 Padding length to 50\n",
            "2025-10-05 21:48:00,834 alphafold2_ptm_model_1_seed_000 recycle=0 pLDDT=77.9 pTM=0.53\n",
            "2025-10-05 21:48:05,223 alphafold2_ptm_model_1_seed_000 recycle=1 pLDDT=79 pTM=0.548 tol=0.372\n",
            "2025-10-05 21:48:09,638 alphafold2_ptm_model_1_seed_000 recycle=2 pLDDT=78.5 pTM=0.535 tol=0.345\n",
            "2025-10-05 21:48:14,073 alphafold2_ptm_model_1_seed_000 recycle=3 pLDDT=79.4 pTM=0.547 tol=0.0583\n",
            "2025-10-05 21:48:14,073 alphafold2_ptm_model_1_seed_000 took 17.8s (3 recycles)\n",
            "2025-10-05 21:48:18,515 alphafold2_ptm_model_2_seed_000 recycle=0 pLDDT=77.3 pTM=0.536\n",
            "2025-10-05 21:48:22,995 alphafold2_ptm_model_2_seed_000 recycle=1 pLDDT=77.8 pTM=0.556 tol=0.185\n",
            "2025-10-05 21:48:27,475 alphafold2_ptm_model_2_seed_000 recycle=2 pLDDT=77.1 pTM=0.545 tol=0.137\n",
            "2025-10-05 21:48:31,950 alphafold2_ptm_model_2_seed_000 recycle=3 pLDDT=78.4 pTM=0.562 tol=0.0823\n",
            "2025-10-05 21:48:31,951 alphafold2_ptm_model_2_seed_000 took 17.9s (3 recycles)\n",
            "2025-10-05 21:48:36,393 alphafold2_ptm_model_3_seed_000 recycle=0 pLDDT=77.9 pTM=0.5\n",
            "2025-10-05 21:48:40,801 alphafold2_ptm_model_3_seed_000 recycle=1 pLDDT=74.1 pTM=0.431 tol=0.216\n",
            "2025-10-05 21:48:45,200 alphafold2_ptm_model_3_seed_000 recycle=2 pLDDT=70.7 pTM=0.375 tol=0.349\n",
            "2025-10-05 21:48:49,586 alphafold2_ptm_model_3_seed_000 recycle=3 pLDDT=70.2 pTM=0.377 tol=0.146\n",
            "2025-10-05 21:48:49,587 alphafold2_ptm_model_3_seed_000 took 17.6s (3 recycles)\n",
            "2025-10-05 21:48:53,979 alphafold2_ptm_model_4_seed_000 recycle=0 pLDDT=81.6 pTM=0.567\n",
            "2025-10-05 21:48:58,347 alphafold2_ptm_model_4_seed_000 recycle=1 pLDDT=82.3 pTM=0.577 tol=0.34\n",
            "2025-10-05 21:49:02,716 alphafold2_ptm_model_4_seed_000 recycle=2 pLDDT=83.9 pTM=0.591 tol=0.152\n",
            "2025-10-05 21:49:07,079 alphafold2_ptm_model_4_seed_000 recycle=3 pLDDT=86.2 pTM=0.615 tol=0.097\n",
            "2025-10-05 21:49:07,080 alphafold2_ptm_model_4_seed_000 took 17.5s (3 recycles)\n",
            "2025-10-05 21:49:11,455 alphafold2_ptm_model_5_seed_000 recycle=0 pLDDT=75.3 pTM=0.513\n",
            "2025-10-05 21:49:15,819 alphafold2_ptm_model_5_seed_000 recycle=1 pLDDT=75.2 pTM=0.515 tol=0.203\n",
            "2025-10-05 21:49:20,187 alphafold2_ptm_model_5_seed_000 recycle=2 pLDDT=74.6 pTM=0.503 tol=0.145\n",
            "2025-10-05 21:49:24,567 alphafold2_ptm_model_5_seed_000 recycle=3 pLDDT=76.2 pTM=0.528 tol=0.0694\n",
            "2025-10-05 21:49:24,568 alphafold2_ptm_model_5_seed_000 took 17.5s (3 recycles)\n",
            "2025-10-05 21:49:24,579 reranking models by 'plddt' metric\n",
            "2025-10-05 21:49:24,579 rank_001_alphafold2_ptm_model_4_seed_000 pLDDT=86.2 pTM=0.615\n",
            "2025-10-05 21:49:24,579 rank_002_alphafold2_ptm_model_1_seed_000 pLDDT=79.4 pTM=0.547\n",
            "2025-10-05 21:49:24,580 rank_003_alphafold2_ptm_model_2_seed_000 pLDDT=78.4 pTM=0.562\n",
            "2025-10-05 21:49:24,580 rank_004_alphafold2_ptm_model_5_seed_000 pLDDT=76.2 pTM=0.528\n",
            "2025-10-05 21:49:24,580 rank_005_alphafold2_ptm_model_3_seed_000 pLDDT=70.2 pTM=0.377\n",
            "2025-10-05 21:49:25,966 Query 123/200: seq_72_afc9d (length 46)\n"
          ]
        },
        {
          "output_type": "stream",
          "name": "stderr",
          "text": [
            "PENDING:   0%|          | 0/150 [elapsed: 00:00 remaining: ?]"
          ]
        },
        {
          "output_type": "stream",
          "name": "stdout",
          "text": [
            "2025-10-05 21:49:26,238 Sleeping for 10s. Reason: PENDING\n"
          ]
        },
        {
          "output_type": "stream",
          "name": "stderr",
          "text": [
            "COMPLETE: 100%|██████████| 150/150 [elapsed: 00:10 remaining: 00:00]\n"
          ]
        },
        {
          "output_type": "stream",
          "name": "stdout",
          "text": [
            "2025-10-05 21:49:36,945 Sequence 0 found no templates\n",
            "2025-10-05 21:49:39,534 Padding length to 50\n",
            "2025-10-05 21:49:44,089 alphafold2_ptm_model_1_seed_000 recycle=0 pLDDT=75.2 pTM=0.382\n",
            "2025-10-05 21:49:48,522 alphafold2_ptm_model_1_seed_000 recycle=1 pLDDT=75 pTM=0.382 tol=1.05\n",
            "2025-10-05 21:49:52,996 alphafold2_ptm_model_1_seed_000 recycle=2 pLDDT=73.9 pTM=0.382 tol=0.665\n",
            "2025-10-05 21:49:57,475 alphafold2_ptm_model_1_seed_000 recycle=3 pLDDT=73.6 pTM=0.383 tol=0.416\n",
            "2025-10-05 21:49:57,476 alphafold2_ptm_model_1_seed_000 took 17.9s (3 recycles)\n",
            "2025-10-05 21:50:01,973 alphafold2_ptm_model_2_seed_000 recycle=0 pLDDT=68.7 pTM=0.36\n",
            "2025-10-05 21:50:06,496 alphafold2_ptm_model_2_seed_000 recycle=1 pLDDT=66.4 pTM=0.357 tol=1.13\n",
            "2025-10-05 21:50:11,027 alphafold2_ptm_model_2_seed_000 recycle=2 pLDDT=66.4 pTM=0.363 tol=1.06\n",
            "2025-10-05 21:50:15,564 alphafold2_ptm_model_2_seed_000 recycle=3 pLDDT=66.4 pTM=0.365 tol=0.804\n",
            "2025-10-05 21:50:15,565 alphafold2_ptm_model_2_seed_000 took 18.1s (3 recycles)\n",
            "2025-10-05 21:50:20,074 alphafold2_ptm_model_3_seed_000 recycle=0 pLDDT=73.2 pTM=0.358\n",
            "2025-10-05 21:50:24,552 alphafold2_ptm_model_3_seed_000 recycle=1 pLDDT=73.8 pTM=0.369 tol=0.703\n",
            "2025-10-05 21:50:29,016 alphafold2_ptm_model_3_seed_000 recycle=2 pLDDT=73.4 pTM=0.371 tol=0.46\n",
            "2025-10-05 21:50:33,457 alphafold2_ptm_model_3_seed_000 recycle=3 pLDDT=73 pTM=0.372 tol=0.188\n",
            "2025-10-05 21:50:33,458 alphafold2_ptm_model_3_seed_000 took 17.9s (3 recycles)\n",
            "2025-10-05 21:50:37,899 alphafold2_ptm_model_4_seed_000 recycle=0 pLDDT=69.8 pTM=0.357\n",
            "2025-10-05 21:50:42,327 alphafold2_ptm_model_4_seed_000 recycle=1 pLDDT=69.9 pTM=0.364 tol=0.719\n",
            "2025-10-05 21:50:46,745 alphafold2_ptm_model_4_seed_000 recycle=2 pLDDT=70.1 pTM=0.365 tol=0.254\n",
            "2025-10-05 21:50:51,158 alphafold2_ptm_model_4_seed_000 recycle=3 pLDDT=70.1 pTM=0.368 tol=0.311\n",
            "2025-10-05 21:50:51,159 alphafold2_ptm_model_4_seed_000 took 17.7s (3 recycles)\n",
            "2025-10-05 21:50:55,579 alphafold2_ptm_model_5_seed_000 recycle=0 pLDDT=69.7 pTM=0.365\n",
            "2025-10-05 21:50:59,989 alphafold2_ptm_model_5_seed_000 recycle=1 pLDDT=70.1 pTM=0.37 tol=1.38\n",
            "2025-10-05 21:51:04,398 alphafold2_ptm_model_5_seed_000 recycle=2 pLDDT=70.6 pTM=0.375 tol=0.663\n",
            "2025-10-05 21:51:08,814 alphafold2_ptm_model_5_seed_000 recycle=3 pLDDT=70.4 pTM=0.377 tol=0.58\n",
            "2025-10-05 21:51:08,815 alphafold2_ptm_model_5_seed_000 took 17.6s (3 recycles)\n",
            "2025-10-05 21:51:08,820 reranking models by 'plddt' metric\n",
            "2025-10-05 21:51:08,820 rank_001_alphafold2_ptm_model_1_seed_000 pLDDT=73.6 pTM=0.383\n",
            "2025-10-05 21:51:08,821 rank_002_alphafold2_ptm_model_3_seed_000 pLDDT=73 pTM=0.372\n",
            "2025-10-05 21:51:08,821 rank_003_alphafold2_ptm_model_5_seed_000 pLDDT=70.4 pTM=0.377\n",
            "2025-10-05 21:51:08,821 rank_004_alphafold2_ptm_model_4_seed_000 pLDDT=70.1 pTM=0.368\n",
            "2025-10-05 21:51:08,821 rank_005_alphafold2_ptm_model_2_seed_000 pLDDT=66.4 pTM=0.365\n",
            "2025-10-05 21:51:09,880 Query 124/200: seq_88_db62c (length 46)\n"
          ]
        },
        {
          "output_type": "stream",
          "name": "stderr",
          "text": [
            "PENDING:   0%|          | 0/150 [elapsed: 00:00 remaining: ?]"
          ]
        },
        {
          "output_type": "stream",
          "name": "stdout",
          "text": [
            "2025-10-05 21:51:10,149 Sleeping for 9s. Reason: PENDING\n"
          ]
        },
        {
          "output_type": "stream",
          "name": "stderr",
          "text": [
            "COMPLETE: 100%|██████████| 150/150 [elapsed: 00:09 remaining: 00:00]\n"
          ]
        },
        {
          "output_type": "stream",
          "name": "stdout",
          "text": [
            "2025-10-05 21:51:19,688 Sequence 0 found no templates\n",
            "2025-10-05 21:51:21,791 Padding length to 50\n",
            "2025-10-05 21:51:26,264 alphafold2_ptm_model_1_seed_000 recycle=0 pLDDT=76.2 pTM=0.357\n",
            "2025-10-05 21:51:30,633 alphafold2_ptm_model_1_seed_000 recycle=1 pLDDT=76.1 pTM=0.366 tol=0.59\n",
            "2025-10-05 21:51:35,018 alphafold2_ptm_model_1_seed_000 recycle=2 pLDDT=75.4 pTM=0.365 tol=0.26\n",
            "2025-10-05 21:51:39,428 alphafold2_ptm_model_1_seed_000 recycle=3 pLDDT=76.4 pTM=0.369 tol=1.17\n",
            "2025-10-05 21:51:39,429 alphafold2_ptm_model_1_seed_000 took 17.6s (3 recycles)\n",
            "2025-10-05 21:51:43,834 alphafold2_ptm_model_2_seed_000 recycle=0 pLDDT=73.7 pTM=0.355\n",
            "2025-10-05 21:51:48,279 alphafold2_ptm_model_2_seed_000 recycle=1 pLDDT=71.8 pTM=0.354 tol=1.04\n",
            "2025-10-05 21:51:52,735 alphafold2_ptm_model_2_seed_000 recycle=2 pLDDT=70.1 pTM=0.349 tol=0.457\n",
            "2025-10-05 21:51:57,198 alphafold2_ptm_model_2_seed_000 recycle=3 pLDDT=71.1 pTM=0.353 tol=0.887\n",
            "2025-10-05 21:51:57,199 alphafold2_ptm_model_2_seed_000 took 17.8s (3 recycles)\n",
            "2025-10-05 21:52:01,636 alphafold2_ptm_model_3_seed_000 recycle=0 pLDDT=79.7 pTM=0.364\n",
            "2025-10-05 21:52:06,051 alphafold2_ptm_model_3_seed_000 recycle=1 pLDDT=77.7 pTM=0.345 tol=0.667\n",
            "2025-10-05 21:52:10,444 alphafold2_ptm_model_3_seed_000 recycle=2 pLDDT=77.1 pTM=0.346 tol=0.214\n",
            "2025-10-05 21:52:14,825 alphafold2_ptm_model_3_seed_000 recycle=3 pLDDT=77.6 pTM=0.346 tol=0.972\n",
            "2025-10-05 21:52:14,826 alphafold2_ptm_model_3_seed_000 took 17.6s (3 recycles)\n",
            "2025-10-05 21:52:19,199 alphafold2_ptm_model_4_seed_000 recycle=0 pLDDT=79.3 pTM=0.389\n",
            "2025-10-05 21:52:23,561 alphafold2_ptm_model_4_seed_000 recycle=1 pLDDT=78.2 pTM=0.379 tol=0.115\n",
            "2025-10-05 21:52:27,918 alphafold2_ptm_model_4_seed_000 recycle=2 pLDDT=76.8 pTM=0.371 tol=0.0822\n",
            "2025-10-05 21:52:32,270 alphafold2_ptm_model_4_seed_000 recycle=3 pLDDT=77.7 pTM=0.378 tol=0.127\n",
            "2025-10-05 21:52:32,270 alphafold2_ptm_model_4_seed_000 took 17.4s (3 recycles)\n",
            "2025-10-05 21:52:36,633 alphafold2_ptm_model_5_seed_000 recycle=0 pLDDT=81.8 pTM=0.399\n",
            "2025-10-05 21:52:40,981 alphafold2_ptm_model_5_seed_000 recycle=1 pLDDT=80.1 pTM=0.381 tol=0.497\n",
            "2025-10-05 21:52:45,331 alphafold2_ptm_model_5_seed_000 recycle=2 pLDDT=78.9 pTM=0.372 tol=0.0977\n",
            "2025-10-05 21:52:49,689 alphafold2_ptm_model_5_seed_000 recycle=3 pLDDT=80.6 pTM=0.387 tol=0.964\n",
            "2025-10-05 21:52:49,690 alphafold2_ptm_model_5_seed_000 took 17.4s (3 recycles)\n",
            "2025-10-05 21:52:49,700 reranking models by 'plddt' metric\n",
            "2025-10-05 21:52:49,700 rank_001_alphafold2_ptm_model_5_seed_000 pLDDT=80.6 pTM=0.387\n",
            "2025-10-05 21:52:49,700 rank_002_alphafold2_ptm_model_4_seed_000 pLDDT=77.7 pTM=0.378\n",
            "2025-10-05 21:52:49,700 rank_003_alphafold2_ptm_model_3_seed_000 pLDDT=77.6 pTM=0.346\n",
            "2025-10-05 21:52:49,701 rank_004_alphafold2_ptm_model_1_seed_000 pLDDT=76.4 pTM=0.369\n",
            "2025-10-05 21:52:49,701 rank_005_alphafold2_ptm_model_2_seed_000 pLDDT=71.1 pTM=0.353\n",
            "2025-10-05 21:52:50,922 Query 125/200: seq_94_a1b75 (length 46)\n"
          ]
        },
        {
          "output_type": "stream",
          "name": "stderr",
          "text": [
            "PENDING:   0%|          | 0/150 [elapsed: 00:00 remaining: ?]"
          ]
        },
        {
          "output_type": "stream",
          "name": "stdout",
          "text": [
            "2025-10-05 21:52:51,227 Sleeping for 9s. Reason: PENDING\n"
          ]
        },
        {
          "output_type": "stream",
          "name": "stderr",
          "text": [
            "COMPLETE: 100%|██████████| 150/150 [elapsed: 00:09 remaining: 00:00]\n"
          ]
        },
        {
          "output_type": "stream",
          "name": "stdout",
          "text": [
            "2025-10-05 21:53:00,755 Sequence 0 found no templates\n",
            "2025-10-05 21:53:03,255 Padding length to 50\n",
            "2025-10-05 21:53:07,759 alphafold2_ptm_model_1_seed_000 recycle=0 pLDDT=78.4 pTM=0.429\n",
            "2025-10-05 21:53:12,142 alphafold2_ptm_model_1_seed_000 recycle=1 pLDDT=77.1 pTM=0.429 tol=0.224\n",
            "2025-10-05 21:53:16,537 alphafold2_ptm_model_1_seed_000 recycle=2 pLDDT=76.6 pTM=0.426 tol=0.14\n",
            "2025-10-05 21:53:20,954 alphafold2_ptm_model_1_seed_000 recycle=3 pLDDT=77.4 pTM=0.429 tol=0.0734\n",
            "2025-10-05 21:53:20,955 alphafold2_ptm_model_1_seed_000 took 17.7s (3 recycles)\n",
            "2025-10-05 21:53:25,387 alphafold2_ptm_model_2_seed_000 recycle=0 pLDDT=74.9 pTM=0.397\n",
            "2025-10-05 21:53:29,845 alphafold2_ptm_model_2_seed_000 recycle=1 pLDDT=74.7 pTM=0.404 tol=0.421\n",
            "2025-10-05 21:53:34,313 alphafold2_ptm_model_2_seed_000 recycle=2 pLDDT=74.4 pTM=0.4 tol=0.0919\n",
            "2025-10-05 21:53:38,800 alphafold2_ptm_model_2_seed_000 recycle=3 pLDDT=75.3 pTM=0.406 tol=0.275\n",
            "2025-10-05 21:53:38,801 alphafold2_ptm_model_2_seed_000 took 17.8s (3 recycles)\n",
            "2025-10-05 21:53:43,262 alphafold2_ptm_model_3_seed_000 recycle=0 pLDDT=77.9 pTM=0.389\n",
            "2025-10-05 21:53:47,711 alphafold2_ptm_model_3_seed_000 recycle=1 pLDDT=77.1 pTM=0.396 tol=0.303\n",
            "2025-10-05 21:53:52,132 alphafold2_ptm_model_3_seed_000 recycle=2 pLDDT=76.6 pTM=0.397 tol=0.104\n",
            "2025-10-05 21:53:56,534 alphafold2_ptm_model_3_seed_000 recycle=3 pLDDT=77.9 pTM=0.401 tol=0.242\n",
            "2025-10-05 21:53:56,535 alphafold2_ptm_model_3_seed_000 took 17.7s (3 recycles)\n",
            "2025-10-05 21:54:00,936 alphafold2_ptm_model_4_seed_000 recycle=0 pLDDT=78.4 pTM=0.413\n",
            "2025-10-05 21:54:05,316 alphafold2_ptm_model_4_seed_000 recycle=1 pLDDT=78.3 pTM=0.426 tol=0.185\n",
            "2025-10-05 21:54:09,690 alphafold2_ptm_model_4_seed_000 recycle=2 pLDDT=77.9 pTM=0.428 tol=0.124\n",
            "2025-10-05 21:54:14,058 alphafold2_ptm_model_4_seed_000 recycle=3 pLDDT=78.8 pTM=0.432 tol=0.121\n",
            "2025-10-05 21:54:14,059 alphafold2_ptm_model_4_seed_000 took 17.5s (3 recycles)\n",
            "2025-10-05 21:54:18,438 alphafold2_ptm_model_5_seed_000 recycle=0 pLDDT=80.4 pTM=0.415\n",
            "2025-10-05 21:54:22,801 alphafold2_ptm_model_5_seed_000 recycle=1 pLDDT=79.5 pTM=0.42 tol=0.109\n",
            "2025-10-05 21:54:27,169 alphafold2_ptm_model_5_seed_000 recycle=2 pLDDT=79.2 pTM=0.416 tol=0.0664\n",
            "2025-10-05 21:54:31,541 alphafold2_ptm_model_5_seed_000 recycle=3 pLDDT=80.2 pTM=0.425 tol=0.134\n",
            "2025-10-05 21:54:31,541 alphafold2_ptm_model_5_seed_000 took 17.5s (3 recycles)\n",
            "2025-10-05 21:54:31,547 reranking models by 'plddt' metric\n",
            "2025-10-05 21:54:31,547 rank_001_alphafold2_ptm_model_5_seed_000 pLDDT=80.2 pTM=0.425\n",
            "2025-10-05 21:54:31,547 rank_002_alphafold2_ptm_model_4_seed_000 pLDDT=78.8 pTM=0.432\n",
            "2025-10-05 21:54:31,548 rank_003_alphafold2_ptm_model_3_seed_000 pLDDT=77.9 pTM=0.401\n",
            "2025-10-05 21:54:31,548 rank_004_alphafold2_ptm_model_1_seed_000 pLDDT=77.4 pTM=0.429\n",
            "2025-10-05 21:54:31,548 rank_005_alphafold2_ptm_model_2_seed_000 pLDDT=75.3 pTM=0.406\n",
            "2025-10-05 21:54:32,527 Query 126/200: seq_120_31143 (length 46)\n"
          ]
        },
        {
          "output_type": "stream",
          "name": "stderr",
          "text": [
            "PENDING:   0%|          | 0/150 [elapsed: 00:00 remaining: ?]"
          ]
        },
        {
          "output_type": "stream",
          "name": "stdout",
          "text": [
            "2025-10-05 21:54:32,806 Sleeping for 6s. Reason: PENDING\n"
          ]
        },
        {
          "output_type": "stream",
          "name": "stderr",
          "text": [
            "COMPLETE: 100%|██████████| 150/150 [elapsed: 00:06 remaining: 00:00]\n"
          ]
        },
        {
          "output_type": "stream",
          "name": "stdout",
          "text": [
            "2025-10-05 21:54:39,327 Sequence 0 found no templates\n",
            "2025-10-05 21:54:41,466 Padding length to 50\n",
            "2025-10-05 21:54:45,959 alphafold2_ptm_model_1_seed_000 recycle=0 pLDDT=80 pTM=0.423\n",
            "2025-10-05 21:54:50,317 alphafold2_ptm_model_1_seed_000 recycle=1 pLDDT=81.9 pTM=0.447 tol=0.185\n",
            "2025-10-05 21:54:54,693 alphafold2_ptm_model_1_seed_000 recycle=2 pLDDT=81.9 pTM=0.446 tol=0.104\n",
            "2025-10-05 21:54:59,089 alphafold2_ptm_model_1_seed_000 recycle=3 pLDDT=81.8 pTM=0.444 tol=0.105\n",
            "2025-10-05 21:54:59,090 alphafold2_ptm_model_1_seed_000 took 17.6s (3 recycles)\n",
            "2025-10-05 21:55:03,499 alphafold2_ptm_model_2_seed_000 recycle=0 pLDDT=80 pTM=0.427\n",
            "2025-10-05 21:55:07,934 alphafold2_ptm_model_2_seed_000 recycle=1 pLDDT=80.4 pTM=0.435 tol=0.178\n",
            "2025-10-05 21:55:12,392 alphafold2_ptm_model_2_seed_000 recycle=2 pLDDT=78.8 pTM=0.421 tol=0.0945\n",
            "2025-10-05 21:55:16,845 alphafold2_ptm_model_2_seed_000 recycle=3 pLDDT=79.2 pTM=0.423 tol=0.0509\n",
            "2025-10-05 21:55:16,846 alphafold2_ptm_model_2_seed_000 took 17.7s (3 recycles)\n",
            "2025-10-05 21:55:21,271 alphafold2_ptm_model_3_seed_000 recycle=0 pLDDT=83.2 pTM=0.423\n",
            "2025-10-05 21:55:25,673 alphafold2_ptm_model_3_seed_000 recycle=1 pLDDT=82.8 pTM=0.427 tol=0.106\n",
            "2025-10-05 21:55:30,058 alphafold2_ptm_model_3_seed_000 recycle=2 pLDDT=82.2 pTM=0.416 tol=0.217\n",
            "2025-10-05 21:55:34,432 alphafold2_ptm_model_3_seed_000 recycle=3 pLDDT=82.3 pTM=0.416 tol=0.164\n",
            "2025-10-05 21:55:34,433 alphafold2_ptm_model_3_seed_000 took 17.6s (3 recycles)\n",
            "2025-10-05 21:55:38,800 alphafold2_ptm_model_4_seed_000 recycle=0 pLDDT=82.4 pTM=0.442\n",
            "2025-10-05 21:55:43,150 alphafold2_ptm_model_4_seed_000 recycle=1 pLDDT=81.9 pTM=0.439 tol=0.374\n",
            "2025-10-05 21:55:47,492 alphafold2_ptm_model_4_seed_000 recycle=2 pLDDT=81.8 pTM=0.433 tol=0.111\n",
            "2025-10-05 21:55:51,831 alphafold2_ptm_model_4_seed_000 recycle=3 pLDDT=81.9 pTM=0.435 tol=0.0664\n",
            "2025-10-05 21:55:51,831 alphafold2_ptm_model_4_seed_000 took 17.4s (3 recycles)\n",
            "2025-10-05 21:55:56,179 alphafold2_ptm_model_5_seed_000 recycle=0 pLDDT=83.1 pTM=0.438\n",
            "2025-10-05 21:56:00,518 alphafold2_ptm_model_5_seed_000 recycle=1 pLDDT=81.9 pTM=0.42 tol=0.255\n",
            "2025-10-05 21:56:04,857 alphafold2_ptm_model_5_seed_000 recycle=2 pLDDT=81.8 pTM=0.421 tol=0.0804\n",
            "2025-10-05 21:56:09,202 alphafold2_ptm_model_5_seed_000 recycle=3 pLDDT=81.9 pTM=0.42 tol=0.0597\n",
            "2025-10-05 21:56:09,203 alphafold2_ptm_model_5_seed_000 took 17.4s (3 recycles)\n",
            "2025-10-05 21:56:09,208 reranking models by 'plddt' metric\n",
            "2025-10-05 21:56:09,208 rank_001_alphafold2_ptm_model_3_seed_000 pLDDT=82.3 pTM=0.416\n",
            "2025-10-05 21:56:09,209 rank_002_alphafold2_ptm_model_5_seed_000 pLDDT=81.9 pTM=0.42\n",
            "2025-10-05 21:56:09,209 rank_003_alphafold2_ptm_model_4_seed_000 pLDDT=81.9 pTM=0.435\n",
            "2025-10-05 21:56:09,209 rank_004_alphafold2_ptm_model_1_seed_000 pLDDT=81.8 pTM=0.444\n",
            "2025-10-05 21:56:09,209 rank_005_alphafold2_ptm_model_2_seed_000 pLDDT=79.2 pTM=0.423\n",
            "2025-10-05 21:56:10,195 Query 127/200: seq_180_d098d (length 46)\n"
          ]
        },
        {
          "output_type": "stream",
          "name": "stderr",
          "text": [
            "PENDING:   0%|          | 0/150 [elapsed: 00:00 remaining: ?]"
          ]
        },
        {
          "output_type": "stream",
          "name": "stdout",
          "text": [
            "2025-10-05 21:56:10,475 Sleeping for 5s. Reason: PENDING\n"
          ]
        },
        {
          "output_type": "stream",
          "name": "stderr",
          "text": [
            "RUNNING:   3%|▎         | 5/150 [elapsed: 00:05 remaining: 02:40]"
          ]
        },
        {
          "output_type": "stream",
          "name": "stdout",
          "text": [
            "2025-10-05 21:56:15,738 Sleeping for 8s. Reason: RUNNING\n"
          ]
        },
        {
          "output_type": "stream",
          "name": "stderr",
          "text": [
            "COMPLETE: 100%|██████████| 150/150 [elapsed: 00:14 remaining: 00:00]\n"
          ]
        },
        {
          "output_type": "stream",
          "name": "stdout",
          "text": [
            "2025-10-05 21:56:24,276 Sequence 0 found no templates\n",
            "2025-10-05 21:56:27,003 Padding length to 50\n",
            "2025-10-05 21:56:31,517 alphafold2_ptm_model_1_seed_000 recycle=0 pLDDT=74.3 pTM=0.392\n",
            "2025-10-05 21:56:35,891 alphafold2_ptm_model_1_seed_000 recycle=1 pLDDT=74.8 pTM=0.4 tol=0.854\n",
            "2025-10-05 21:56:40,283 alphafold2_ptm_model_1_seed_000 recycle=2 pLDDT=75.2 pTM=0.41 tol=0.386\n",
            "2025-10-05 21:56:44,695 alphafold2_ptm_model_1_seed_000 recycle=3 pLDDT=75.1 pTM=0.412 tol=0.457\n",
            "2025-10-05 21:56:44,696 alphafold2_ptm_model_1_seed_000 took 17.7s (3 recycles)\n",
            "2025-10-05 21:56:49,114 alphafold2_ptm_model_2_seed_000 recycle=0 pLDDT=71.4 pTM=0.384\n",
            "2025-10-05 21:56:53,557 alphafold2_ptm_model_2_seed_000 recycle=1 pLDDT=71.2 pTM=0.385 tol=0.906\n",
            "2025-10-05 21:56:58,020 alphafold2_ptm_model_2_seed_000 recycle=2 pLDDT=72 pTM=0.393 tol=0.667\n",
            "2025-10-05 21:57:02,487 alphafold2_ptm_model_2_seed_000 recycle=3 pLDDT=72.6 pTM=0.394 tol=0.531\n",
            "2025-10-05 21:57:02,487 alphafold2_ptm_model_2_seed_000 took 17.8s (3 recycles)\n",
            "2025-10-05 21:57:06,925 alphafold2_ptm_model_3_seed_000 recycle=0 pLDDT=73.2 pTM=0.381\n",
            "2025-10-05 21:57:11,340 alphafold2_ptm_model_3_seed_000 recycle=1 pLDDT=73.8 pTM=0.385 tol=0.714\n",
            "2025-10-05 21:57:15,735 alphafold2_ptm_model_3_seed_000 recycle=2 pLDDT=74.2 pTM=0.393 tol=1.07\n",
            "2025-10-05 21:57:20,117 alphafold2_ptm_model_3_seed_000 recycle=3 pLDDT=74.5 pTM=0.397 tol=0.502\n",
            "2025-10-05 21:57:20,118 alphafold2_ptm_model_3_seed_000 took 17.6s (3 recycles)\n",
            "2025-10-05 21:57:24,506 alphafold2_ptm_model_4_seed_000 recycle=0 pLDDT=72.1 pTM=0.37\n",
            "2025-10-05 21:57:28,867 alphafold2_ptm_model_4_seed_000 recycle=1 pLDDT=72.3 pTM=0.375 tol=0.872\n",
            "2025-10-05 21:57:33,227 alphafold2_ptm_model_4_seed_000 recycle=2 pLDDT=72.8 pTM=0.384 tol=0.679\n",
            "2025-10-05 21:57:37,587 alphafold2_ptm_model_4_seed_000 recycle=3 pLDDT=73.5 pTM=0.387 tol=0.304\n",
            "2025-10-05 21:57:37,587 alphafold2_ptm_model_4_seed_000 took 17.5s (3 recycles)\n",
            "2025-10-05 21:57:41,949 alphafold2_ptm_model_5_seed_000 recycle=0 pLDDT=73.1 pTM=0.392\n",
            "2025-10-05 21:57:46,305 alphafold2_ptm_model_5_seed_000 recycle=1 pLDDT=73.2 pTM=0.39 tol=1.38\n",
            "2025-10-05 21:57:50,659 alphafold2_ptm_model_5_seed_000 recycle=2 pLDDT=74.3 pTM=0.409 tol=0.702\n",
            "2025-10-05 21:57:55,018 alphafold2_ptm_model_5_seed_000 recycle=3 pLDDT=74.8 pTM=0.41 tol=0.298\n",
            "2025-10-05 21:57:55,019 alphafold2_ptm_model_5_seed_000 took 17.4s (3 recycles)\n",
            "2025-10-05 21:57:55,025 reranking models by 'plddt' metric\n",
            "2025-10-05 21:57:55,025 rank_001_alphafold2_ptm_model_1_seed_000 pLDDT=75.1 pTM=0.412\n",
            "2025-10-05 21:57:55,026 rank_002_alphafold2_ptm_model_5_seed_000 pLDDT=74.8 pTM=0.41\n",
            "2025-10-05 21:57:55,026 rank_003_alphafold2_ptm_model_3_seed_000 pLDDT=74.5 pTM=0.397\n",
            "2025-10-05 21:57:55,026 rank_004_alphafold2_ptm_model_4_seed_000 pLDDT=73.5 pTM=0.387\n",
            "2025-10-05 21:57:55,026 rank_005_alphafold2_ptm_model_2_seed_000 pLDDT=72.6 pTM=0.394\n",
            "2025-10-05 21:57:56,007 Query 128/200: seq_191_96cda (length 46)\n"
          ]
        },
        {
          "output_type": "stream",
          "name": "stderr",
          "text": [
            "PENDING:   0%|          | 0/150 [elapsed: 00:00 remaining: ?]"
          ]
        },
        {
          "output_type": "stream",
          "name": "stdout",
          "text": [
            "2025-10-05 21:57:56,301 Sleeping for 9s. Reason: PENDING\n"
          ]
        },
        {
          "output_type": "stream",
          "name": "stderr",
          "text": [
            "COMPLETE: 100%|██████████| 150/150 [elapsed: 00:09 remaining: 00:00]\n"
          ]
        },
        {
          "output_type": "stream",
          "name": "stdout",
          "text": [
            "2025-10-05 21:58:05,827 Sequence 0 found no templates\n",
            "2025-10-05 21:58:07,857 Padding length to 50\n",
            "2025-10-05 21:58:12,366 alphafold2_ptm_model_1_seed_000 recycle=0 pLDDT=78.4 pTM=0.434\n",
            "2025-10-05 21:58:16,752 alphafold2_ptm_model_1_seed_000 recycle=1 pLDDT=77.8 pTM=0.436 tol=0.33\n",
            "2025-10-05 21:58:21,155 alphafold2_ptm_model_1_seed_000 recycle=2 pLDDT=77.6 pTM=0.433 tol=0.584\n",
            "2025-10-05 21:58:25,576 alphafold2_ptm_model_1_seed_000 recycle=3 pLDDT=77.8 pTM=0.437 tol=0.264\n",
            "2025-10-05 21:58:25,576 alphafold2_ptm_model_1_seed_000 took 17.7s (3 recycles)\n",
            "2025-10-05 21:58:30,005 alphafold2_ptm_model_2_seed_000 recycle=0 pLDDT=76.4 pTM=0.425\n",
            "2025-10-05 21:58:34,464 alphafold2_ptm_model_2_seed_000 recycle=1 pLDDT=75.9 pTM=0.421 tol=0.204\n",
            "2025-10-05 21:58:38,942 alphafold2_ptm_model_2_seed_000 recycle=2 pLDDT=75.3 pTM=0.421 tol=0.208\n",
            "2025-10-05 21:58:43,415 alphafold2_ptm_model_2_seed_000 recycle=3 pLDDT=75.8 pTM=0.423 tol=0.218\n",
            "2025-10-05 21:58:43,415 alphafold2_ptm_model_2_seed_000 took 17.8s (3 recycles)\n",
            "2025-10-05 21:58:47,861 alphafold2_ptm_model_3_seed_000 recycle=0 pLDDT=80.4 pTM=0.416\n",
            "2025-10-05 21:58:52,276 alphafold2_ptm_model_3_seed_000 recycle=1 pLDDT=80.4 pTM=0.418 tol=0.182\n",
            "2025-10-05 21:58:56,674 alphafold2_ptm_model_3_seed_000 recycle=2 pLDDT=79.5 pTM=0.413 tol=0.166\n",
            "2025-10-05 21:59:01,068 alphafold2_ptm_model_3_seed_000 recycle=3 pLDDT=80.4 pTM=0.421 tol=0.162\n",
            "2025-10-05 21:59:01,069 alphafold2_ptm_model_3_seed_000 took 17.6s (3 recycles)\n",
            "2025-10-05 21:59:05,457 alphafold2_ptm_model_4_seed_000 recycle=0 pLDDT=77.6 pTM=0.402\n",
            "2025-10-05 21:59:09,822 alphafold2_ptm_model_4_seed_000 recycle=1 pLDDT=77.5 pTM=0.406 tol=0.519\n",
            "2025-10-05 21:59:14,185 alphafold2_ptm_model_4_seed_000 recycle=2 pLDDT=77.2 pTM=0.406 tol=0.0601\n",
            "2025-10-05 21:59:18,542 alphafold2_ptm_model_4_seed_000 recycle=3 pLDDT=77.4 pTM=0.408 tol=0.153\n",
            "2025-10-05 21:59:18,543 alphafold2_ptm_model_4_seed_000 took 17.5s (3 recycles)\n",
            "2025-10-05 21:59:22,906 alphafold2_ptm_model_5_seed_000 recycle=0 pLDDT=78.6 pTM=0.413\n",
            "2025-10-05 21:59:27,264 alphafold2_ptm_model_5_seed_000 recycle=1 pLDDT=78.1 pTM=0.413 tol=0.127\n",
            "2025-10-05 21:59:31,624 alphafold2_ptm_model_5_seed_000 recycle=2 pLDDT=78.1 pTM=0.415 tol=0.43\n",
            "2025-10-05 21:59:35,993 alphafold2_ptm_model_5_seed_000 recycle=3 pLDDT=78.4 pTM=0.415 tol=0.0524\n",
            "2025-10-05 21:59:35,994 alphafold2_ptm_model_5_seed_000 took 17.4s (3 recycles)\n",
            "2025-10-05 21:59:36,003 reranking models by 'plddt' metric\n",
            "2025-10-05 21:59:36,003 rank_001_alphafold2_ptm_model_3_seed_000 pLDDT=80.4 pTM=0.421\n",
            "2025-10-05 21:59:36,004 rank_002_alphafold2_ptm_model_5_seed_000 pLDDT=78.4 pTM=0.415\n",
            "2025-10-05 21:59:36,004 rank_003_alphafold2_ptm_model_1_seed_000 pLDDT=77.8 pTM=0.437\n",
            "2025-10-05 21:59:36,004 rank_004_alphafold2_ptm_model_4_seed_000 pLDDT=77.4 pTM=0.408\n",
            "2025-10-05 21:59:36,004 rank_005_alphafold2_ptm_model_2_seed_000 pLDDT=75.8 pTM=0.423\n",
            "2025-10-05 21:59:37,406 Query 129/200: seq_4_a4f49 (length 47)\n"
          ]
        },
        {
          "output_type": "stream",
          "name": "stderr",
          "text": [
            "PENDING:   0%|          | 0/150 [elapsed: 00:00 remaining: ?]"
          ]
        },
        {
          "output_type": "stream",
          "name": "stdout",
          "text": [
            "2025-10-05 21:59:37,683 Sleeping for 5s. Reason: PENDING\n"
          ]
        },
        {
          "output_type": "stream",
          "name": "stderr",
          "text": [
            "RUNNING:   3%|▎         | 5/150 [elapsed: 00:05 remaining: 02:40]"
          ]
        },
        {
          "output_type": "stream",
          "name": "stdout",
          "text": [
            "2025-10-05 21:59:42,944 Sleeping for 7s. Reason: RUNNING\n"
          ]
        },
        {
          "output_type": "stream",
          "name": "stderr",
          "text": [
            "RUNNING:   8%|▊         | 12/150 [elapsed: 00:12 remaining: 02:26]"
          ]
        },
        {
          "output_type": "stream",
          "name": "stdout",
          "text": [
            "2025-10-05 21:59:50,214 Sleeping for 10s. Reason: RUNNING\n"
          ]
        },
        {
          "output_type": "stream",
          "name": "stderr",
          "text": [
            "RUNNING:  15%|█▍        | 22/150 [elapsed: 00:23 remaining: 02:13]"
          ]
        },
        {
          "output_type": "stream",
          "name": "stdout",
          "text": [
            "2025-10-05 22:00:00,479 Sleeping for 7s. Reason: RUNNING\n"
          ]
        },
        {
          "output_type": "stream",
          "name": "stderr",
          "text": [
            "RUNNING:  19%|█▉        | 29/150 [elapsed: 00:30 remaining: 02:05]"
          ]
        },
        {
          "output_type": "stream",
          "name": "stdout",
          "text": [
            "2025-10-05 22:00:07,760 Sleeping for 7s. Reason: RUNNING\n"
          ]
        },
        {
          "output_type": "stream",
          "name": "stderr",
          "text": [
            "RUNNING:  24%|██▍       | 36/150 [elapsed: 00:37 remaining: 01:58]"
          ]
        },
        {
          "output_type": "stream",
          "name": "stdout",
          "text": [
            "2025-10-05 22:00:15,027 Sleeping for 7s. Reason: RUNNING\n"
          ]
        },
        {
          "output_type": "stream",
          "name": "stderr",
          "text": [
            "RUNNING:  29%|██▊       | 43/150 [elapsed: 00:44 remaining: 01:51]"
          ]
        },
        {
          "output_type": "stream",
          "name": "stdout",
          "text": [
            "2025-10-05 22:00:22,292 Sleeping for 6s. Reason: RUNNING\n"
          ]
        },
        {
          "output_type": "stream",
          "name": "stderr",
          "text": [
            "RUNNING:  33%|███▎      | 49/150 [elapsed: 00:51 remaining: 01:45]"
          ]
        },
        {
          "output_type": "stream",
          "name": "stdout",
          "text": [
            "2025-10-05 22:00:28,553 Sleeping for 7s. Reason: RUNNING\n"
          ]
        },
        {
          "output_type": "stream",
          "name": "stderr",
          "text": [
            "RUNNING:  37%|███▋      | 56/150 [elapsed: 00:58 remaining: 01:37]"
          ]
        },
        {
          "output_type": "stream",
          "name": "stdout",
          "text": [
            "2025-10-05 22:00:35,821 Sleeping for 9s. Reason: RUNNING\n"
          ]
        },
        {
          "output_type": "stream",
          "name": "stderr",
          "text": [
            "RUNNING:  43%|████▎     | 65/150 [elapsed: 01:07 remaining: 01:28]"
          ]
        },
        {
          "output_type": "stream",
          "name": "stdout",
          "text": [
            "2025-10-05 22:00:45,107 Sleeping for 7s. Reason: RUNNING\n"
          ]
        },
        {
          "output_type": "stream",
          "name": "stderr",
          "text": [
            "RUNNING:  48%|████▊     | 72/150 [elapsed: 01:14 remaining: 01:20]"
          ]
        },
        {
          "output_type": "stream",
          "name": "stdout",
          "text": [
            "2025-10-05 22:00:52,371 Sleeping for 8s. Reason: RUNNING\n"
          ]
        },
        {
          "output_type": "stream",
          "name": "stderr",
          "text": [
            "RUNNING:  53%|█████▎    | 80/150 [elapsed: 01:23 remaining: 01:12]"
          ]
        },
        {
          "output_type": "stream",
          "name": "stdout",
          "text": [
            "2025-10-05 22:01:00,633 Sleeping for 9s. Reason: RUNNING\n"
          ]
        },
        {
          "output_type": "stream",
          "name": "stderr",
          "text": [
            "RUNNING:  59%|█████▉    | 89/150 [elapsed: 01:32 remaining: 01:03]"
          ]
        },
        {
          "output_type": "stream",
          "name": "stdout",
          "text": [
            "2025-10-05 22:01:09,897 Sleeping for 6s. Reason: RUNNING\n"
          ]
        },
        {
          "output_type": "stream",
          "name": "stderr",
          "text": [
            "RUNNING:  63%|██████▎   | 95/150 [elapsed: 01:38 remaining: 00:56]"
          ]
        },
        {
          "output_type": "stream",
          "name": "stdout",
          "text": [
            "2025-10-05 22:01:16,166 Sleeping for 8s. Reason: RUNNING\n"
          ]
        },
        {
          "output_type": "stream",
          "name": "stderr",
          "text": [
            "RUNNING:  69%|██████▊   | 103/150 [elapsed: 01:47 remaining: 00:48]"
          ]
        },
        {
          "output_type": "stream",
          "name": "stdout",
          "text": [
            "2025-10-05 22:01:24,429 Sleeping for 8s. Reason: RUNNING\n"
          ]
        },
        {
          "output_type": "stream",
          "name": "stderr",
          "text": [
            "RUNNING:  74%|███████▍  | 111/150 [elapsed: 01:55 remaining: 00:40]"
          ]
        },
        {
          "output_type": "stream",
          "name": "stdout",
          "text": [
            "2025-10-05 22:01:32,691 Sleeping for 8s. Reason: RUNNING\n"
          ]
        },
        {
          "output_type": "stream",
          "name": "stderr",
          "text": [
            "RUNNING:  79%|███████▉  | 119/150 [elapsed: 02:03 remaining: 00:32]"
          ]
        },
        {
          "output_type": "stream",
          "name": "stdout",
          "text": [
            "2025-10-05 22:01:41,115 Sleeping for 5s. Reason: RUNNING\n"
          ]
        },
        {
          "output_type": "stream",
          "name": "stderr",
          "text": [
            "RUNNING:  83%|████████▎ | 124/150 [elapsed: 02:08 remaining: 00:27]"
          ]
        },
        {
          "output_type": "stream",
          "name": "stdout",
          "text": [
            "2025-10-05 22:01:46,384 Sleeping for 8s. Reason: RUNNING\n"
          ]
        },
        {
          "output_type": "stream",
          "name": "stderr",
          "text": [
            "RUNNING:  88%|████████▊ | 132/150 [elapsed: 02:17 remaining: 00:18]"
          ]
        },
        {
          "output_type": "stream",
          "name": "stdout",
          "text": [
            "2025-10-05 22:01:54,656 Sleeping for 8s. Reason: RUNNING\n"
          ]
        },
        {
          "output_type": "stream",
          "name": "stderr",
          "text": [
            "RUNNING:  93%|█████████▎| 140/150 [elapsed: 02:25 remaining: 00:10]"
          ]
        },
        {
          "output_type": "stream",
          "name": "stdout",
          "text": [
            "2025-10-05 22:02:02,921 Sleeping for 6s. Reason: RUNNING\n"
          ]
        },
        {
          "output_type": "stream",
          "name": "stderr",
          "text": [
            "COMPLETE: 100%|██████████| 150/150 [elapsed: 02:32 remaining: 00:00]\n"
          ]
        },
        {
          "output_type": "stream",
          "name": "stdout",
          "text": [
            "2025-10-05 22:02:19,982 Sequence 0 found templates: ['3imf_A', '3imf_A', '3imf_A', '1spx_A', '1xkq_D', '1xhl_B', '6r48_B', '6l1g_A', '2jap_B', '6l1g_B', '6r48_A', '3tox_G', '3tox_C', '3tox_B', '4iuy_C', '3gmd_H', '3tox_F', '3dwf_C', '3dwf_A', '1xse_A']\n",
            "2025-10-05 22:02:24,477 Padding length to 50\n",
            "2025-10-05 22:02:29,134 alphafold2_ptm_model_1_seed_000 recycle=0 pLDDT=95.8 pTM=0.747\n",
            "2025-10-05 22:02:33,670 alphafold2_ptm_model_1_seed_000 recycle=1 pLDDT=96.6 pTM=0.754 tol=0.14\n",
            "2025-10-05 22:02:38,249 alphafold2_ptm_model_1_seed_000 recycle=2 pLDDT=96.6 pTM=0.754 tol=0.0423\n",
            "2025-10-05 22:02:42,913 alphafold2_ptm_model_1_seed_000 recycle=3 pLDDT=96.9 pTM=0.756 tol=0.0316\n",
            "2025-10-05 22:02:42,913 alphafold2_ptm_model_1_seed_000 took 18.4s (3 recycles)\n",
            "2025-10-05 22:02:47,569 alphafold2_ptm_model_2_seed_000 recycle=0 pLDDT=95.8 pTM=0.754\n",
            "2025-10-05 22:02:52,203 alphafold2_ptm_model_2_seed_000 recycle=1 pLDDT=96.9 pTM=0.767 tol=0.103\n",
            "2025-10-05 22:02:56,773 alphafold2_ptm_model_2_seed_000 recycle=2 pLDDT=97 pTM=0.768 tol=0.0334\n",
            "2025-10-05 22:03:01,322 alphafold2_ptm_model_2_seed_000 recycle=3 pLDDT=97.2 pTM=0.769 tol=0.0294\n",
            "2025-10-05 22:03:01,323 alphafold2_ptm_model_2_seed_000 took 18.4s (3 recycles)\n",
            "2025-10-05 22:03:05,824 alphafold2_ptm_model_3_seed_000 recycle=0 pLDDT=96.8 pTM=0.768\n",
            "2025-10-05 22:03:10,293 alphafold2_ptm_model_3_seed_000 recycle=1 pLDDT=97.2 pTM=0.776 tol=0.0966\n",
            "2025-10-05 22:03:14,757 alphafold2_ptm_model_3_seed_000 recycle=2 pLDDT=97.2 pTM=0.777 tol=0.0358\n",
            "2025-10-05 22:03:19,212 alphafold2_ptm_model_3_seed_000 recycle=3 pLDDT=97.4 pTM=0.776 tol=0.0255\n",
            "2025-10-05 22:03:19,213 alphafold2_ptm_model_3_seed_000 took 17.9s (3 recycles)\n",
            "2025-10-05 22:03:23,665 alphafold2_ptm_model_4_seed_000 recycle=0 pLDDT=97.1 pTM=0.772\n",
            "2025-10-05 22:03:28,115 alphafold2_ptm_model_4_seed_000 recycle=1 pLDDT=97.9 pTM=0.785 tol=0.106\n",
            "2025-10-05 22:03:32,562 alphafold2_ptm_model_4_seed_000 recycle=2 pLDDT=97.9 pTM=0.786 tol=0.04\n",
            "2025-10-05 22:03:37,010 alphafold2_ptm_model_4_seed_000 recycle=3 pLDDT=97.9 pTM=0.782 tol=0.0255\n",
            "2025-10-05 22:03:37,010 alphafold2_ptm_model_4_seed_000 took 17.8s (3 recycles)\n",
            "2025-10-05 22:03:41,464 alphafold2_ptm_model_5_seed_000 recycle=0 pLDDT=96.4 pTM=0.76\n",
            "2025-10-05 22:03:45,922 alphafold2_ptm_model_5_seed_000 recycle=1 pLDDT=97.2 pTM=0.77 tol=0.1\n",
            "2025-10-05 22:03:50,393 alphafold2_ptm_model_5_seed_000 recycle=2 pLDDT=97.5 pTM=0.775 tol=0.032\n",
            "2025-10-05 22:03:54,870 alphafold2_ptm_model_5_seed_000 recycle=3 pLDDT=97.6 pTM=0.775 tol=0.0229\n",
            "2025-10-05 22:03:54,871 alphafold2_ptm_model_5_seed_000 took 17.9s (3 recycles)\n",
            "2025-10-05 22:03:54,875 reranking models by 'plddt' metric\n",
            "2025-10-05 22:03:54,876 rank_001_alphafold2_ptm_model_4_seed_000 pLDDT=97.9 pTM=0.782\n",
            "2025-10-05 22:03:54,876 rank_002_alphafold2_ptm_model_5_seed_000 pLDDT=97.6 pTM=0.775\n",
            "2025-10-05 22:03:54,876 rank_003_alphafold2_ptm_model_3_seed_000 pLDDT=97.4 pTM=0.776\n",
            "2025-10-05 22:03:54,876 rank_004_alphafold2_ptm_model_2_seed_000 pLDDT=97.2 pTM=0.769\n",
            "2025-10-05 22:03:54,876 rank_005_alphafold2_ptm_model_1_seed_000 pLDDT=96.9 pTM=0.756\n",
            "2025-10-05 22:03:55,782 Query 130/200: seq_37_d094e (length 47)\n"
          ]
        },
        {
          "output_type": "stream",
          "name": "stderr",
          "text": [
            "PENDING:   0%|          | 0/150 [elapsed: 00:00 remaining: ?]"
          ]
        },
        {
          "output_type": "stream",
          "name": "stdout",
          "text": [
            "2025-10-05 22:03:56,090 Sleeping for 6s. Reason: PENDING\n"
          ]
        },
        {
          "output_type": "stream",
          "name": "stderr",
          "text": [
            "COMPLETE: 100%|██████████| 150/150 [elapsed: 00:06 remaining: 00:00]\n"
          ]
        },
        {
          "output_type": "stream",
          "name": "stdout",
          "text": [
            "2025-10-05 22:04:02,616 Sequence 0 found no templates\n",
            "2025-10-05 22:04:05,088 Padding length to 50\n",
            "2025-10-05 22:04:09,608 alphafold2_ptm_model_1_seed_000 recycle=0 pLDDT=74.2 pTM=0.388\n",
            "2025-10-05 22:04:14,002 alphafold2_ptm_model_1_seed_000 recycle=1 pLDDT=75.9 pTM=0.41 tol=1.09\n",
            "2025-10-05 22:04:18,413 alphafold2_ptm_model_1_seed_000 recycle=2 pLDDT=76.6 pTM=0.419 tol=0.8\n",
            "2025-10-05 22:04:22,846 alphafold2_ptm_model_1_seed_000 recycle=3 pLDDT=76.2 pTM=0.42 tol=0.691\n",
            "2025-10-05 22:04:22,847 alphafold2_ptm_model_1_seed_000 took 17.8s (3 recycles)\n",
            "2025-10-05 22:04:27,292 alphafold2_ptm_model_2_seed_000 recycle=0 pLDDT=73.8 pTM=0.385\n",
            "2025-10-05 22:04:31,771 alphafold2_ptm_model_2_seed_000 recycle=1 pLDDT=74.2 pTM=0.395 tol=1.41\n",
            "2025-10-05 22:04:36,244 alphafold2_ptm_model_2_seed_000 recycle=2 pLDDT=75.1 pTM=0.403 tol=0.728\n",
            "2025-10-05 22:04:40,696 alphafold2_ptm_model_2_seed_000 recycle=3 pLDDT=74.6 pTM=0.4 tol=0.85\n",
            "2025-10-05 22:04:40,696 alphafold2_ptm_model_2_seed_000 took 17.8s (3 recycles)\n",
            "2025-10-05 22:04:45,110 alphafold2_ptm_model_3_seed_000 recycle=0 pLDDT=75.8 pTM=0.368\n",
            "2025-10-05 22:04:49,500 alphafold2_ptm_model_3_seed_000 recycle=1 pLDDT=76.9 pTM=0.381 tol=0.908\n",
            "2025-10-05 22:04:53,875 alphafold2_ptm_model_3_seed_000 recycle=2 pLDDT=76.8 pTM=0.385 tol=0.225\n",
            "2025-10-05 22:04:58,240 alphafold2_ptm_model_3_seed_000 recycle=3 pLDDT=76.9 pTM=0.386 tol=0.218\n",
            "2025-10-05 22:04:58,241 alphafold2_ptm_model_3_seed_000 took 17.5s (3 recycles)\n",
            "2025-10-05 22:05:02,611 alphafold2_ptm_model_4_seed_000 recycle=0 pLDDT=75.4 pTM=0.377\n",
            "2025-10-05 22:05:06,970 alphafold2_ptm_model_4_seed_000 recycle=1 pLDDT=75.8 pTM=0.389 tol=1.01\n",
            "2025-10-05 22:05:11,322 alphafold2_ptm_model_4_seed_000 recycle=2 pLDDT=76.2 pTM=0.395 tol=1.53\n",
            "2025-10-05 22:05:15,676 alphafold2_ptm_model_4_seed_000 recycle=3 pLDDT=77.1 pTM=0.4 tol=0.6\n",
            "2025-10-05 22:05:15,677 alphafold2_ptm_model_4_seed_000 took 17.4s (3 recycles)\n",
            "2025-10-05 22:05:20,045 alphafold2_ptm_model_5_seed_000 recycle=0 pLDDT=77.2 pTM=0.393\n",
            "2025-10-05 22:05:24,399 alphafold2_ptm_model_5_seed_000 recycle=1 pLDDT=77.7 pTM=0.405 tol=0.493\n",
            "2025-10-05 22:05:28,756 alphafold2_ptm_model_5_seed_000 recycle=2 pLDDT=78.2 pTM=0.41 tol=0.788\n",
            "2025-10-05 22:05:33,118 alphafold2_ptm_model_5_seed_000 recycle=3 pLDDT=77.8 pTM=0.409 tol=0.34\n",
            "2025-10-05 22:05:33,119 alphafold2_ptm_model_5_seed_000 took 17.4s (3 recycles)\n",
            "2025-10-05 22:05:33,124 reranking models by 'plddt' metric\n",
            "2025-10-05 22:05:33,125 rank_001_alphafold2_ptm_model_5_seed_000 pLDDT=77.8 pTM=0.409\n",
            "2025-10-05 22:05:33,125 rank_002_alphafold2_ptm_model_4_seed_000 pLDDT=77.1 pTM=0.4\n",
            "2025-10-05 22:05:33,125 rank_003_alphafold2_ptm_model_3_seed_000 pLDDT=76.9 pTM=0.386\n",
            "2025-10-05 22:05:33,125 rank_004_alphafold2_ptm_model_1_seed_000 pLDDT=76.2 pTM=0.42\n",
            "2025-10-05 22:05:33,125 rank_005_alphafold2_ptm_model_2_seed_000 pLDDT=74.6 pTM=0.4\n",
            "2025-10-05 22:05:34,077 Query 131/200: seq_38_fa5c6 (length 47)\n"
          ]
        },
        {
          "output_type": "stream",
          "name": "stderr",
          "text": [
            "PENDING:   0%|          | 0/150 [elapsed: 00:00 remaining: ?]"
          ]
        },
        {
          "output_type": "stream",
          "name": "stdout",
          "text": [
            "2025-10-05 22:05:34,342 Sleeping for 8s. Reason: PENDING\n"
          ]
        },
        {
          "output_type": "stream",
          "name": "stderr",
          "text": [
            "COMPLETE: 100%|██████████| 150/150 [elapsed: 00:08 remaining: 00:00]\n"
          ]
        },
        {
          "output_type": "stream",
          "name": "stdout",
          "text": [
            "2025-10-05 22:05:42,859 Sequence 0 found no templates\n",
            "2025-10-05 22:05:44,861 Padding length to 50\n",
            "2025-10-05 22:05:49,344 alphafold2_ptm_model_1_seed_000 recycle=0 pLDDT=76.4 pTM=0.407\n",
            "2025-10-05 22:05:53,715 alphafold2_ptm_model_1_seed_000 recycle=1 pLDDT=76.5 pTM=0.418 tol=0.186\n",
            "2025-10-05 22:05:58,109 alphafold2_ptm_model_1_seed_000 recycle=2 pLDDT=77.2 pTM=0.423 tol=0.164\n",
            "2025-10-05 22:06:02,519 alphafold2_ptm_model_1_seed_000 recycle=3 pLDDT=76.8 pTM=0.417 tol=0.156\n",
            "2025-10-05 22:06:02,520 alphafold2_ptm_model_1_seed_000 took 17.7s (3 recycles)\n",
            "2025-10-05 22:06:06,943 alphafold2_ptm_model_2_seed_000 recycle=0 pLDDT=74.9 pTM=0.416\n",
            "2025-10-05 22:06:11,390 alphafold2_ptm_model_2_seed_000 recycle=1 pLDDT=73.9 pTM=0.415 tol=0.33\n",
            "2025-10-05 22:06:15,853 alphafold2_ptm_model_2_seed_000 recycle=2 pLDDT=75.1 pTM=0.42 tol=0.156\n",
            "2025-10-05 22:06:20,301 alphafold2_ptm_model_2_seed_000 recycle=3 pLDDT=74.9 pTM=0.417 tol=0.104\n",
            "2025-10-05 22:06:20,301 alphafold2_ptm_model_2_seed_000 took 17.8s (3 recycles)\n",
            "2025-10-05 22:06:24,717 alphafold2_ptm_model_3_seed_000 recycle=0 pLDDT=77.8 pTM=0.41\n",
            "2025-10-05 22:06:29,111 alphafold2_ptm_model_3_seed_000 recycle=1 pLDDT=78.2 pTM=0.412 tol=0.304\n",
            "2025-10-05 22:06:33,492 alphafold2_ptm_model_3_seed_000 recycle=2 pLDDT=78.8 pTM=0.416 tol=0.157\n",
            "2025-10-05 22:06:37,861 alphafold2_ptm_model_3_seed_000 recycle=3 pLDDT=78.8 pTM=0.412 tol=0.177\n",
            "2025-10-05 22:06:37,862 alphafold2_ptm_model_3_seed_000 took 17.6s (3 recycles)\n",
            "2025-10-05 22:06:42,228 alphafold2_ptm_model_4_seed_000 recycle=0 pLDDT=77.4 pTM=0.428\n",
            "2025-10-05 22:06:46,569 alphafold2_ptm_model_4_seed_000 recycle=1 pLDDT=76.9 pTM=0.43 tol=0.11\n",
            "2025-10-05 22:06:50,911 alphafold2_ptm_model_4_seed_000 recycle=2 pLDDT=77.5 pTM=0.432 tol=0.149\n",
            "2025-10-05 22:06:55,252 alphafold2_ptm_model_4_seed_000 recycle=3 pLDDT=77.2 pTM=0.428 tol=0.19\n",
            "2025-10-05 22:06:55,253 alphafold2_ptm_model_4_seed_000 took 17.4s (3 recycles)\n",
            "2025-10-05 22:06:59,604 alphafold2_ptm_model_5_seed_000 recycle=0 pLDDT=76.9 pTM=0.42\n",
            "2025-10-05 22:07:03,944 alphafold2_ptm_model_5_seed_000 recycle=1 pLDDT=77.2 pTM=0.421 tol=0.155\n",
            "2025-10-05 22:07:08,287 alphafold2_ptm_model_5_seed_000 recycle=2 pLDDT=78.2 pTM=0.425 tol=0.199\n",
            "2025-10-05 22:07:12,636 alphafold2_ptm_model_5_seed_000 recycle=3 pLDDT=77.7 pTM=0.417 tol=0.167\n",
            "2025-10-05 22:07:12,637 alphafold2_ptm_model_5_seed_000 took 17.4s (3 recycles)\n",
            "2025-10-05 22:07:12,642 reranking models by 'plddt' metric\n",
            "2025-10-05 22:07:12,642 rank_001_alphafold2_ptm_model_3_seed_000 pLDDT=78.8 pTM=0.412\n",
            "2025-10-05 22:07:12,643 rank_002_alphafold2_ptm_model_5_seed_000 pLDDT=77.7 pTM=0.417\n",
            "2025-10-05 22:07:12,643 rank_003_alphafold2_ptm_model_4_seed_000 pLDDT=77.2 pTM=0.428\n",
            "2025-10-05 22:07:12,643 rank_004_alphafold2_ptm_model_1_seed_000 pLDDT=76.8 pTM=0.417\n",
            "2025-10-05 22:07:12,643 rank_005_alphafold2_ptm_model_2_seed_000 pLDDT=74.9 pTM=0.417\n",
            "2025-10-05 22:07:13,696 Query 132/200: seq_48_f05fc (length 47)\n"
          ]
        },
        {
          "output_type": "stream",
          "name": "stderr",
          "text": [
            "PENDING:   0%|          | 0/150 [elapsed: 00:00 remaining: ?]"
          ]
        },
        {
          "output_type": "stream",
          "name": "stdout",
          "text": [
            "2025-10-05 22:07:13,978 Sleeping for 10s. Reason: PENDING\n"
          ]
        },
        {
          "output_type": "stream",
          "name": "stderr",
          "text": [
            "COMPLETE: 100%|██████████| 150/150 [elapsed: 00:10 remaining: 00:00]\n"
          ]
        },
        {
          "output_type": "stream",
          "name": "stdout",
          "text": [
            "2025-10-05 22:07:24,501 Sequence 0 found no templates\n",
            "2025-10-05 22:07:27,140 Padding length to 50\n",
            "2025-10-05 22:07:31,608 alphafold2_ptm_model_1_seed_000 recycle=0 pLDDT=81.1 pTM=0.486\n",
            "2025-10-05 22:07:35,968 alphafold2_ptm_model_1_seed_000 recycle=1 pLDDT=81.5 pTM=0.492 tol=0.155\n",
            "2025-10-05 22:07:40,350 alphafold2_ptm_model_1_seed_000 recycle=2 pLDDT=80.9 pTM=0.488 tol=0.136\n",
            "2025-10-05 22:07:44,755 alphafold2_ptm_model_1_seed_000 recycle=3 pLDDT=81.5 pTM=0.496 tol=0.139\n",
            "2025-10-05 22:07:44,755 alphafold2_ptm_model_1_seed_000 took 17.6s (3 recycles)\n",
            "2025-10-05 22:07:49,170 alphafold2_ptm_model_2_seed_000 recycle=0 pLDDT=78.1 pTM=0.468\n",
            "2025-10-05 22:07:53,616 alphafold2_ptm_model_2_seed_000 recycle=1 pLDDT=78.6 pTM=0.475 tol=0.244\n",
            "2025-10-05 22:07:58,070 alphafold2_ptm_model_2_seed_000 recycle=2 pLDDT=77.2 pTM=0.466 tol=0.115\n",
            "2025-10-05 22:08:02,522 alphafold2_ptm_model_2_seed_000 recycle=3 pLDDT=77.7 pTM=0.473 tol=0.152\n",
            "2025-10-05 22:08:02,523 alphafold2_ptm_model_2_seed_000 took 17.8s (3 recycles)\n",
            "2025-10-05 22:08:06,945 alphafold2_ptm_model_3_seed_000 recycle=0 pLDDT=83.4 pTM=0.459\n",
            "2025-10-05 22:08:11,336 alphafold2_ptm_model_3_seed_000 recycle=1 pLDDT=83.2 pTM=0.463 tol=0.341\n",
            "2025-10-05 22:08:15,715 alphafold2_ptm_model_3_seed_000 recycle=2 pLDDT=82.9 pTM=0.462 tol=0.0685\n",
            "2025-10-05 22:08:20,081 alphafold2_ptm_model_3_seed_000 recycle=3 pLDDT=83.3 pTM=0.478 tol=0.179\n",
            "2025-10-05 22:08:20,081 alphafold2_ptm_model_3_seed_000 took 17.5s (3 recycles)\n",
            "2025-10-05 22:08:24,444 alphafold2_ptm_model_4_seed_000 recycle=0 pLDDT=81.2 pTM=0.472\n",
            "2025-10-05 22:08:28,784 alphafold2_ptm_model_4_seed_000 recycle=1 pLDDT=81.8 pTM=0.483 tol=0.845\n",
            "2025-10-05 22:08:33,125 alphafold2_ptm_model_4_seed_000 recycle=2 pLDDT=81.7 pTM=0.487 tol=0.2\n",
            "2025-10-05 22:08:37,469 alphafold2_ptm_model_4_seed_000 recycle=3 pLDDT=82.4 pTM=0.498 tol=0.224\n",
            "2025-10-05 22:08:37,470 alphafold2_ptm_model_4_seed_000 took 17.4s (3 recycles)\n"
          ]
        }
      ]
    },
    {
      "cell_type": "code",
      "source": [
        "# STEP 4: Extract pLDDT & PAE and merge with original CSV\n",
        "# =========================\n",
        "import json, glob, numpy as np\n",
        "\n",
        "plddt_scores = []\n",
        "pae_means = []\n",
        "\n",
        "for i, (seq_id, seq) in enumerate(sequences):\n",
        "    prefix = f\"seq_{i+1}\"\n",
        "    result_jsons = glob.glob(f\"{result_dir}/{prefix}*scores.json\")\n",
        "    if not result_jsons:\n",
        "        plddt_scores.append(None)\n",
        "        pae_means.append(None)\n",
        "        continue\n",
        "    with open(result_jsons[0]) as f:\n",
        "        data = json.load(f)\n",
        "    # Average pLDDT\n",
        "    plddt = np.mean(data.get(\"plddt\", []))\n",
        "    plddt_scores.append(round(float(plddt), 3))\n",
        "    # Average PAE\n",
        "    pae = data.get(\"pae\", None)\n",
        "    if pae is not None:\n",
        "        pae_mean = np.mean(pae)\n",
        "    else:\n",
        "        pae_mean = None\n",
        "    pae_means.append(round(float(pae_mean), 3) if pae_mean else None)\n",
        "\n",
        "df[\"pLDDT\"] = plddt_scores\n",
        "df[\"PAE_mean\"] = pae_means\n",
        "\n",
        "df.to_csv(\"Secretory_with_scores.csv\", index=False)\n",
        "print(\"✅ Results saved to Secretory_with_scores.csv\")\n",
        "from google.colab import files\n",
        "files.download(\"Secretory_with_scores.csv\")"
      ],
      "metadata": {
        "id": "thUYfiyIrON-"
      },
      "execution_count": null,
      "outputs": []
    },
    {
      "cell_type": "code",
      "source": [],
      "metadata": {
        "id": "xQc18xRNrORB"
      },
      "execution_count": null,
      "outputs": []
    },
    {
      "cell_type": "code",
      "source": [],
      "metadata": {
        "id": "Cs36jzbirOUW"
      },
      "execution_count": null,
      "outputs": []
    },
    {
      "cell_type": "code",
      "source": [],
      "metadata": {
        "id": "c1vcSbc1rOad"
      },
      "execution_count": null,
      "outputs": []
    },
    {
      "cell_type": "code",
      "source": [],
      "metadata": {
        "id": "d5ywMS52rOd4"
      },
      "execution_count": null,
      "outputs": []
    },
    {
      "cell_type": "code",
      "source": [
        "#@markdown ### MSA options (custom MSA upload, single sequence, pairing mode)\n",
        "msa_mode = \"mmseqs2_uniref_env\" #@param [\"mmseqs2_uniref_env\", \"mmseqs2_uniref\",\"single_sequence\",\"custom\"]\n",
        "pair_mode = \"unpaired_paired\" #@param [\"unpaired_paired\",\"paired\",\"unpaired\"] {type:\"string\"}\n",
        "#@markdown - \"unpaired_paired\" = pair sequences from same species + unpaired MSA, \"unpaired\" = seperate MSA for each chain, \"paired\" - only use paired sequences.\n",
        "\n",
        "# decide which a3m to use\n",
        "if \"mmseqs2\" in msa_mode:\n",
        "  a3m_file = os.path.join(jobname,f\"{jobname}.a3m\")\n",
        "\n",
        "elif msa_mode == \"custom\":\n",
        "  a3m_file = os.path.join(jobname,f\"{jobname}.custom.a3m\")\n",
        "  if not os.path.isfile(a3m_file):\n",
        "    custom_msa_dict = files.upload()\n",
        "    custom_msa = list(custom_msa_dict.keys())[0]\n",
        "    header = 0\n",
        "    import fileinput\n",
        "    for line in fileinput.FileInput(custom_msa,inplace=1):\n",
        "      if line.startswith(\">\"):\n",
        "         header = header + 1\n",
        "      if not line.rstrip():\n",
        "        continue\n",
        "      if line.startswith(\">\") == False and header == 1:\n",
        "         query_sequence = line.rstrip()\n",
        "      print(line, end='')\n",
        "\n",
        "    os.rename(custom_msa, a3m_file)\n",
        "    queries_path=a3m_file\n",
        "    print(f\"moving {custom_msa} to {a3m_file}\")\n",
        "\n",
        "else:\n",
        "  a3m_file = os.path.join(jobname,f\"{jobname}.single_sequence.a3m\")\n",
        "  with open(a3m_file, \"w\") as text_file:\n",
        "    text_file.write(\">1\\n%s\" % query_sequence)"
      ],
      "metadata": {
        "cellView": "form",
        "id": "C2_sh2uAonJH"
      },
      "execution_count": null,
      "outputs": []
    },
    {
      "cell_type": "code",
      "source": [
        "#@markdown ### Advanced settings\n",
        "model_type = \"auto\" #@param [\"auto\", \"alphafold2_ptm\", \"alphafold2_multimer_v1\", \"alphafold2_multimer_v2\", \"alphafold2_multimer_v3\", \"deepfold_v1\", \"alphafold2\"]\n",
        "#@markdown - if `auto` selected, will use `alphafold2_ptm` for monomer prediction and `alphafold2_multimer_v3` for complex prediction.\n",
        "#@markdown Any of the mode_types can be used (regardless if input is monomer or complex).\n",
        "num_recycles = \"3\" #@param [\"auto\", \"0\", \"1\", \"3\", \"6\", \"12\", \"24\", \"48\"]\n",
        "#@markdown - if `auto` selected, will use `num_recycles=20` if `model_type=alphafold2_multimer_v3`, else `num_recycles=3` .\n",
        "recycle_early_stop_tolerance = \"auto\" #@param [\"auto\", \"0.0\", \"0.5\", \"1.0\"]\n",
        "#@markdown - if `auto` selected, will use `tol=0.5` if `model_type=alphafold2_multimer_v3` else `tol=0.0`.\n",
        "relax_max_iterations = 200 #@param [0, 200, 2000] {type:\"raw\"}\n",
        "#@markdown - max amber relax iterations, `0` = unlimited (AlphaFold2 default, can take very long)\n",
        "pairing_strategy = \"greedy\" #@param [\"greedy\", \"complete\"] {type:\"string\"}\n",
        "#@markdown - `greedy` = pair any taxonomically matching subsets, `complete` = all sequences have to match in one line.\n",
        "calc_extra_ptm = False #@param {type:\"boolean\"}\n",
        "#@markdown - return pairwise chain iptm/actifptm\n",
        "\n",
        "#@markdown #### Sample settings\n",
        "#@markdown -  enable dropouts and increase number of seeds to sample predictions from uncertainty of the model.\n",
        "#@markdown -  decrease `max_msa` to increase uncertainity\n",
        "max_msa = \"auto\" #@param [\"auto\", \"512:1024\", \"256:512\", \"64:128\", \"32:64\", \"16:32\"]\n",
        "num_seeds = 1 #@param [1,2,4,8,16] {type:\"raw\"}\n",
        "use_dropout = False #@param {type:\"boolean\"}\n",
        "\n",
        "num_recycles = None if num_recycles == \"auto\" else int(num_recycles)\n",
        "recycle_early_stop_tolerance = None if recycle_early_stop_tolerance == \"auto\" else float(recycle_early_stop_tolerance)\n",
        "if max_msa == \"auto\": max_msa = None\n",
        "\n",
        "#@markdown #### Save settings\n",
        "save_all = False #@param {type:\"boolean\"}\n",
        "save_recycles = False #@param {type:\"boolean\"}\n",
        "save_to_google_drive = False #@param {type:\"boolean\"}\n",
        "#@markdown -  if the save_to_google_drive option was selected, the result zip will be uploaded to your Google Drive\n",
        "dpi = 200 #@param {type:\"integer\"}\n",
        "#@markdown - set dpi for image resolution\n",
        "\n",
        "if save_to_google_drive:\n",
        "  from pydrive2.drive import GoogleDrive\n",
        "  from pydrive2.auth import GoogleAuth\n",
        "  from google.colab import auth\n",
        "  from oauth2client.client import GoogleCredentials\n",
        "  auth.authenticate_user()\n",
        "  gauth = GoogleAuth()\n",
        "  gauth.credentials = GoogleCredentials.get_application_default()\n",
        "  drive = GoogleDrive(gauth)\n",
        "  print(\"You are logged into Google Drive and are good to go!\")\n",
        "\n",
        "#@markdown Don't forget to hit `Runtime` -> `Run all` after updating the form."
      ],
      "metadata": {
        "cellView": "form",
        "id": "ADDuaolKmjGW"
      },
      "execution_count": null,
      "outputs": []
    },
    {
      "cell_type": "code",
      "source": [
        "#@title Run Prediction\n",
        "display_images = True #@param {type:\"boolean\"}\n",
        "\n",
        "import sys\n",
        "import warnings\n",
        "warnings.simplefilter(action='ignore', category=FutureWarning)\n",
        "from Bio import BiopythonDeprecationWarning\n",
        "warnings.simplefilter(action='ignore', category=BiopythonDeprecationWarning)\n",
        "from pathlib import Path\n",
        "from colabfold.download import download_alphafold_params, default_data_dir\n",
        "from colabfold.utils import setup_logging\n",
        "from colabfold.batch import get_queries, run, set_model_type\n",
        "from colabfold.plot import plot_msa_v2\n",
        "\n",
        "import os\n",
        "import numpy as np\n",
        "try:\n",
        "  K80_chk = os.popen('nvidia-smi | grep \"Tesla K80\" | wc -l').read()\n",
        "except:\n",
        "  K80_chk = \"0\"\n",
        "  pass\n",
        "if \"1\" in K80_chk:\n",
        "  print(\"WARNING: found GPU Tesla K80: limited to total length < 1000\")\n",
        "  if \"TF_FORCE_UNIFIED_MEMORY\" in os.environ:\n",
        "    del os.environ[\"TF_FORCE_UNIFIED_MEMORY\"]\n",
        "  if \"XLA_PYTHON_CLIENT_MEM_FRACTION\" in os.environ:\n",
        "    del os.environ[\"XLA_PYTHON_CLIENT_MEM_FRACTION\"]\n",
        "\n",
        "from colabfold.colabfold import plot_protein\n",
        "from pathlib import Path\n",
        "import matplotlib.pyplot as plt\n",
        "\n",
        "# For some reason we need that to get pdbfixer to import\n",
        "if use_amber and f\"/usr/local/lib/python{python_version}/site-packages/\" not in sys.path:\n",
        "    sys.path.insert(0, f\"/usr/local/lib/python{python_version}/site-packages/\")\n",
        "\n",
        "def input_features_callback(input_features):\n",
        "  if display_images:\n",
        "    plot_msa_v2(input_features)\n",
        "    plt.show()\n",
        "    plt.close()\n",
        "\n",
        "def prediction_callback(protein_obj, length,\n",
        "                        prediction_result, input_features, mode):\n",
        "  model_name, relaxed = mode\n",
        "  if not relaxed:\n",
        "    if display_images:\n",
        "      fig = plot_protein(protein_obj, Ls=length, dpi=150)\n",
        "      plt.show()\n",
        "      plt.close()\n",
        "\n",
        "result_dir = jobname\n",
        "log_filename = os.path.join(jobname,\"log.txt\")\n",
        "setup_logging(Path(log_filename))\n",
        "\n",
        "queries, is_complex = get_queries(queries_path)\n",
        "model_type = set_model_type(is_complex, model_type)\n",
        "\n",
        "if \"multimer\" in model_type and max_msa is not None:\n",
        "  use_cluster_profile = False\n",
        "else:\n",
        "  use_cluster_profile = True\n",
        "\n",
        "download_alphafold_params(model_type, Path(\".\"))\n",
        "results = run(\n",
        "    queries=queries,\n",
        "    result_dir=result_dir,\n",
        "    use_templates=use_templates,\n",
        "    custom_template_path=custom_template_path,\n",
        "    num_relax=num_relax,\n",
        "    msa_mode=msa_mode,\n",
        "    model_type=model_type,\n",
        "    num_models=5,\n",
        "    num_recycles=num_recycles,\n",
        "    relax_max_iterations=relax_max_iterations,\n",
        "    recycle_early_stop_tolerance=recycle_early_stop_tolerance,\n",
        "    num_seeds=num_seeds,\n",
        "    use_dropout=use_dropout,\n",
        "    model_order=[1,2,3,4,5],\n",
        "    is_complex=is_complex,\n",
        "    data_dir=Path(\".\"),\n",
        "    keep_existing_results=False,\n",
        "    rank_by=\"auto\",\n",
        "    pair_mode=pair_mode,\n",
        "    pairing_strategy=pairing_strategy,\n",
        "    stop_at_score=float(100),\n",
        "    prediction_callback=prediction_callback,\n",
        "    dpi=dpi,\n",
        "    zip_results=False,\n",
        "    save_all=save_all,\n",
        "    max_msa=max_msa,\n",
        "    use_cluster_profile=use_cluster_profile,\n",
        "    input_features_callback=input_features_callback,\n",
        "    save_recycles=save_recycles,\n",
        "    user_agent=\"colabfold/google-colab-main\",\n",
        "    calc_extra_ptm=calc_extra_ptm,\n",
        ")\n",
        "results_zip = f\"{jobname}.result.zip\"\n",
        "os.system(f\"zip -r {results_zip} {jobname}\")"
      ],
      "metadata": {
        "cellView": "form",
        "id": "mbaIO9pWjaN0"
      },
      "execution_count": null,
      "outputs": []
    },
    {
      "cell_type": "code",
      "metadata": {
        "id": "KK7X9T44pWb7",
        "cellView": "form"
      },
      "source": [
        "#@title Display 3D structure {run: \"auto\"}\n",
        "import py3Dmol\n",
        "import glob\n",
        "import matplotlib.pyplot as plt\n",
        "from colabfold.colabfold import plot_plddt_legend\n",
        "from colabfold.colabfold import pymol_color_list, alphabet_list\n",
        "rank_num = 1 #@param [\"1\", \"2\", \"3\", \"4\", \"5\"] {type:\"raw\"}\n",
        "color = \"lDDT\" #@param [\"chain\", \"lDDT\", \"rainbow\"]\n",
        "show_sidechains = False #@param {type:\"boolean\"}\n",
        "show_mainchains = False #@param {type:\"boolean\"}\n",
        "\n",
        "tag = results[\"rank\"][0][rank_num - 1]\n",
        "jobname_prefix = \".custom\" if msa_mode == \"custom\" else \"\"\n",
        "pdb_filename = f\"{jobname}/{jobname}{jobname_prefix}_unrelaxed_{tag}.pdb\"\n",
        "pdb_file = glob.glob(pdb_filename)\n",
        "\n",
        "def show_pdb(rank_num=1, show_sidechains=False, show_mainchains=False, color=\"lDDT\"):\n",
        "  model_name = f\"rank_{rank_num}\"\n",
        "  view = py3Dmol.view(js='https://3dmol.org/build/3Dmol.js',)\n",
        "  view.addModel(open(pdb_file[0],'r').read(),'pdb')\n",
        "\n",
        "  if color == \"lDDT\":\n",
        "    view.setStyle({'cartoon': {'colorscheme': {'prop':'b','gradient': 'roygb','min':50,'max':90}}})\n",
        "  elif color == \"rainbow\":\n",
        "    view.setStyle({'cartoon': {'color':'spectrum'}})\n",
        "  elif color == \"chain\":\n",
        "    chains = len(queries[0][1]) + 1 if is_complex else 1\n",
        "    for n,chain,color in zip(range(chains),alphabet_list,pymol_color_list):\n",
        "       view.setStyle({'chain':chain},{'cartoon': {'color':color}})\n",
        "\n",
        "  if show_sidechains:\n",
        "    BB = ['C','O','N']\n",
        "    view.addStyle({'and':[{'resn':[\"GLY\",\"PRO\"],'invert':True},{'atom':BB,'invert':True}]},\n",
        "                        {'stick':{'colorscheme':f\"WhiteCarbon\",'radius':0.3}})\n",
        "    view.addStyle({'and':[{'resn':\"GLY\"},{'atom':'CA'}]},\n",
        "                        {'sphere':{'colorscheme':f\"WhiteCarbon\",'radius':0.3}})\n",
        "    view.addStyle({'and':[{'resn':\"PRO\"},{'atom':['C','O'],'invert':True}]},\n",
        "                        {'stick':{'colorscheme':f\"WhiteCarbon\",'radius':0.3}})\n",
        "  if show_mainchains:\n",
        "    BB = ['C','O','N','CA']\n",
        "    view.addStyle({'atom':BB},{'stick':{'colorscheme':f\"WhiteCarbon\",'radius':0.3}})\n",
        "\n",
        "  view.zoomTo()\n",
        "  return view\n",
        "\n",
        "show_pdb(rank_num, show_sidechains, show_mainchains, color).show()\n",
        "if color == \"lDDT\":\n",
        "  plot_plddt_legend().show()"
      ],
      "execution_count": null,
      "outputs": []
    },
    {
      "cell_type": "code",
      "metadata": {
        "id": "11l8k--10q0C",
        "cellView": "form"
      },
      "source": [
        "#@title Plots {run: \"auto\"}\n",
        "from IPython.display import display, HTML\n",
        "import base64\n",
        "from html import escape\n",
        "\n",
        "# see: https://stackoverflow.com/a/53688522\n",
        "def image_to_data_url(filename):\n",
        "  ext = filename.split('.')[-1]\n",
        "  prefix = f'data:image/{ext};base64,'\n",
        "  with open(filename, 'rb') as f:\n",
        "    img = f.read()\n",
        "  return prefix + base64.b64encode(img).decode('utf-8')\n",
        "\n",
        "pae = \"\"\n",
        "pae_file = os.path.join(jobname,f\"{jobname}{jobname_prefix}_pae.png\")\n",
        "if os.path.isfile(pae_file):\n",
        "    pae = image_to_data_url(pae_file)\n",
        "cov = image_to_data_url(os.path.join(jobname,f\"{jobname}{jobname_prefix}_coverage.png\"))\n",
        "plddt = image_to_data_url(os.path.join(jobname,f\"{jobname}{jobname_prefix}_plddt.png\"))\n",
        "display(HTML(f\"\"\"\n",
        "<style>\n",
        "  img {{\n",
        "    float:left;\n",
        "  }}\n",
        "  .full {{\n",
        "    max-width:100%;\n",
        "  }}\n",
        "  .half {{\n",
        "    max-width:50%;\n",
        "  }}\n",
        "  @media (max-width:640px) {{\n",
        "    .half {{\n",
        "      max-width:100%;\n",
        "    }}\n",
        "  }}\n",
        "</style>\n",
        "<div style=\"max-width:90%; padding:2em;\">\n",
        "  <h1>Plots for {escape(jobname)}</h1>\n",
        "  { '<!--' if pae == '' else '' }<img src=\"{pae}\" class=\"full\" />{ '-->' if pae == '' else '' }\n",
        "  <img src=\"{cov}\" class=\"half\" />\n",
        "  <img src=\"{plddt}\" class=\"half\" />\n",
        "</div>\n",
        "\"\"\"))"
      ],
      "execution_count": null,
      "outputs": []
    },
    {
      "cell_type": "code",
      "source": [
        "#@title Package and download results\n",
        "#@markdown If you are having issues downloading the result archive, try disabling your adblocker and run this cell again. If that fails click on the little folder icon to the left, navigate to file: `jobname.result.zip`, right-click and select \\\"Download\\\" (see [screenshot](https://pbs.twimg.com/media/E6wRW2lWUAEOuoe?format=jpg&name=small)).\n",
        "\n",
        "if msa_mode == \"custom\":\n",
        "  print(\"Don't forget to cite your custom MSA generation method.\")\n",
        "\n",
        "files.download(f\"{jobname}.result.zip\")\n",
        "\n",
        "if save_to_google_drive == True and drive:\n",
        "  uploaded = drive.CreateFile({'title': f\"{jobname}.result.zip\"})\n",
        "  uploaded.SetContentFile(f\"{jobname}.result.zip\")\n",
        "  uploaded.Upload()\n",
        "  print(f\"Uploaded {jobname}.result.zip to Google Drive with ID {uploaded.get('id')}\")"
      ],
      "metadata": {
        "cellView": "form",
        "id": "R_AH6JSXaeb2"
      },
      "execution_count": null,
      "outputs": []
    },
    {
      "cell_type": "markdown",
      "metadata": {
        "id": "UGUBLzB3C6WN",
        "pycharm": {
          "name": "#%% md\n"
        }
      },
      "source": [
        "# Instructions <a name=\"Instructions\"></a>\n",
        "For detailed instructions, tips and tricks, see recently published paper at [Nature Protocols](https://www.nature.com/articles/s41596-024-01060-5)\n",
        "\n",
        "**Quick start**\n",
        "1. Paste your protein sequence(s) in the input field.\n",
        "2. Press \"Runtime\" -> \"Run all\".\n",
        "3. The pipeline consists of 5 steps. The currently running step is indicated by a circle with a stop sign next to it.\n",
        "\n",
        "**Result zip file contents**\n",
        "\n",
        "1. PDB formatted structures sorted by avg. pLDDT and complexes are sorted by pTMscore. (unrelaxed and relaxed if `use_amber` is enabled).\n",
        "2. Plots of the model quality.\n",
        "3. Plots of the MSA coverage.\n",
        "4. Parameter log file.\n",
        "5. A3M formatted input MSA.\n",
        "6. A `predicted_aligned_error_v1.json` using [AlphaFold-DB's format](https://alphafold.ebi.ac.uk/faq#faq-7) and a `scores.json` for each model which contains an array (list of lists) for PAE, a list with the average pLDDT and the pTMscore.\n",
        "7. BibTeX file with citations for all used tools and databases.\n",
        "\n",
        "At the end of the job a download modal box will pop up with a `jobname.result.zip` file. Additionally, if the `save_to_google_drive` option was selected, the `jobname.result.zip` will be uploaded to your Google Drive.\n",
        "\n",
        "**MSA generation for complexes**\n",
        "\n",
        "For the complex prediction we use unpaired and paired MSAs. Unpaired MSA is generated the same way as for the protein structures prediction by searching the UniRef100 and environmental sequences three iterations each.\n",
        "\n",
        "The paired MSA is generated by searching the UniRef100 database and pairing the best hits sharing the same NCBI taxonomic identifier (=species or sub-species). We only pair sequences if all of the query sequences are present for the respective taxonomic identifier.\n",
        "\n",
        "**Using a custom MSA as input**\n",
        "\n",
        "To predict the structure with a custom MSA (A3M formatted): (1) Change the `msa_mode`: to \"custom\", (2) Wait for an upload box to appear at the end of the \"MSA options ...\" box. Upload your A3M. The first fasta entry of the A3M must be the query sequence without gaps.\n",
        "\n",
        "It is also possilbe to provide custom MSAs for complex predictions. Read more about the format [here](https://github.com/sokrypton/ColabFold/issues/76).\n",
        "\n",
        "As an alternative for MSA generation the [HHblits Toolkit server](https://toolkit.tuebingen.mpg.de/tools/hhblits) can be used. After submitting your query, click \"Query Template MSA\" -> \"Download Full A3M\". Download the A3M file and upload it in this notebook.\n",
        "\n",
        "**PDB100** <a name=\"pdb100\"></a>\n",
        "\n",
        "As of 23/06/08, we have transitioned from using the PDB70 to a 100% clustered PDB, the PDB100. The construction methodology of PDB100 differs from that of PDB70.\n",
        "\n",
        "The PDB70 was constructed by running each PDB70 representative sequence through [HHblits](https://github.com/soedinglab/hh-suite) against the [Uniclust30](https://uniclust.mmseqs.com/). On the other hand, the PDB100 is built by searching each PDB100 representative structure with [Foldseek](https://github.com/steineggerlab/foldseek) against the [AlphaFold Database](https://alphafold.ebi.ac.uk).\n",
        "\n",
        "To maintain compatibility with older Notebook versions and local installations, the generated files and API responses will continue to be named \"PDB70\", even though we're now using the PDB100.\n",
        "\n",
        "**Using custom templates** <a name=\"custom_templates\"></a>\n",
        "\n",
        "To predict the structure with a custom template (PDB or mmCIF formatted): (1) change the `template_mode` to \"custom\" in the execute cell and (2) wait for an upload box to appear at the end of the \"Input Protein\" box. Select and upload your templates (multiple choices are possible).\n",
        "\n",
        "* Templates must follow the four letter PDB naming with lower case letters.\n",
        "\n",
        "* Templates in mmCIF format must contain `_entity_poly_seq`. An error is thrown if this field is not present. The field `_pdbx_audit_revision_history.revision_date` is automatically generated if it is not present.\n",
        "\n",
        "* Templates in PDB format are automatically converted to the mmCIF format. `_entity_poly_seq` and `_pdbx_audit_revision_history.revision_date` are automatically generated.\n",
        "\n",
        "If you encounter problems, please report them to this [issue](https://github.com/sokrypton/ColabFold/issues/177).\n",
        "\n",
        "**Comparison to the full AlphaFold2 and AlphaFold2 Colab**\n",
        "\n",
        "This notebook replaces the homology detection and MSA pairing of AlphaFold2 with MMseqs2. For a comparison against the [AlphaFold2 Colab](https://colab.research.google.com/github/deepmind/alphafold/blob/main/notebooks/AlphaFold.ipynb) and the full [AlphaFold2](https://github.com/deepmind/alphafold) system read our [paper](https://www.nature.com/articles/s41592-022-01488-1).\n",
        "\n",
        "**Troubleshooting**\n",
        "* Check that the runtime type is set to GPU at \"Runtime\" -> \"Change runtime type\".\n",
        "* Try to restart the session \"Runtime\" -> \"Factory reset runtime\".\n",
        "* Check your input sequence.\n",
        "\n",
        "**Known issues**\n",
        "* Google Colab assigns different types of GPUs with varying amount of memory. Some might not have enough memory to predict the structure for a long sequence.\n",
        "* Your browser can block the pop-up for downloading the result file. You can choose the `save_to_google_drive` option to upload to Google Drive instead or manually download the result file: Click on the little folder icon to the left, navigate to file: `jobname.result.zip`, right-click and select \\\"Download\\\" (see [screenshot](https://pbs.twimg.com/media/E6wRW2lWUAEOuoe?format=jpg&name=small)).\n",
        "\n",
        "**Limitations**\n",
        "* Computing resources: Our MMseqs2 API can handle ~20-50k requests per day.\n",
        "* MSAs: MMseqs2 is very precise and sensitive but might find less hits compared to HHblits/HMMer searched against BFD or MGnify.\n",
        "* We recommend to additionally use the full [AlphaFold2 pipeline](https://github.com/deepmind/alphafold).\n",
        "\n",
        "**Description of the plots**\n",
        "*   **Number of sequences per position** - We want to see at least 30 sequences per position, for best performance, ideally 100 sequences.\n",
        "*   **Predicted lDDT per position** - model confidence (out of 100) at each position. The higher the better.\n",
        "*   **Predicted Alignment Error** - For homooligomers, this could be a useful metric to assess how confident the model is about the interface. The lower the better.\n",
        "\n",
        "**Bugs**\n",
        "- If you encounter any bugs, please report the issue to https://github.com/sokrypton/ColabFold/issues\n",
        "\n",
        "**License**\n",
        "\n",
        "The source code of ColabFold is licensed under [MIT](https://raw.githubusercontent.com/sokrypton/ColabFold/main/LICENSE). Additionally, this notebook uses the AlphaFold2 source code and its parameters licensed under [Apache 2.0](https://raw.githubusercontent.com/deepmind/alphafold/main/LICENSE) and [CC BY 4.0](https://creativecommons.org/licenses/by-sa/4.0/) respectively. Read more about the AlphaFold license [here](https://github.com/deepmind/alphafold).\n",
        "\n",
        "**Acknowledgments**\n",
        "- We thank the AlphaFold team for developing an excellent model and open sourcing the software.\n",
        "\n",
        "- [KOBIC](https://kobic.re.kr) and [Söding Lab](https://www.mpinat.mpg.de/soeding) for providing the computational resources for the MMseqs2 MSA server.\n",
        "\n",
        "- Richard Evans for helping to benchmark the ColabFold's Alphafold-multimer support.\n",
        "\n",
        "- [David Koes](https://github.com/dkoes) for his awesome [py3Dmol](https://3dmol.csb.pitt.edu/) plugin, without whom these notebooks would be quite boring!\n",
        "\n",
        "- Do-Yoon Kim for creating the ColabFold logo.\n",
        "\n",
        "- A colab by Sergey Ovchinnikov ([@sokrypton](https://twitter.com/sokrypton)), Milot Mirdita ([@milot_mirdita](https://twitter.com/milot_mirdita)) and Martin Steinegger ([@thesteinegger](https://twitter.com/thesteinegger)).\n"
      ]
    }
  ]
}